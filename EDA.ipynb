{
 "cells": [
  {
   "cell_type": "markdown",
   "metadata": {},
   "source": [
    "# Exploratory Data Analysis"
   ]
  },
  {
   "cell_type": "markdown",
   "metadata": {},
   "source": [
    "----\n",
    "### Things to Consider"
   ]
  },
  {
   "cell_type": "markdown",
   "metadata": {},
   "source": [
    "**May need more than just 2020 to work with time series data**\n",
    "- Consider downloading more data from prior years - try to keep it consistent with how much data you have per year\n",
    "- Graph of sales by month\n",
    "\n",
    "**May want to split the housing data into tiers**\n",
    "- This would look like having a T1, T2, T3, T4 tier for each location and house size, etc. in order to separate the houses that need to be renovated versus the houses that are ready to move in\n",
    "- Finding a way to take this into consideration will be tricky"
   ]
  },
  {
   "cell_type": "markdown",
   "metadata": {},
   "source": [
    "----"
   ]
  },
  {
   "cell_type": "code",
   "execution_count": 33,
   "metadata": {},
   "outputs": [],
   "source": [
    "%run src/imports.py"
   ]
  },
  {
   "cell_type": "code",
   "execution_count": 34,
   "metadata": {},
   "outputs": [],
   "source": [
    "sns.set(rc={'figure.figsize':(16,4)})"
   ]
  },
  {
   "cell_type": "code",
   "execution_count": 35,
   "metadata": {},
   "outputs": [],
   "source": [
    "df = pd.read_pickle('data/full.pkl')"
   ]
  },
  {
   "cell_type": "code",
   "execution_count": 36,
   "metadata": {},
   "outputs": [
    {
     "name": "stdout",
     "output_type": "stream",
     "text": [
      "<class 'pandas.core.frame.DataFrame'>\n",
      "Int64Index: 37456 entries, 0 to 227\n",
      "Data columns (total 27 columns):\n",
      " #   Column                                                                                      Non-Null Count  Dtype  \n",
      "---  ------                                                                                      --------------  -----  \n",
      " 0   SALE TYPE                                                                                   37456 non-null  object \n",
      " 1   SOLD DATE                                                                                   37333 non-null  object \n",
      " 2   PROPERTY TYPE                                                                               37456 non-null  object \n",
      " 3   ADDRESS                                                                                     37438 non-null  object \n",
      " 4   CITY                                                                                        37454 non-null  object \n",
      " 5   STATE OR PROVINCE                                                                           37456 non-null  object \n",
      " 6   ZIP OR POSTAL CODE                                                                          37456 non-null  int64  \n",
      " 7   PRICE                                                                                       37456 non-null  int64  \n",
      " 8   BEDS                                                                                        37436 non-null  float64\n",
      " 9   BATHS                                                                                       37430 non-null  float64\n",
      " 10  LOCATION                                                                                    37290 non-null  object \n",
      " 11  SQUARE FEET                                                                                 37390 non-null  float64\n",
      " 12  LOT SIZE                                                                                    37124 non-null  float64\n",
      " 13  YEAR BUILT                                                                                  37315 non-null  float64\n",
      " 14  DAYS ON MARKET                                                                              37333 non-null  float64\n",
      " 15  $/SQUARE FEET                                                                               37389 non-null  float64\n",
      " 16  HOA/MONTH                                                                                   21707 non-null  float64\n",
      " 17  STATUS                                                                                      37333 non-null  object \n",
      " 18  NEXT OPEN HOUSE START TIME                                                                  0 non-null      float64\n",
      " 19  NEXT OPEN HOUSE END TIME                                                                    0 non-null      float64\n",
      " 20  URL (SEE http://www.redfin.com/buy-a-home/comparative-market-analysis FOR INFO ON PRICING)  37456 non-null  object \n",
      " 21  SOURCE                                                                                      37333 non-null  object \n",
      " 22  MLS#                                                                                        37333 non-null  float64\n",
      " 23  FAVORITE                                                                                    37456 non-null  object \n",
      " 24  INTERESTED                                                                                  37456 non-null  object \n",
      " 25  LATITUDE                                                                                    37456 non-null  float64\n",
      " 26  LONGITUDE                                                                                   37456 non-null  float64\n",
      "dtypes: float64(13), int64(2), object(12)\n",
      "memory usage: 8.0+ MB\n"
     ]
    }
   ],
   "source": [
    "df.info()"
   ]
  },
  {
   "cell_type": "markdown",
   "metadata": {},
   "source": [
    "## Data Cleaning To Be Done"
   ]
  },
  {
   "cell_type": "markdown",
   "metadata": {},
   "source": [
    "~~- Take out 333k HOA listing(s)~~\n",
    "- change datatypes\n",
    "    - SOLD DATE to datetime\n",
    "    - ZIP OR POSTAL CODE to category"
   ]
  },
  {
   "cell_type": "code",
   "execution_count": 37,
   "metadata": {},
   "outputs": [],
   "source": [
    "df.drop(205,inplace=True)"
   ]
  },
  {
   "cell_type": "code",
   "execution_count": 45,
   "metadata": {},
   "outputs": [
    {
     "data": {
      "text/plain": [
       "<AxesSubplot:xlabel='SOLD DATE', ylabel='DAYS ON MARKET'>"
      ]
     },
     "execution_count": 45,
     "metadata": {},
     "output_type": "execute_result"
    },
    {
     "data": {
      "image/png": "[encoded data removed]",
      "text/plain": [
       "<Figure size 1152x288 with 1 Axes>"
      ]
     },
     "metadata": {},
     "output_type": "display_data"
    }
   ],
   "source": [
    "x_plot = df['SOLD DATE']\n",
    "x_plot = pd.to_datetime(x_plot)\n",
    "y_plot = df['DAYS ON MARKET']\n",
    "sns.scatterplot(data=df, x=x_plot, y=y_plot)"
   ]
  },
  {
   "cell_type": "code",
   "execution_count": 44,
   "metadata": {},
   "outputs": [
    {
     "data": {
      "text/plain": [
       "0     2020-10-15\n",
       "1     2019-06-25\n",
       "2     2019-05-24\n",
       "3     2020-09-25\n",
       "4     2020-06-11\n",
       "         ...    \n",
       "223   2020-03-16\n",
       "224   2019-05-02\n",
       "225   2020-08-28\n",
       "226   2021-02-04\n",
       "227   2019-12-05\n",
       "Name: SOLD DATE, Length: 37357, dtype: datetime64[ns]"
      ]
     },
     "execution_count": 44,
     "metadata": {},
     "output_type": "execute_result"
    }
   ],
   "source": [
    "pd.to_datetime(x_plot)"
   ]
  },
  {
   "cell_type": "code",
   "execution_count": 7,
   "metadata": {},
   "outputs": [
    {
     "data": {
      "image/png": "[encoded data removed]",
      "text/plain": [
       "<Figure size 1152x288 with 1 Axes>"
      ]
     },
     "metadata": {},
     "output_type": "display_data"
    }
   ],
   "source": [
    "ax = sns.boxplot(x=df['HOA/MONTH'])"
   ]
  },
  {
   "cell_type": "code",
   "execution_count": 8,
   "metadata": {},
   "outputs": [
    {
     "data": {
      "text/plain": [
       "30.0"
      ]
     },
     "execution_count": 8,
     "metadata": {},
     "output_type": "execute_result"
    }
   ],
   "source": [
    "df['HOA/MONTH'].median()"
   ]
  },
  {
   "cell_type": "code",
   "execution_count": 9,
   "metadata": {},
   "outputs": [
    {
     "data": {
      "image/png": "[encoded data removed]",
      "text/plain": [
       "<Figure size 1152x288 with 1 Axes>"
      ]
     },
     "metadata": {},
     "output_type": "display_data"
    }
   ],
   "source": [
    "ax = sns.boxplot(x=df['DAYS ON MARKET'])"
   ]
  },
  {
   "cell_type": "code",
   "execution_count": 10,
   "metadata": {},
   "outputs": [
    {
     "data": {
      "text/plain": [
       "count    37337.000000\n",
       "mean         3.422075\n",
       "std          0.737541\n",
       "min          0.000000\n",
       "25%          3.000000\n",
       "50%          3.000000\n",
       "75%          4.000000\n",
       "max         10.000000\n",
       "Name: BEDS, dtype: float64"
      ]
     },
     "execution_count": 10,
     "metadata": {},
     "output_type": "execute_result"
    },
    {
     "data": {
      "image/png": "[encoded data removed]",
      "text/plain": [
       "<Figure size 1152x288 with 1 Axes>"
      ]
     },
     "metadata": {},
     "output_type": "display_data"
    }
   ],
   "source": [
    "ax = sns.boxplot(x=df['BEDS'])\n",
    "df['BEDS'].describe()"
   ]
  },
  {
   "cell_type": "code",
   "execution_count": 11,
   "metadata": {},
   "outputs": [
    {
     "data": {
      "text/plain": [
       "count    37331.000000\n",
       "mean         2.413570\n",
       "std          0.812034\n",
       "min          0.500000\n",
       "25%          2.000000\n",
       "50%          2.000000\n",
       "75%          3.000000\n",
       "max         24.000000\n",
       "Name: BATHS, dtype: float64"
      ]
     },
     "execution_count": 11,
     "metadata": {},
     "output_type": "execute_result"
    },
    {
     "data": {
      "image/png": "[encoded data removed]",
      "text/plain": [
       "<Figure size 1152x288 with 1 Axes>"
      ]
     },
     "metadata": {},
     "output_type": "display_data"
    }
   ],
   "source": [
    "ax = sns.boxplot(x=df['BATHS'])\n",
    "df['BATHS'].describe()"
   ]
  },
  {
   "cell_type": "code",
   "execution_count": 30,
   "metadata": {},
   "outputs": [
    {
     "data": {
      "text/html": [
       "<div>\n",
       "<style scoped>\n",
       "    .dataframe tbody tr th:only-of-type {\n",
       "        vertical-align: middle;\n",
       "    }\n",
       "\n",
       "    .dataframe tbody tr th {\n",
       "        vertical-align: top;\n",
       "    }\n",
       "\n",
       "    .dataframe thead th {\n",
       "        text-align: right;\n",
       "    }\n",
       "</style>\n",
       "<table border=\"1\" class=\"dataframe\">\n",
       "  <thead>\n",
       "    <tr style=\"text-align: right;\">\n",
       "      <th></th>\n",
       "      <th>SALE TYPE</th>\n",
       "      <th>SOLD DATE</th>\n",
       "      <th>PROPERTY TYPE</th>\n",
       "      <th>ADDRESS</th>\n",
       "      <th>CITY</th>\n",
       "      <th>STATE OR PROVINCE</th>\n",
       "      <th>ZIP OR POSTAL CODE</th>\n",
       "      <th>PRICE</th>\n",
       "      <th>BEDS</th>\n",
       "      <th>BATHS</th>\n",
       "      <th>...</th>\n",
       "      <th>STATUS</th>\n",
       "      <th>NEXT OPEN HOUSE START TIME</th>\n",
       "      <th>NEXT OPEN HOUSE END TIME</th>\n",
       "      <th>URL (SEE http://www.redfin.com/buy-a-home/comparative-market-analysis FOR INFO ON PRICING)</th>\n",
       "      <th>SOURCE</th>\n",
       "      <th>MLS#</th>\n",
       "      <th>FAVORITE</th>\n",
       "      <th>INTERESTED</th>\n",
       "      <th>LATITUDE</th>\n",
       "      <th>LONGITUDE</th>\n",
       "    </tr>\n",
       "  </thead>\n",
       "  <tbody>\n",
       "    <tr>\n",
       "      <th>18</th>\n",
       "      <td>PAST SALE</td>\n",
       "      <td>December-30-2019</td>\n",
       "      <td>Single Family Residential</td>\n",
       "      <td>326 Branch Oak Way</td>\n",
       "      <td>San Antonio</td>\n",
       "      <td>TX</td>\n",
       "      <td>78230</td>\n",
       "      <td>875000</td>\n",
       "      <td>4.0</td>\n",
       "      <td>7.5</td>\n",
       "      <td>...</td>\n",
       "      <td>Sold</td>\n",
       "      <td>NaN</td>\n",
       "      <td>NaN</td>\n",
       "      <td>http://www.redfin.com/TX/Shavano-Park/326-Bran...</td>\n",
       "      <td>HARMLS</td>\n",
       "      <td>94445848.0</td>\n",
       "      <td>N</td>\n",
       "      <td>Y</td>\n",
       "      <td>29.569196</td>\n",
       "      <td>-98.556351</td>\n",
       "    </tr>\n",
       "    <tr>\n",
       "      <th>33</th>\n",
       "      <td>PAST SALE</td>\n",
       "      <td>December-4-2020</td>\n",
       "      <td>Single Family Residential</td>\n",
       "      <td>602 Bentley Mnr</td>\n",
       "      <td>Shavano Park</td>\n",
       "      <td>TX</td>\n",
       "      <td>78249</td>\n",
       "      <td>1825000</td>\n",
       "      <td>7.0</td>\n",
       "      <td>7.5</td>\n",
       "      <td>...</td>\n",
       "      <td>Sold</td>\n",
       "      <td>NaN</td>\n",
       "      <td>NaN</td>\n",
       "      <td>http://www.redfin.com/TX/Shavano-Park/602-Bent...</td>\n",
       "      <td>Sabor</td>\n",
       "      <td>1355770.0</td>\n",
       "      <td>N</td>\n",
       "      <td>Y</td>\n",
       "      <td>29.589252</td>\n",
       "      <td>-98.567337</td>\n",
       "    </tr>\n",
       "    <tr>\n",
       "      <th>63</th>\n",
       "      <td>PAST SALE</td>\n",
       "      <td>July-31-2019</td>\n",
       "      <td>Single Family Residential</td>\n",
       "      <td>238 Winding Ln</td>\n",
       "      <td>Shavano Park</td>\n",
       "      <td>TX</td>\n",
       "      <td>78231</td>\n",
       "      <td>2600000</td>\n",
       "      <td>5.0</td>\n",
       "      <td>7.5</td>\n",
       "      <td>...</td>\n",
       "      <td>Sold</td>\n",
       "      <td>NaN</td>\n",
       "      <td>NaN</td>\n",
       "      <td>http://www.redfin.com/TX/San-Antonio/238-Windi...</td>\n",
       "      <td>Sabor</td>\n",
       "      <td>1362491.0</td>\n",
       "      <td>N</td>\n",
       "      <td>Y</td>\n",
       "      <td>29.598340</td>\n",
       "      <td>-98.550515</td>\n",
       "    </tr>\n",
       "    <tr>\n",
       "      <th>275</th>\n",
       "      <td>PAST SALE</td>\n",
       "      <td>February-12-2021</td>\n",
       "      <td>Single Family Residential</td>\n",
       "      <td>11661 Elm Ridge Rd</td>\n",
       "      <td>San Antonio</td>\n",
       "      <td>TX</td>\n",
       "      <td>78230</td>\n",
       "      <td>920000</td>\n",
       "      <td>6.0</td>\n",
       "      <td>7.5</td>\n",
       "      <td>...</td>\n",
       "      <td>Sold</td>\n",
       "      <td>NaN</td>\n",
       "      <td>NaN</td>\n",
       "      <td>http://www.redfin.com/TX/San-Antonio/11661-Elm...</td>\n",
       "      <td>Sabor</td>\n",
       "      <td>1496163.0</td>\n",
       "      <td>N</td>\n",
       "      <td>Y</td>\n",
       "      <td>29.547869</td>\n",
       "      <td>-98.549656</td>\n",
       "    </tr>\n",
       "  </tbody>\n",
       "</table>\n",
       "<p>4 rows × 27 columns</p>\n",
       "</div>"
      ],
      "text/plain": [
       "     SALE TYPE         SOLD DATE              PROPERTY TYPE  \\\n",
       "18   PAST SALE  December-30-2019  Single Family Residential   \n",
       "33   PAST SALE   December-4-2020  Single Family Residential   \n",
       "63   PAST SALE      July-31-2019  Single Family Residential   \n",
       "275  PAST SALE  February-12-2021  Single Family Residential   \n",
       "\n",
       "                ADDRESS          CITY STATE OR PROVINCE  ZIP OR POSTAL CODE  \\\n",
       "18   326 Branch Oak Way   San Antonio                TX               78230   \n",
       "33      602 Bentley Mnr  Shavano Park                TX               78249   \n",
       "63       238 Winding Ln  Shavano Park                TX               78231   \n",
       "275  11661 Elm Ridge Rd   San Antonio                TX               78230   \n",
       "\n",
       "       PRICE  BEDS  BATHS  ... STATUS  NEXT OPEN HOUSE START TIME  \\\n",
       "18    875000   4.0    7.5  ...   Sold                         NaN   \n",
       "33   1825000   7.0    7.5  ...   Sold                         NaN   \n",
       "63   2600000   5.0    7.5  ...   Sold                         NaN   \n",
       "275   920000   6.0    7.5  ...   Sold                         NaN   \n",
       "\n",
       "     NEXT OPEN HOUSE END TIME  \\\n",
       "18                        NaN   \n",
       "33                        NaN   \n",
       "63                        NaN   \n",
       "275                       NaN   \n",
       "\n",
       "     URL (SEE http://www.redfin.com/buy-a-home/comparative-market-analysis FOR INFO ON PRICING)  \\\n",
       "18   http://www.redfin.com/TX/Shavano-Park/326-Bran...                                            \n",
       "33   http://www.redfin.com/TX/Shavano-Park/602-Bent...                                            \n",
       "63   http://www.redfin.com/TX/San-Antonio/238-Windi...                                            \n",
       "275  http://www.redfin.com/TX/San-Antonio/11661-Elm...                                            \n",
       "\n",
       "     SOURCE        MLS#  FAVORITE INTERESTED   LATITUDE  LONGITUDE  \n",
       "18   HARMLS  94445848.0         N          Y  29.569196 -98.556351  \n",
       "33    Sabor   1355770.0         N          Y  29.589252 -98.567337  \n",
       "63    Sabor   1362491.0         N          Y  29.598340 -98.550515  \n",
       "275   Sabor   1496163.0         N          Y  29.547869 -98.549656  \n",
       "\n",
       "[4 rows x 27 columns]"
      ]
     },
     "execution_count": 30,
     "metadata": {},
     "output_type": "execute_result"
    }
   ],
   "source": [
    "df[df['BATHS'] == 7.5]"
   ]
  },
  {
   "cell_type": "code",
   "execution_count": 31,
   "metadata": {},
   "outputs": [],
   "source": [
    "df['SOLD DATE'] = pd.to_datetime(df['SOLD DATE'])"
   ]
  },
  {
   "cell_type": "code",
   "execution_count": 32,
   "metadata": {},
   "outputs": [
    {
     "data": {
      "text/plain": [
       "<AxesSubplot:xlabel='SOLD DATE', ylabel='Count'>"
      ]
     },
     "execution_count": 32,
     "metadata": {},
     "output_type": "execute_result"
    },
    {
     "data": {
      "image/png": "[encoded data removed]",
      "text/plain": [
       "<Figure size 1152x288 with 1 Axes>"
      ]
     },
     "metadata": {},
     "output_type": "display_data"
    }
   ],
   "source": [
    "sns.histplot(data=df['SOLD DATE'],binwidth=30,kde=True,shrink=0.8)"
   ]
  },
  {
   "cell_type": "code",
   "execution_count": 45,
   "metadata": {},
   "outputs": [],
   "source": [
    "# Choropleth map of house locations???"
   ]
  },
  {
   "cell_type": "code",
   "execution_count": 33,
   "metadata": {},
   "outputs": [],
   "source": [
    "# stacked bar of months"
   ]
  },
  {
   "cell_type": "code",
   "execution_count": 52,
   "metadata": {},
   "outputs": [],
   "source": [
    "df.reset_index(inplace=True)"
   ]
  },
  {
   "cell_type": "code",
   "execution_count": 59,
   "metadata": {},
   "outputs": [],
   "source": [
    "df['MONTH'] = pd.DatetimeIndex(df['SOLD DATE']).month"
   ]
  },
  {
   "cell_type": "code",
   "execution_count": 63,
   "metadata": {},
   "outputs": [],
   "source": [
    "df.dropna(inplace=True)"
   ]
  },
  {
   "cell_type": "code",
   "execution_count": 64,
   "metadata": {},
   "outputs": [],
   "source": [
    "df['MONTH'] = df['MONTH'].astype(int)"
   ]
  },
  {
   "cell_type": "code",
   "execution_count": 66,
   "metadata": {},
   "outputs": [
    {
     "data": {
      "text/html": [
       "<div>\n",
       "<style scoped>\n",
       "    .dataframe tbody tr th:only-of-type {\n",
       "        vertical-align: middle;\n",
       "    }\n",
       "\n",
       "    .dataframe tbody tr th {\n",
       "        vertical-align: top;\n",
       "    }\n",
       "\n",
       "    .dataframe thead th {\n",
       "        text-align: right;\n",
       "    }\n",
       "</style>\n",
       "<table border=\"1\" class=\"dataframe\">\n",
       "  <thead>\n",
       "    <tr style=\"text-align: right;\">\n",
       "      <th></th>\n",
       "      <th>index</th>\n",
       "      <th>SALE TYPE</th>\n",
       "      <th>SOLD DATE</th>\n",
       "      <th>PROPERTY TYPE</th>\n",
       "      <th>ADDRESS</th>\n",
       "      <th>CITY</th>\n",
       "      <th>STATE OR PROVINCE</th>\n",
       "      <th>ZIP OR POSTAL CODE</th>\n",
       "      <th>PRICE</th>\n",
       "      <th>BEDS</th>\n",
       "      <th>...</th>\n",
       "      <th>LOT SIZE</th>\n",
       "      <th>YEAR BUILT</th>\n",
       "      <th>DAYS ON MARKET</th>\n",
       "      <th>$/SQUARE FEET</th>\n",
       "      <th>HOA/MONTH</th>\n",
       "      <th>STATUS</th>\n",
       "      <th>MLS#</th>\n",
       "      <th>LATITUDE</th>\n",
       "      <th>LONGITUDE</th>\n",
       "      <th>MONTH</th>\n",
       "    </tr>\n",
       "  </thead>\n",
       "  <tbody>\n",
       "    <tr>\n",
       "      <th>0</th>\n",
       "      <td>0</td>\n",
       "      <td>PAST SALE</td>\n",
       "      <td>2020-10-15</td>\n",
       "      <td>Single Family Residential</td>\n",
       "      <td>17751 Rancho Diana</td>\n",
       "      <td>San Antonio</td>\n",
       "      <td>TX</td>\n",
       "      <td>78255</td>\n",
       "      <td>955000</td>\n",
       "      <td>4.0</td>\n",
       "      <td>...</td>\n",
       "      <td>33976.0</td>\n",
       "      <td>2019.0</td>\n",
       "      <td>150.0</td>\n",
       "      <td>195.0</td>\n",
       "      <td>55.0</td>\n",
       "      <td>Sold</td>\n",
       "      <td>1430151.0</td>\n",
       "      <td>29.612013</td>\n",
       "      <td>-98.654187</td>\n",
       "      <td>10</td>\n",
       "    </tr>\n",
       "    <tr>\n",
       "      <th>1</th>\n",
       "      <td>1</td>\n",
       "      <td>PAST SALE</td>\n",
       "      <td>2019-06-25</td>\n",
       "      <td>Single Family Residential</td>\n",
       "      <td>18010 Granite Hill Dr</td>\n",
       "      <td>San Antonio</td>\n",
       "      <td>TX</td>\n",
       "      <td>78255</td>\n",
       "      <td>670000</td>\n",
       "      <td>6.0</td>\n",
       "      <td>...</td>\n",
       "      <td>20908.0</td>\n",
       "      <td>2008.0</td>\n",
       "      <td>628.0</td>\n",
       "      <td>149.0</td>\n",
       "      <td>50.0</td>\n",
       "      <td>Sold</td>\n",
       "      <td>1369710.0</td>\n",
       "      <td>29.612978</td>\n",
       "      <td>-98.654429</td>\n",
       "      <td>6</td>\n",
       "    </tr>\n",
       "    <tr>\n",
       "      <th>2</th>\n",
       "      <td>2</td>\n",
       "      <td>PAST SALE</td>\n",
       "      <td>2019-05-24</td>\n",
       "      <td>Single Family Residential</td>\n",
       "      <td>7827 Hermosa Hl</td>\n",
       "      <td>San Antonio</td>\n",
       "      <td>TX</td>\n",
       "      <td>78256</td>\n",
       "      <td>465000</td>\n",
       "      <td>5.0</td>\n",
       "      <td>...</td>\n",
       "      <td>7840.0</td>\n",
       "      <td>2010.0</td>\n",
       "      <td>660.0</td>\n",
       "      <td>128.0</td>\n",
       "      <td>82.0</td>\n",
       "      <td>Sold</td>\n",
       "      <td>1332273.0</td>\n",
       "      <td>29.646189</td>\n",
       "      <td>-98.638447</td>\n",
       "      <td>5</td>\n",
       "    </tr>\n",
       "    <tr>\n",
       "      <th>3</th>\n",
       "      <td>3</td>\n",
       "      <td>PAST SALE</td>\n",
       "      <td>2020-09-25</td>\n",
       "      <td>Single Family Residential</td>\n",
       "      <td>6702 Frua Ln</td>\n",
       "      <td>San Antonio</td>\n",
       "      <td>TX</td>\n",
       "      <td>78257</td>\n",
       "      <td>345000</td>\n",
       "      <td>2.0</td>\n",
       "      <td>...</td>\n",
       "      <td>5662.0</td>\n",
       "      <td>2005.0</td>\n",
       "      <td>170.0</td>\n",
       "      <td>173.0</td>\n",
       "      <td>230.0</td>\n",
       "      <td>Sold</td>\n",
       "      <td>1467693.0</td>\n",
       "      <td>29.647801</td>\n",
       "      <td>-98.614186</td>\n",
       "      <td>9</td>\n",
       "    </tr>\n",
       "    <tr>\n",
       "      <th>4</th>\n",
       "      <td>4</td>\n",
       "      <td>PAST SALE</td>\n",
       "      <td>2020-06-11</td>\n",
       "      <td>Single Family Residential</td>\n",
       "      <td>315 Persimmon Trl</td>\n",
       "      <td>San Antonio</td>\n",
       "      <td>TX</td>\n",
       "      <td>78256</td>\n",
       "      <td>337500</td>\n",
       "      <td>4.0</td>\n",
       "      <td>...</td>\n",
       "      <td>9583.0</td>\n",
       "      <td>2004.0</td>\n",
       "      <td>276.0</td>\n",
       "      <td>156.0</td>\n",
       "      <td>54.0</td>\n",
       "      <td>Sold</td>\n",
       "      <td>1451684.0</td>\n",
       "      <td>29.650304</td>\n",
       "      <td>-98.629082</td>\n",
       "      <td>6</td>\n",
       "    </tr>\n",
       "    <tr>\n",
       "      <th>...</th>\n",
       "      <td>...</td>\n",
       "      <td>...</td>\n",
       "      <td>...</td>\n",
       "      <td>...</td>\n",
       "      <td>...</td>\n",
       "      <td>...</td>\n",
       "      <td>...</td>\n",
       "      <td>...</td>\n",
       "      <td>...</td>\n",
       "      <td>...</td>\n",
       "      <td>...</td>\n",
       "      <td>...</td>\n",
       "      <td>...</td>\n",
       "      <td>...</td>\n",
       "      <td>...</td>\n",
       "      <td>...</td>\n",
       "      <td>...</td>\n",
       "      <td>...</td>\n",
       "      <td>...</td>\n",
       "      <td>...</td>\n",
       "      <td>...</td>\n",
       "    </tr>\n",
       "    <tr>\n",
       "      <th>37352</th>\n",
       "      <td>223</td>\n",
       "      <td>PAST SALE</td>\n",
       "      <td>2020-03-16</td>\n",
       "      <td>Single Family Residential</td>\n",
       "      <td>1147 Hedgestone Dr</td>\n",
       "      <td>San Antonio</td>\n",
       "      <td>TX</td>\n",
       "      <td>78258</td>\n",
       "      <td>275000</td>\n",
       "      <td>4.0</td>\n",
       "      <td>...</td>\n",
       "      <td>5662.0</td>\n",
       "      <td>1986.0</td>\n",
       "      <td>363.0</td>\n",
       "      <td>122.0</td>\n",
       "      <td>110.0</td>\n",
       "      <td>Sold</td>\n",
       "      <td>1438057.0</td>\n",
       "      <td>29.646371</td>\n",
       "      <td>-98.497260</td>\n",
       "      <td>3</td>\n",
       "    </tr>\n",
       "    <tr>\n",
       "      <th>37353</th>\n",
       "      <td>224</td>\n",
       "      <td>PAST SALE</td>\n",
       "      <td>2019-05-02</td>\n",
       "      <td>Single Family Residential</td>\n",
       "      <td>25167 Flying Arrow</td>\n",
       "      <td>San Antonio</td>\n",
       "      <td>TX</td>\n",
       "      <td>78258</td>\n",
       "      <td>335000</td>\n",
       "      <td>5.0</td>\n",
       "      <td>...</td>\n",
       "      <td>7840.0</td>\n",
       "      <td>1994.0</td>\n",
       "      <td>682.0</td>\n",
       "      <td>136.0</td>\n",
       "      <td>16.0</td>\n",
       "      <td>Sold</td>\n",
       "      <td>1370938.0</td>\n",
       "      <td>29.644913</td>\n",
       "      <td>-98.494773</td>\n",
       "      <td>5</td>\n",
       "    </tr>\n",
       "    <tr>\n",
       "      <th>37354</th>\n",
       "      <td>225</td>\n",
       "      <td>PAST SALE</td>\n",
       "      <td>2020-08-28</td>\n",
       "      <td>Single Family Residential</td>\n",
       "      <td>25270 Flaming Arrow</td>\n",
       "      <td>San Antonio</td>\n",
       "      <td>TX</td>\n",
       "      <td>78258</td>\n",
       "      <td>335000</td>\n",
       "      <td>5.0</td>\n",
       "      <td>...</td>\n",
       "      <td>12196.0</td>\n",
       "      <td>1988.0</td>\n",
       "      <td>198.0</td>\n",
       "      <td>102.0</td>\n",
       "      <td>23.0</td>\n",
       "      <td>Sold</td>\n",
       "      <td>1466828.0</td>\n",
       "      <td>29.644785</td>\n",
       "      <td>-98.493958</td>\n",
       "      <td>8</td>\n",
       "    </tr>\n",
       "    <tr>\n",
       "      <th>37355</th>\n",
       "      <td>226</td>\n",
       "      <td>PAST SALE</td>\n",
       "      <td>2021-02-04</td>\n",
       "      <td>Single Family Residential</td>\n",
       "      <td>21610 Iron Ridge Ct</td>\n",
       "      <td>San Antonio</td>\n",
       "      <td>TX</td>\n",
       "      <td>78258</td>\n",
       "      <td>350000</td>\n",
       "      <td>3.0</td>\n",
       "      <td>...</td>\n",
       "      <td>7727.0</td>\n",
       "      <td>1999.0</td>\n",
       "      <td>38.0</td>\n",
       "      <td>150.0</td>\n",
       "      <td>38.0</td>\n",
       "      <td>Sold</td>\n",
       "      <td>1499022.0</td>\n",
       "      <td>29.643171</td>\n",
       "      <td>-98.503006</td>\n",
       "      <td>2</td>\n",
       "    </tr>\n",
       "    <tr>\n",
       "      <th>37356</th>\n",
       "      <td>227</td>\n",
       "      <td>PAST SALE</td>\n",
       "      <td>2019-12-05</td>\n",
       "      <td>Single Family Residential</td>\n",
       "      <td>25114 Flaming Arrow</td>\n",
       "      <td>San Antonio</td>\n",
       "      <td>TX</td>\n",
       "      <td>78258</td>\n",
       "      <td>257000</td>\n",
       "      <td>4.0</td>\n",
       "      <td>...</td>\n",
       "      <td>11325.0</td>\n",
       "      <td>1993.0</td>\n",
       "      <td>465.0</td>\n",
       "      <td>120.0</td>\n",
       "      <td>16.0</td>\n",
       "      <td>Sold</td>\n",
       "      <td>1406004.0</td>\n",
       "      <td>29.642133</td>\n",
       "      <td>-98.493272</td>\n",
       "      <td>12</td>\n",
       "    </tr>\n",
       "  </tbody>\n",
       "</table>\n",
       "<p>21316 rows × 23 columns</p>\n",
       "</div>"
      ],
      "text/plain": [
       "       index  SALE TYPE  SOLD DATE              PROPERTY TYPE  \\\n",
       "0          0  PAST SALE 2020-10-15  Single Family Residential   \n",
       "1          1  PAST SALE 2019-06-25  Single Family Residential   \n",
       "2          2  PAST SALE 2019-05-24  Single Family Residential   \n",
       "3          3  PAST SALE 2020-09-25  Single Family Residential   \n",
       "4          4  PAST SALE 2020-06-11  Single Family Residential   \n",
       "...      ...        ...        ...                        ...   \n",
       "37352    223  PAST SALE 2020-03-16  Single Family Residential   \n",
       "37353    224  PAST SALE 2019-05-02  Single Family Residential   \n",
       "37354    225  PAST SALE 2020-08-28  Single Family Residential   \n",
       "37355    226  PAST SALE 2021-02-04  Single Family Residential   \n",
       "37356    227  PAST SALE 2019-12-05  Single Family Residential   \n",
       "\n",
       "                     ADDRESS         CITY STATE OR PROVINCE  \\\n",
       "0         17751 Rancho Diana  San Antonio                TX   \n",
       "1      18010 Granite Hill Dr  San Antonio                TX   \n",
       "2            7827 Hermosa Hl  San Antonio                TX   \n",
       "3               6702 Frua Ln  San Antonio                TX   \n",
       "4          315 Persimmon Trl  San Antonio                TX   \n",
       "...                      ...          ...               ...   \n",
       "37352     1147 Hedgestone Dr  San Antonio                TX   \n",
       "37353     25167 Flying Arrow  San Antonio                TX   \n",
       "37354    25270 Flaming Arrow  San Antonio                TX   \n",
       "37355    21610 Iron Ridge Ct  San Antonio                TX   \n",
       "37356    25114 Flaming Arrow  San Antonio                TX   \n",
       "\n",
       "       ZIP OR POSTAL CODE   PRICE  BEDS  ...  LOT SIZE YEAR BUILT  \\\n",
       "0                   78255  955000   4.0  ...   33976.0     2019.0   \n",
       "1                   78255  670000   6.0  ...   20908.0     2008.0   \n",
       "2                   78256  465000   5.0  ...    7840.0     2010.0   \n",
       "3                   78257  345000   2.0  ...    5662.0     2005.0   \n",
       "4                   78256  337500   4.0  ...    9583.0     2004.0   \n",
       "...                   ...     ...   ...  ...       ...        ...   \n",
       "37352               78258  275000   4.0  ...    5662.0     1986.0   \n",
       "37353               78258  335000   5.0  ...    7840.0     1994.0   \n",
       "37354               78258  335000   5.0  ...   12196.0     1988.0   \n",
       "37355               78258  350000   3.0  ...    7727.0     1999.0   \n",
       "37356               78258  257000   4.0  ...   11325.0     1993.0   \n",
       "\n",
       "       DAYS ON MARKET  $/SQUARE FEET  HOA/MONTH  STATUS       MLS#   LATITUDE  \\\n",
       "0               150.0          195.0       55.0    Sold  1430151.0  29.612013   \n",
       "1               628.0          149.0       50.0    Sold  1369710.0  29.612978   \n",
       "2               660.0          128.0       82.0    Sold  1332273.0  29.646189   \n",
       "3               170.0          173.0      230.0    Sold  1467693.0  29.647801   \n",
       "4               276.0          156.0       54.0    Sold  1451684.0  29.650304   \n",
       "...               ...            ...        ...     ...        ...        ...   \n",
       "37352           363.0          122.0      110.0    Sold  1438057.0  29.646371   \n",
       "37353           682.0          136.0       16.0    Sold  1370938.0  29.644913   \n",
       "37354           198.0          102.0       23.0    Sold  1466828.0  29.644785   \n",
       "37355            38.0          150.0       38.0    Sold  1499022.0  29.643171   \n",
       "37356           465.0          120.0       16.0    Sold  1406004.0  29.642133   \n",
       "\n",
       "       LONGITUDE  MONTH  \n",
       "0     -98.654187     10  \n",
       "1     -98.654429      6  \n",
       "2     -98.638447      5  \n",
       "3     -98.614186      9  \n",
       "4     -98.629082      6  \n",
       "...          ...    ...  \n",
       "37352 -98.497260      3  \n",
       "37353 -98.494773      5  \n",
       "37354 -98.493958      8  \n",
       "37355 -98.503006      2  \n",
       "37356 -98.493272     12  \n",
       "\n",
       "[21316 rows x 23 columns]"
      ]
     },
     "execution_count": 66,
     "metadata": {},
     "output_type": "execute_result"
    }
   ],
   "source": [
    "df"
   ]
  },
  {
   "cell_type": "code",
   "execution_count": 68,
   "metadata": {},
   "outputs": [
    {
     "ename": "TypeError",
     "evalue": "no numeric data to plot",
     "output_type": "error",
     "traceback": [
      "\u001b[0;31m---------------------------------------------------------------------------\u001b[0m",
      "\u001b[0;31mTypeError\u001b[0m                                 Traceback (most recent call last)",
      "\u001b[0;32m<ipython-input-68-ed31972e352c>\u001b[0m in \u001b[0;36m<module>\u001b[0;34m\u001b[0m\n\u001b[1;32m      1\u001b[0m \u001b[0;32mfrom\u001b[0m \u001b[0mmatplotlib\u001b[0m\u001b[0;34m.\u001b[0m\u001b[0mcolors\u001b[0m \u001b[0;32mimport\u001b[0m \u001b[0mListedColormap\u001b[0m\u001b[0;34m\u001b[0m\u001b[0;34m\u001b[0m\u001b[0m\n\u001b[1;32m      2\u001b[0m \u001b[0;34m\u001b[0m\u001b[0m\n\u001b[0;32m----> 3\u001b[0;31m \u001b[0mdf\u001b[0m\u001b[0;34m.\u001b[0m\u001b[0mset_index\u001b[0m\u001b[0;34m(\u001b[0m\u001b[0;34m'MONTH'\u001b[0m\u001b[0;34m)\u001b[0m\u001b[0;31m\\\u001b[0m\u001b[0;34m\u001b[0m\u001b[0;34m\u001b[0m\u001b[0m\n\u001b[0m\u001b[1;32m      4\u001b[0m   \u001b[0;34m.\u001b[0m\u001b[0mreindex\u001b[0m\u001b[0;34m(\u001b[0m\u001b[0mdf\u001b[0m\u001b[0;34m.\u001b[0m\u001b[0mset_index\u001b[0m\u001b[0;34m(\u001b[0m\u001b[0;34m'MONTH'\u001b[0m\u001b[0;34m)\u001b[0m\u001b[0;34m.\u001b[0m\u001b[0msum\u001b[0m\u001b[0;34m(\u001b[0m\u001b[0;34m)\u001b[0m\u001b[0;34m.\u001b[0m\u001b[0mindex\u001b[0m\u001b[0;34m,\u001b[0m \u001b[0maxis\u001b[0m\u001b[0;34m=\u001b[0m\u001b[0;36m1\u001b[0m\u001b[0;34m)\u001b[0m\u001b[0;31m\\\u001b[0m\u001b[0;34m\u001b[0m\u001b[0;34m\u001b[0m\u001b[0m\n\u001b[1;32m      5\u001b[0m   .T.plot(kind='bar', stacked=True,\n",
      "\u001b[0;32m~/opt/anaconda3/lib/python3.8/site-packages/pandas/plotting/_core.py\u001b[0m in \u001b[0;36m__call__\u001b[0;34m(self, *args, **kwargs)\u001b[0m\n\u001b[1;32m    947\u001b[0m                     \u001b[0mdata\u001b[0m\u001b[0;34m.\u001b[0m\u001b[0mcolumns\u001b[0m \u001b[0;34m=\u001b[0m \u001b[0mlabel_name\u001b[0m\u001b[0;34m\u001b[0m\u001b[0;34m\u001b[0m\u001b[0m\n\u001b[1;32m    948\u001b[0m \u001b[0;34m\u001b[0m\u001b[0m\n\u001b[0;32m--> 949\u001b[0;31m         \u001b[0;32mreturn\u001b[0m \u001b[0mplot_backend\u001b[0m\u001b[0;34m.\u001b[0m\u001b[0mplot\u001b[0m\u001b[0;34m(\u001b[0m\u001b[0mdata\u001b[0m\u001b[0;34m,\u001b[0m \u001b[0mkind\u001b[0m\u001b[0;34m=\u001b[0m\u001b[0mkind\u001b[0m\u001b[0;34m,\u001b[0m \u001b[0;34m**\u001b[0m\u001b[0mkwargs\u001b[0m\u001b[0;34m)\u001b[0m\u001b[0;34m\u001b[0m\u001b[0;34m\u001b[0m\u001b[0m\n\u001b[0m\u001b[1;32m    950\u001b[0m \u001b[0;34m\u001b[0m\u001b[0m\n\u001b[1;32m    951\u001b[0m     \u001b[0m__call__\u001b[0m\u001b[0;34m.\u001b[0m\u001b[0m__doc__\u001b[0m \u001b[0;34m=\u001b[0m \u001b[0m__doc__\u001b[0m\u001b[0;34m\u001b[0m\u001b[0;34m\u001b[0m\u001b[0m\n",
      "\u001b[0;32m~/opt/anaconda3/lib/python3.8/site-packages/pandas/plotting/_matplotlib/__init__.py\u001b[0m in \u001b[0;36mplot\u001b[0;34m(data, kind, **kwargs)\u001b[0m\n\u001b[1;32m     59\u001b[0m             \u001b[0mkwargs\u001b[0m\u001b[0;34m[\u001b[0m\u001b[0;34m\"ax\"\u001b[0m\u001b[0;34m]\u001b[0m \u001b[0;34m=\u001b[0m \u001b[0mgetattr\u001b[0m\u001b[0;34m(\u001b[0m\u001b[0max\u001b[0m\u001b[0;34m,\u001b[0m \u001b[0;34m\"left_ax\"\u001b[0m\u001b[0;34m,\u001b[0m \u001b[0max\u001b[0m\u001b[0;34m)\u001b[0m\u001b[0;34m\u001b[0m\u001b[0;34m\u001b[0m\u001b[0m\n\u001b[1;32m     60\u001b[0m     \u001b[0mplot_obj\u001b[0m \u001b[0;34m=\u001b[0m \u001b[0mPLOT_CLASSES\u001b[0m\u001b[0;34m[\u001b[0m\u001b[0mkind\u001b[0m\u001b[0;34m]\u001b[0m\u001b[0;34m(\u001b[0m\u001b[0mdata\u001b[0m\u001b[0;34m,\u001b[0m \u001b[0;34m**\u001b[0m\u001b[0mkwargs\u001b[0m\u001b[0;34m)\u001b[0m\u001b[0;34m\u001b[0m\u001b[0;34m\u001b[0m\u001b[0m\n\u001b[0;32m---> 61\u001b[0;31m     \u001b[0mplot_obj\u001b[0m\u001b[0;34m.\u001b[0m\u001b[0mgenerate\u001b[0m\u001b[0;34m(\u001b[0m\u001b[0;34m)\u001b[0m\u001b[0;34m\u001b[0m\u001b[0;34m\u001b[0m\u001b[0m\n\u001b[0m\u001b[1;32m     62\u001b[0m     \u001b[0mplot_obj\u001b[0m\u001b[0;34m.\u001b[0m\u001b[0mdraw\u001b[0m\u001b[0;34m(\u001b[0m\u001b[0;34m)\u001b[0m\u001b[0;34m\u001b[0m\u001b[0;34m\u001b[0m\u001b[0m\n\u001b[1;32m     63\u001b[0m     \u001b[0;32mreturn\u001b[0m \u001b[0mplot_obj\u001b[0m\u001b[0;34m.\u001b[0m\u001b[0mresult\u001b[0m\u001b[0;34m\u001b[0m\u001b[0;34m\u001b[0m\u001b[0m\n",
      "\u001b[0;32m~/opt/anaconda3/lib/python3.8/site-packages/pandas/plotting/_matplotlib/core.py\u001b[0m in \u001b[0;36mgenerate\u001b[0;34m(self)\u001b[0m\n\u001b[1;32m    267\u001b[0m     \u001b[0;32mdef\u001b[0m \u001b[0mgenerate\u001b[0m\u001b[0;34m(\u001b[0m\u001b[0mself\u001b[0m\u001b[0;34m)\u001b[0m\u001b[0;34m:\u001b[0m\u001b[0;34m\u001b[0m\u001b[0;34m\u001b[0m\u001b[0m\n\u001b[1;32m    268\u001b[0m         \u001b[0mself\u001b[0m\u001b[0;34m.\u001b[0m\u001b[0m_args_adjust\u001b[0m\u001b[0;34m(\u001b[0m\u001b[0;34m)\u001b[0m\u001b[0;34m\u001b[0m\u001b[0;34m\u001b[0m\u001b[0m\n\u001b[0;32m--> 269\u001b[0;31m         \u001b[0mself\u001b[0m\u001b[0;34m.\u001b[0m\u001b[0m_compute_plot_data\u001b[0m\u001b[0;34m(\u001b[0m\u001b[0;34m)\u001b[0m\u001b[0;34m\u001b[0m\u001b[0;34m\u001b[0m\u001b[0m\n\u001b[0m\u001b[1;32m    270\u001b[0m         \u001b[0mself\u001b[0m\u001b[0;34m.\u001b[0m\u001b[0m_setup_subplots\u001b[0m\u001b[0;34m(\u001b[0m\u001b[0;34m)\u001b[0m\u001b[0;34m\u001b[0m\u001b[0;34m\u001b[0m\u001b[0m\n\u001b[1;32m    271\u001b[0m         \u001b[0mself\u001b[0m\u001b[0;34m.\u001b[0m\u001b[0m_make_plot\u001b[0m\u001b[0;34m(\u001b[0m\u001b[0;34m)\u001b[0m\u001b[0;34m\u001b[0m\u001b[0;34m\u001b[0m\u001b[0m\n",
      "\u001b[0;32m~/opt/anaconda3/lib/python3.8/site-packages/pandas/plotting/_matplotlib/core.py\u001b[0m in \u001b[0;36m_compute_plot_data\u001b[0;34m(self)\u001b[0m\n\u001b[1;32m    416\u001b[0m         \u001b[0;31m# no non-numeric frames or series allowed\u001b[0m\u001b[0;34m\u001b[0m\u001b[0;34m\u001b[0m\u001b[0;34m\u001b[0m\u001b[0m\n\u001b[1;32m    417\u001b[0m         \u001b[0;32mif\u001b[0m \u001b[0mis_empty\u001b[0m\u001b[0;34m:\u001b[0m\u001b[0;34m\u001b[0m\u001b[0;34m\u001b[0m\u001b[0m\n\u001b[0;32m--> 418\u001b[0;31m             \u001b[0;32mraise\u001b[0m \u001b[0mTypeError\u001b[0m\u001b[0;34m(\u001b[0m\u001b[0;34m\"no numeric data to plot\"\u001b[0m\u001b[0;34m)\u001b[0m\u001b[0;34m\u001b[0m\u001b[0;34m\u001b[0m\u001b[0m\n\u001b[0m\u001b[1;32m    419\u001b[0m \u001b[0;34m\u001b[0m\u001b[0m\n\u001b[1;32m    420\u001b[0m         \u001b[0;31m# GH25587: cast ExtensionArray of pandas (IntegerArray, etc.) to\u001b[0m\u001b[0;34m\u001b[0m\u001b[0;34m\u001b[0m\u001b[0;34m\u001b[0m\u001b[0m\n",
      "\u001b[0;31mTypeError\u001b[0m: no numeric data to plot"
     ]
    }
   ],
   "source": []
  },
  {
   "cell_type": "code",
   "execution_count": null,
   "metadata": {},
   "outputs": [],
   "source": []
  }
 ],
 "metadata": {
  "kernelspec": {
   "display_name": "Python 3",
   "language": "python",
   "name": "python3"
  },
  "language_info": {
   "codemirror_mode": {
    "name": "ipython",
    "version": 3
   },
   "file_extension": ".py",
   "mimetype": "text/x-python",
   "name": "python",
   "nbconvert_exporter": "python",
   "pygments_lexer": "ipython3",
   "version": "3.8.5"
  }
 },
 "nbformat": 4,
 "nbformat_minor": 4
}
