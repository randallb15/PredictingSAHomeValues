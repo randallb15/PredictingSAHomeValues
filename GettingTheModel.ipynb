{
 "cells": [
  {
   "cell_type": "markdown",
   "metadata": {},
   "source": [
    "# Getting a Model"
   ]
  },
  {
   "cell_type": "markdown",
   "metadata": {},
   "source": [
    "Interesting Observations About Dataset\n",
    "- May be imbalanced data - what percent of houses are sold within 60 days?\n",
    "- Time series data - there are definitely times of the year where the market is hotter than other times"
   ]
  },
  {
   "cell_type": "markdown",
   "metadata": {},
   "source": [
    "### Imports"
   ]
  },
  {
   "cell_type": "code",
   "execution_count": 2,
   "metadata": {},
   "outputs": [],
   "source": [
    "%run src/imports.py\n",
    "from src.helpers import calculate_five_percent, calculate_ten_percent, calculate_twenty_percent"
   ]
  },
  {
   "cell_type": "markdown",
   "metadata": {},
   "source": [
    "Set image size"
   ]
  },
  {
   "cell_type": "code",
   "execution_count": 3,
   "metadata": {},
   "outputs": [],
   "source": [
    "sns.set(rc={'figure.figsize':(16,4)})"
   ]
  },
  {
   "cell_type": "markdown",
   "metadata": {},
   "source": [
    "**Read in Data**"
   ]
  },
  {
   "cell_type": "code",
   "execution_count": 4,
   "metadata": {},
   "outputs": [],
   "source": [
    "neighborhoods_cleaned = pd.read_pickle('data/neighborhoods_cleaned.pkl')"
   ]
  },
  {
   "cell_type": "code",
   "execution_count": 5,
   "metadata": {},
   "outputs": [],
   "source": [
    "neighborhoods_cleaned.reset_index(inplace=True)\n",
    "neighborhoods_cleaned.drop('index',axis=1,inplace=True)"
   ]
  },
  {
   "cell_type": "code",
   "execution_count": 6,
   "metadata": {},
   "outputs": [
    {
     "data": {
      "text/html": [
       "<div>\n",
       "<style scoped>\n",
       "    .dataframe tbody tr th:only-of-type {\n",
       "        vertical-align: middle;\n",
       "    }\n",
       "\n",
       "    .dataframe tbody tr th {\n",
       "        vertical-align: top;\n",
       "    }\n",
       "\n",
       "    .dataframe thead th {\n",
       "        text-align: right;\n",
       "    }\n",
       "</style>\n",
       "<table border=\"1\" class=\"dataframe\">\n",
       "  <thead>\n",
       "    <tr style=\"text-align: right;\">\n",
       "      <th></th>\n",
       "      <th>SOLD DATE</th>\n",
       "      <th>ZIP OR POSTAL CODE</th>\n",
       "      <th>PRICE</th>\n",
       "      <th>LOCATION</th>\n",
       "      <th>SQUARE FEET</th>\n",
       "      <th>LOT SIZE</th>\n",
       "      <th>YEAR BUILT</th>\n",
       "      <th>HOA/MONTH</th>\n",
       "      <th>LATITUDE</th>\n",
       "      <th>LONGITUDE</th>\n",
       "      <th>ROOMS</th>\n",
       "    </tr>\n",
       "  </thead>\n",
       "  <tbody>\n",
       "    <tr>\n",
       "      <th>0</th>\n",
       "      <td>September-25-2020</td>\n",
       "      <td>78257</td>\n",
       "      <td>345000</td>\n",
       "      <td>The Dominion</td>\n",
       "      <td>1989.0</td>\n",
       "      <td>5662.0</td>\n",
       "      <td>2005.0</td>\n",
       "      <td>230.0</td>\n",
       "      <td>29.647801</td>\n",
       "      <td>-98.614186</td>\n",
       "      <td>4.0</td>\n",
       "    </tr>\n",
       "    <tr>\n",
       "      <th>1</th>\n",
       "      <td>June-11-2020</td>\n",
       "      <td>78256</td>\n",
       "      <td>337500</td>\n",
       "      <td>Stonewall Ranch</td>\n",
       "      <td>2166.0</td>\n",
       "      <td>9583.0</td>\n",
       "      <td>2004.0</td>\n",
       "      <td>54.0</td>\n",
       "      <td>29.650304</td>\n",
       "      <td>-98.629082</td>\n",
       "      <td>6.0</td>\n",
       "    </tr>\n",
       "    <tr>\n",
       "      <th>2</th>\n",
       "      <td>March-11-2021</td>\n",
       "      <td>78256</td>\n",
       "      <td>375500</td>\n",
       "      <td>Stonewall Ranch</td>\n",
       "      <td>2969.0</td>\n",
       "      <td>6605.0</td>\n",
       "      <td>2004.0</td>\n",
       "      <td>54.0</td>\n",
       "      <td>29.651842</td>\n",
       "      <td>-98.630650</td>\n",
       "      <td>6.5</td>\n",
       "    </tr>\n",
       "    <tr>\n",
       "      <th>3</th>\n",
       "      <td>October-31-2018</td>\n",
       "      <td>78255</td>\n",
       "      <td>462000</td>\n",
       "      <td>The Ridge @ Sonoma Verde</td>\n",
       "      <td>2716.0</td>\n",
       "      <td>9147.0</td>\n",
       "      <td>2014.0</td>\n",
       "      <td>95.0</td>\n",
       "      <td>29.617650</td>\n",
       "      <td>-98.643430</td>\n",
       "      <td>7.0</td>\n",
       "    </tr>\n",
       "    <tr>\n",
       "      <th>4</th>\n",
       "      <td>February-26-2021</td>\n",
       "      <td>78256</td>\n",
       "      <td>624000</td>\n",
       "      <td>Crownridge</td>\n",
       "      <td>3012.0</td>\n",
       "      <td>75794.0</td>\n",
       "      <td>2000.0</td>\n",
       "      <td>25.0</td>\n",
       "      <td>29.620646</td>\n",
       "      <td>-98.622295</td>\n",
       "      <td>5.5</td>\n",
       "    </tr>\n",
       "  </tbody>\n",
       "</table>\n",
       "</div>"
      ],
      "text/plain": [
       "           SOLD DATE  ZIP OR POSTAL CODE   PRICE                  LOCATION  \\\n",
       "0  September-25-2020               78257  345000              The Dominion   \n",
       "1       June-11-2020               78256  337500           Stonewall Ranch   \n",
       "2      March-11-2021               78256  375500           Stonewall Ranch   \n",
       "3    October-31-2018               78255  462000  The Ridge @ Sonoma Verde   \n",
       "4   February-26-2021               78256  624000                Crownridge   \n",
       "\n",
       "   SQUARE FEET  LOT SIZE  YEAR BUILT  HOA/MONTH   LATITUDE  LONGITUDE  ROOMS  \n",
       "0       1989.0    5662.0      2005.0      230.0  29.647801 -98.614186    4.0  \n",
       "1       2166.0    9583.0      2004.0       54.0  29.650304 -98.629082    6.0  \n",
       "2       2969.0    6605.0      2004.0       54.0  29.651842 -98.630650    6.5  \n",
       "3       2716.0    9147.0      2014.0       95.0  29.617650 -98.643430    7.0  \n",
       "4       3012.0   75794.0      2000.0       25.0  29.620646 -98.622295    5.5  "
      ]
     },
     "execution_count": 6,
     "metadata": {},
     "output_type": "execute_result"
    }
   ],
   "source": [
    "neighborhoods_cleaned.head()"
   ]
  },
  {
   "cell_type": "markdown",
   "metadata": {},
   "source": [
    "More data cleaning\n",
    "- change sold date to month and year\n",
    "- fill incomplete HOA's with zeros\n",
    "- drop any lines with incomplete information"
   ]
  },
  {
   "cell_type": "code",
   "execution_count": 7,
   "metadata": {},
   "outputs": [],
   "source": [
    "neighborhoods_cleaned['SOLD DATE'] = pd.to_datetime(neighborhoods_cleaned['SOLD DATE'])\n",
    "neighborhoods_cleaned['MONTH'] = pd.DatetimeIndex(neighborhoods_cleaned['SOLD DATE']).month\n",
    "neighborhoods_cleaned['YEAR'] = pd.DatetimeIndex(neighborhoods_cleaned['SOLD DATE']).year\n",
    "neighborhoods_cleaned.drop(['SOLD DATE'],axis=1,inplace=True)\n",
    "neighborhoods_cleaned['HOA/MONTH'].fillna(value=0,inplace=True)\n",
    "neighborhoods_cleaned.dropna(inplace=True)"
   ]
  },
  {
   "cell_type": "markdown",
   "metadata": {},
   "source": [
    "Create dataframe for flask app"
   ]
  },
  {
   "cell_type": "code",
   "execution_count": 8,
   "metadata": {},
   "outputs": [],
   "source": [
    "nflask_df = neighborhoods_cleaned.drop('LOCATION',axis=1)"
   ]
  },
  {
   "cell_type": "markdown",
   "metadata": {},
   "source": [
    "Create dummie variables for neighborhoods"
   ]
  },
  {
   "cell_type": "code",
   "execution_count": 9,
   "metadata": {},
   "outputs": [
    {
     "data": {
      "text/html": [
       "<div>\n",
       "<style scoped>\n",
       "    .dataframe tbody tr th:only-of-type {\n",
       "        vertical-align: middle;\n",
       "    }\n",
       "\n",
       "    .dataframe tbody tr th {\n",
       "        vertical-align: top;\n",
       "    }\n",
       "\n",
       "    .dataframe thead th {\n",
       "        text-align: right;\n",
       "    }\n",
       "</style>\n",
       "<table border=\"1\" class=\"dataframe\">\n",
       "  <thead>\n",
       "    <tr style=\"text-align: right;\">\n",
       "      <th></th>\n",
       "      <th>Alamo Heights</th>\n",
       "      <th>Alamo Ranch</th>\n",
       "      <th>Alta Vista</th>\n",
       "      <th>Amhurst</th>\n",
       "      <th>Apple Creek</th>\n",
       "      <th>Arbor At Sonoma Ranch</th>\n",
       "      <th>Arcadia Ridge</th>\n",
       "      <th>Asher Place</th>\n",
       "      <th>Auburn Hills At Woodcrest</th>\n",
       "      <th>Autumn Run</th>\n",
       "      <th>...</th>\n",
       "      <th>Wildhorse</th>\n",
       "      <th>Wildhorse At Tausch Farms</th>\n",
       "      <th>Willow Grove Sub (sc)</th>\n",
       "      <th>Wilshire Terrace</th>\n",
       "      <th>Wilshire Village</th>\n",
       "      <th>Windcrest</th>\n",
       "      <th>Wolf Creek</th>\n",
       "      <th>Woodcrest</th>\n",
       "      <th>Woodlake</th>\n",
       "      <th>Woods Of Shavano</th>\n",
       "    </tr>\n",
       "  </thead>\n",
       "  <tbody>\n",
       "    <tr>\n",
       "      <th>0</th>\n",
       "      <td>0</td>\n",
       "      <td>0</td>\n",
       "      <td>0</td>\n",
       "      <td>0</td>\n",
       "      <td>0</td>\n",
       "      <td>0</td>\n",
       "      <td>0</td>\n",
       "      <td>0</td>\n",
       "      <td>0</td>\n",
       "      <td>0</td>\n",
       "      <td>...</td>\n",
       "      <td>0</td>\n",
       "      <td>0</td>\n",
       "      <td>0</td>\n",
       "      <td>0</td>\n",
       "      <td>0</td>\n",
       "      <td>0</td>\n",
       "      <td>0</td>\n",
       "      <td>0</td>\n",
       "      <td>0</td>\n",
       "      <td>0</td>\n",
       "    </tr>\n",
       "    <tr>\n",
       "      <th>1</th>\n",
       "      <td>0</td>\n",
       "      <td>0</td>\n",
       "      <td>0</td>\n",
       "      <td>0</td>\n",
       "      <td>0</td>\n",
       "      <td>0</td>\n",
       "      <td>0</td>\n",
       "      <td>0</td>\n",
       "      <td>0</td>\n",
       "      <td>0</td>\n",
       "      <td>...</td>\n",
       "      <td>0</td>\n",
       "      <td>0</td>\n",
       "      <td>0</td>\n",
       "      <td>0</td>\n",
       "      <td>0</td>\n",
       "      <td>0</td>\n",
       "      <td>0</td>\n",
       "      <td>0</td>\n",
       "      <td>0</td>\n",
       "      <td>0</td>\n",
       "    </tr>\n",
       "    <tr>\n",
       "      <th>2</th>\n",
       "      <td>0</td>\n",
       "      <td>0</td>\n",
       "      <td>0</td>\n",
       "      <td>0</td>\n",
       "      <td>0</td>\n",
       "      <td>0</td>\n",
       "      <td>0</td>\n",
       "      <td>0</td>\n",
       "      <td>0</td>\n",
       "      <td>0</td>\n",
       "      <td>...</td>\n",
       "      <td>0</td>\n",
       "      <td>0</td>\n",
       "      <td>0</td>\n",
       "      <td>0</td>\n",
       "      <td>0</td>\n",
       "      <td>0</td>\n",
       "      <td>0</td>\n",
       "      <td>0</td>\n",
       "      <td>0</td>\n",
       "      <td>0</td>\n",
       "    </tr>\n",
       "    <tr>\n",
       "      <th>3</th>\n",
       "      <td>0</td>\n",
       "      <td>0</td>\n",
       "      <td>0</td>\n",
       "      <td>0</td>\n",
       "      <td>0</td>\n",
       "      <td>0</td>\n",
       "      <td>0</td>\n",
       "      <td>0</td>\n",
       "      <td>0</td>\n",
       "      <td>0</td>\n",
       "      <td>...</td>\n",
       "      <td>0</td>\n",
       "      <td>0</td>\n",
       "      <td>0</td>\n",
       "      <td>0</td>\n",
       "      <td>0</td>\n",
       "      <td>0</td>\n",
       "      <td>0</td>\n",
       "      <td>0</td>\n",
       "      <td>0</td>\n",
       "      <td>0</td>\n",
       "    </tr>\n",
       "    <tr>\n",
       "      <th>4</th>\n",
       "      <td>0</td>\n",
       "      <td>0</td>\n",
       "      <td>0</td>\n",
       "      <td>0</td>\n",
       "      <td>0</td>\n",
       "      <td>0</td>\n",
       "      <td>0</td>\n",
       "      <td>0</td>\n",
       "      <td>0</td>\n",
       "      <td>0</td>\n",
       "      <td>...</td>\n",
       "      <td>0</td>\n",
       "      <td>0</td>\n",
       "      <td>0</td>\n",
       "      <td>0</td>\n",
       "      <td>0</td>\n",
       "      <td>0</td>\n",
       "      <td>0</td>\n",
       "      <td>0</td>\n",
       "      <td>0</td>\n",
       "      <td>0</td>\n",
       "    </tr>\n",
       "    <tr>\n",
       "      <th>...</th>\n",
       "      <td>...</td>\n",
       "      <td>...</td>\n",
       "      <td>...</td>\n",
       "      <td>...</td>\n",
       "      <td>...</td>\n",
       "      <td>...</td>\n",
       "      <td>...</td>\n",
       "      <td>...</td>\n",
       "      <td>...</td>\n",
       "      <td>...</td>\n",
       "      <td>...</td>\n",
       "      <td>...</td>\n",
       "      <td>...</td>\n",
       "      <td>...</td>\n",
       "      <td>...</td>\n",
       "      <td>...</td>\n",
       "      <td>...</td>\n",
       "      <td>...</td>\n",
       "      <td>...</td>\n",
       "      <td>...</td>\n",
       "      <td>...</td>\n",
       "    </tr>\n",
       "    <tr>\n",
       "      <th>20007</th>\n",
       "      <td>0</td>\n",
       "      <td>0</td>\n",
       "      <td>0</td>\n",
       "      <td>0</td>\n",
       "      <td>0</td>\n",
       "      <td>0</td>\n",
       "      <td>0</td>\n",
       "      <td>0</td>\n",
       "      <td>0</td>\n",
       "      <td>0</td>\n",
       "      <td>...</td>\n",
       "      <td>0</td>\n",
       "      <td>0</td>\n",
       "      <td>0</td>\n",
       "      <td>0</td>\n",
       "      <td>0</td>\n",
       "      <td>0</td>\n",
       "      <td>0</td>\n",
       "      <td>0</td>\n",
       "      <td>0</td>\n",
       "      <td>0</td>\n",
       "    </tr>\n",
       "    <tr>\n",
       "      <th>20008</th>\n",
       "      <td>0</td>\n",
       "      <td>0</td>\n",
       "      <td>0</td>\n",
       "      <td>0</td>\n",
       "      <td>0</td>\n",
       "      <td>0</td>\n",
       "      <td>0</td>\n",
       "      <td>0</td>\n",
       "      <td>0</td>\n",
       "      <td>0</td>\n",
       "      <td>...</td>\n",
       "      <td>0</td>\n",
       "      <td>0</td>\n",
       "      <td>0</td>\n",
       "      <td>0</td>\n",
       "      <td>0</td>\n",
       "      <td>0</td>\n",
       "      <td>0</td>\n",
       "      <td>0</td>\n",
       "      <td>0</td>\n",
       "      <td>0</td>\n",
       "    </tr>\n",
       "    <tr>\n",
       "      <th>20009</th>\n",
       "      <td>0</td>\n",
       "      <td>0</td>\n",
       "      <td>0</td>\n",
       "      <td>0</td>\n",
       "      <td>0</td>\n",
       "      <td>0</td>\n",
       "      <td>0</td>\n",
       "      <td>0</td>\n",
       "      <td>0</td>\n",
       "      <td>0</td>\n",
       "      <td>...</td>\n",
       "      <td>0</td>\n",
       "      <td>0</td>\n",
       "      <td>0</td>\n",
       "      <td>0</td>\n",
       "      <td>0</td>\n",
       "      <td>0</td>\n",
       "      <td>0</td>\n",
       "      <td>0</td>\n",
       "      <td>0</td>\n",
       "      <td>0</td>\n",
       "    </tr>\n",
       "    <tr>\n",
       "      <th>20010</th>\n",
       "      <td>0</td>\n",
       "      <td>0</td>\n",
       "      <td>0</td>\n",
       "      <td>0</td>\n",
       "      <td>0</td>\n",
       "      <td>0</td>\n",
       "      <td>0</td>\n",
       "      <td>0</td>\n",
       "      <td>0</td>\n",
       "      <td>0</td>\n",
       "      <td>...</td>\n",
       "      <td>0</td>\n",
       "      <td>0</td>\n",
       "      <td>0</td>\n",
       "      <td>0</td>\n",
       "      <td>0</td>\n",
       "      <td>0</td>\n",
       "      <td>0</td>\n",
       "      <td>0</td>\n",
       "      <td>0</td>\n",
       "      <td>0</td>\n",
       "    </tr>\n",
       "    <tr>\n",
       "      <th>20011</th>\n",
       "      <td>0</td>\n",
       "      <td>0</td>\n",
       "      <td>0</td>\n",
       "      <td>0</td>\n",
       "      <td>0</td>\n",
       "      <td>0</td>\n",
       "      <td>0</td>\n",
       "      <td>0</td>\n",
       "      <td>0</td>\n",
       "      <td>0</td>\n",
       "      <td>...</td>\n",
       "      <td>0</td>\n",
       "      <td>0</td>\n",
       "      <td>0</td>\n",
       "      <td>0</td>\n",
       "      <td>0</td>\n",
       "      <td>0</td>\n",
       "      <td>0</td>\n",
       "      <td>0</td>\n",
       "      <td>0</td>\n",
       "      <td>0</td>\n",
       "    </tr>\n",
       "  </tbody>\n",
       "</table>\n",
       "<p>19812 rows × 175 columns</p>\n",
       "</div>"
      ],
      "text/plain": [
       "       Alamo Heights  Alamo Ranch  Alta Vista  Amhurst  Apple Creek  \\\n",
       "0                  0            0           0        0            0   \n",
       "1                  0            0           0        0            0   \n",
       "2                  0            0           0        0            0   \n",
       "3                  0            0           0        0            0   \n",
       "4                  0            0           0        0            0   \n",
       "...              ...          ...         ...      ...          ...   \n",
       "20007              0            0           0        0            0   \n",
       "20008              0            0           0        0            0   \n",
       "20009              0            0           0        0            0   \n",
       "20010              0            0           0        0            0   \n",
       "20011              0            0           0        0            0   \n",
       "\n",
       "       Arbor At Sonoma Ranch  Arcadia Ridge  Asher Place  \\\n",
       "0                          0              0            0   \n",
       "1                          0              0            0   \n",
       "2                          0              0            0   \n",
       "3                          0              0            0   \n",
       "4                          0              0            0   \n",
       "...                      ...            ...          ...   \n",
       "20007                      0              0            0   \n",
       "20008                      0              0            0   \n",
       "20009                      0              0            0   \n",
       "20010                      0              0            0   \n",
       "20011                      0              0            0   \n",
       "\n",
       "       Auburn Hills At Woodcrest  Autumn Run  ...  Wildhorse  \\\n",
       "0                              0           0  ...          0   \n",
       "1                              0           0  ...          0   \n",
       "2                              0           0  ...          0   \n",
       "3                              0           0  ...          0   \n",
       "4                              0           0  ...          0   \n",
       "...                          ...         ...  ...        ...   \n",
       "20007                          0           0  ...          0   \n",
       "20008                          0           0  ...          0   \n",
       "20009                          0           0  ...          0   \n",
       "20010                          0           0  ...          0   \n",
       "20011                          0           0  ...          0   \n",
       "\n",
       "       Wildhorse At Tausch Farms  Willow Grove Sub (sc)  Wilshire Terrace  \\\n",
       "0                              0                      0                 0   \n",
       "1                              0                      0                 0   \n",
       "2                              0                      0                 0   \n",
       "3                              0                      0                 0   \n",
       "4                              0                      0                 0   \n",
       "...                          ...                    ...               ...   \n",
       "20007                          0                      0                 0   \n",
       "20008                          0                      0                 0   \n",
       "20009                          0                      0                 0   \n",
       "20010                          0                      0                 0   \n",
       "20011                          0                      0                 0   \n",
       "\n",
       "       Wilshire Village  Windcrest  Wolf Creek  Woodcrest  Woodlake  \\\n",
       "0                     0          0           0          0         0   \n",
       "1                     0          0           0          0         0   \n",
       "2                     0          0           0          0         0   \n",
       "3                     0          0           0          0         0   \n",
       "4                     0          0           0          0         0   \n",
       "...                 ...        ...         ...        ...       ...   \n",
       "20007                 0          0           0          0         0   \n",
       "20008                 0          0           0          0         0   \n",
       "20009                 0          0           0          0         0   \n",
       "20010                 0          0           0          0         0   \n",
       "20011                 0          0           0          0         0   \n",
       "\n",
       "       Woods Of Shavano  \n",
       "0                     0  \n",
       "1                     0  \n",
       "2                     0  \n",
       "3                     0  \n",
       "4                     0  \n",
       "...                 ...  \n",
       "20007                 0  \n",
       "20008                 0  \n",
       "20009                 0  \n",
       "20010                 0  \n",
       "20011                 0  \n",
       "\n",
       "[19812 rows x 175 columns]"
      ]
     },
     "execution_count": 9,
     "metadata": {},
     "output_type": "execute_result"
    }
   ],
   "source": [
    "pd.get_dummies(neighborhoods_cleaned['LOCATION'],drop_first=True)"
   ]
  },
  {
   "cell_type": "markdown",
   "metadata": {},
   "source": [
    "Merging dummies with original dataframe"
   ]
  },
  {
   "cell_type": "code",
   "execution_count": 10,
   "metadata": {},
   "outputs": [],
   "source": [
    "neighborhoods_cleaned = neighborhoods_cleaned.merge(pd.get_dummies(neighborhoods_cleaned['LOCATION'],drop_first=True), how='outer',left_index=True,right_index=True)"
   ]
  },
  {
   "cell_type": "code",
   "execution_count": 11,
   "metadata": {},
   "outputs": [],
   "source": [
    "neighborhoods_cleaned.drop('LOCATION',axis=1,inplace=True)"
   ]
  },
  {
   "cell_type": "markdown",
   "metadata": {},
   "source": [
    "---"
   ]
  },
  {
   "cell_type": "markdown",
   "metadata": {},
   "source": [
    "### Taking price outliers out of dataset"
   ]
  },
  {
   "cell_type": "code",
   "execution_count": 12,
   "metadata": {},
   "outputs": [],
   "source": [
    "lowcost = neighborhoods_cleaned[neighborhoods_cleaned.PRICE < 500000]\n",
    "lowercost = neighborhoods_cleaned[neighborhoods_cleaned.PRICE < 290000]"
   ]
  },
  {
   "cell_type": "code",
   "execution_count": 29,
   "metadata": {},
   "outputs": [],
   "source": [
    "pd.set_option('display.max_columns', None)"
   ]
  },
  {
   "cell_type": "markdown",
   "metadata": {},
   "source": [
    "---"
   ]
  },
  {
   "cell_type": "markdown",
   "metadata": {},
   "source": [
    "Running initial train-test-split"
   ]
  },
  {
   "cell_type": "code",
   "execution_count": 30,
   "metadata": {},
   "outputs": [],
   "source": [
    "y = nflask_df.PRICE.values\n",
    "X = nflask_df.drop('PRICE',axis=1).values\n",
    "X_train_full, X_holdout, y_train_full, y_holdout = train_test_split(X,y, test_size=0.2)\n",
    "X_train, X_test, y_train, y_test = train_test_split(X_train_full,y_train_full, test_size=0.33)"
   ]
  },
  {
   "cell_type": "code",
   "execution_count": 31,
   "metadata": {},
   "outputs": [
    {
     "data": {
      "text/plain": [
       "array([ 7.82560000e+04,  3.01200000e+03,  7.57940000e+04,  2.00000000e+03,\n",
       "        2.50000000e+01,  2.96206464e+01, -9.86222951e+01,  5.50000000e+00,\n",
       "        2.00000000e+00,  2.02100000e+03])"
      ]
     },
     "execution_count": 31,
     "metadata": {},
     "output_type": "execute_result"
    }
   ],
   "source": [
    "X_test[0]"
   ]
  },
  {
   "cell_type": "markdown",
   "metadata": {},
   "source": [
    "## Models"
   ]
  },
  {
   "cell_type": "markdown",
   "metadata": {},
   "source": [
    "Random Forest Regressor Model"
   ]
  },
  {
   "cell_type": "code",
   "execution_count": 32,
   "metadata": {},
   "outputs": [
    {
     "name": "stdout",
     "output_type": "stream",
     "text": [
      "Test score: 0.8807534399383761\n",
      "Holdout score: 0.8555934605318467\n",
      "Test MSE: 3.163439e+09\n",
      "Holdout MSE: 4.234660e+09\n",
      "Test 5%: 44.924488625501816\n",
      "Holdout 5%: 44.76406762553621\n",
      "Test 10%: 67.08086407952591\n",
      "Holdout 10%: 67.65076961897553\n",
      "Test 20%: 85.89179889122539\n",
      "Holdout 10%: 87.13096139288417\n",
      "0.8807534399383761\n"
     ]
    }
   ],
   "source": [
    "rfr = RandomForestRegressor(oob_score=True)\n",
    "rfr.fit(X_train,y_train)\n",
    "y_predict = rfr.predict(X_test)\n",
    "y_holdout_predict = rfr.predict(X_holdout)"
   ]
  },
  {
   "cell_type": "code",
   "execution_count": 37,
   "metadata": {},
   "outputs": [
    {
     "name": "stdout",
     "output_type": "stream",
     "text": [
      "Test R^2 score: 0.8807534399383761\n",
      "Test MSE: 3.163439e+09\n",
      "Test 5%: 44.924488625501816\n",
      "Test 10%: 67.08086407952591\n",
      "Test 20%: 85.89179889122539\n"
     ]
    }
   ],
   "source": [
    "print(\"Test R^2 score:\", rfr.score(X_test, y_test))\n",
    "print('Test MSE: {:2e}'.format(mean_squared_error(y_test, y_predict)))\n",
    "print(\"Test 5%:\",calculate_five_percent(y_predict,y_test))\n",
    "print(\"Test 10%:\",calculate_ten_percent(y_predict,y_test))\n",
    "print(\"Test 20%:\",calculate_twenty_percent(y_predict,y_test))\n",
    "#print(\"Test R^2 score:\",r2_score(y_test,y_predict))"
   ]
  },
  {
   "cell_type": "code",
   "execution_count": 36,
   "metadata": {},
   "outputs": [
    {
     "name": "stdout",
     "output_type": "stream",
     "text": [
      "Holdout R^2 score: 0.8555934605318467\n",
      "Holdout MSE: 4.234660e+09\n",
      "Holdout 5%: 44.76406762553621\n",
      "Holdout 10%: 67.65076961897553\n",
      "Holdout 20%: 87.13096139288417\n"
     ]
    }
   ],
   "source": [
    "print(\"Holdout R^2 score:\", rfr.score(X_holdout, y_holdout))\n",
    "print('Holdout MSE: {:2e}'.format(mean_squared_error(y_holdout, y_holdout_predict)))\n",
    "print(\"Holdout 5%:\",calculate_five_percent(y_holdout_predict,y_holdout))\n",
    "print(\"Holdout 10%:\",calculate_ten_percent(y_holdout_predict,y_holdout))\n",
    "print(\"Holdout 20%:\",calculate_twenty_percent(y_holdout_predict,y_holdout))"
   ]
  },
  {
   "cell_type": "code",
   "execution_count": 22,
   "metadata": {},
   "outputs": [],
   "source": [
    "# pickle the model\n",
    "with open('data/model_rfr_full.pkl', 'wb') as f:\n",
    "    pickle.dump(rfr, f)"
   ]
  },
  {
   "cell_type": "markdown",
   "metadata": {},
   "source": [
    "Random Forest Regressor Model using standard scaler, pipeline and gridsearchCV"
   ]
  },
  {
   "cell_type": "code",
   "execution_count": 38,
   "metadata": {},
   "outputs": [],
   "source": [
    "X = nflask_df.drop('PRICE',axis=1).values\n",
    "y = nflask_df.PRICE.values\n",
    "X_train, X_test, y_train, y_test = train_test_split(X,y, test_size=0.2)"
   ]
  },
  {
   "cell_type": "code",
   "execution_count": 45,
   "metadata": {},
   "outputs": [],
   "source": [
    "kf = KFold()\n",
    "rfr_pipe = Pipeline([('scaler', StandardScaler()), ('regressor', RandomForestRegressor())])\n",
    "rfr_grid_params = {'regressor__n_estimators': np.arange(50,250,50),\n",
    "                  'regressor__max_depth': np.arange(1,21,5)}\n",
    "rfr_grid = GridSearchCV(rfr_pipe, rfr_grid_params, cv=kf, scoring = 'neg_mean_squared_error')\n",
    "rfr_grid.fit(X_train, y_train)\n",
    "y_predict = rfr_grid.predict(X_test)"
   ]
  },
  {
   "cell_type": "code",
   "execution_count": 46,
   "metadata": {},
   "outputs": [
    {
     "name": "stdout",
     "output_type": "stream",
     "text": [
      "rfr_pipe Negative MSE: 2.11e+09\n",
      "Within 5% 48.120111026999744\n",
      "Within 10% 70.24981074943226\n",
      "Within 20% 89.02346707040121\n",
      "R^2 score 0.9149577273396444\n"
     ]
    }
   ],
   "source": [
    "print(\"rfr_pipe Negative MSE: {:.2e}\".format(-1 * rfr_grid.score(X_test, y_test)))\n",
    "print(\"Within 5%\", calculate_five_percent(y_predict,y_test))\n",
    "print(\"Within 10%\", calculate_ten_percent(y_predict,y_test))\n",
    "print(\"Within 20%\", calculate_twenty_percent(y_predict,y_test))\n",
    "print(\"R^2 score\", r2_score(y_test,y_predict))"
   ]
  },
  {
   "cell_type": "code",
   "execution_count": 47,
   "metadata": {},
   "outputs": [
    {
     "data": {
      "text/plain": [
       "{'regressor__max_depth': 16, 'regressor__n_estimators': 200}"
      ]
     },
     "execution_count": 47,
     "metadata": {},
     "output_type": "execute_result"
    }
   ],
   "source": [
    "rfr_grid.best_params_"
   ]
  },
  {
   "cell_type": "markdown",
   "metadata": {},
   "source": [
    "-----"
   ]
  },
  {
   "cell_type": "markdown",
   "metadata": {},
   "source": [
    "Taking just three features of dataset"
   ]
  },
  {
   "cell_type": "code",
   "execution_count": 48,
   "metadata": {},
   "outputs": [],
   "source": [
    "threefeatures = neighborhoods_cleaned.drop(['ZIP OR POSTAL CODE','LATITUDE','LONGITUDE','HOA/MONTH','ROOMS','LOT SIZE','MONTH','YEAR'],axis=1)"
   ]
  },
  {
   "cell_type": "markdown",
   "metadata": {},
   "source": [
    "Running train-test-split on three features"
   ]
  },
  {
   "cell_type": "code",
   "execution_count": 49,
   "metadata": {},
   "outputs": [],
   "source": [
    "X = threefeatures.drop('PRICE',axis=1).values\n",
    "y = threefeatures.PRICE.values\n",
    "X_train_full, X_holdout, y_train_full, y_holdout = train_test_split(X,y, test_size=0.2)\n",
    "X_train, X_test, y_train, y_test = train_test_split(X_train_full,y_train_full, test_size=0.33)"
   ]
  },
  {
   "cell_type": "markdown",
   "metadata": {},
   "source": [
    "Regressor model with three features"
   ]
  },
  {
   "cell_type": "code",
   "execution_count": 50,
   "metadata": {},
   "outputs": [],
   "source": [
    "rfr = RandomForestRegressor(oob_score=True)\n",
    "rfr.fit(X_train,y_train)\n",
    "y_predict = rfr.predict(X_test)\n",
    "y_holdout_predict = rfr.predict(X_holdout)"
   ]
  },
  {
   "cell_type": "code",
   "execution_count": 51,
   "metadata": {},
   "outputs": [
    {
     "name": "stdout",
     "output_type": "stream",
     "text": [
      "Test R^2 score: 0.8134425950981895\n",
      "Test MSE: 5.028869e+09\n",
      "Test 5%: 39.915886063850124\n",
      "Test 10%: 62.81781686102084\n",
      "Test 20%: 83.5021984324221\n"
     ]
    }
   ],
   "source": [
    "print(\"Test R^2 score:\", rfr.score(X_test, y_test))\n",
    "print('Test MSE: {:2e}'.format(mean_squared_error(y_test, y_predict)))\n",
    "print(\"Test 5%:\",calculate_five_percent(y_predict,y_test))\n",
    "print(\"Test 10%:\",calculate_ten_percent(y_predict,y_test))\n",
    "print(\"Test 20%:\",calculate_twenty_percent(y_predict,y_test))\n",
    "#print(\"Test R^2 score:\",r2_score(y_test,y_predict))"
   ]
  },
  {
   "cell_type": "code",
   "execution_count": 52,
   "metadata": {},
   "outputs": [
    {
     "name": "stdout",
     "output_type": "stream",
     "text": [
      "Holdout R^2 score: 0.7990484909889661\n",
      "Holdout MSE: 5.977014e+09\n",
      "Holdout 5%: 39.7930860459248\n",
      "Holdout 10%: 61.140550088316935\n",
      "Holdout 20%: 82.28614685844057\n"
     ]
    }
   ],
   "source": [
    "print(\"Holdout R^2 score:\", rfr.score(X_holdout, y_holdout))\n",
    "print('Holdout MSE: {:2e}'.format(mean_squared_error(y_holdout, y_holdout_predict)))\n",
    "print(\"Holdout 5%:\",calculate_five_percent(y_holdout_predict,y_holdout))\n",
    "print(\"Holdout 10%:\",calculate_ten_percent(y_holdout_predict,y_holdout))\n",
    "print(\"Holdout 20%:\",calculate_twenty_percent(y_holdout_predict,y_holdout))"
   ]
  },
  {
   "cell_type": "code",
   "execution_count": 53,
   "metadata": {},
   "outputs": [],
   "source": [
    "X = threefeatures.drop('PRICE',axis=1).values\n",
    "y = threefeatures.PRICE.values\n",
    "X_train, X_test, y_train, y_test = train_test_split(X,y, test_size=0.2)"
   ]
  },
  {
   "cell_type": "code",
   "execution_count": null,
   "metadata": {},
   "outputs": [],
   "source": [
    "kf = KFold()\n",
    "rfr_pipe = Pipeline([('scaler', StandardScaler()), ('regressor', RandomForestRegressor(warm_start=True))])\n",
    "rfr_grid_params = {'regressor__n_estimators': np.arange(50,250,10),\n",
    "                  'regressor__max_depth': np.arange(1,21,3)}\n",
    "rfr_grid = GridSearchCV(rfr_pipe, rfr_grid_params, cv=kf, scoring = 'neg_mean_squared_error')\n",
    "rfr_grid.fit(X_train, y_train)\n",
    "y_predict = rfr_grid.predict(X_test)"
   ]
  },
  {
   "cell_type": "code",
   "execution_count": null,
   "metadata": {},
   "outputs": [],
   "source": [
    "print(\"rfr MSE: {:.2e}\".format(-1 * rfr_grid.score(X_test, y_test)))\n",
    "print('MSE: {:2e}'.format(mean_squared_error(y_test, y_predict)))\n",
    "print(\"Within 5%\", calculate_five_percent(y_predict,y_test))\n",
    "print(\"Within 10%\", calculate_ten_percent(y_predict,y_test))\n",
    "print(\"Within 20%\", calculate_twenty_percent(y_predict,y_test))\n",
    "print(\"R^2 score\", r2_score(y_test,y_predict))"
   ]
  },
  {
   "cell_type": "markdown",
   "metadata": {},
   "source": [
    "----"
   ]
  },
  {
   "cell_type": "markdown",
   "metadata": {},
   "source": [
    "Pulling only 5 most correlated features"
   ]
  },
  {
   "cell_type": "code",
   "execution_count": null,
   "metadata": {},
   "outputs": [],
   "source": [
    "fivefeatures = neighborhoods_cleaned.drop(['ZIP OR POSTAL CODE','LATITUDE','LONGITUDE','HOA/MONTH','ROOMS','LOT SIZE'],axis=1)"
   ]
  },
  {
   "cell_type": "code",
   "execution_count": 46,
   "metadata": {},
   "outputs": [],
   "source": [
    "X = fivefeatures.drop('PRICE',axis=1).values\n",
    "y = fivefeatures.PRICE.values\n",
    "X_train, X_test, y_train, y_test = train_test_split(X,y)"
   ]
  },
  {
   "cell_type": "code",
   "execution_count": 47,
   "metadata": {},
   "outputs": [
    {
     "name": "stdout",
     "output_type": "stream",
     "text": [
      "score: 0.8569788933330466\n",
      "MSE: 3.212512e+09\n",
      "44.33676559660812\n",
      "66.48495861094287\n",
      "85.1201292146174\n",
      "0.8569788933330466\n"
     ]
    }
   ],
   "source": [
    "rfr = RandomForestRegressor(oob_score=True)\n",
    "rfr.fit(X_train,y_train)\n",
    "y_predict = rfr.predict(X_test)\n",
    "print(\"score:\", rfr.score(X_test, y_test))\n",
    "print('MSE: {:2e}'.format(mean_squared_error(y_test, y_predict)))\n",
    "print(calculate_five_percent(y_predict,y_test))\n",
    "print(calculate_ten_percent(y_predict,y_test))\n",
    "print(calculate_twenty_percent(y_predict,y_test))\n",
    "print(r2_score(y_test,y_predict))"
   ]
  },
  {
   "cell_type": "code",
   "execution_count": null,
   "metadata": {},
   "outputs": [],
   "source": [
    "seven = neighborhoods_cleaned.drop(['ZIP OR POSTAL CODE','LATITUDE','LONGITUDE','HOA/MONTH'],axis=1)"
   ]
  },
  {
   "cell_type": "code",
   "execution_count": 50,
   "metadata": {},
   "outputs": [
    {
     "name": "stdout",
     "output_type": "stream",
     "text": [
      "score: 0.8724925813308787\n",
      "MSE: 2.884614e+09\n",
      "45.124167171411266\n",
      "66.76761558651323\n",
      "85.76620230163537\n",
      "0.8724925813308787\n"
     ]
    }
   ],
   "source": [
    "X = seven.drop('PRICE',axis=1).values\n",
    "y = seven.PRICE.values\n",
    "X_train, X_test, y_train, y_test = train_test_split(X,y)\n",
    "rfr = RandomForestRegressor(oob_score=True)\n",
    "rfr.fit(X_train,y_train)\n",
    "y_predict = rfr.predict(X_test)\n",
    "print(\"score:\", rfr.score(X_test, y_test))\n",
    "print('MSE: {:2e}'.format(mean_squared_error(y_test, y_predict)))\n",
    "print(calculate_five_percent(y_predict,y_test))\n",
    "print(calculate_ten_percent(y_predict,y_test))\n",
    "print(calculate_twenty_percent(y_predict,y_test))\n",
    "print(r2_score(y_test,y_predict))"
   ]
  },
  {
   "cell_type": "markdown",
   "metadata": {},
   "source": [
    "___"
   ]
  },
  {
   "cell_type": "markdown",
   "metadata": {},
   "source": [
    "## Lower Cost Modeling"
   ]
  },
  {
   "cell_type": "markdown",
   "metadata": {},
   "source": []
  },
  {
   "cell_type": "code",
   "execution_count": 21,
   "metadata": {},
   "outputs": [],
   "source": [
    "X = lowcost.drop('PRICE',axis=1).values\n",
    "y = lowcost.PRICE.values\n",
    "X_train, X_test, y_train, y_test = train_test_split(X,y)"
   ]
  },
  {
   "cell_type": "code",
   "execution_count": 22,
   "metadata": {},
   "outputs": [
    {
     "name": "stdout",
     "output_type": "stream",
     "text": [
      "score: 0.9013599424219896\n",
      "MSE: 7.767340e+08\n",
      "51.81567211722234\n",
      "73.45508600552134\n",
      "90.18899978764068\n",
      "0.9013599424219896\n"
     ]
    }
   ],
   "source": [
    "rfr = RandomForestRegressor(oob_score=True)\n",
    "rfr.fit(X_train,y_train)\n",
    "y_predict = rfr.predict(X_test)\n",
    "print(\"score:\", rfr.score(X_test, y_test))\n",
    "print('MSE: {:2e}'.format(mean_squared_error(y_test, y_predict)))\n",
    "print(calculate_five_percent(y_predict,y_test))\n",
    "print(calculate_ten_percent(y_predict,y_test))\n",
    "print(calculate_twenty_percent(y_predict,y_test))\n",
    "print(r2_score(y_test,y_predict))"
   ]
  },
  {
   "cell_type": "code",
   "execution_count": 62,
   "metadata": {},
   "outputs": [],
   "source": [
    "X = lowercost.drop('PRICE',axis=1).values\n",
    "y = lowercost.PRICE.values\n",
    "X_train, X_test, y_train, y_test = train_test_split(X,y)"
   ]
  },
  {
   "cell_type": "code",
   "execution_count": 63,
   "metadata": {},
   "outputs": [
    {
     "name": "stdout",
     "output_type": "stream",
     "text": [
      "score: 0.8279965794206802\n",
      "MSE: 4.747814e+08\n",
      "52.69720791542424\n",
      "74.38330170777988\n",
      "89.45513689346707\n",
      "0.8279965794206802\n"
     ]
    }
   ],
   "source": [
    "rfr = RandomForestRegressor(oob_score=True)\n",
    "rfr.fit(X_train,y_train)\n",
    "y_predict = rfr.predict(X_test)\n",
    "print(\"score:\", rfr.score(X_test, y_test))\n",
    "print('MSE: {:2e}'.format(mean_squared_error(y_test, y_predict)))\n",
    "print(calculate_five_percent(y_predict,y_test))\n",
    "print(calculate_ten_percent(y_predict,y_test))\n",
    "print(calculate_twenty_percent(y_predict,y_test))\n",
    "print(r2_score(y_test,y_predict))"
   ]
  },
  {
   "cell_type": "code",
   "execution_count": 64,
   "metadata": {},
   "outputs": [
    {
     "name": "stdout",
     "output_type": "stream",
     "text": [
      "gbr Accuracy: -5.26e+08\n",
      "51.91108701545134\n",
      "74.27487123881811\n",
      "88.58769314177283\n",
      "0.8095340902641923\n"
     ]
    }
   ],
   "source": [
    "kf = KFold()\n",
    "gbr_pipe = Pipeline([('scaler', StandardScaler()), ('regressor', GradientBoostingRegressor(loss='huber'))])\n",
    "gbr_grid_params = {'regressor__alpha': np.arange(0.1,0.9,0.2),\n",
    "                  'regressor__max_depth': np.arange(1,9,2),\n",
    "                  'regressor__learning_rate': np.arange(0.01,0.2,0.03)}\n",
    "gbr_grid = GridSearchCV(gbr_pipe, gbr_grid_params, cv=kf, scoring = 'neg_mean_squared_error')\n",
    "gbr_grid.fit(X_train, y_train)\n",
    "y_predict = gbr_grid.predict(X_test)\n",
    "print(\"gbr Accuracy: {:.2e}\".format(gbr_grid.score(X_test, y_test)))\n",
    "print(calculate_five_percent(y_predict,y_test))\n",
    "print(calculate_ten_percent(y_predict,y_test))\n",
    "print(calculate_twenty_percent(y_predict,y_test))\n",
    "print(r2_score(y_test,y_predict))"
   ]
  },
  {
   "cell_type": "markdown",
   "metadata": {},
   "source": [
    "---"
   ]
  },
  {
   "cell_type": "markdown",
   "metadata": {},
   "source": [
    "## Treating Zip, Month, Year as categorical variables"
   ]
  },
  {
   "cell_type": "code",
   "execution_count": 66,
   "metadata": {},
   "outputs": [],
   "source": [
    "categories = neighborhoods_cleaned.copy()"
   ]
  },
  {
   "cell_type": "code",
   "execution_count": 67,
   "metadata": {},
   "outputs": [],
   "source": [
    "categories['ZIP OR POSTAL CODE'] = categories['ZIP OR POSTAL CODE'].astype('category')\n",
    "categories['MONTH'] = categories['MONTH'].astype('category')\n",
    "categories['YEAR'] = categories['YEAR'].astype('category')"
   ]
  },
  {
   "cell_type": "code",
   "execution_count": 70,
   "metadata": {},
   "outputs": [
    {
     "name": "stdout",
     "output_type": "stream",
     "text": [
      "<class 'pandas.core.frame.DataFrame'>\n",
      "Int64Index: 19812 entries, 0 to 20011\n",
      "Columns: 186 entries, ZIP OR POSTAL CODE to Woods Of Shavano\n",
      "dtypes: category(3), float64(7), int64(1), uint8(175)\n",
      "memory usage: 5.4 MB\n"
     ]
    }
   ],
   "source": [
    "categories.info()"
   ]
  },
  {
   "cell_type": "code",
   "execution_count": 72,
   "metadata": {},
   "outputs": [],
   "source": [
    "c_lowcost = categories[categories.PRICE < 500000]\n",
    "c_lowercost = categories[categories.PRICE < 290000]"
   ]
  },
  {
   "cell_type": "code",
   "execution_count": 73,
   "metadata": {},
   "outputs": [],
   "source": [
    "c_lowcost = c_lowcost.merge(pd.get_dummies(c_lowcost['ZIP OR POSTAL CODE'],drop_first=True), how='outer',left_index=True,right_index=True)\n",
    "c_lowcost.drop('ZIP OR POSTAL CODE',axis=1,inplace=True)\n",
    "c_lowcost = c_lowcost.merge(pd.get_dummies(c_lowcost['MONTH'],drop_first=True), how='outer',left_index=True,right_index=True)\n",
    "c_lowcost.drop('MONTH',axis=1,inplace=True)\n",
    "c_lowcost = c_lowcost.merge(pd.get_dummies(c_lowcost['YEAR'],drop_first=True), how='outer',left_index=True,right_index=True)\n",
    "c_lowcost.drop('YEAR',axis=1,inplace=True)"
   ]
  },
  {
   "cell_type": "code",
   "execution_count": 74,
   "metadata": {},
   "outputs": [],
   "source": [
    "X = c_lowcost.drop('PRICE',axis=1).values\n",
    "y = c_lowcost.PRICE.values\n",
    "X_train, X_test, y_train, y_test = train_test_split(X,y)"
   ]
  },
  {
   "cell_type": "code",
   "execution_count": 75,
   "metadata": {},
   "outputs": [
    {
     "name": "stdout",
     "output_type": "stream",
     "text": [
      "score: 0.9000324594477321\n",
      "MSE: 7.874356e+08\n",
      "48.970057337014225\n",
      "73.37014228073902\n",
      "89.38203440220853\n",
      "0.9000324594477321\n"
     ]
    }
   ],
   "source": [
    "rfr = RandomForestRegressor(oob_score=True)\n",
    "rfr.fit(X_train,y_train)\n",
    "y_predict = rfr.predict(X_test)\n",
    "print(\"score:\", rfr.score(X_test, y_test))\n",
    "print('MSE: {:2e}'.format(mean_squared_error(y_test, y_predict)))\n",
    "print(calculate_five_percent(y_predict,y_test))\n",
    "print(calculate_ten_percent(y_predict,y_test))\n",
    "print(calculate_twenty_percent(y_predict,y_test))\n",
    "print(r2_score(y_test,y_predict))"
   ]
  },
  {
   "cell_type": "code",
   "execution_count": 76,
   "metadata": {},
   "outputs": [],
   "source": [
    "c_lowercost = c_lowercost.merge(pd.get_dummies(c_lowercost['ZIP OR POSTAL CODE'],drop_first=True), how='outer',left_index=True,right_index=True)\n",
    "c_lowercost.drop('ZIP OR POSTAL CODE',axis=1,inplace=True)\n",
    "c_lowercost = c_lowercost.merge(pd.get_dummies(c_lowercost['MONTH'],drop_first=True), how='outer',left_index=True,right_index=True)\n",
    "c_lowercost.drop('MONTH',axis=1,inplace=True)\n",
    "c_lowercost = c_lowercost.merge(pd.get_dummies(c_lowercost['YEAR'],drop_first=True), how='outer',left_index=True,right_index=True)\n",
    "c_lowercost.drop('YEAR',axis=1,inplace=True)"
   ]
  },
  {
   "cell_type": "code",
   "execution_count": 77,
   "metadata": {},
   "outputs": [],
   "source": [
    "X = c_lowercost.drop('PRICE',axis=1).values\n",
    "y = c_lowercost.PRICE.values\n",
    "X_train, X_test, y_train, y_test = train_test_split(X,y)"
   ]
  },
  {
   "cell_type": "code",
   "execution_count": 78,
   "metadata": {},
   "outputs": [
    {
     "name": "stdout",
     "output_type": "stream",
     "text": [
      "score: 0.8343211139986686\n",
      "MSE: 4.569436e+08\n",
      "52.832746001626454\n",
      "74.95256166982922\n",
      "89.69910544863107\n",
      "0.8343211139986686\n"
     ]
    }
   ],
   "source": [
    "rfr = RandomForestRegressor(oob_score=True)\n",
    "rfr.fit(X_train,y_train)\n",
    "y_predict = rfr.predict(X_test)\n",
    "print(\"score:\", rfr.score(X_test, y_test))\n",
    "print('MSE: {:2e}'.format(mean_squared_error(y_test, y_predict)))\n",
    "print(calculate_five_percent(y_predict,y_test))\n",
    "print(calculate_ten_percent(y_predict,y_test))\n",
    "print(calculate_twenty_percent(y_predict,y_test))\n",
    "print(r2_score(y_test,y_predict))"
   ]
  },
  {
   "cell_type": "markdown",
   "metadata": {},
   "source": [
    "---"
   ]
  },
  {
   "cell_type": "code",
   "execution_count": null,
   "metadata": {},
   "outputs": [],
   "source": []
  },
  {
   "cell_type": "code",
   "execution_count": 80,
   "metadata": {},
   "outputs": [],
   "source": [
    "three_lowcost = threefeatures[threefeatures.PRICE < 500000]\n",
    "three_lowercost = threefeatures[threefeatures.PRICE < 290000]"
   ]
  },
  {
   "cell_type": "code",
   "execution_count": 81,
   "metadata": {},
   "outputs": [],
   "source": [
    "X = three_lowercost.drop('PRICE',axis=1).values\n",
    "y = three_lowercost.PRICE.values\n",
    "X_train, X_test, y_train, y_test = train_test_split(X,y)"
   ]
  },
  {
   "cell_type": "code",
   "execution_count": 82,
   "metadata": {},
   "outputs": [
    {
     "name": "stdout",
     "output_type": "stream",
     "text": [
      "score: 0.7715892730131111\n",
      "MSE: 6.115510e+08\n",
      "46.110056925996204\n",
      "69.07020872865274\n",
      "88.0726484142044\n",
      "0.7715892730131111\n"
     ]
    }
   ],
   "source": [
    "rfr = RandomForestRegressor(oob_score=True)\n",
    "rfr.fit(X_train,y_train)\n",
    "y_predict = rfr.predict(X_test)\n",
    "print(\"score:\", rfr.score(X_test, y_test))\n",
    "print('MSE: {:2e}'.format(mean_squared_error(y_test, y_predict)))\n",
    "print(calculate_five_percent(y_predict,y_test))\n",
    "print(calculate_ten_percent(y_predict,y_test))\n",
    "print(calculate_twenty_percent(y_predict,y_test))\n",
    "print(r2_score(y_test,y_predict))"
   ]
  },
  {
   "cell_type": "markdown",
   "metadata": {},
   "source": [
    "---"
   ]
  },
  {
   "cell_type": "code",
   "execution_count": 90,
   "metadata": {},
   "outputs": [],
   "source": [
    "modeldata = pd.read_pickle('data/modeldata.pkl')"
   ]
  },
  {
   "cell_type": "code",
   "execution_count": 92,
   "metadata": {},
   "outputs": [],
   "source": [
    "lowmodel = modeldata[modeldata.PRICE < 500000]"
   ]
  },
  {
   "cell_type": "code",
   "execution_count": 98,
   "metadata": {},
   "outputs": [],
   "source": [
    "predictors = lowmodel.drop(['ZIP OR POSTAL CODE','HOA/MONTH','LATITUDE','LONGITUDE','ROOMS','MONTH','YEAR','PRICE'],axis=1).values"
   ]
  },
  {
   "cell_type": "code",
   "execution_count": 99,
   "metadata": {},
   "outputs": [],
   "source": [
    "result = lowmodel.PRICE.values"
   ]
  },
  {
   "cell_type": "code",
   "execution_count": 100,
   "metadata": {},
   "outputs": [],
   "source": [
    "X_train, X_test, y_train, y_test = train_test_split(predictors,result)"
   ]
  },
  {
   "cell_type": "code",
   "execution_count": 101,
   "metadata": {},
   "outputs": [
    {
     "name": "stdout",
     "output_type": "stream",
     "text": [
      "score: 0.7123236420750624\n",
      "MSE: 2.223442e+09\n",
      "32.321087279677215\n",
      "53.00488426417499\n",
      "77.10766617116161\n",
      "0.7123236420750624\n"
     ]
    }
   ],
   "source": [
    "rfr = RandomForestRegressor(oob_score=True)\n",
    "rfr.fit(X_train,y_train)\n",
    "y_predict = rfr.predict(X_test)\n",
    "print(\"score:\", rfr.score(X_test, y_test))\n",
    "print('MSE: {:2e}'.format(mean_squared_error(y_test, y_predict)))\n",
    "print(calculate_five_percent(y_predict,y_test))\n",
    "print(calculate_ten_percent(y_predict,y_test))\n",
    "print(calculate_twenty_percent(y_predict,y_test))\n",
    "print(r2_score(y_test,y_predict))"
   ]
  },
  {
   "cell_type": "code",
   "execution_count": null,
   "metadata": {},
   "outputs": [],
   "source": []
  }
 ],
 "metadata": {
  "kernelspec": {
   "display_name": "Python 3",
   "language": "python",
   "name": "python3"
  },
  "language_info": {
   "codemirror_mode": {
    "name": "ipython",
    "version": 3
   },
   "file_extension": ".py",
   "mimetype": "text/x-python",
   "name": "python",
   "nbconvert_exporter": "python",
   "pygments_lexer": "ipython3",
   "version": "3.8.5"
  }
 },
 "nbformat": 4,
 "nbformat_minor": 4
}
