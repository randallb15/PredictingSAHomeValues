{
 "cells": [
  {
   "cell_type": "markdown",
   "metadata": {},
   "source": [
    "# Predicting Home Sale Price"
   ]
  },
  {
   "cell_type": "markdown",
   "metadata": {},
   "source": [
    "This will attempt to be similar to the Zestimate used on Zillow, the Redfin estimate used on Redfin, or any of the valuations provided by Collateral Analytics, CoreLogic, or Quantarium on Realtor.com.\n",
    "\n",
    "I will create a regression model and use it to predict valuation and compare to the other valuations on currently listed homes."
   ]
  },
  {
   "cell_type": "code",
   "execution_count": 155,
   "metadata": {},
   "outputs": [],
   "source": [
    "%run src/imports.py"
   ]
  },
  {
   "cell_type": "code",
   "execution_count": 156,
   "metadata": {},
   "outputs": [],
   "source": [
    "sns.set(rc={'figure.figsize':(16,4)})"
   ]
  },
  {
   "cell_type": "code",
   "execution_count": 157,
   "metadata": {},
   "outputs": [],
   "source": [
    "neighborhoods_cleaned = pd.read_pickle('data/neighborhoods_cleaned.pkl')\n",
    "neighborhoods_cleaned.reset_index(inplace=True)\n",
    "neighborhoods_cleaned.drop(['index','DAYS ON MARKET','PROPERTY TYPE','ADDRESS','CITY','STATE OR PROVINCE'],axis=1,inplace=True)\n",
    "#neighborhoods_cleaned = neighborhoods_cleaned.merge(pd.get_dummies(neighborhoods_cleaned['LOCATION'],drop_first=True), how='outer',left_index=True,right_index=True)\n",
    "neighborhoods_cleaned.drop(['LOCATION'],axis=1,inplace=True)\n",
    "neighborhoods_cleaned['SOLD DATE'] = pd.to_datetime(neighborhoods_cleaned['SOLD DATE'])\n",
    "neighborhoods_cleaned['MONTH'] = pd.DatetimeIndex(neighborhoods_cleaned['SOLD DATE']).month\n",
    "neighborhoods_cleaned['YEAR'] = pd.DatetimeIndex(neighborhoods_cleaned['SOLD DATE']).year\n",
    "neighborhoods_cleaned.drop(['SOLD DATE'],axis=1,inplace=True)"
   ]
  },
  {
   "cell_type": "code",
   "execution_count": 158,
   "metadata": {},
   "outputs": [
    {
     "data": {
      "text/html": [
       "<div>\n",
       "<style scoped>\n",
       "    .dataframe tbody tr th:only-of-type {\n",
       "        vertical-align: middle;\n",
       "    }\n",
       "\n",
       "    .dataframe tbody tr th {\n",
       "        vertical-align: top;\n",
       "    }\n",
       "\n",
       "    .dataframe thead th {\n",
       "        text-align: right;\n",
       "    }\n",
       "</style>\n",
       "<table border=\"1\" class=\"dataframe\">\n",
       "  <thead>\n",
       "    <tr style=\"text-align: right;\">\n",
       "      <th></th>\n",
       "      <th>ZIP OR POSTAL CODE</th>\n",
       "      <th>PRICE</th>\n",
       "      <th>SQUARE FEET</th>\n",
       "      <th>LOT SIZE</th>\n",
       "      <th>YEAR BUILT</th>\n",
       "      <th>HOA/MONTH</th>\n",
       "      <th>LATITUDE</th>\n",
       "      <th>LONGITUDE</th>\n",
       "      <th>ROOMS PER SQFT * 1000</th>\n",
       "      <th>MONTH</th>\n",
       "      <th>YEAR</th>\n",
       "    </tr>\n",
       "  </thead>\n",
       "  <tbody>\n",
       "    <tr>\n",
       "      <th>0</th>\n",
       "      <td>78257</td>\n",
       "      <td>345000</td>\n",
       "      <td>1989.0</td>\n",
       "      <td>5662.0</td>\n",
       "      <td>2005.0</td>\n",
       "      <td>230.0</td>\n",
       "      <td>29.647801</td>\n",
       "      <td>-98.614186</td>\n",
       "      <td>2.011061</td>\n",
       "      <td>9</td>\n",
       "      <td>2020</td>\n",
       "    </tr>\n",
       "    <tr>\n",
       "      <th>1</th>\n",
       "      <td>78256</td>\n",
       "      <td>337500</td>\n",
       "      <td>2166.0</td>\n",
       "      <td>9583.0</td>\n",
       "      <td>2004.0</td>\n",
       "      <td>54.0</td>\n",
       "      <td>29.650304</td>\n",
       "      <td>-98.629082</td>\n",
       "      <td>2.770083</td>\n",
       "      <td>6</td>\n",
       "      <td>2020</td>\n",
       "    </tr>\n",
       "    <tr>\n",
       "      <th>2</th>\n",
       "      <td>78256</td>\n",
       "      <td>375500</td>\n",
       "      <td>2969.0</td>\n",
       "      <td>6605.0</td>\n",
       "      <td>2004.0</td>\n",
       "      <td>54.0</td>\n",
       "      <td>29.651842</td>\n",
       "      <td>-98.630650</td>\n",
       "      <td>2.189289</td>\n",
       "      <td>3</td>\n",
       "      <td>2021</td>\n",
       "    </tr>\n",
       "    <tr>\n",
       "      <th>3</th>\n",
       "      <td>78255</td>\n",
       "      <td>462000</td>\n",
       "      <td>2716.0</td>\n",
       "      <td>9147.0</td>\n",
       "      <td>2014.0</td>\n",
       "      <td>95.0</td>\n",
       "      <td>29.617650</td>\n",
       "      <td>-98.643430</td>\n",
       "      <td>2.577320</td>\n",
       "      <td>10</td>\n",
       "      <td>2018</td>\n",
       "    </tr>\n",
       "    <tr>\n",
       "      <th>4</th>\n",
       "      <td>78256</td>\n",
       "      <td>624000</td>\n",
       "      <td>3012.0</td>\n",
       "      <td>75794.0</td>\n",
       "      <td>2000.0</td>\n",
       "      <td>25.0</td>\n",
       "      <td>29.620646</td>\n",
       "      <td>-98.622295</td>\n",
       "      <td>1.826029</td>\n",
       "      <td>2</td>\n",
       "      <td>2021</td>\n",
       "    </tr>\n",
       "    <tr>\n",
       "      <th>...</th>\n",
       "      <td>...</td>\n",
       "      <td>...</td>\n",
       "      <td>...</td>\n",
       "      <td>...</td>\n",
       "      <td>...</td>\n",
       "      <td>...</td>\n",
       "      <td>...</td>\n",
       "      <td>...</td>\n",
       "      <td>...</td>\n",
       "      <td>...</td>\n",
       "      <td>...</td>\n",
       "    </tr>\n",
       "    <tr>\n",
       "      <th>20007</th>\n",
       "      <td>78222</td>\n",
       "      <td>153000</td>\n",
       "      <td>1577.0</td>\n",
       "      <td>6969.0</td>\n",
       "      <td>1983.0</td>\n",
       "      <td>NaN</td>\n",
       "      <td>29.383410</td>\n",
       "      <td>-98.376520</td>\n",
       "      <td>3.170577</td>\n",
       "      <td>9</td>\n",
       "      <td>2019</td>\n",
       "    </tr>\n",
       "    <tr>\n",
       "      <th>20008</th>\n",
       "      <td>78222</td>\n",
       "      <td>189900</td>\n",
       "      <td>1703.0</td>\n",
       "      <td>4791.0</td>\n",
       "      <td>2018.0</td>\n",
       "      <td>25.0</td>\n",
       "      <td>29.386700</td>\n",
       "      <td>-98.379900</td>\n",
       "      <td>3.523194</td>\n",
       "      <td>7</td>\n",
       "      <td>2018</td>\n",
       "    </tr>\n",
       "    <tr>\n",
       "      <th>20009</th>\n",
       "      <td>78222</td>\n",
       "      <td>128000</td>\n",
       "      <td>1102.0</td>\n",
       "      <td>5662.0</td>\n",
       "      <td>1985.0</td>\n",
       "      <td>NaN</td>\n",
       "      <td>29.383092</td>\n",
       "      <td>-98.376562</td>\n",
       "      <td>4.537205</td>\n",
       "      <td>3</td>\n",
       "      <td>2019</td>\n",
       "    </tr>\n",
       "    <tr>\n",
       "      <th>20010</th>\n",
       "      <td>78222</td>\n",
       "      <td>196499</td>\n",
       "      <td>2324.0</td>\n",
       "      <td>5662.0</td>\n",
       "      <td>2014.0</td>\n",
       "      <td>6.0</td>\n",
       "      <td>29.379346</td>\n",
       "      <td>-98.370269</td>\n",
       "      <td>3.012048</td>\n",
       "      <td>3</td>\n",
       "      <td>2019</td>\n",
       "    </tr>\n",
       "    <tr>\n",
       "      <th>20011</th>\n",
       "      <td>78222</td>\n",
       "      <td>170000</td>\n",
       "      <td>3048.0</td>\n",
       "      <td>5227.0</td>\n",
       "      <td>2006.0</td>\n",
       "      <td>NaN</td>\n",
       "      <td>29.381472</td>\n",
       "      <td>-98.373694</td>\n",
       "      <td>2.132546</td>\n",
       "      <td>10</td>\n",
       "      <td>2019</td>\n",
       "    </tr>\n",
       "  </tbody>\n",
       "</table>\n",
       "<p>20012 rows × 11 columns</p>\n",
       "</div>"
      ],
      "text/plain": [
       "       ZIP OR POSTAL CODE   PRICE  SQUARE FEET  LOT SIZE  YEAR BUILT  \\\n",
       "0                   78257  345000       1989.0    5662.0      2005.0   \n",
       "1                   78256  337500       2166.0    9583.0      2004.0   \n",
       "2                   78256  375500       2969.0    6605.0      2004.0   \n",
       "3                   78255  462000       2716.0    9147.0      2014.0   \n",
       "4                   78256  624000       3012.0   75794.0      2000.0   \n",
       "...                   ...     ...          ...       ...         ...   \n",
       "20007               78222  153000       1577.0    6969.0      1983.0   \n",
       "20008               78222  189900       1703.0    4791.0      2018.0   \n",
       "20009               78222  128000       1102.0    5662.0      1985.0   \n",
       "20010               78222  196499       2324.0    5662.0      2014.0   \n",
       "20011               78222  170000       3048.0    5227.0      2006.0   \n",
       "\n",
       "       HOA/MONTH   LATITUDE  LONGITUDE  ROOMS PER SQFT * 1000  MONTH  YEAR  \n",
       "0          230.0  29.647801 -98.614186               2.011061      9  2020  \n",
       "1           54.0  29.650304 -98.629082               2.770083      6  2020  \n",
       "2           54.0  29.651842 -98.630650               2.189289      3  2021  \n",
       "3           95.0  29.617650 -98.643430               2.577320     10  2018  \n",
       "4           25.0  29.620646 -98.622295               1.826029      2  2021  \n",
       "...          ...        ...        ...                    ...    ...   ...  \n",
       "20007        NaN  29.383410 -98.376520               3.170577      9  2019  \n",
       "20008       25.0  29.386700 -98.379900               3.523194      7  2018  \n",
       "20009        NaN  29.383092 -98.376562               4.537205      3  2019  \n",
       "20010        6.0  29.379346 -98.370269               3.012048      3  2019  \n",
       "20011        NaN  29.381472 -98.373694               2.132546     10  2019  \n",
       "\n",
       "[20012 rows x 11 columns]"
      ]
     },
     "execution_count": 158,
     "metadata": {},
     "output_type": "execute_result"
    }
   ],
   "source": [
    "neighborhoods_cleaned"
   ]
  },
  {
   "cell_type": "code",
   "execution_count": 159,
   "metadata": {},
   "outputs": [],
   "source": [
    "neighborhoods_cleaned.dropna(inplace=True)"
   ]
  },
  {
   "cell_type": "code",
   "execution_count": 160,
   "metadata": {},
   "outputs": [],
   "source": [
    "y = neighborhoods_cleaned['PRICE'].values\n",
    "X = neighborhoods_cleaned.drop('PRICE',axis=1).values"
   ]
  },
  {
   "cell_type": "code",
   "execution_count": 161,
   "metadata": {},
   "outputs": [
    {
     "data": {
      "text/html": [
       "<div>\n",
       "<style scoped>\n",
       "    .dataframe tbody tr th:only-of-type {\n",
       "        vertical-align: middle;\n",
       "    }\n",
       "\n",
       "    .dataframe tbody tr th {\n",
       "        vertical-align: top;\n",
       "    }\n",
       "\n",
       "    .dataframe thead th {\n",
       "        text-align: right;\n",
       "    }\n",
       "</style>\n",
       "<table border=\"1\" class=\"dataframe\">\n",
       "  <thead>\n",
       "    <tr style=\"text-align: right;\">\n",
       "      <th></th>\n",
       "      <th>ZIP OR POSTAL CODE</th>\n",
       "      <th>PRICE</th>\n",
       "      <th>SQUARE FEET</th>\n",
       "      <th>LOT SIZE</th>\n",
       "      <th>YEAR BUILT</th>\n",
       "      <th>HOA/MONTH</th>\n",
       "      <th>LATITUDE</th>\n",
       "      <th>LONGITUDE</th>\n",
       "      <th>ROOMS PER SQFT * 1000</th>\n",
       "      <th>MONTH</th>\n",
       "      <th>YEAR</th>\n",
       "    </tr>\n",
       "  </thead>\n",
       "  <tbody>\n",
       "    <tr>\n",
       "      <th>0</th>\n",
       "      <td>78257</td>\n",
       "      <td>345000</td>\n",
       "      <td>1989.0</td>\n",
       "      <td>5662.0</td>\n",
       "      <td>2005.0</td>\n",
       "      <td>230.0</td>\n",
       "      <td>29.647801</td>\n",
       "      <td>-98.614186</td>\n",
       "      <td>2.011061</td>\n",
       "      <td>9</td>\n",
       "      <td>2020</td>\n",
       "    </tr>\n",
       "    <tr>\n",
       "      <th>1</th>\n",
       "      <td>78256</td>\n",
       "      <td>337500</td>\n",
       "      <td>2166.0</td>\n",
       "      <td>9583.0</td>\n",
       "      <td>2004.0</td>\n",
       "      <td>54.0</td>\n",
       "      <td>29.650304</td>\n",
       "      <td>-98.629082</td>\n",
       "      <td>2.770083</td>\n",
       "      <td>6</td>\n",
       "      <td>2020</td>\n",
       "    </tr>\n",
       "    <tr>\n",
       "      <th>2</th>\n",
       "      <td>78256</td>\n",
       "      <td>375500</td>\n",
       "      <td>2969.0</td>\n",
       "      <td>6605.0</td>\n",
       "      <td>2004.0</td>\n",
       "      <td>54.0</td>\n",
       "      <td>29.651842</td>\n",
       "      <td>-98.630650</td>\n",
       "      <td>2.189289</td>\n",
       "      <td>3</td>\n",
       "      <td>2021</td>\n",
       "    </tr>\n",
       "    <tr>\n",
       "      <th>3</th>\n",
       "      <td>78255</td>\n",
       "      <td>462000</td>\n",
       "      <td>2716.0</td>\n",
       "      <td>9147.0</td>\n",
       "      <td>2014.0</td>\n",
       "      <td>95.0</td>\n",
       "      <td>29.617650</td>\n",
       "      <td>-98.643430</td>\n",
       "      <td>2.577320</td>\n",
       "      <td>10</td>\n",
       "      <td>2018</td>\n",
       "    </tr>\n",
       "    <tr>\n",
       "      <th>4</th>\n",
       "      <td>78256</td>\n",
       "      <td>624000</td>\n",
       "      <td>3012.0</td>\n",
       "      <td>75794.0</td>\n",
       "      <td>2000.0</td>\n",
       "      <td>25.0</td>\n",
       "      <td>29.620646</td>\n",
       "      <td>-98.622295</td>\n",
       "      <td>1.826029</td>\n",
       "      <td>2</td>\n",
       "      <td>2021</td>\n",
       "    </tr>\n",
       "    <tr>\n",
       "      <th>...</th>\n",
       "      <td>...</td>\n",
       "      <td>...</td>\n",
       "      <td>...</td>\n",
       "      <td>...</td>\n",
       "      <td>...</td>\n",
       "      <td>...</td>\n",
       "      <td>...</td>\n",
       "      <td>...</td>\n",
       "      <td>...</td>\n",
       "      <td>...</td>\n",
       "      <td>...</td>\n",
       "    </tr>\n",
       "    <tr>\n",
       "      <th>20002</th>\n",
       "      <td>78222</td>\n",
       "      <td>137000</td>\n",
       "      <td>2773.0</td>\n",
       "      <td>5227.0</td>\n",
       "      <td>2005.0</td>\n",
       "      <td>6.0</td>\n",
       "      <td>29.379318</td>\n",
       "      <td>-98.373976</td>\n",
       "      <td>2.163722</td>\n",
       "      <td>6</td>\n",
       "      <td>2018</td>\n",
       "    </tr>\n",
       "    <tr>\n",
       "      <th>20003</th>\n",
       "      <td>78222</td>\n",
       "      <td>165000</td>\n",
       "      <td>2085.0</td>\n",
       "      <td>8276.0</td>\n",
       "      <td>2014.0</td>\n",
       "      <td>7.0</td>\n",
       "      <td>29.388351</td>\n",
       "      <td>-98.370269</td>\n",
       "      <td>3.117506</td>\n",
       "      <td>1</td>\n",
       "      <td>2020</td>\n",
       "    </tr>\n",
       "    <tr>\n",
       "      <th>20006</th>\n",
       "      <td>78222</td>\n",
       "      <td>165900</td>\n",
       "      <td>1246.0</td>\n",
       "      <td>5662.0</td>\n",
       "      <td>2018.0</td>\n",
       "      <td>7.0</td>\n",
       "      <td>29.374355</td>\n",
       "      <td>-98.385532</td>\n",
       "      <td>4.815409</td>\n",
       "      <td>2</td>\n",
       "      <td>2019</td>\n",
       "    </tr>\n",
       "    <tr>\n",
       "      <th>20008</th>\n",
       "      <td>78222</td>\n",
       "      <td>189900</td>\n",
       "      <td>1703.0</td>\n",
       "      <td>4791.0</td>\n",
       "      <td>2018.0</td>\n",
       "      <td>25.0</td>\n",
       "      <td>29.386700</td>\n",
       "      <td>-98.379900</td>\n",
       "      <td>3.523194</td>\n",
       "      <td>7</td>\n",
       "      <td>2018</td>\n",
       "    </tr>\n",
       "    <tr>\n",
       "      <th>20010</th>\n",
       "      <td>78222</td>\n",
       "      <td>196499</td>\n",
       "      <td>2324.0</td>\n",
       "      <td>5662.0</td>\n",
       "      <td>2014.0</td>\n",
       "      <td>6.0</td>\n",
       "      <td>29.379346</td>\n",
       "      <td>-98.370269</td>\n",
       "      <td>3.012048</td>\n",
       "      <td>3</td>\n",
       "      <td>2019</td>\n",
       "    </tr>\n",
       "  </tbody>\n",
       "</table>\n",
       "<p>11654 rows × 11 columns</p>\n",
       "</div>"
      ],
      "text/plain": [
       "       ZIP OR POSTAL CODE   PRICE  SQUARE FEET  LOT SIZE  YEAR BUILT  \\\n",
       "0                   78257  345000       1989.0    5662.0      2005.0   \n",
       "1                   78256  337500       2166.0    9583.0      2004.0   \n",
       "2                   78256  375500       2969.0    6605.0      2004.0   \n",
       "3                   78255  462000       2716.0    9147.0      2014.0   \n",
       "4                   78256  624000       3012.0   75794.0      2000.0   \n",
       "...                   ...     ...          ...       ...         ...   \n",
       "20002               78222  137000       2773.0    5227.0      2005.0   \n",
       "20003               78222  165000       2085.0    8276.0      2014.0   \n",
       "20006               78222  165900       1246.0    5662.0      2018.0   \n",
       "20008               78222  189900       1703.0    4791.0      2018.0   \n",
       "20010               78222  196499       2324.0    5662.0      2014.0   \n",
       "\n",
       "       HOA/MONTH   LATITUDE  LONGITUDE  ROOMS PER SQFT * 1000  MONTH  YEAR  \n",
       "0          230.0  29.647801 -98.614186               2.011061      9  2020  \n",
       "1           54.0  29.650304 -98.629082               2.770083      6  2020  \n",
       "2           54.0  29.651842 -98.630650               2.189289      3  2021  \n",
       "3           95.0  29.617650 -98.643430               2.577320     10  2018  \n",
       "4           25.0  29.620646 -98.622295               1.826029      2  2021  \n",
       "...          ...        ...        ...                    ...    ...   ...  \n",
       "20002        6.0  29.379318 -98.373976               2.163722      6  2018  \n",
       "20003        7.0  29.388351 -98.370269               3.117506      1  2020  \n",
       "20006        7.0  29.374355 -98.385532               4.815409      2  2019  \n",
       "20008       25.0  29.386700 -98.379900               3.523194      7  2018  \n",
       "20010        6.0  29.379346 -98.370269               3.012048      3  2019  \n",
       "\n",
       "[11654 rows x 11 columns]"
      ]
     },
     "execution_count": 161,
     "metadata": {},
     "output_type": "execute_result"
    }
   ],
   "source": [
    "neighborhoods_cleaned"
   ]
  },
  {
   "cell_type": "markdown",
   "metadata": {},
   "source": [
    "-----\n",
    "Data Density  \n",
    "= 11,654 / 11\n",
    "= 1000\n",
    "-----"
   ]
  },
  {
   "cell_type": "markdown",
   "metadata": {},
   "source": [
    "## Building a Model"
   ]
  },
  {
   "cell_type": "code",
   "execution_count": 211,
   "metadata": {},
   "outputs": [],
   "source": [
    "X_train, X_test, y_train, y_test = train_test_split(X,y)"
   ]
  },
  {
   "cell_type": "code",
   "execution_count": 213,
   "metadata": {},
   "outputs": [
    {
     "name": "stdout",
     "output_type": "stream",
     "text": [
      "score: 0.9104055679882893\n",
      "MSE: 1.048657e+09\n"
     ]
    }
   ],
   "source": [
    "rfr = RandomForestRegressor()\n",
    "rfr.fit(X_train,y_train)\n",
    "y_predict = rfr.predict(X_test)\n",
    "print(\"score:\", rfr.score(X_test, y_test))\n",
    "print('MSE: {:2e}'.format(mean_squared_error(y_test, y_predict)))"
   ]
  },
  {
   "cell_type": "code",
   "execution_count": 214,
   "metadata": {},
   "outputs": [
    {
     "data": {
      "text/plain": [
       "array([199814.78, 182766.94, 228420.09, ..., 261187.97, 212646.42,\n",
       "       225981.83])"
      ]
     },
     "execution_count": 214,
     "metadata": {},
     "output_type": "execute_result"
    }
   ],
   "source": [
    "y_predict"
   ]
  },
  {
   "cell_type": "code",
   "execution_count": 215,
   "metadata": {},
   "outputs": [
    {
     "data": {
      "text/plain": [
       "array([193000, 186300, 217457, ..., 250000, 212900, 259220])"
      ]
     },
     "execution_count": 215,
     "metadata": {},
     "output_type": "execute_result"
    }
   ],
   "source": [
    "y_test"
   ]
  },
  {
   "cell_type": "code",
   "execution_count": 172,
   "metadata": {},
   "outputs": [],
   "source": [
    "search_space = [{'regressor__alpha': 10 ** (np.linspace(-5, 5, 10)), \n",
    "                 'regressor__l1_ratio': np.linspace(0,1,6)}]\n",
    "\n",
    "# l_lasso / (l_lasso + l_ridge)\n",
    "# if l_lasso = 0: 0 / 1 = 0 (this is ridge regression)\n",
    "# if l_ridge = 0: l_lasso / l_lasso = 1 (this is LASSSO regression)\n",
    "\n",
    "pipe = Pipeline([('scaler', StandardScaler()), ('regressor', ElasticNet())])\n",
    "\n",
    "enet_cv = GridSearchCV(pipe, \n",
    "                      search_space, \n",
    "                      cv=KFold(10, shuffle=True), \n",
    "                      scoring='neg_mean_squared_error',\n",
    "                      return_train_score = True)"
   ]
  },
  {
   "cell_type": "code",
   "execution_count": 173,
   "metadata": {},
   "outputs": [
    {
     "name": "stderr",
     "output_type": "stream",
     "text": [
      "/Users/randallbloomquist/opt/anaconda3/lib/python3.8/site-packages/sklearn/linear_model/_coordinate_descent.py:529: ConvergenceWarning: Objective did not converge. You might want to increase the number of iterations. Duality gap: 14569338064369.205, tolerance: 10111310072.75697\n",
      "  model = cd_fast.enet_coordinate_descent(\n",
      "/Users/randallbloomquist/opt/anaconda3/lib/python3.8/site-packages/sklearn/linear_model/_coordinate_descent.py:529: ConvergenceWarning: Objective did not converge. You might want to increase the number of iterations. Duality gap: 14530357101143.602, tolerance: 10000945617.697178\n",
      "  model = cd_fast.enet_coordinate_descent(\n",
      "/Users/randallbloomquist/opt/anaconda3/lib/python3.8/site-packages/sklearn/linear_model/_coordinate_descent.py:529: ConvergenceWarning: Objective did not converge. You might want to increase the number of iterations. Duality gap: 14300817914794.814, tolerance: 9926970132.732944\n",
      "  model = cd_fast.enet_coordinate_descent(\n",
      "/Users/randallbloomquist/opt/anaconda3/lib/python3.8/site-packages/sklearn/linear_model/_coordinate_descent.py:529: ConvergenceWarning: Objective did not converge. You might want to increase the number of iterations. Duality gap: 13717414429509.521, tolerance: 9562325730.174093\n",
      "  model = cd_fast.enet_coordinate_descent(\n",
      "/Users/randallbloomquist/opt/anaconda3/lib/python3.8/site-packages/sklearn/linear_model/_coordinate_descent.py:529: ConvergenceWarning: Objective did not converge. You might want to increase the number of iterations. Duality gap: 13690584490570.734, tolerance: 9591734909.717512\n",
      "  model = cd_fast.enet_coordinate_descent(\n",
      "/Users/randallbloomquist/opt/anaconda3/lib/python3.8/site-packages/sklearn/linear_model/_coordinate_descent.py:529: ConvergenceWarning: Objective did not converge. You might want to increase the number of iterations. Duality gap: 14073712871375.727, tolerance: 9801981568.57319\n",
      "  model = cd_fast.enet_coordinate_descent(\n",
      "/Users/randallbloomquist/opt/anaconda3/lib/python3.8/site-packages/sklearn/linear_model/_coordinate_descent.py:529: ConvergenceWarning: Objective did not converge. You might want to increase the number of iterations. Duality gap: 13837015209080.38, tolerance: 9941808744.577871\n",
      "  model = cd_fast.enet_coordinate_descent(\n",
      "/Users/randallbloomquist/opt/anaconda3/lib/python3.8/site-packages/sklearn/linear_model/_coordinate_descent.py:529: ConvergenceWarning: Objective did not converge. You might want to increase the number of iterations. Duality gap: 14513560004908.861, tolerance: 10052113336.438063\n",
      "  model = cd_fast.enet_coordinate_descent(\n",
      "/Users/randallbloomquist/opt/anaconda3/lib/python3.8/site-packages/sklearn/linear_model/_coordinate_descent.py:529: ConvergenceWarning: Objective did not converge. You might want to increase the number of iterations. Duality gap: 14507586665528.83, tolerance: 10052161226.719793\n",
      "  model = cd_fast.enet_coordinate_descent(\n",
      "/Users/randallbloomquist/opt/anaconda3/lib/python3.8/site-packages/sklearn/linear_model/_coordinate_descent.py:529: ConvergenceWarning: Objective did not converge. You might want to increase the number of iterations. Duality gap: 14214019372211.06, tolerance: 9913100998.55764\n",
      "  model = cd_fast.enet_coordinate_descent(\n",
      "/Users/randallbloomquist/opt/anaconda3/lib/python3.8/site-packages/sklearn/linear_model/_coordinate_descent.py:529: ConvergenceWarning: Objective did not converge. You might want to increase the number of iterations. Duality gap: 14573287397291.262, tolerance: 10111310072.75697\n",
      "  model = cd_fast.enet_coordinate_descent(\n",
      "/Users/randallbloomquist/opt/anaconda3/lib/python3.8/site-packages/sklearn/linear_model/_coordinate_descent.py:529: ConvergenceWarning: Objective did not converge. You might want to increase the number of iterations. Duality gap: 14534242047733.457, tolerance: 10000945617.697178\n",
      "  model = cd_fast.enet_coordinate_descent(\n",
      "/Users/randallbloomquist/opt/anaconda3/lib/python3.8/site-packages/sklearn/linear_model/_coordinate_descent.py:529: ConvergenceWarning: Objective did not converge. You might want to increase the number of iterations. Duality gap: 14304642359914.05, tolerance: 9926970132.732944\n",
      "  model = cd_fast.enet_coordinate_descent(\n",
      "/Users/randallbloomquist/opt/anaconda3/lib/python3.8/site-packages/sklearn/linear_model/_coordinate_descent.py:529: ConvergenceWarning: Objective did not converge. You might want to increase the number of iterations. Duality gap: 13721109895496.012, tolerance: 9562325730.174093\n",
      "  model = cd_fast.enet_coordinate_descent(\n",
      "/Users/randallbloomquist/opt/anaconda3/lib/python3.8/site-packages/sklearn/linear_model/_coordinate_descent.py:529: ConvergenceWarning: Objective did not converge. You might want to increase the number of iterations. Duality gap: 13694272492228.295, tolerance: 9591734909.717512\n",
      "  model = cd_fast.enet_coordinate_descent(\n",
      "/Users/randallbloomquist/opt/anaconda3/lib/python3.8/site-packages/sklearn/linear_model/_coordinate_descent.py:529: ConvergenceWarning: Objective did not converge. You might want to increase the number of iterations. Duality gap: 14077517270499.941, tolerance: 9801981568.57319\n",
      "  model = cd_fast.enet_coordinate_descent(\n",
      "/Users/randallbloomquist/opt/anaconda3/lib/python3.8/site-packages/sklearn/linear_model/_coordinate_descent.py:529: ConvergenceWarning: Objective did not converge. You might want to increase the number of iterations. Duality gap: 13840883076342.22, tolerance: 9941808744.577871\n",
      "  model = cd_fast.enet_coordinate_descent(\n",
      "/Users/randallbloomquist/opt/anaconda3/lib/python3.8/site-packages/sklearn/linear_model/_coordinate_descent.py:529: ConvergenceWarning: Objective did not converge. You might want to increase the number of iterations. Duality gap: 14517458696119.643, tolerance: 10052113336.438063\n",
      "  model = cd_fast.enet_coordinate_descent(\n",
      "/Users/randallbloomquist/opt/anaconda3/lib/python3.8/site-packages/sklearn/linear_model/_coordinate_descent.py:529: ConvergenceWarning: Objective did not converge. You might want to increase the number of iterations. Duality gap: 14511504770941.84, tolerance: 10052161226.719793\n",
      "  model = cd_fast.enet_coordinate_descent(\n",
      "/Users/randallbloomquist/opt/anaconda3/lib/python3.8/site-packages/sklearn/linear_model/_coordinate_descent.py:529: ConvergenceWarning: Objective did not converge. You might want to increase the number of iterations. Duality gap: 14217854437141.479, tolerance: 9913100998.55764\n",
      "  model = cd_fast.enet_coordinate_descent(\n",
      "/Users/randallbloomquist/opt/anaconda3/lib/python3.8/site-packages/sklearn/linear_model/_coordinate_descent.py:529: ConvergenceWarning: Objective did not converge. You might want to increase the number of iterations. Duality gap: 14624079105516.459, tolerance: 10111310072.75697\n",
      "  model = cd_fast.enet_coordinate_descent(\n",
      "/Users/randallbloomquist/opt/anaconda3/lib/python3.8/site-packages/sklearn/linear_model/_coordinate_descent.py:529: ConvergenceWarning: Objective did not converge. You might want to increase the number of iterations. Duality gap: 14584207427999.068, tolerance: 10000945617.697178\n",
      "  model = cd_fast.enet_coordinate_descent(\n",
      "/Users/randallbloomquist/opt/anaconda3/lib/python3.8/site-packages/sklearn/linear_model/_coordinate_descent.py:529: ConvergenceWarning: Objective did not converge. You might want to increase the number of iterations. Duality gap: 14353829862813.193, tolerance: 9926970132.732944\n",
      "  model = cd_fast.enet_coordinate_descent(\n",
      "/Users/randallbloomquist/opt/anaconda3/lib/python3.8/site-packages/sklearn/linear_model/_coordinate_descent.py:529: ConvergenceWarning: Objective did not converge. You might want to increase the number of iterations. Duality gap: 13768638922119.1, tolerance: 9562325730.174093\n",
      "  model = cd_fast.enet_coordinate_descent(\n",
      "/Users/randallbloomquist/opt/anaconda3/lib/python3.8/site-packages/sklearn/linear_model/_coordinate_descent.py:529: ConvergenceWarning: Objective did not converge. You might want to increase the number of iterations. Duality gap: 13741706703835.957, tolerance: 9591734909.717512\n",
      "  model = cd_fast.enet_coordinate_descent(\n",
      "/Users/randallbloomquist/opt/anaconda3/lib/python3.8/site-packages/sklearn/linear_model/_coordinate_descent.py:529: ConvergenceWarning: Objective did not converge. You might want to increase the number of iterations. Duality gap: 14126446719114.592, tolerance: 9801981568.57319\n",
      "  model = cd_fast.enet_coordinate_descent(\n",
      "/Users/randallbloomquist/opt/anaconda3/lib/python3.8/site-packages/sklearn/linear_model/_coordinate_descent.py:529: ConvergenceWarning: Objective did not converge. You might want to increase the number of iterations. Duality gap: 13890631488970.16, tolerance: 9941808744.577871\n",
      "  model = cd_fast.enet_coordinate_descent(\n",
      "/Users/randallbloomquist/opt/anaconda3/lib/python3.8/site-packages/sklearn/linear_model/_coordinate_descent.py:529: ConvergenceWarning: Objective did not converge. You might want to increase the number of iterations. Duality gap: 14567600605218.0, tolerance: 10052113336.438063\n",
      "  model = cd_fast.enet_coordinate_descent(\n",
      "/Users/randallbloomquist/opt/anaconda3/lib/python3.8/site-packages/sklearn/linear_model/_coordinate_descent.py:529: ConvergenceWarning: Objective did not converge. You might want to increase the number of iterations. Duality gap: 14561893023267.047, tolerance: 10052161226.719793\n",
      "  model = cd_fast.enet_coordinate_descent(\n",
      "/Users/randallbloomquist/opt/anaconda3/lib/python3.8/site-packages/sklearn/linear_model/_coordinate_descent.py:529: ConvergenceWarning: Objective did not converge. You might want to increase the number of iterations. Duality gap: 14267177759409.451, tolerance: 9913100998.55764\n",
      "  model = cd_fast.enet_coordinate_descent(\n",
      "/Users/randallbloomquist/opt/anaconda3/lib/python3.8/site-packages/sklearn/linear_model/_coordinate_descent.py:529: ConvergenceWarning: Objective did not converge. You might want to increase the number of iterations. Duality gap: 15246987388929.586, tolerance: 10111310072.75697\n",
      "  model = cd_fast.enet_coordinate_descent(\n",
      "/Users/randallbloomquist/opt/anaconda3/lib/python3.8/site-packages/sklearn/linear_model/_coordinate_descent.py:529: ConvergenceWarning: Objective did not converge. You might want to increase the number of iterations. Duality gap: 15197233675122.93, tolerance: 10000945617.697178\n",
      "  model = cd_fast.enet_coordinate_descent(\n",
      "/Users/randallbloomquist/opt/anaconda3/lib/python3.8/site-packages/sklearn/linear_model/_coordinate_descent.py:529: ConvergenceWarning: Objective did not converge. You might want to increase the number of iterations. Duality gap: 14957376454292.152, tolerance: 9926970132.732944\n",
      "  model = cd_fast.enet_coordinate_descent(\n",
      "/Users/randallbloomquist/opt/anaconda3/lib/python3.8/site-packages/sklearn/linear_model/_coordinate_descent.py:529: ConvergenceWarning: Objective did not converge. You might want to increase the number of iterations. Duality gap: 14351872480612.123, tolerance: 9562325730.174093\n",
      "  model = cd_fast.enet_coordinate_descent(\n",
      "/Users/randallbloomquist/opt/anaconda3/lib/python3.8/site-packages/sklearn/linear_model/_coordinate_descent.py:529: ConvergenceWarning: Objective did not converge. You might want to increase the number of iterations. Duality gap: 14323966307921.17, tolerance: 9591734909.717512\n",
      "  model = cd_fast.enet_coordinate_descent(\n",
      "/Users/randallbloomquist/opt/anaconda3/lib/python3.8/site-packages/sklearn/linear_model/_coordinate_descent.py:529: ConvergenceWarning: Objective did not converge. You might want to increase the number of iterations. Duality gap: 14726759012975.623, tolerance: 9801981568.57319\n",
      "  model = cd_fast.enet_coordinate_descent(\n",
      "/Users/randallbloomquist/opt/anaconda3/lib/python3.8/site-packages/sklearn/linear_model/_coordinate_descent.py:529: ConvergenceWarning: Objective did not converge. You might want to increase the number of iterations. Duality gap: 14501398970103.766, tolerance: 9941808744.577871\n",
      "  model = cd_fast.enet_coordinate_descent(\n",
      "/Users/randallbloomquist/opt/anaconda3/lib/python3.8/site-packages/sklearn/linear_model/_coordinate_descent.py:529: ConvergenceWarning: Objective did not converge. You might want to increase the number of iterations. Duality gap: 15182764441185.037, tolerance: 10052113336.438063\n",
      "  model = cd_fast.enet_coordinate_descent(\n",
      "/Users/randallbloomquist/opt/anaconda3/lib/python3.8/site-packages/sklearn/linear_model/_coordinate_descent.py:529: ConvergenceWarning: Objective did not converge. You might want to increase the number of iterations. Duality gap: 15179592001630.639, tolerance: 10052161226.719793\n",
      "  model = cd_fast.enet_coordinate_descent(\n",
      "/Users/randallbloomquist/opt/anaconda3/lib/python3.8/site-packages/sklearn/linear_model/_coordinate_descent.py:529: ConvergenceWarning: Objective did not converge. You might want to increase the number of iterations. Duality gap: 14872264147172.256, tolerance: 9913100998.55764\n",
      "  model = cd_fast.enet_coordinate_descent(\n",
      "/Users/randallbloomquist/opt/anaconda3/lib/python3.8/site-packages/sklearn/linear_model/_coordinate_descent.py:529: ConvergenceWarning: Objective did not converge. You might want to increase the number of iterations. Duality gap: 20582730420996.32, tolerance: 10111310072.75697\n",
      "  model = cd_fast.enet_coordinate_descent(\n",
      "/Users/randallbloomquist/opt/anaconda3/lib/python3.8/site-packages/sklearn/linear_model/_coordinate_descent.py:529: ConvergenceWarning: Objective did not converge. You might want to increase the number of iterations. Duality gap: 20460746457498.984, tolerance: 10000945617.697178\n",
      "  model = cd_fast.enet_coordinate_descent(\n",
      "/Users/randallbloomquist/opt/anaconda3/lib/python3.8/site-packages/sklearn/linear_model/_coordinate_descent.py:529: ConvergenceWarning: Objective did not converge. You might want to increase the number of iterations. Duality gap: 20154184932282.027, tolerance: 9926970132.732944\n",
      "  model = cd_fast.enet_coordinate_descent(\n",
      "/Users/randallbloomquist/opt/anaconda3/lib/python3.8/site-packages/sklearn/linear_model/_coordinate_descent.py:529: ConvergenceWarning: Objective did not converge. You might want to increase the number of iterations. Duality gap: 19370441091119.188, tolerance: 9562325730.174093\n",
      "  model = cd_fast.enet_coordinate_descent(\n",
      "/Users/randallbloomquist/opt/anaconda3/lib/python3.8/site-packages/sklearn/linear_model/_coordinate_descent.py:529: ConvergenceWarning: Objective did not converge. You might want to increase the number of iterations. Duality gap: 19350531310391.215, tolerance: 9591734909.717512\n",
      "  model = cd_fast.enet_coordinate_descent(\n",
      "/Users/randallbloomquist/opt/anaconda3/lib/python3.8/site-packages/sklearn/linear_model/_coordinate_descent.py:529: ConvergenceWarning: Objective did not converge. You might want to increase the number of iterations. Duality gap: 19880259528020.797, tolerance: 9801981568.57319\n",
      "  model = cd_fast.enet_coordinate_descent(\n",
      "/Users/randallbloomquist/opt/anaconda3/lib/python3.8/site-packages/sklearn/linear_model/_coordinate_descent.py:529: ConvergenceWarning: Objective did not converge. You might want to increase the number of iterations. Duality gap: 19771208999263.312, tolerance: 9941808744.577871\n",
      "  model = cd_fast.enet_coordinate_descent(\n",
      "/Users/randallbloomquist/opt/anaconda3/lib/python3.8/site-packages/sklearn/linear_model/_coordinate_descent.py:529: ConvergenceWarning: Objective did not converge. You might want to increase the number of iterations. Duality gap: 20467116827873.44, tolerance: 10052113336.438063\n",
      "  model = cd_fast.enet_coordinate_descent(\n",
      "/Users/randallbloomquist/opt/anaconda3/lib/python3.8/site-packages/sklearn/linear_model/_coordinate_descent.py:529: ConvergenceWarning: Objective did not converge. You might want to increase the number of iterations. Duality gap: 20461057209299.055, tolerance: 10052161226.719793\n",
      "  model = cd_fast.enet_coordinate_descent(\n",
      "/Users/randallbloomquist/opt/anaconda3/lib/python3.8/site-packages/sklearn/linear_model/_coordinate_descent.py:529: ConvergenceWarning: Objective did not converge. You might want to increase the number of iterations. Duality gap: 20070995235077.777, tolerance: 9913100998.55764\n",
      "  model = cd_fast.enet_coordinate_descent(\n",
      "/Users/randallbloomquist/opt/anaconda3/lib/python3.8/site-packages/sklearn/linear_model/_coordinate_descent.py:529: ConvergenceWarning: Objective did not converge. You might want to increase the number of iterations. Duality gap: 38395689566219.04, tolerance: 10111310072.75697\n",
      "  model = cd_fast.enet_coordinate_descent(\n",
      "/Users/randallbloomquist/opt/anaconda3/lib/python3.8/site-packages/sklearn/linear_model/_coordinate_descent.py:529: ConvergenceWarning: Objective did not converge. You might want to increase the number of iterations. Duality gap: 38033285058526.1, tolerance: 10000945617.697178\n",
      "  model = cd_fast.enet_coordinate_descent(\n",
      "/Users/randallbloomquist/opt/anaconda3/lib/python3.8/site-packages/sklearn/linear_model/_coordinate_descent.py:529: ConvergenceWarning: Objective did not converge. You might want to increase the number of iterations. Duality gap: 37652598032383.66, tolerance: 9926970132.732944\n",
      "  model = cd_fast.enet_coordinate_descent(\n",
      "/Users/randallbloomquist/opt/anaconda3/lib/python3.8/site-packages/sklearn/linear_model/_coordinate_descent.py:529: ConvergenceWarning: Objective did not converge. You might want to increase the number of iterations. Duality gap: 36256449894298.234, tolerance: 9562325730.174093\n",
      "  model = cd_fast.enet_coordinate_descent(\n",
      "/Users/randallbloomquist/opt/anaconda3/lib/python3.8/site-packages/sklearn/linear_model/_coordinate_descent.py:529: ConvergenceWarning: Objective did not converge. You might want to increase the number of iterations. Duality gap: 36343838496059.914, tolerance: 9591734909.717512\n",
      "  model = cd_fast.enet_coordinate_descent(\n",
      "/Users/randallbloomquist/opt/anaconda3/lib/python3.8/site-packages/sklearn/linear_model/_coordinate_descent.py:529: ConvergenceWarning: Objective did not converge. You might want to increase the number of iterations. Duality gap: 37159760948090.555, tolerance: 9801981568.57319\n",
      "  model = cd_fast.enet_coordinate_descent(\n",
      "/Users/randallbloomquist/opt/anaconda3/lib/python3.8/site-packages/sklearn/linear_model/_coordinate_descent.py:529: ConvergenceWarning: Objective did not converge. You might want to increase the number of iterations. Duality gap: 37523793102583.484, tolerance: 9941808744.577871\n",
      "  model = cd_fast.enet_coordinate_descent(\n",
      "/Users/randallbloomquist/opt/anaconda3/lib/python3.8/site-packages/sklearn/linear_model/_coordinate_descent.py:529: ConvergenceWarning: Objective did not converge. You might want to increase the number of iterations. Duality gap: 38178177181744.14, tolerance: 10052113336.438063\n",
      "  model = cd_fast.enet_coordinate_descent(\n",
      "/Users/randallbloomquist/opt/anaconda3/lib/python3.8/site-packages/sklearn/linear_model/_coordinate_descent.py:529: ConvergenceWarning: Objective did not converge. You might want to increase the number of iterations. Duality gap: 38143700128912.66, tolerance: 10052161226.719793\n",
      "  model = cd_fast.enet_coordinate_descent(\n",
      "/Users/randallbloomquist/opt/anaconda3/lib/python3.8/site-packages/sklearn/linear_model/_coordinate_descent.py:529: ConvergenceWarning: Objective did not converge. You might want to increase the number of iterations. Duality gap: 37561686281083.336, tolerance: 9913100998.55764\n",
      "  model = cd_fast.enet_coordinate_descent(\n",
      "/Users/randallbloomquist/opt/anaconda3/lib/python3.8/site-packages/sklearn/linear_model/_coordinate_descent.py:529: ConvergenceWarning: Objective did not converge. You might want to increase the number of iterations. Duality gap: 49101234451941.89, tolerance: 10111310072.75697\n",
      "  model = cd_fast.enet_coordinate_descent(\n",
      "/Users/randallbloomquist/opt/anaconda3/lib/python3.8/site-packages/sklearn/linear_model/_coordinate_descent.py:529: ConvergenceWarning: Objective did not converge. You might want to increase the number of iterations. Duality gap: 48572630436559.0, tolerance: 10000945617.697178\n",
      "  model = cd_fast.enet_coordinate_descent(\n",
      "/Users/randallbloomquist/opt/anaconda3/lib/python3.8/site-packages/sklearn/linear_model/_coordinate_descent.py:529: ConvergenceWarning: Objective did not converge. You might want to increase the number of iterations. Duality gap: 48199170890358.26, tolerance: 9926970132.732944\n",
      "  model = cd_fast.enet_coordinate_descent(\n",
      "/Users/randallbloomquist/opt/anaconda3/lib/python3.8/site-packages/sklearn/linear_model/_coordinate_descent.py:529: ConvergenceWarning: Objective did not converge. You might want to increase the number of iterations. Duality gap: 46428553304529.56, tolerance: 9562325730.174093\n",
      "  model = cd_fast.enet_coordinate_descent(\n",
      "/Users/randallbloomquist/opt/anaconda3/lib/python3.8/site-packages/sklearn/linear_model/_coordinate_descent.py:529: ConvergenceWarning: Objective did not converge. You might want to increase the number of iterations. Duality gap: 46569715557060.12, tolerance: 9591734909.717512\n",
      "  model = cd_fast.enet_coordinate_descent(\n",
      "/Users/randallbloomquist/opt/anaconda3/lib/python3.8/site-packages/sklearn/linear_model/_coordinate_descent.py:529: ConvergenceWarning: Objective did not converge. You might want to increase the number of iterations. Duality gap: 47589902241425.87, tolerance: 9801981568.57319\n",
      "  model = cd_fast.enet_coordinate_descent(\n",
      "/Users/randallbloomquist/opt/anaconda3/lib/python3.8/site-packages/sklearn/linear_model/_coordinate_descent.py:529: ConvergenceWarning: Objective did not converge. You might want to increase the number of iterations. Duality gap: 48247730646202.57, tolerance: 9941808744.577871\n",
      "  model = cd_fast.enet_coordinate_descent(\n",
      "/Users/randallbloomquist/opt/anaconda3/lib/python3.8/site-packages/sklearn/linear_model/_coordinate_descent.py:529: ConvergenceWarning: Objective did not converge. You might want to increase the number of iterations. Duality gap: 48815736863559.49, tolerance: 10052113336.438063\n",
      "  model = cd_fast.enet_coordinate_descent(\n",
      "/Users/randallbloomquist/opt/anaconda3/lib/python3.8/site-packages/sklearn/linear_model/_coordinate_descent.py:529: ConvergenceWarning: Objective did not converge. You might want to increase the number of iterations. Duality gap: 48809762207392.77, tolerance: 10052161226.719793\n",
      "  model = cd_fast.enet_coordinate_descent(\n",
      "/Users/randallbloomquist/opt/anaconda3/lib/python3.8/site-packages/sklearn/linear_model/_coordinate_descent.py:529: ConvergenceWarning: Objective did not converge. You might want to increase the number of iterations. Duality gap: 48126911980472.28, tolerance: 9913100998.55764\n",
      "  model = cd_fast.enet_coordinate_descent(\n",
      "/Users/randallbloomquist/opt/anaconda3/lib/python3.8/site-packages/sklearn/linear_model/_coordinate_descent.py:529: ConvergenceWarning: Objective did not converge. You might want to increase the number of iterations. Duality gap: 50438798220854.8, tolerance: 10111310072.75697\n",
      "  model = cd_fast.enet_coordinate_descent(\n",
      "/Users/randallbloomquist/opt/anaconda3/lib/python3.8/site-packages/sklearn/linear_model/_coordinate_descent.py:529: ConvergenceWarning: Objective did not converge. You might want to increase the number of iterations. Duality gap: 49888857904175.65, tolerance: 10000945617.697178\n",
      "  model = cd_fast.enet_coordinate_descent(\n",
      "/Users/randallbloomquist/opt/anaconda3/lib/python3.8/site-packages/sklearn/linear_model/_coordinate_descent.py:529: ConvergenceWarning: Objective did not converge. You might want to increase the number of iterations. Duality gap: 49518666940138.69, tolerance: 9926970132.732944\n",
      "  model = cd_fast.enet_coordinate_descent(\n",
      "/Users/randallbloomquist/opt/anaconda3/lib/python3.8/site-packages/sklearn/linear_model/_coordinate_descent.py:529: ConvergenceWarning: Objective did not converge. You might want to increase the number of iterations. Duality gap: 47699720350680.336, tolerance: 9562325730.174093\n",
      "  model = cd_fast.enet_coordinate_descent(\n",
      "/Users/randallbloomquist/opt/anaconda3/lib/python3.8/site-packages/sklearn/linear_model/_coordinate_descent.py:529: ConvergenceWarning: Objective did not converge. You might want to increase the number of iterations. Duality gap: 47846303424772.33, tolerance: 9591734909.717512\n",
      "  model = cd_fast.enet_coordinate_descent(\n",
      "/Users/randallbloomquist/opt/anaconda3/lib/python3.8/site-packages/sklearn/linear_model/_coordinate_descent.py:529: ConvergenceWarning: Objective did not converge. You might want to increase the number of iterations. Duality gap: 48894995192643.82, tolerance: 9801981568.57319\n",
      "  model = cd_fast.enet_coordinate_descent(\n",
      "/Users/randallbloomquist/opt/anaconda3/lib/python3.8/site-packages/sklearn/linear_model/_coordinate_descent.py:529: ConvergenceWarning: Objective did not converge. You might want to increase the number of iterations. Duality gap: 49590773645969.34, tolerance: 9941808744.577871\n",
      "  model = cd_fast.enet_coordinate_descent(\n",
      "/Users/randallbloomquist/opt/anaconda3/lib/python3.8/site-packages/sklearn/linear_model/_coordinate_descent.py:529: ConvergenceWarning: Objective did not converge. You might want to increase the number of iterations. Duality gap: 50143674833997.75, tolerance: 10052113336.438063\n",
      "  model = cd_fast.enet_coordinate_descent(\n",
      "/Users/randallbloomquist/opt/anaconda3/lib/python3.8/site-packages/sklearn/linear_model/_coordinate_descent.py:529: ConvergenceWarning: Objective did not converge. You might want to increase the number of iterations. Duality gap: 50143392645158.21, tolerance: 10052161226.719793\n",
      "  model = cd_fast.enet_coordinate_descent(\n",
      "/Users/randallbloomquist/opt/anaconda3/lib/python3.8/site-packages/sklearn/linear_model/_coordinate_descent.py:529: ConvergenceWarning: Objective did not converge. You might want to increase the number of iterations. Duality gap: 49449085868813.94, tolerance: 9913100998.55764\n",
      "  model = cd_fast.enet_coordinate_descent(\n",
      "/Users/randallbloomquist/opt/anaconda3/lib/python3.8/site-packages/sklearn/linear_model/_coordinate_descent.py:529: ConvergenceWarning: Objective did not converge. You might want to increase the number of iterations. Duality gap: 50547401295062.35, tolerance: 10111310072.75697\n",
      "  model = cd_fast.enet_coordinate_descent(\n",
      "/Users/randallbloomquist/opt/anaconda3/lib/python3.8/site-packages/sklearn/linear_model/_coordinate_descent.py:529: ConvergenceWarning: Objective did not converge. You might want to increase the number of iterations. Duality gap: 49995725263111.67, tolerance: 10000945617.697178\n",
      "  model = cd_fast.enet_coordinate_descent(\n",
      "/Users/randallbloomquist/opt/anaconda3/lib/python3.8/site-packages/sklearn/linear_model/_coordinate_descent.py:529: ConvergenceWarning: Objective did not converge. You might want to increase the number of iterations. Duality gap: 49625823327008.09, tolerance: 9926970132.732944\n",
      "  model = cd_fast.enet_coordinate_descent(\n",
      "/Users/randallbloomquist/opt/anaconda3/lib/python3.8/site-packages/sklearn/linear_model/_coordinate_descent.py:529: ConvergenceWarning: Objective did not converge. You might want to increase the number of iterations. Duality gap: 47802933627795.86, tolerance: 9562325730.174093\n",
      "  model = cd_fast.enet_coordinate_descent(\n",
      "/Users/randallbloomquist/opt/anaconda3/lib/python3.8/site-packages/sklearn/linear_model/_coordinate_descent.py:529: ConvergenceWarning: Objective did not converge. You might want to increase the number of iterations. Duality gap: 47949943648889.02, tolerance: 9591734909.717512\n",
      "  model = cd_fast.enet_coordinate_descent(\n",
      "/Users/randallbloomquist/opt/anaconda3/lib/python3.8/site-packages/sklearn/linear_model/_coordinate_descent.py:529: ConvergenceWarning: Objective did not converge. You might want to increase the number of iterations. Duality gap: 49000979286492.56, tolerance: 9801981568.57319\n",
      "  model = cd_fast.enet_coordinate_descent(\n",
      "/Users/randallbloomquist/opt/anaconda3/lib/python3.8/site-packages/sklearn/linear_model/_coordinate_descent.py:529: ConvergenceWarning: Objective did not converge. You might want to increase the number of iterations. Duality gap: 49699854204635.15, tolerance: 9941808744.577871\n",
      "  model = cd_fast.enet_coordinate_descent(\n",
      "/Users/randallbloomquist/opt/anaconda3/lib/python3.8/site-packages/sklearn/linear_model/_coordinate_descent.py:529: ConvergenceWarning: Objective did not converge. You might want to increase the number of iterations. Duality gap: 50251484531450.36, tolerance: 10052113336.438063\n",
      "  model = cd_fast.enet_coordinate_descent(\n",
      "/Users/randallbloomquist/opt/anaconda3/lib/python3.8/site-packages/sklearn/linear_model/_coordinate_descent.py:529: ConvergenceWarning: Objective did not converge. You might want to increase the number of iterations. Duality gap: 50251683335076.65, tolerance: 10052161226.719793\n",
      "  model = cd_fast.enet_coordinate_descent(\n",
      "/Users/randallbloomquist/opt/anaconda3/lib/python3.8/site-packages/sklearn/linear_model/_coordinate_descent.py:529: ConvergenceWarning: Objective did not converge. You might want to increase the number of iterations. Duality gap: 49556459370473.18, tolerance: 9913100998.55764\n",
      "  model = cd_fast.enet_coordinate_descent(\n",
      "/Users/randallbloomquist/opt/anaconda3/lib/python3.8/site-packages/sklearn/linear_model/_coordinate_descent.py:529: ConvergenceWarning: Objective did not converge. You might want to increase the number of iterations. Duality gap: 50555841792345.91, tolerance: 10111310072.75697\n",
      "  model = cd_fast.enet_coordinate_descent(\n",
      "/Users/randallbloomquist/opt/anaconda3/lib/python3.8/site-packages/sklearn/linear_model/_coordinate_descent.py:529: ConvergenceWarning: Objective did not converge. You might want to increase the number of iterations. Duality gap: 50004030843328.51, tolerance: 10000945617.697178\n",
      "  model = cd_fast.enet_coordinate_descent(\n",
      "/Users/randallbloomquist/opt/anaconda3/lib/python3.8/site-packages/sklearn/linear_model/_coordinate_descent.py:529: ConvergenceWarning: Objective did not converge. You might want to increase the number of iterations. Duality gap: 49634151519269.46, tolerance: 9926970132.732944\n",
      "  model = cd_fast.enet_coordinate_descent(\n",
      "/Users/randallbloomquist/opt/anaconda3/lib/python3.8/site-packages/sklearn/linear_model/_coordinate_descent.py:529: ConvergenceWarning: Objective did not converge. You might want to increase the number of iterations. Duality gap: 47810955244034.95, tolerance: 9562325730.174093\n",
      "  model = cd_fast.enet_coordinate_descent(\n",
      "/Users/randallbloomquist/opt/anaconda3/lib/python3.8/site-packages/sklearn/linear_model/_coordinate_descent.py:529: ConvergenceWarning: Objective did not converge. You might want to increase the number of iterations. Duality gap: 47957998363705.28, tolerance: 9591734909.717512\n",
      "  model = cd_fast.enet_coordinate_descent(\n",
      "/Users/randallbloomquist/opt/anaconda3/lib/python3.8/site-packages/sklearn/linear_model/_coordinate_descent.py:529: ConvergenceWarning: Objective did not converge. You might want to increase the number of iterations. Duality gap: 49009216348872.0, tolerance: 9801981568.57319\n",
      "  model = cd_fast.enet_coordinate_descent(\n",
      "/Users/randallbloomquist/opt/anaconda3/lib/python3.8/site-packages/sklearn/linear_model/_coordinate_descent.py:529: ConvergenceWarning: Objective did not converge. You might want to increase the number of iterations. Duality gap: 49708332017491.99, tolerance: 9941808744.577871\n",
      "  model = cd_fast.enet_coordinate_descent(\n",
      "/Users/randallbloomquist/opt/anaconda3/lib/python3.8/site-packages/sklearn/linear_model/_coordinate_descent.py:529: ConvergenceWarning: Objective did not converge. You might want to increase the number of iterations. Duality gap: 50259863293826.1, tolerance: 10052113336.438063\n",
      "  model = cd_fast.enet_coordinate_descent(\n",
      "/Users/randallbloomquist/opt/anaconda3/lib/python3.8/site-packages/sklearn/linear_model/_coordinate_descent.py:529: ConvergenceWarning: Objective did not converge. You might want to increase the number of iterations. Duality gap: 50260099596463.484, tolerance: 10052161226.719793\n",
      "  model = cd_fast.enet_coordinate_descent(\n",
      "/Users/randallbloomquist/opt/anaconda3/lib/python3.8/site-packages/sklearn/linear_model/_coordinate_descent.py:529: ConvergenceWarning: Objective did not converge. You might want to increase the number of iterations. Duality gap: 49564804432244.26, tolerance: 9913100998.55764\n",
      "  model = cd_fast.enet_coordinate_descent(\n"
     ]
    },
    {
     "data": {
      "text/plain": [
       "{'regressor__alpha': 46.41588833612782, 'regressor__l1_ratio': 1.0}"
      ]
     },
     "execution_count": 173,
     "metadata": {},
     "output_type": "execute_result"
    }
   ],
   "source": [
    "enet_cv.fit(X_train,y_train)\n",
    "\n",
    "enet_cv.best_params_"
   ]
  },
  {
   "cell_type": "code",
   "execution_count": 174,
   "metadata": {},
   "outputs": [
    {
     "name": "stdout",
     "output_type": "stream",
     "text": [
      "MSE: 4.069101e+13\n"
     ]
    }
   ],
   "source": [
    "y_predict = enet_cv.predict(X_test)\n",
    "print('MSE: {:2e}'.format(mean_squared_error(y_test, y_predict)))"
   ]
  },
  {
   "cell_type": "code",
   "execution_count": 175,
   "metadata": {},
   "outputs": [
    {
     "name": "stdout",
     "output_type": "stream",
     "text": [
      "score: -3319.9261514277987\n",
      "MSE: 4.081817e+13\n"
     ]
    }
   ],
   "source": [
    "ridge = Ridge(alpha=1)\n",
    "ridge.fit(X_train,y_train)\n",
    "y_predict = ridge.predict(X_test)\n",
    "print(\"score:\", ridge.score(X_test, y_test))\n",
    "print('MSE: {:2e}'.format(mean_squared_error(y_test, y_predict)))"
   ]
  },
  {
   "cell_type": "code",
   "execution_count": 176,
   "metadata": {},
   "outputs": [
    {
     "data": {
      "text/plain": [
       "(8740, 10)"
      ]
     },
     "execution_count": 176,
     "metadata": {},
     "output_type": "execute_result"
    }
   ],
   "source": [
    "X_train.shape"
   ]
  },
  {
   "cell_type": "code",
   "execution_count": 177,
   "metadata": {},
   "outputs": [
    {
     "data": {
      "text/plain": [
       "(8740,)"
      ]
     },
     "execution_count": 177,
     "metadata": {},
     "output_type": "execute_result"
    }
   ],
   "source": [
    "y_train.shape"
   ]
  },
  {
   "cell_type": "code",
   "execution_count": 179,
   "metadata": {},
   "outputs": [
    {
     "name": "stdout",
     "output_type": "stream",
     "text": [
      "score: -3313.4886477498917\n",
      "MSE: 4.073905e+13\n"
     ]
    }
   ],
   "source": [
    "lr = LinearRegression()\n",
    "lr.fit(X_train,y_train)\n",
    "y_predict = lr.predict(X_test)\n",
    "print(\"score:\", lr.score(X_test, y_test))\n",
    "print('MSE: {:2e}'.format(mean_squared_error(y_test, y_predict)))"
   ]
  },
  {
   "cell_type": "code",
   "execution_count": 103,
   "metadata": {},
   "outputs": [
    {
     "data": {
      "text/plain": [
       "array([-5, -4, -3, -2, -1,  0,  1,  2,  3,  4])"
      ]
     },
     "execution_count": 103,
     "metadata": {},
     "output_type": "execute_result"
    }
   ],
   "source": [
    "np.arange(-5,5,1)"
   ]
  },
  {
   "cell_type": "code",
   "execution_count": 110,
   "metadata": {},
   "outputs": [
    {
     "data": {
      "text/plain": [
       "numpy.ndarray"
      ]
     },
     "execution_count": 110,
     "metadata": {},
     "output_type": "execute_result"
    }
   ],
   "source": [
    "type(y_train)"
   ]
  },
  {
   "cell_type": "code",
   "execution_count": 180,
   "metadata": {},
   "outputs": [
    {
     "name": "stdout",
     "output_type": "stream",
     "text": [
      "Ridge Accuracy: -4.07e+13\n"
     ]
    }
   ],
   "source": [
    "kf = KFold()\n",
    "skf = StratifiedKFold()\n",
    "ridge_pipe = Pipeline([('scaler', StandardScaler()), ('regressor', Ridge())])\n",
    "ridge_grid_params = {'regressor__alpha': np.arange(0,50,1)}\n",
    "ridge_grid = GridSearchCV(ridge_pipe, ridge_grid_params, cv=kf, scoring = 'neg_mean_squared_error')\n",
    "ridge_grid.fit(X_train, y_train)\n",
    "print(\"Ridge Accuracy: {:.2e}\".format(ridge_grid.score(X_test, y_test)))"
   ]
  },
  {
   "cell_type": "code",
   "execution_count": 181,
   "metadata": {},
   "outputs": [
    {
     "name": "stdout",
     "output_type": "stream",
     "text": [
      "Lasso Accuracy: -4.07e+13\n"
     ]
    }
   ],
   "source": [
    "kf = KFold()\n",
    "skf = StratifiedKFold()\n",
    "lasso_pipe = Pipeline([('scaler', StandardScaler()), ('regressor', Lasso())])\n",
    "lasso_grid_params = {'regressor__alpha': np.arange(0.1,0.9,0.1)}\n",
    "lasso_grid = GridSearchCV(lasso_pipe, lasso_grid_params, cv=kf, scoring = 'neg_mean_squared_error')\n",
    "lasso_grid.fit(X_train, y_train)\n",
    "print(\"Lasso Accuracy: {:.2e}\".format(lasso_grid.score(X_test, y_test)))"
   ]
  },
  {
   "cell_type": "code",
   "execution_count": 217,
   "metadata": {},
   "outputs": [
    {
     "name": "stdout",
     "output_type": "stream",
     "text": [
      "gbr Accuracy: -8.31e+08\n"
     ]
    }
   ],
   "source": [
    "kf = KFold()\n",
    "skf = StratifiedKFold()\n",
    "gbr_pipe = Pipeline([('scaler', StandardScaler()), ('regressor', GradientBoostingRegressor(loss='huber'))])\n",
    "gbr_grid_params = {'regressor__alpha': np.arange(0.1,0.9,0.3),\n",
    "                  'regressor__max_depth': np.arange(1,9,3),\n",
    "                  'regressor__learning_rate': np.arange(0.01,0.2,0.05)}\n",
    "gbr_grid = GridSearchCV(gbr_pipe, gbr_grid_params, cv=kf, scoring = 'neg_mean_squared_error')\n",
    "gbr_grid.fit(X_train, y_train)\n",
    "print(\"gbr Accuracy: {:.2e}\".format(gbr_grid.score(X_test, y_test)))"
   ]
  },
  {
   "cell_type": "code",
   "execution_count": null,
   "metadata": {},
   "outputs": [],
   "source": []
  },
  {
   "cell_type": "code",
   "execution_count": 182,
   "metadata": {},
   "outputs": [
    {
     "name": "stdout",
     "output_type": "stream",
     "text": [
      "gbr Accuracy: -1.52e+09\n"
     ]
    }
   ],
   "source": [
    "kf = KFold()\n",
    "skf = StratifiedKFold()\n",
    "gbr_pipe2 = Pipeline([('scaler', StandardScaler()), ('regressor', GradientBoostingRegressor(loss='huber'))])\n",
    "gbr_grid_params2 = {'regressor__alpha': np.arange(0.1,0.9,0.3)}\n",
    "gbr_grid2 = GridSearchCV(gbr_pipe2, gbr_grid_params2, cv=kf, scoring = 'neg_mean_squared_error')\n",
    "gbr_grid2.fit(X_train, y_train)\n",
    "print(\"gbr Accuracy: {:.2e}\".format(gbr_grid.score(X_test, y_test)))"
   ]
  },
  {
   "cell_type": "code",
   "execution_count": 183,
   "metadata": {},
   "outputs": [
    {
     "data": {
      "text/plain": [
       "dict_keys(['explained_variance', 'r2', 'max_error', 'neg_median_absolute_error', 'neg_mean_absolute_error', 'neg_mean_squared_error', 'neg_mean_squared_log_error', 'neg_root_mean_squared_error', 'neg_mean_poisson_deviance', 'neg_mean_gamma_deviance', 'accuracy', 'roc_auc', 'roc_auc_ovr', 'roc_auc_ovo', 'roc_auc_ovr_weighted', 'roc_auc_ovo_weighted', 'balanced_accuracy', 'average_precision', 'neg_log_loss', 'neg_brier_score', 'adjusted_rand_score', 'homogeneity_score', 'completeness_score', 'v_measure_score', 'mutual_info_score', 'adjusted_mutual_info_score', 'normalized_mutual_info_score', 'fowlkes_mallows_score', 'precision', 'precision_macro', 'precision_micro', 'precision_samples', 'precision_weighted', 'recall', 'recall_macro', 'recall_micro', 'recall_samples', 'recall_weighted', 'f1', 'f1_macro', 'f1_micro', 'f1_samples', 'f1_weighted', 'jaccard', 'jaccard_macro', 'jaccard_micro', 'jaccard_samples', 'jaccard_weighted'])"
      ]
     },
     "execution_count": 183,
     "metadata": {},
     "output_type": "execute_result"
    }
   ],
   "source": [
    "SCORERS.keys()"
   ]
  },
  {
   "cell_type": "code",
   "execution_count": 184,
   "metadata": {},
   "outputs": [
    {
     "data": {
      "text/plain": [
       "array([0, 1, 2, 3, 4, 5, 6, 7, 8, 9])"
      ]
     },
     "execution_count": 184,
     "metadata": {},
     "output_type": "execute_result"
    }
   ],
   "source": [
    "np.arange(0,10)"
   ]
  },
  {
   "cell_type": "code",
   "execution_count": 185,
   "metadata": {},
   "outputs": [],
   "source": [
    "X_df = pd.DataFrame(X)"
   ]
  },
  {
   "cell_type": "code",
   "execution_count": 186,
   "metadata": {},
   "outputs": [
    {
     "data": {
      "text/html": [
       "<div>\n",
       "<style scoped>\n",
       "    .dataframe tbody tr th:only-of-type {\n",
       "        vertical-align: middle;\n",
       "    }\n",
       "\n",
       "    .dataframe tbody tr th {\n",
       "        vertical-align: top;\n",
       "    }\n",
       "\n",
       "    .dataframe thead th {\n",
       "        text-align: right;\n",
       "    }\n",
       "</style>\n",
       "<table border=\"1\" class=\"dataframe\">\n",
       "  <thead>\n",
       "    <tr style=\"text-align: right;\">\n",
       "      <th></th>\n",
       "      <th>0</th>\n",
       "      <th>1</th>\n",
       "      <th>2</th>\n",
       "      <th>3</th>\n",
       "      <th>4</th>\n",
       "      <th>5</th>\n",
       "      <th>6</th>\n",
       "      <th>7</th>\n",
       "      <th>8</th>\n",
       "      <th>9</th>\n",
       "    </tr>\n",
       "  </thead>\n",
       "  <tbody>\n",
       "    <tr>\n",
       "      <th>0</th>\n",
       "      <td>True</td>\n",
       "      <td>False</td>\n",
       "      <td>False</td>\n",
       "      <td>False</td>\n",
       "      <td>False</td>\n",
       "      <td>False</td>\n",
       "      <td>False</td>\n",
       "      <td>False</td>\n",
       "      <td>False</td>\n",
       "      <td>False</td>\n",
       "    </tr>\n",
       "    <tr>\n",
       "      <th>1</th>\n",
       "      <td>False</td>\n",
       "      <td>True</td>\n",
       "      <td>False</td>\n",
       "      <td>False</td>\n",
       "      <td>False</td>\n",
       "      <td>True</td>\n",
       "      <td>False</td>\n",
       "      <td>False</td>\n",
       "      <td>False</td>\n",
       "      <td>False</td>\n",
       "    </tr>\n",
       "    <tr>\n",
       "      <th>2</th>\n",
       "      <td>False</td>\n",
       "      <td>False</td>\n",
       "      <td>True</td>\n",
       "      <td>False</td>\n",
       "      <td>False</td>\n",
       "      <td>False</td>\n",
       "      <td>False</td>\n",
       "      <td>False</td>\n",
       "      <td>False</td>\n",
       "      <td>False</td>\n",
       "    </tr>\n",
       "    <tr>\n",
       "      <th>3</th>\n",
       "      <td>False</td>\n",
       "      <td>False</td>\n",
       "      <td>False</td>\n",
       "      <td>True</td>\n",
       "      <td>False</td>\n",
       "      <td>False</td>\n",
       "      <td>False</td>\n",
       "      <td>True</td>\n",
       "      <td>False</td>\n",
       "      <td>False</td>\n",
       "    </tr>\n",
       "    <tr>\n",
       "      <th>4</th>\n",
       "      <td>False</td>\n",
       "      <td>False</td>\n",
       "      <td>False</td>\n",
       "      <td>False</td>\n",
       "      <td>True</td>\n",
       "      <td>False</td>\n",
       "      <td>False</td>\n",
       "      <td>False</td>\n",
       "      <td>False</td>\n",
       "      <td>False</td>\n",
       "    </tr>\n",
       "    <tr>\n",
       "      <th>5</th>\n",
       "      <td>False</td>\n",
       "      <td>True</td>\n",
       "      <td>False</td>\n",
       "      <td>False</td>\n",
       "      <td>False</td>\n",
       "      <td>True</td>\n",
       "      <td>False</td>\n",
       "      <td>False</td>\n",
       "      <td>False</td>\n",
       "      <td>False</td>\n",
       "    </tr>\n",
       "    <tr>\n",
       "      <th>6</th>\n",
       "      <td>False</td>\n",
       "      <td>False</td>\n",
       "      <td>False</td>\n",
       "      <td>False</td>\n",
       "      <td>False</td>\n",
       "      <td>False</td>\n",
       "      <td>True</td>\n",
       "      <td>False</td>\n",
       "      <td>False</td>\n",
       "      <td>False</td>\n",
       "    </tr>\n",
       "    <tr>\n",
       "      <th>7</th>\n",
       "      <td>False</td>\n",
       "      <td>False</td>\n",
       "      <td>False</td>\n",
       "      <td>True</td>\n",
       "      <td>False</td>\n",
       "      <td>False</td>\n",
       "      <td>False</td>\n",
       "      <td>True</td>\n",
       "      <td>False</td>\n",
       "      <td>False</td>\n",
       "    </tr>\n",
       "    <tr>\n",
       "      <th>8</th>\n",
       "      <td>False</td>\n",
       "      <td>False</td>\n",
       "      <td>False</td>\n",
       "      <td>False</td>\n",
       "      <td>False</td>\n",
       "      <td>False</td>\n",
       "      <td>False</td>\n",
       "      <td>False</td>\n",
       "      <td>True</td>\n",
       "      <td>False</td>\n",
       "    </tr>\n",
       "    <tr>\n",
       "      <th>9</th>\n",
       "      <td>False</td>\n",
       "      <td>False</td>\n",
       "      <td>False</td>\n",
       "      <td>False</td>\n",
       "      <td>False</td>\n",
       "      <td>False</td>\n",
       "      <td>False</td>\n",
       "      <td>False</td>\n",
       "      <td>False</td>\n",
       "      <td>True</td>\n",
       "    </tr>\n",
       "  </tbody>\n",
       "</table>\n",
       "</div>"
      ],
      "text/plain": [
       "       0      1      2      3      4      5      6      7      8      9\n",
       "0   True  False  False  False  False  False  False  False  False  False\n",
       "1  False   True  False  False  False   True  False  False  False  False\n",
       "2  False  False   True  False  False  False  False  False  False  False\n",
       "3  False  False  False   True  False  False  False   True  False  False\n",
       "4  False  False  False  False   True  False  False  False  False  False\n",
       "5  False   True  False  False  False   True  False  False  False  False\n",
       "6  False  False  False  False  False  False   True  False  False  False\n",
       "7  False  False  False   True  False  False  False   True  False  False\n",
       "8  False  False  False  False  False  False  False  False   True  False\n",
       "9  False  False  False  False  False  False  False  False  False   True"
      ]
     },
     "execution_count": 186,
     "metadata": {},
     "output_type": "execute_result"
    }
   ],
   "source": [
    "X_df.corr() > 0.2"
   ]
  },
  {
   "cell_type": "code",
   "execution_count": 199,
   "metadata": {},
   "outputs": [],
   "source": [
    "X_train = sm.add_constant(X_train)"
   ]
  },
  {
   "cell_type": "code",
   "execution_count": 200,
   "metadata": {},
   "outputs": [
    {
     "data": {
      "text/html": [
       "<table class=\"simpletable\">\n",
       "<caption>OLS Regression Results</caption>\n",
       "<tr>\n",
       "  <th>Dep. Variable:</th>            <td>y</td>        <th>  R-squared:         </th>  <td>   0.702</td>  \n",
       "</tr>\n",
       "<tr>\n",
       "  <th>Model:</th>                   <td>OLS</td>       <th>  Adj. R-squared:    </th>  <td>   0.702</td>  \n",
       "</tr>\n",
       "<tr>\n",
       "  <th>Method:</th>             <td>Least Squares</td>  <th>  F-statistic:       </th>  <td>   2286.</td>  \n",
       "</tr>\n",
       "<tr>\n",
       "  <th>Date:</th>             <td>Wed, 24 Mar 2021</td> <th>  Prob (F-statistic):</th>   <td>  0.00</td>   \n",
       "</tr>\n",
       "<tr>\n",
       "  <th>Time:</th>                 <td>22:03:31</td>     <th>  Log-Likelihood:    </th> <td>-1.0874e+05</td>\n",
       "</tr>\n",
       "<tr>\n",
       "  <th>No. Observations:</th>      <td>  8740</td>      <th>  AIC:               </th>  <td>2.175e+05</td> \n",
       "</tr>\n",
       "<tr>\n",
       "  <th>Df Residuals:</th>          <td>  8730</td>      <th>  BIC:               </th>  <td>2.176e+05</td> \n",
       "</tr>\n",
       "<tr>\n",
       "  <th>Df Model:</th>              <td>     9</td>      <th>                     </th>      <td> </td>     \n",
       "</tr>\n",
       "<tr>\n",
       "  <th>Covariance Type:</th>      <td>nonrobust</td>    <th>                     </th>      <td> </td>     \n",
       "</tr>\n",
       "</table>\n",
       "<table class=\"simpletable\">\n",
       "<tr>\n",
       "    <td></td>       <th>coef</th>     <th>std err</th>      <th>t</th>      <th>P>|t|</th>  <th>[0.025</th>    <th>0.975]</th>  \n",
       "</tr>\n",
       "<tr>\n",
       "  <th>const</th> <td> 1.401e+06</td> <td> 9.26e+05</td> <td>    1.513</td> <td> 0.130</td> <td>-4.14e+05</td> <td> 3.22e+06</td>\n",
       "</tr>\n",
       "<tr>\n",
       "  <th>x1</th>    <td>  -90.6304</td> <td>   11.428</td> <td>   -7.930</td> <td> 0.000</td> <td> -113.033</td> <td>  -68.228</td>\n",
       "</tr>\n",
       "<tr>\n",
       "  <th>x2</th>    <td>  105.7373</td> <td>    1.427</td> <td>   74.093</td> <td> 0.000</td> <td>  102.940</td> <td>  108.535</td>\n",
       "</tr>\n",
       "<tr>\n",
       "  <th>x3</th>    <td>    0.0002</td> <td>    0.000</td> <td>    0.920</td> <td> 0.357</td> <td>   -0.000</td> <td>    0.001</td>\n",
       "</tr>\n",
       "<tr>\n",
       "  <th>x4</th>    <td>  871.5939</td> <td>   77.830</td> <td>   11.199</td> <td> 0.000</td> <td>  719.028</td> <td> 1024.160</td>\n",
       "</tr>\n",
       "<tr>\n",
       "  <th>x5</th>    <td> 1055.0176</td> <td>   21.998</td> <td>   47.960</td> <td> 0.000</td> <td> 1011.896</td> <td> 1098.139</td>\n",
       "</tr>\n",
       "<tr>\n",
       "  <th>x6</th>    <td> 8.278e+04</td> <td> 6999.336</td> <td>   11.827</td> <td> 0.000</td> <td> 6.91e+04</td> <td> 9.65e+04</td>\n",
       "</tr>\n",
       "<tr>\n",
       "  <th>x7</th>    <td>-1.451e+04</td> <td> 4057.741</td> <td>   -3.576</td> <td> 0.000</td> <td>-2.25e+04</td> <td>-6556.809</td>\n",
       "</tr>\n",
       "<tr>\n",
       "  <th>x8</th>    <td> 1.668e+04</td> <td> 1847.358</td> <td>    9.030</td> <td> 0.000</td> <td> 1.31e+04</td> <td> 2.03e+04</td>\n",
       "</tr>\n",
       "<tr>\n",
       "  <th>x9</th>    <td>  328.9729</td> <td>  204.860</td> <td>    1.606</td> <td> 0.108</td> <td>  -72.601</td> <td>  730.547</td>\n",
       "</tr>\n",
       "</table>\n",
       "<table class=\"simpletable\">\n",
       "<tr>\n",
       "  <th>Omnibus:</th>       <td>6365.773</td> <th>  Durbin-Watson:     </th>  <td>   1.956</td> \n",
       "</tr>\n",
       "<tr>\n",
       "  <th>Prob(Omnibus):</th>  <td> 0.000</td>  <th>  Jarque-Bera (JB):  </th> <td>719308.317</td>\n",
       "</tr>\n",
       "<tr>\n",
       "  <th>Skew:</th>           <td> 2.697</td>  <th>  Prob(JB):          </th>  <td>    0.00</td> \n",
       "</tr>\n",
       "<tr>\n",
       "  <th>Kurtosis:</th>       <td>47.115</td>  <th>  Cond. No.          </th>  <td>5.07e+09</td> \n",
       "</tr>\n",
       "</table><br/><br/>Notes:<br/>[1] Standard Errors assume that the covariance matrix of the errors is correctly specified.<br/>[2] The condition number is large, 5.07e+09. This might indicate that there are<br/>strong multicollinearity or other numerical problems."
      ],
      "text/plain": [
       "<class 'statsmodels.iolib.summary.Summary'>\n",
       "\"\"\"\n",
       "                            OLS Regression Results                            \n",
       "==============================================================================\n",
       "Dep. Variable:                      y   R-squared:                       0.702\n",
       "Model:                            OLS   Adj. R-squared:                  0.702\n",
       "Method:                 Least Squares   F-statistic:                     2286.\n",
       "Date:                Wed, 24 Mar 2021   Prob (F-statistic):               0.00\n",
       "Time:                        22:03:31   Log-Likelihood:            -1.0874e+05\n",
       "No. Observations:                8740   AIC:                         2.175e+05\n",
       "Df Residuals:                    8730   BIC:                         2.176e+05\n",
       "Df Model:                           9                                         \n",
       "Covariance Type:            nonrobust                                         \n",
       "==============================================================================\n",
       "                 coef    std err          t      P>|t|      [0.025      0.975]\n",
       "------------------------------------------------------------------------------\n",
       "const       1.401e+06   9.26e+05      1.513      0.130   -4.14e+05    3.22e+06\n",
       "x1           -90.6304     11.428     -7.930      0.000    -113.033     -68.228\n",
       "x2           105.7373      1.427     74.093      0.000     102.940     108.535\n",
       "x3             0.0002      0.000      0.920      0.357      -0.000       0.001\n",
       "x4           871.5939     77.830     11.199      0.000     719.028    1024.160\n",
       "x5          1055.0176     21.998     47.960      0.000    1011.896    1098.139\n",
       "x6          8.278e+04   6999.336     11.827      0.000    6.91e+04    9.65e+04\n",
       "x7         -1.451e+04   4057.741     -3.576      0.000   -2.25e+04   -6556.809\n",
       "x8          1.668e+04   1847.358      9.030      0.000    1.31e+04    2.03e+04\n",
       "x9           328.9729    204.860      1.606      0.108     -72.601     730.547\n",
       "==============================================================================\n",
       "Omnibus:                     6365.773   Durbin-Watson:                   1.956\n",
       "Prob(Omnibus):                  0.000   Jarque-Bera (JB):           719308.317\n",
       "Skew:                           2.697   Prob(JB):                         0.00\n",
       "Kurtosis:                      47.115   Cond. No.                     5.07e+09\n",
       "==============================================================================\n",
       "\n",
       "Notes:\n",
       "[1] Standard Errors assume that the covariance matrix of the errors is correctly specified.\n",
       "[2] The condition number is large, 5.07e+09. This might indicate that there are\n",
       "strong multicollinearity or other numerical problems.\n",
       "\"\"\""
      ]
     },
     "execution_count": 200,
     "metadata": {},
     "output_type": "execute_result"
    }
   ],
   "source": [
    "X_opt = X_train[:,np.arange(0,10)]\n",
    "regressor_OLS = sm.OLS(endog = y_train, exog = X_opt).fit()\n",
    "regressor_OLS.summary()"
   ]
  },
  {
   "cell_type": "code",
   "execution_count": 202,
   "metadata": {},
   "outputs": [],
   "source": [
    "X_opt = X_train[:,[0,1,2,4,5,6,7,8,9,10]]"
   ]
  },
  {
   "cell_type": "code",
   "execution_count": 203,
   "metadata": {},
   "outputs": [
    {
     "data": {
      "text/html": [
       "<table class=\"simpletable\">\n",
       "<caption>OLS Regression Results</caption>\n",
       "<tr>\n",
       "  <th>Dep. Variable:</th>            <td>y</td>        <th>  R-squared:         </th>  <td>   0.713</td>  \n",
       "</tr>\n",
       "<tr>\n",
       "  <th>Model:</th>                   <td>OLS</td>       <th>  Adj. R-squared:    </th>  <td>   0.713</td>  \n",
       "</tr>\n",
       "<tr>\n",
       "  <th>Method:</th>             <td>Least Squares</td>  <th>  F-statistic:       </th>  <td>   2409.</td>  \n",
       "</tr>\n",
       "<tr>\n",
       "  <th>Date:</th>             <td>Wed, 24 Mar 2021</td> <th>  Prob (F-statistic):</th>   <td>  0.00</td>   \n",
       "</tr>\n",
       "<tr>\n",
       "  <th>Time:</th>                 <td>22:03:59</td>     <th>  Log-Likelihood:    </th> <td>-1.0857e+05</td>\n",
       "</tr>\n",
       "<tr>\n",
       "  <th>No. Observations:</th>      <td>  8740</td>      <th>  AIC:               </th>  <td>2.172e+05</td> \n",
       "</tr>\n",
       "<tr>\n",
       "  <th>Df Residuals:</th>          <td>  8730</td>      <th>  BIC:               </th>  <td>2.172e+05</td> \n",
       "</tr>\n",
       "<tr>\n",
       "  <th>Df Model:</th>              <td>     9</td>      <th>                     </th>      <td> </td>     \n",
       "</tr>\n",
       "<tr>\n",
       "  <th>Covariance Type:</th>      <td>nonrobust</td>    <th>                     </th>      <td> </td>     \n",
       "</tr>\n",
       "</table>\n",
       "<table class=\"simpletable\">\n",
       "<tr>\n",
       "    <td></td>       <th>coef</th>     <th>std err</th>      <th>t</th>      <th>P>|t|</th>  <th>[0.025</th>    <th>0.975]</th>  \n",
       "</tr>\n",
       "<tr>\n",
       "  <th>const</th> <td>-2.625e+07</td> <td> 1.77e+06</td> <td>  -14.793</td> <td> 0.000</td> <td>-2.97e+07</td> <td>-2.28e+07</td>\n",
       "</tr>\n",
       "<tr>\n",
       "  <th>x1</th>    <td>  -94.1917</td> <td>   11.221</td> <td>   -8.394</td> <td> 0.000</td> <td> -116.188</td> <td>  -72.196</td>\n",
       "</tr>\n",
       "<tr>\n",
       "  <th>x2</th>    <td>  108.0740</td> <td>    1.407</td> <td>   76.822</td> <td> 0.000</td> <td>  105.316</td> <td>  110.832</td>\n",
       "</tr>\n",
       "<tr>\n",
       "  <th>x3</th>    <td>  831.0016</td> <td>   76.436</td> <td>   10.872</td> <td> 0.000</td> <td>  681.169</td> <td>  980.834</td>\n",
       "</tr>\n",
       "<tr>\n",
       "  <th>x4</th>    <td> 1033.5446</td> <td>   21.627</td> <td>   47.789</td> <td> 0.000</td> <td>  991.150</td> <td> 1075.939</td>\n",
       "</tr>\n",
       "<tr>\n",
       "  <th>x5</th>    <td> 8.316e+04</td> <td> 6871.368</td> <td>   12.103</td> <td> 0.000</td> <td> 6.97e+04</td> <td> 9.66e+04</td>\n",
       "</tr>\n",
       "<tr>\n",
       "  <th>x6</th>    <td>-1.834e+04</td> <td> 3989.132</td> <td>   -4.597</td> <td> 0.000</td> <td>-2.62e+04</td> <td>-1.05e+04</td>\n",
       "</tr>\n",
       "<tr>\n",
       "  <th>x7</th>    <td> 1.941e+04</td> <td> 1819.451</td> <td>   10.669</td> <td> 0.000</td> <td> 1.58e+04</td> <td>  2.3e+04</td>\n",
       "</tr>\n",
       "<tr>\n",
       "  <th>x8</th>    <td> 1133.9101</td> <td>  205.944</td> <td>    5.506</td> <td> 0.000</td> <td>  730.212</td> <td> 1537.608</td>\n",
       "</tr>\n",
       "<tr>\n",
       "  <th>x9</th>    <td> 1.367e+04</td> <td>  753.404</td> <td>   18.142</td> <td> 0.000</td> <td> 1.22e+04</td> <td> 1.51e+04</td>\n",
       "</tr>\n",
       "</table>\n",
       "<table class=\"simpletable\">\n",
       "<tr>\n",
       "  <th>Omnibus:</th>       <td>6564.327</td> <th>  Durbin-Watson:     </th>  <td>   1.952</td> \n",
       "</tr>\n",
       "<tr>\n",
       "  <th>Prob(Omnibus):</th>  <td> 0.000</td>  <th>  Jarque-Bera (JB):  </th> <td>786991.236</td>\n",
       "</tr>\n",
       "<tr>\n",
       "  <th>Skew:</th>           <td> 2.821</td>  <th>  Prob(JB):          </th>  <td>    0.00</td> \n",
       "</tr>\n",
       "<tr>\n",
       "  <th>Kurtosis:</th>       <td>49.144</td>  <th>  Cond. No.          </th>  <td>2.16e+08</td> \n",
       "</tr>\n",
       "</table><br/><br/>Notes:<br/>[1] Standard Errors assume that the covariance matrix of the errors is correctly specified.<br/>[2] The condition number is large, 2.16e+08. This might indicate that there are<br/>strong multicollinearity or other numerical problems."
      ],
      "text/plain": [
       "<class 'statsmodels.iolib.summary.Summary'>\n",
       "\"\"\"\n",
       "                            OLS Regression Results                            \n",
       "==============================================================================\n",
       "Dep. Variable:                      y   R-squared:                       0.713\n",
       "Model:                            OLS   Adj. R-squared:                  0.713\n",
       "Method:                 Least Squares   F-statistic:                     2409.\n",
       "Date:                Wed, 24 Mar 2021   Prob (F-statistic):               0.00\n",
       "Time:                        22:03:59   Log-Likelihood:            -1.0857e+05\n",
       "No. Observations:                8740   AIC:                         2.172e+05\n",
       "Df Residuals:                    8730   BIC:                         2.172e+05\n",
       "Df Model:                           9                                         \n",
       "Covariance Type:            nonrobust                                         \n",
       "==============================================================================\n",
       "                 coef    std err          t      P>|t|      [0.025      0.975]\n",
       "------------------------------------------------------------------------------\n",
       "const      -2.625e+07   1.77e+06    -14.793      0.000   -2.97e+07   -2.28e+07\n",
       "x1           -94.1917     11.221     -8.394      0.000    -116.188     -72.196\n",
       "x2           108.0740      1.407     76.822      0.000     105.316     110.832\n",
       "x3           831.0016     76.436     10.872      0.000     681.169     980.834\n",
       "x4          1033.5446     21.627     47.789      0.000     991.150    1075.939\n",
       "x5          8.316e+04   6871.368     12.103      0.000    6.97e+04    9.66e+04\n",
       "x6         -1.834e+04   3989.132     -4.597      0.000   -2.62e+04   -1.05e+04\n",
       "x7          1.941e+04   1819.451     10.669      0.000    1.58e+04     2.3e+04\n",
       "x8          1133.9101    205.944      5.506      0.000     730.212    1537.608\n",
       "x9          1.367e+04    753.404     18.142      0.000    1.22e+04    1.51e+04\n",
       "==============================================================================\n",
       "Omnibus:                     6564.327   Durbin-Watson:                   1.952\n",
       "Prob(Omnibus):                  0.000   Jarque-Bera (JB):           786991.236\n",
       "Skew:                           2.821   Prob(JB):                         0.00\n",
       "Kurtosis:                      49.144   Cond. No.                     2.16e+08\n",
       "==============================================================================\n",
       "\n",
       "Notes:\n",
       "[1] Standard Errors assume that the covariance matrix of the errors is correctly specified.\n",
       "[2] The condition number is large, 2.16e+08. This might indicate that there are\n",
       "strong multicollinearity or other numerical problems.\n",
       "\"\"\""
      ]
     },
     "execution_count": 203,
     "metadata": {},
     "output_type": "execute_result"
    }
   ],
   "source": [
    "regressor_OLS = sm.OLS(endog = y_train, exog = X_opt).fit()\n",
    "regressor_OLS.summary()"
   ]
  },
  {
   "cell_type": "code",
   "execution_count": 205,
   "metadata": {},
   "outputs": [],
   "source": [
    "y_predict = regressor_OLS.predict(X_test)"
   ]
  },
  {
   "cell_type": "code",
   "execution_count": 208,
   "metadata": {},
   "outputs": [
    {
     "name": "stdout",
     "output_type": "stream",
     "text": [
      "MSE: 4.21e+24\n"
     ]
    }
   ],
   "source": [
    "print('MSE: {:.2e}'.format(mean_squared_error(y_test, y_predict)))"
   ]
  },
  {
   "cell_type": "code",
   "execution_count": null,
   "metadata": {},
   "outputs": [],
   "source": []
  }
 ],
 "metadata": {
  "kernelspec": {
   "display_name": "Python 3",
   "language": "python",
   "name": "python3"
  },
  "language_info": {
   "codemirror_mode": {
    "name": "ipython",
    "version": 3
   },
   "file_extension": ".py",
   "mimetype": "text/x-python",
   "name": "python",
   "nbconvert_exporter": "python",
   "pygments_lexer": "ipython3",
   "version": "3.8.5"
  }
 },
 "nbformat": 4,
 "nbformat_minor": 4
}
