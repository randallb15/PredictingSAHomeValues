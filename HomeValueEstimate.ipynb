{
 "cells": [
  {
   "cell_type": "markdown",
   "metadata": {},
   "source": [
    "# Predicting Home Sale Price"
   ]
  },
  {
   "cell_type": "markdown",
   "metadata": {},
   "source": [
    "This will attempt to be similar to the Zestimate used on Zillow, the Redfin estimate used on Redfin, or any of the valuations provided by Collateral Analytics, CoreLogic, or Quantarium on Realtor.com.\n",
    "\n",
    "I will create a regression model and use it to predict valuation and compare to the other valuations on currently listed homes."
   ]
  },
  {
   "cell_type": "code",
   "execution_count": 85,
   "metadata": {},
   "outputs": [
    {
     "ename": "ImportError",
     "evalue": "cannot import name 'calculate_ten_percent' from 'src.helpers' (/Users/randallbloomquist/Desktop/Desktop/Galvanize/CAPSTONES/Sell Your Home in 30 days/src/helpers.py)",
     "output_type": "error",
     "traceback": [
      "\u001b[0;31m---------------------------------------------------------------------------\u001b[0m",
      "\u001b[0;31mImportError\u001b[0m                               Traceback (most recent call last)",
      "\u001b[0;32m<ipython-input-85-abdf67ee5d85>\u001b[0m in \u001b[0;36m<module>\u001b[0;34m\u001b[0m\n\u001b[1;32m      1\u001b[0m \u001b[0mget_ipython\u001b[0m\u001b[0;34m(\u001b[0m\u001b[0;34m)\u001b[0m\u001b[0;34m.\u001b[0m\u001b[0mrun_line_magic\u001b[0m\u001b[0;34m(\u001b[0m\u001b[0;34m'run'\u001b[0m\u001b[0;34m,\u001b[0m \u001b[0;34m'src/imports.py'\u001b[0m\u001b[0;34m)\u001b[0m\u001b[0;34m\u001b[0m\u001b[0;34m\u001b[0m\u001b[0m\n\u001b[0;32m----> 2\u001b[0;31m \u001b[0;32mfrom\u001b[0m \u001b[0msrc\u001b[0m\u001b[0;34m.\u001b[0m\u001b[0mhelpers\u001b[0m \u001b[0;32mimport\u001b[0m \u001b[0mcalculate_five_percent\u001b[0m\u001b[0;34m,\u001b[0m \u001b[0mcalculate_ten_percent\u001b[0m\u001b[0;34m\u001b[0m\u001b[0;34m\u001b[0m\u001b[0m\n\u001b[0m",
      "\u001b[0;31mImportError\u001b[0m: cannot import name 'calculate_ten_percent' from 'src.helpers' (/Users/randallbloomquist/Desktop/Desktop/Galvanize/CAPSTONES/Sell Your Home in 30 days/src/helpers.py)"
     ]
    }
   ],
   "source": [
    "%run src/imports.py\n",
    "from src.helpers import calculate_five_percent, calculate_ten_percent"
   ]
  },
  {
   "cell_type": "code",
   "execution_count": 82,
   "metadata": {},
   "outputs": [],
   "source": [
    "sns.set(rc={'figure.figsize':(16,4)})"
   ]
  },
  {
   "cell_type": "code",
   "execution_count": 37,
   "metadata": {},
   "outputs": [],
   "source": [
    "neighborhoods_cleaned = pd.read_pickle('data/neighborhoods_cleaned.pkl')\n",
    "neighborhoods_cleaned.reset_index(inplace=True)\n",
    "neighborhoods_cleaned.drop(['index','DAYS ON MARKET','PROPERTY TYPE','ADDRESS','CITY','STATE OR PROVINCE'],axis=1,inplace=True)\n",
    "#neighborhoods_cleaned = neighborhoods_cleaned.merge(pd.get_dummies(neighborhoods_cleaned['LOCATION'],drop_first=True), how='outer',left_index=True,right_index=True)\n",
    "neighborhoods_cleaned.drop(['LOCATION'],axis=1,inplace=True)\n",
    "neighborhoods_cleaned['SOLD DATE'] = pd.to_datetime(neighborhoods_cleaned['SOLD DATE'])\n",
    "neighborhoods_cleaned['MONTH'] = pd.DatetimeIndex(neighborhoods_cleaned['SOLD DATE']).month\n",
    "neighborhoods_cleaned['YEAR'] = pd.DatetimeIndex(neighborhoods_cleaned['SOLD DATE']).year\n",
    "neighborhoods_cleaned.drop(['SOLD DATE'],axis=1,inplace=True)\n",
    "neighborhoods_cleaned.drop(['MLS#','SALE TYPE','STATUS','NEXT OPEN HOUSE START TIME','NEXT OPEN HOUSE END TIME','URL (SEE http://www.redfin.com/buy-a-home/comparative-market-analysis FOR INFO ON PRICING)','SOURCE','FAVORITE','INTERESTED'], axis=1,inplace=True)\n",
    "neighborhoods_cleaned.dropna(inplace=True)"
   ]
  },
  {
   "cell_type": "code",
   "execution_count": 38,
   "metadata": {},
   "outputs": [],
   "source": [
    "neighborhoods_cleaned.to_pickle('data/modeldata.pkl')"
   ]
  },
  {
   "cell_type": "code",
   "execution_count": 39,
   "metadata": {},
   "outputs": [],
   "source": [
    "modeldata = neighborhoods_cleaned.copy()"
   ]
  },
  {
   "cell_type": "markdown",
   "metadata": {},
   "source": [
    "-----\n",
    "Data Density  \n",
    "= 11,654 / 11\n",
    "= 1000\n",
    "-----"
   ]
  },
  {
   "cell_type": "markdown",
   "metadata": {},
   "source": [
    "## Building a Model"
   ]
  },
  {
   "cell_type": "markdown",
   "metadata": {},
   "source": [
    "Smaller set:"
   ]
  },
  {
   "cell_type": "code",
   "execution_count": 40,
   "metadata": {},
   "outputs": [],
   "source": [
    "df_small = modeldata.sample(1000)"
   ]
  },
  {
   "cell_type": "code",
   "execution_count": 41,
   "metadata": {},
   "outputs": [],
   "source": [
    "y = df_small['PRICE'].values\n",
    "X = df_small.drop('PRICE',axis=1).values"
   ]
  },
  {
   "cell_type": "code",
   "execution_count": 42,
   "metadata": {},
   "outputs": [],
   "source": [
    "X_train, X_test, y_train, y_test = train_test_split(X,y)"
   ]
  },
  {
   "cell_type": "code",
   "execution_count": 43,
   "metadata": {},
   "outputs": [
    {
     "name": "stdout",
     "output_type": "stream",
     "text": [
      "score: 0.8543774000704493\n",
      "MSE: 1.422583e+09\n"
     ]
    }
   ],
   "source": [
    "rfr = RandomForestRegressor()\n",
    "rfr.fit(X_train,y_train)\n",
    "y_predict = rfr.predict(X_test)\n",
    "print(\"score:\", rfr.score(X_test, y_test))\n",
    "print('MSE: {:2e}'.format(mean_squared_error(y_test, y_predict)))"
   ]
  },
  {
   "cell_type": "code",
   "execution_count": 73,
   "metadata": {},
   "outputs": [
    {
     "data": {
      "text/plain": [
       "48.8"
      ]
     },
     "execution_count": 73,
     "metadata": {},
     "output_type": "execute_result"
    }
   ],
   "source": [
    "calculate_five_percent(y_predict,y_test)"
   ]
  },
  {
   "cell_type": "code",
   "execution_count": 86,
   "metadata": {},
   "outputs": [],
   "source": [
    "search_space = [{'regressor__alpha': 10 ** (np.linspace(-5, 5, 10)), \n",
    "                 'regressor__l1_ratio': np.linspace(0,1,6)}]\n",
    "\n",
    "# l_lasso / (l_lasso + l_ridge)\n",
    "# if l_lasso = 0: 0 / 1 = 0 (this is ridge regression)\n",
    "# if l_ridge = 0: l_lasso / l_lasso = 1 (this is LASSSO regression)\n",
    "\n",
    "pipe = Pipeline([('scaler', StandardScaler()), ('regressor', ElasticNet())])\n",
    "\n",
    "enet_cv = GridSearchCV(pipe, \n",
    "                      search_space, \n",
    "                      cv=KFold(10, shuffle=True), \n",
    "                      scoring='neg_mean_squared_error',\n",
    "                      return_train_score = True)"
   ]
  },
  {
   "cell_type": "code",
   "execution_count": 87,
   "metadata": {},
   "outputs": [
    {
     "name": "stderr",
     "output_type": "stream",
     "text": [
      "/Users/randallbloomquist/opt/anaconda3/lib/python3.8/site-packages/sklearn/linear_model/_coordinate_descent.py:529: ConvergenceWarning: Objective did not converge. You might want to increase the number of iterations. Duality gap: 1397526595922.1372, tolerance: 1186125044.7488189\n",
      "  model = cd_fast.enet_coordinate_descent(\n",
      "/Users/randallbloomquist/opt/anaconda3/lib/python3.8/site-packages/sklearn/linear_model/_coordinate_descent.py:529: ConvergenceWarning: Objective did not converge. You might want to increase the number of iterations. Duality gap: 1417597532078.9778, tolerance: 1159862609.8198588\n",
      "  model = cd_fast.enet_coordinate_descent(\n",
      "/Users/randallbloomquist/opt/anaconda3/lib/python3.8/site-packages/sklearn/linear_model/_coordinate_descent.py:529: ConvergenceWarning: Objective did not converge. You might want to increase the number of iterations. Duality gap: 1355913933669.8506, tolerance: 1119688132.0352123\n",
      "  model = cd_fast.enet_coordinate_descent(\n",
      "/Users/randallbloomquist/opt/anaconda3/lib/python3.8/site-packages/sklearn/linear_model/_coordinate_descent.py:529: ConvergenceWarning: Objective did not converge. You might want to increase the number of iterations. Duality gap: 1453431784767.3328, tolerance: 1228479668.3044217\n",
      "  model = cd_fast.enet_coordinate_descent(\n",
      "/Users/randallbloomquist/opt/anaconda3/lib/python3.8/site-packages/sklearn/linear_model/_coordinate_descent.py:529: ConvergenceWarning: Objective did not converge. You might want to increase the number of iterations. Duality gap: 1435536565522.7134, tolerance: 1221443204.9114006\n",
      "  model = cd_fast.enet_coordinate_descent(\n",
      "/Users/randallbloomquist/opt/anaconda3/lib/python3.8/site-packages/sklearn/linear_model/_coordinate_descent.py:529: ConvergenceWarning: Objective did not converge. You might want to increase the number of iterations. Duality gap: 1124045989182.2024, tolerance: 1083126207.3405545\n",
      "  model = cd_fast.enet_coordinate_descent(\n",
      "/Users/randallbloomquist/opt/anaconda3/lib/python3.8/site-packages/sklearn/linear_model/_coordinate_descent.py:529: ConvergenceWarning: Objective did not converge. You might want to increase the number of iterations. Duality gap: 1443145363637.442, tolerance: 1201398606.878122\n",
      "  model = cd_fast.enet_coordinate_descent(\n",
      "/Users/randallbloomquist/opt/anaconda3/lib/python3.8/site-packages/sklearn/linear_model/_coordinate_descent.py:529: ConvergenceWarning: Objective did not converge. You might want to increase the number of iterations. Duality gap: 1204652881885.636, tolerance: 1041595338.7514746\n",
      "  model = cd_fast.enet_coordinate_descent(\n",
      "/Users/randallbloomquist/opt/anaconda3/lib/python3.8/site-packages/sklearn/linear_model/_coordinate_descent.py:529: ConvergenceWarning: Objective did not converge. You might want to increase the number of iterations. Duality gap: 1443129225601.2146, tolerance: 1223619074.2804961\n",
      "  model = cd_fast.enet_coordinate_descent(\n",
      "/Users/randallbloomquist/opt/anaconda3/lib/python3.8/site-packages/sklearn/linear_model/_coordinate_descent.py:529: ConvergenceWarning: Objective did not converge. You might want to increase the number of iterations. Duality gap: 1426190767108.0105, tolerance: 1220240321.309364\n",
      "  model = cd_fast.enet_coordinate_descent(\n",
      "/Users/randallbloomquist/opt/anaconda3/lib/python3.8/site-packages/sklearn/linear_model/_coordinate_descent.py:529: ConvergenceWarning: Objective did not converge. You might want to increase the number of iterations. Duality gap: 1397880204858.4521, tolerance: 1186125044.7488189\n",
      "  model = cd_fast.enet_coordinate_descent(\n",
      "/Users/randallbloomquist/opt/anaconda3/lib/python3.8/site-packages/sklearn/linear_model/_coordinate_descent.py:529: ConvergenceWarning: Objective did not converge. You might want to increase the number of iterations. Duality gap: 1417912788279.0806, tolerance: 1159862609.8198588\n",
      "  model = cd_fast.enet_coordinate_descent(\n",
      "/Users/randallbloomquist/opt/anaconda3/lib/python3.8/site-packages/sklearn/linear_model/_coordinate_descent.py:529: ConvergenceWarning: Objective did not converge. You might want to increase the number of iterations. Duality gap: 1356258748160.3923, tolerance: 1119688132.0352123\n",
      "  model = cd_fast.enet_coordinate_descent(\n",
      "/Users/randallbloomquist/opt/anaconda3/lib/python3.8/site-packages/sklearn/linear_model/_coordinate_descent.py:529: ConvergenceWarning: Objective did not converge. You might want to increase the number of iterations. Duality gap: 1453778006198.938, tolerance: 1228479668.3044217\n",
      "  model = cd_fast.enet_coordinate_descent(\n",
      "/Users/randallbloomquist/opt/anaconda3/lib/python3.8/site-packages/sklearn/linear_model/_coordinate_descent.py:529: ConvergenceWarning: Objective did not converge. You might want to increase the number of iterations. Duality gap: 1435888270435.6365, tolerance: 1221443204.9114006\n",
      "  model = cd_fast.enet_coordinate_descent(\n",
      "/Users/randallbloomquist/opt/anaconda3/lib/python3.8/site-packages/sklearn/linear_model/_coordinate_descent.py:529: ConvergenceWarning: Objective did not converge. You might want to increase the number of iterations. Duality gap: 1124348667185.5605, tolerance: 1083126207.3405545\n",
      "  model = cd_fast.enet_coordinate_descent(\n",
      "/Users/randallbloomquist/opt/anaconda3/lib/python3.8/site-packages/sklearn/linear_model/_coordinate_descent.py:529: ConvergenceWarning: Objective did not converge. You might want to increase the number of iterations. Duality gap: 1443497824440.416, tolerance: 1201398606.878122\n",
      "  model = cd_fast.enet_coordinate_descent(\n",
      "/Users/randallbloomquist/opt/anaconda3/lib/python3.8/site-packages/sklearn/linear_model/_coordinate_descent.py:529: ConvergenceWarning: Objective did not converge. You might want to increase the number of iterations. Duality gap: 1204941576470.3857, tolerance: 1041595338.7514746\n",
      "  model = cd_fast.enet_coordinate_descent(\n",
      "/Users/randallbloomquist/opt/anaconda3/lib/python3.8/site-packages/sklearn/linear_model/_coordinate_descent.py:529: ConvergenceWarning: Objective did not converge. You might want to increase the number of iterations. Duality gap: 1443479750257.66, tolerance: 1223619074.2804961\n",
      "  model = cd_fast.enet_coordinate_descent(\n",
      "/Users/randallbloomquist/opt/anaconda3/lib/python3.8/site-packages/sklearn/linear_model/_coordinate_descent.py:529: ConvergenceWarning: Objective did not converge. You might want to increase the number of iterations. Duality gap: 1426555682237.6523, tolerance: 1220240321.309364\n",
      "  model = cd_fast.enet_coordinate_descent(\n",
      "/Users/randallbloomquist/opt/anaconda3/lib/python3.8/site-packages/sklearn/linear_model/_coordinate_descent.py:529: ConvergenceWarning: Objective did not converge. You might want to increase the number of iterations. Duality gap: 1402425170412.985, tolerance: 1186125044.7488189\n",
      "  model = cd_fast.enet_coordinate_descent(\n",
      "/Users/randallbloomquist/opt/anaconda3/lib/python3.8/site-packages/sklearn/linear_model/_coordinate_descent.py:529: ConvergenceWarning: Objective did not converge. You might want to increase the number of iterations. Duality gap: 1421969339122.0664, tolerance: 1159862609.8198588\n",
      "  model = cd_fast.enet_coordinate_descent(\n",
      "/Users/randallbloomquist/opt/anaconda3/lib/python3.8/site-packages/sklearn/linear_model/_coordinate_descent.py:529: ConvergenceWarning: Objective did not converge. You might want to increase the number of iterations. Duality gap: 1360691271165.95, tolerance: 1119688132.0352123\n",
      "  model = cd_fast.enet_coordinate_descent(\n",
      "/Users/randallbloomquist/opt/anaconda3/lib/python3.8/site-packages/sklearn/linear_model/_coordinate_descent.py:529: ConvergenceWarning: Objective did not converge. You might want to increase the number of iterations. Duality gap: 1458230982206.484, tolerance: 1228479668.3044217\n",
      "  model = cd_fast.enet_coordinate_descent(\n",
      "/Users/randallbloomquist/opt/anaconda3/lib/python3.8/site-packages/sklearn/linear_model/_coordinate_descent.py:529: ConvergenceWarning: Objective did not converge. You might want to increase the number of iterations. Duality gap: 1440410849054.5864, tolerance: 1221443204.9114006\n",
      "  model = cd_fast.enet_coordinate_descent(\n",
      "/Users/randallbloomquist/opt/anaconda3/lib/python3.8/site-packages/sklearn/linear_model/_coordinate_descent.py:529: ConvergenceWarning: Objective did not converge. You might want to increase the number of iterations. Duality gap: 1128244525275.492, tolerance: 1083126207.3405545\n",
      "  model = cd_fast.enet_coordinate_descent(\n",
      "/Users/randallbloomquist/opt/anaconda3/lib/python3.8/site-packages/sklearn/linear_model/_coordinate_descent.py:529: ConvergenceWarning: Objective did not converge. You might want to increase the number of iterations. Duality gap: 1448031084116.8315, tolerance: 1201398606.878122\n",
      "  model = cd_fast.enet_coordinate_descent(\n",
      "/Users/randallbloomquist/opt/anaconda3/lib/python3.8/site-packages/sklearn/linear_model/_coordinate_descent.py:529: ConvergenceWarning: Objective did not converge. You might want to increase the number of iterations. Duality gap: 1208656525432.9402, tolerance: 1041595338.7514746\n",
      "  model = cd_fast.enet_coordinate_descent(\n",
      "/Users/randallbloomquist/opt/anaconda3/lib/python3.8/site-packages/sklearn/linear_model/_coordinate_descent.py:529: ConvergenceWarning: Objective did not converge. You might want to increase the number of iterations. Duality gap: 1447987284966.7344, tolerance: 1223619074.2804961\n",
      "  model = cd_fast.enet_coordinate_descent(\n",
      "/Users/randallbloomquist/opt/anaconda3/lib/python3.8/site-packages/sklearn/linear_model/_coordinate_descent.py:529: ConvergenceWarning: Objective did not converge. You might want to increase the number of iterations. Duality gap: 1431246771571.407, tolerance: 1220240321.309364\n",
      "  model = cd_fast.enet_coordinate_descent(\n",
      "/Users/randallbloomquist/opt/anaconda3/lib/python3.8/site-packages/sklearn/linear_model/_coordinate_descent.py:529: ConvergenceWarning: Objective did not converge. You might want to increase the number of iterations. Duality gap: 1457905713589.7056, tolerance: 1186125044.7488189\n",
      "  model = cd_fast.enet_coordinate_descent(\n",
      "/Users/randallbloomquist/opt/anaconda3/lib/python3.8/site-packages/sklearn/linear_model/_coordinate_descent.py:529: ConvergenceWarning: Objective did not converge. You might want to increase the number of iterations. Duality gap: 1472115997766.7236, tolerance: 1159862609.8198588\n",
      "  model = cd_fast.enet_coordinate_descent(\n",
      "/Users/randallbloomquist/opt/anaconda3/lib/python3.8/site-packages/sklearn/linear_model/_coordinate_descent.py:529: ConvergenceWarning: Objective did not converge. You might want to increase the number of iterations. Duality gap: 1414859282168.4167, tolerance: 1119688132.0352123\n",
      "  model = cd_fast.enet_coordinate_descent(\n",
      "/Users/randallbloomquist/opt/anaconda3/lib/python3.8/site-packages/sklearn/linear_model/_coordinate_descent.py:529: ConvergenceWarning: Objective did not converge. You might want to increase the number of iterations. Duality gap: 1512996984201.747, tolerance: 1228479668.3044217\n",
      "  model = cd_fast.enet_coordinate_descent(\n",
      "/Users/randallbloomquist/opt/anaconda3/lib/python3.8/site-packages/sklearn/linear_model/_coordinate_descent.py:529: ConvergenceWarning: Objective did not converge. You might want to increase the number of iterations. Duality gap: 1495906957415.9363, tolerance: 1221443204.9114006\n",
      "  model = cd_fast.enet_coordinate_descent(\n",
      "/Users/randallbloomquist/opt/anaconda3/lib/python3.8/site-packages/sklearn/linear_model/_coordinate_descent.py:529: ConvergenceWarning: Objective did not converge. You might want to increase the number of iterations. Duality gap: 1176571057952.0168, tolerance: 1083126207.3405545\n",
      "  model = cd_fast.enet_coordinate_descent(\n",
      "/Users/randallbloomquist/opt/anaconda3/lib/python3.8/site-packages/sklearn/linear_model/_coordinate_descent.py:529: ConvergenceWarning: Objective did not converge. You might want to increase the number of iterations. Duality gap: 1503774084512.5156, tolerance: 1201398606.878122\n",
      "  model = cd_fast.enet_coordinate_descent(\n",
      "/Users/randallbloomquist/opt/anaconda3/lib/python3.8/site-packages/sklearn/linear_model/_coordinate_descent.py:529: ConvergenceWarning: Objective did not converge. You might want to increase the number of iterations. Duality gap: 1254606535499.0603, tolerance: 1041595338.7514746\n",
      "  model = cd_fast.enet_coordinate_descent(\n",
      "/Users/randallbloomquist/opt/anaconda3/lib/python3.8/site-packages/sklearn/linear_model/_coordinate_descent.py:529: ConvergenceWarning: Objective did not converge. You might want to increase the number of iterations. Duality gap: 1503320667624.6558, tolerance: 1223619074.2804961\n",
      "  model = cd_fast.enet_coordinate_descent(\n",
      "/Users/randallbloomquist/opt/anaconda3/lib/python3.8/site-packages/sklearn/linear_model/_coordinate_descent.py:529: ConvergenceWarning: Objective did not converge. You might want to increase the number of iterations. Duality gap: 1488618552276.7402, tolerance: 1220240321.309364\n",
      "  model = cd_fast.enet_coordinate_descent(\n",
      "/Users/randallbloomquist/opt/anaconda3/lib/python3.8/site-packages/sklearn/linear_model/_coordinate_descent.py:529: ConvergenceWarning: Objective did not converge. You might want to increase the number of iterations. Duality gap: 1962487942333.7876, tolerance: 1186125044.7488189\n",
      "  model = cd_fast.enet_coordinate_descent(\n",
      "/Users/randallbloomquist/opt/anaconda3/lib/python3.8/site-packages/sklearn/linear_model/_coordinate_descent.py:529: ConvergenceWarning: Objective did not converge. You might want to increase the number of iterations. Duality gap: 1954487642293.8877, tolerance: 1159862609.8198588\n",
      "  model = cd_fast.enet_coordinate_descent(\n",
      "/Users/randallbloomquist/opt/anaconda3/lib/python3.8/site-packages/sklearn/linear_model/_coordinate_descent.py:529: ConvergenceWarning: Objective did not converge. You might want to increase the number of iterations. Duality gap: 1904321695755.3594, tolerance: 1119688132.0352123\n",
      "  model = cd_fast.enet_coordinate_descent(\n",
      "/Users/randallbloomquist/opt/anaconda3/lib/python3.8/site-packages/sklearn/linear_model/_coordinate_descent.py:529: ConvergenceWarning: Objective did not converge. You might want to increase the number of iterations. Duality gap: 2027936348720.6826, tolerance: 1228479668.3044217\n",
      "  model = cd_fast.enet_coordinate_descent(\n",
      "/Users/randallbloomquist/opt/anaconda3/lib/python3.8/site-packages/sklearn/linear_model/_coordinate_descent.py:529: ConvergenceWarning: Objective did not converge. You might want to increase the number of iterations. Duality gap: 2012832052184.0903, tolerance: 1221443204.9114006\n",
      "  model = cd_fast.enet_coordinate_descent(\n",
      "/Users/randallbloomquist/opt/anaconda3/lib/python3.8/site-packages/sklearn/linear_model/_coordinate_descent.py:529: ConvergenceWarning: Objective did not converge. You might want to increase the number of iterations. Duality gap: 1648961485297.2002, tolerance: 1083126207.3405545\n",
      "  model = cd_fast.enet_coordinate_descent(\n",
      "/Users/randallbloomquist/opt/anaconda3/lib/python3.8/site-packages/sklearn/linear_model/_coordinate_descent.py:529: ConvergenceWarning: Objective did not converge. You might want to increase the number of iterations. Duality gap: 2022791147884.9941, tolerance: 1201398606.878122\n",
      "  model = cd_fast.enet_coordinate_descent(\n",
      "/Users/randallbloomquist/opt/anaconda3/lib/python3.8/site-packages/sklearn/linear_model/_coordinate_descent.py:529: ConvergenceWarning: Objective did not converge. You might want to increase the number of iterations. Duality gap: 1697618775022.4814, tolerance: 1041595338.7514746\n",
      "  model = cd_fast.enet_coordinate_descent(\n",
      "/Users/randallbloomquist/opt/anaconda3/lib/python3.8/site-packages/sklearn/linear_model/_coordinate_descent.py:529: ConvergenceWarning: Objective did not converge. You might want to increase the number of iterations. Duality gap: 2020688384973.4463, tolerance: 1223619074.2804961\n",
      "  model = cd_fast.enet_coordinate_descent(\n",
      "/Users/randallbloomquist/opt/anaconda3/lib/python3.8/site-packages/sklearn/linear_model/_coordinate_descent.py:529: ConvergenceWarning: Objective did not converge. You might want to increase the number of iterations. Duality gap: 2013465882332.2847, tolerance: 1220240321.309364\n",
      "  model = cd_fast.enet_coordinate_descent(\n",
      "/Users/randallbloomquist/opt/anaconda3/lib/python3.8/site-packages/sklearn/linear_model/_coordinate_descent.py:529: ConvergenceWarning: Objective did not converge. You might want to increase the number of iterations. Duality gap: 4138649624151.493, tolerance: 1186125044.7488189\n",
      "  model = cd_fast.enet_coordinate_descent(\n",
      "/Users/randallbloomquist/opt/anaconda3/lib/python3.8/site-packages/sklearn/linear_model/_coordinate_descent.py:529: ConvergenceWarning: Objective did not converge. You might want to increase the number of iterations. Duality gap: 4077463362522.5127, tolerance: 1159862609.8198588\n",
      "  model = cd_fast.enet_coordinate_descent(\n",
      "/Users/randallbloomquist/opt/anaconda3/lib/python3.8/site-packages/sklearn/linear_model/_coordinate_descent.py:529: ConvergenceWarning: Objective did not converge. You might want to increase the number of iterations. Duality gap: 3955333876239.236, tolerance: 1119688132.0352123\n",
      "  model = cd_fast.enet_coordinate_descent(\n",
      "/Users/randallbloomquist/opt/anaconda3/lib/python3.8/site-packages/sklearn/linear_model/_coordinate_descent.py:529: ConvergenceWarning: Objective did not converge. You might want to increase the number of iterations. Duality gap: 4285648119304.4834, tolerance: 1228479668.3044217\n",
      "  model = cd_fast.enet_coordinate_descent(\n",
      "/Users/randallbloomquist/opt/anaconda3/lib/python3.8/site-packages/sklearn/linear_model/_coordinate_descent.py:529: ConvergenceWarning: Objective did not converge. You might want to increase the number of iterations. Duality gap: 4262933585038.804, tolerance: 1221443204.9114006\n",
      "  model = cd_fast.enet_coordinate_descent(\n",
      "/Users/randallbloomquist/opt/anaconda3/lib/python3.8/site-packages/sklearn/linear_model/_coordinate_descent.py:529: ConvergenceWarning: Objective did not converge. You might want to increase the number of iterations. Duality gap: 3728721551320.1636, tolerance: 1083126207.3405545\n",
      "  model = cd_fast.enet_coordinate_descent(\n",
      "/Users/randallbloomquist/opt/anaconda3/lib/python3.8/site-packages/sklearn/linear_model/_coordinate_descent.py:529: ConvergenceWarning: Objective did not converge. You might want to increase the number of iterations. Duality gap: 4230787810953.9355, tolerance: 1201398606.878122\n",
      "  model = cd_fast.enet_coordinate_descent(\n",
      "/Users/randallbloomquist/opt/anaconda3/lib/python3.8/site-packages/sklearn/linear_model/_coordinate_descent.py:529: ConvergenceWarning: Objective did not converge. You might want to increase the number of iterations. Duality gap: 3637251899952.597, tolerance: 1041595338.7514746\n",
      "  model = cd_fast.enet_coordinate_descent(\n",
      "/Users/randallbloomquist/opt/anaconda3/lib/python3.8/site-packages/sklearn/linear_model/_coordinate_descent.py:529: ConvergenceWarning: Objective did not converge. You might want to increase the number of iterations. Duality gap: 4280004522930.286, tolerance: 1223619074.2804961\n",
      "  model = cd_fast.enet_coordinate_descent(\n",
      "/Users/randallbloomquist/opt/anaconda3/lib/python3.8/site-packages/sklearn/linear_model/_coordinate_descent.py:529: ConvergenceWarning: Objective did not converge. You might want to increase the number of iterations. Duality gap: 4262592137320.944, tolerance: 1220240321.309364\n",
      "  model = cd_fast.enet_coordinate_descent(\n",
      "/Users/randallbloomquist/opt/anaconda3/lib/python3.8/site-packages/sklearn/linear_model/_coordinate_descent.py:529: ConvergenceWarning: Objective did not converge. You might want to increase the number of iterations. Duality gap: 5704036319718.747, tolerance: 1186125044.7488189\n",
      "  model = cd_fast.enet_coordinate_descent(\n",
      "/Users/randallbloomquist/opt/anaconda3/lib/python3.8/site-packages/sklearn/linear_model/_coordinate_descent.py:529: ConvergenceWarning: Objective did not converge. You might want to increase the number of iterations. Duality gap: 5583137623324.706, tolerance: 1159862609.8198588\n",
      "  model = cd_fast.enet_coordinate_descent(\n",
      "/Users/randallbloomquist/opt/anaconda3/lib/python3.8/site-packages/sklearn/linear_model/_coordinate_descent.py:529: ConvergenceWarning: Objective did not converge. You might want to increase the number of iterations. Duality gap: 5392771137391.118, tolerance: 1119688132.0352123\n",
      "  model = cd_fast.enet_coordinate_descent(\n",
      "/Users/randallbloomquist/opt/anaconda3/lib/python3.8/site-packages/sklearn/linear_model/_coordinate_descent.py:529: ConvergenceWarning: Objective did not converge. You might want to increase the number of iterations. Duality gap: 5907928780071.627, tolerance: 1228479668.3044217\n",
      "  model = cd_fast.enet_coordinate_descent(\n",
      "/Users/randallbloomquist/opt/anaconda3/lib/python3.8/site-packages/sklearn/linear_model/_coordinate_descent.py:529: ConvergenceWarning: Objective did not converge. You might want to increase the number of iterations. Duality gap: 5874414221026.2, tolerance: 1221443204.9114006\n",
      "  model = cd_fast.enet_coordinate_descent(\n",
      "/Users/randallbloomquist/opt/anaconda3/lib/python3.8/site-packages/sklearn/linear_model/_coordinate_descent.py:529: ConvergenceWarning: Objective did not converge. You might want to increase the number of iterations. Duality gap: 5203311176234.08, tolerance: 1083126207.3405545\n",
      "  model = cd_fast.enet_coordinate_descent(\n",
      "/Users/randallbloomquist/opt/anaconda3/lib/python3.8/site-packages/sklearn/linear_model/_coordinate_descent.py:529: ConvergenceWarning: Objective did not converge. You might want to increase the number of iterations. Duality gap: 5784115440604.896, tolerance: 1201398606.878122\n",
      "  model = cd_fast.enet_coordinate_descent(\n",
      "/Users/randallbloomquist/opt/anaconda3/lib/python3.8/site-packages/sklearn/linear_model/_coordinate_descent.py:529: ConvergenceWarning: Objective did not converge. You might want to increase the number of iterations. Duality gap: 5010439916929.755, tolerance: 1041595338.7514746\n",
      "  model = cd_fast.enet_coordinate_descent(\n",
      "/Users/randallbloomquist/opt/anaconda3/lib/python3.8/site-packages/sklearn/linear_model/_coordinate_descent.py:529: ConvergenceWarning: Objective did not converge. You might want to increase the number of iterations. Duality gap: 5887043339304.073, tolerance: 1223619074.2804961\n",
      "  model = cd_fast.enet_coordinate_descent(\n",
      "/Users/randallbloomquist/opt/anaconda3/lib/python3.8/site-packages/sklearn/linear_model/_coordinate_descent.py:529: ConvergenceWarning: Objective did not converge. You might want to increase the number of iterations. Duality gap: 5869258407826.989, tolerance: 1220240321.309364\n",
      "  model = cd_fast.enet_coordinate_descent(\n",
      "/Users/randallbloomquist/opt/anaconda3/lib/python3.8/site-packages/sklearn/linear_model/_coordinate_descent.py:529: ConvergenceWarning: Objective did not converge. You might want to increase the number of iterations. Duality gap: 5912167178299.074, tolerance: 1186125044.7488189\n",
      "  model = cd_fast.enet_coordinate_descent(\n",
      "/Users/randallbloomquist/opt/anaconda3/lib/python3.8/site-packages/sklearn/linear_model/_coordinate_descent.py:529: ConvergenceWarning: Objective did not converge. You might want to increase the number of iterations. Duality gap: 5781720480892.661, tolerance: 1159862609.8198588\n",
      "  model = cd_fast.enet_coordinate_descent(\n",
      "/Users/randallbloomquist/opt/anaconda3/lib/python3.8/site-packages/sklearn/linear_model/_coordinate_descent.py:529: ConvergenceWarning: Objective did not converge. You might want to increase the number of iterations. Duality gap: 5581709109282.165, tolerance: 1119688132.0352123\n",
      "  model = cd_fast.enet_coordinate_descent(\n",
      "/Users/randallbloomquist/opt/anaconda3/lib/python3.8/site-packages/sklearn/linear_model/_coordinate_descent.py:529: ConvergenceWarning: Objective did not converge. You might want to increase the number of iterations. Duality gap: 6123302167098.248, tolerance: 1228479668.3044217\n",
      "  model = cd_fast.enet_coordinate_descent(\n",
      "/Users/randallbloomquist/opt/anaconda3/lib/python3.8/site-packages/sklearn/linear_model/_coordinate_descent.py:529: ConvergenceWarning: Objective did not converge. You might want to increase the number of iterations. Duality gap: 6088256019337.958, tolerance: 1221443204.9114006\n",
      "  model = cd_fast.enet_coordinate_descent(\n",
      "/Users/randallbloomquist/opt/anaconda3/lib/python3.8/site-packages/sklearn/linear_model/_coordinate_descent.py:529: ConvergenceWarning: Objective did not converge. You might want to increase the number of iterations. Duality gap: 5398345148704.742, tolerance: 1083126207.3405545\n",
      "  model = cd_fast.enet_coordinate_descent(\n",
      "/Users/randallbloomquist/opt/anaconda3/lib/python3.8/site-packages/sklearn/linear_model/_coordinate_descent.py:529: ConvergenceWarning: Objective did not converge. You might want to increase the number of iterations. Duality gap: 5988855179192.063, tolerance: 1201398606.878122\n",
      "  model = cd_fast.enet_coordinate_descent(\n",
      "/Users/randallbloomquist/opt/anaconda3/lib/python3.8/site-packages/sklearn/linear_model/_coordinate_descent.py:529: ConvergenceWarning: Objective did not converge. You might want to increase the number of iterations. Duality gap: 5191895984722.196, tolerance: 1041595338.7514746\n",
      "  model = cd_fast.enet_coordinate_descent(\n",
      "/Users/randallbloomquist/opt/anaconda3/lib/python3.8/site-packages/sklearn/linear_model/_coordinate_descent.py:529: ConvergenceWarning: Objective did not converge. You might want to increase the number of iterations. Duality gap: 6099288819590.698, tolerance: 1223619074.2804961\n",
      "  model = cd_fast.enet_coordinate_descent(\n",
      "/Users/randallbloomquist/opt/anaconda3/lib/python3.8/site-packages/sklearn/linear_model/_coordinate_descent.py:529: ConvergenceWarning: Objective did not converge. You might want to increase the number of iterations. Duality gap: 6082313305077.611, tolerance: 1220240321.309364\n",
      "  model = cd_fast.enet_coordinate_descent(\n",
      "/Users/randallbloomquist/opt/anaconda3/lib/python3.8/site-packages/sklearn/linear_model/_coordinate_descent.py:529: ConvergenceWarning: Objective did not converge. You might want to increase the number of iterations. Duality gap: 5929190289891.123, tolerance: 1186125044.7488189\n",
      "  model = cd_fast.enet_coordinate_descent(\n",
      "/Users/randallbloomquist/opt/anaconda3/lib/python3.8/site-packages/sklearn/linear_model/_coordinate_descent.py:529: ConvergenceWarning: Objective did not converge. You might want to increase the number of iterations. Duality gap: 5797945507280.149, tolerance: 1159862609.8198588\n",
      "  model = cd_fast.enet_coordinate_descent(\n",
      "/Users/randallbloomquist/opt/anaconda3/lib/python3.8/site-packages/sklearn/linear_model/_coordinate_descent.py:529: ConvergenceWarning: Objective did not converge. You might want to increase the number of iterations. Duality gap: 5597140086681.67, tolerance: 1119688132.0352123\n",
      "  model = cd_fast.enet_coordinate_descent(\n",
      "/Users/randallbloomquist/opt/anaconda3/lib/python3.8/site-packages/sklearn/linear_model/_coordinate_descent.py:529: ConvergenceWarning: Objective did not converge. You might want to increase the number of iterations. Duality gap: 6140913824024.117, tolerance: 1228479668.3044217\n",
      "  model = cd_fast.enet_coordinate_descent(\n",
      "/Users/randallbloomquist/opt/anaconda3/lib/python3.8/site-packages/sklearn/linear_model/_coordinate_descent.py:529: ConvergenceWarning: Objective did not converge. You might want to increase the number of iterations. Duality gap: 6105742094459.749, tolerance: 1221443204.9114006\n",
      "  model = cd_fast.enet_coordinate_descent(\n",
      "/Users/randallbloomquist/opt/anaconda3/lib/python3.8/site-packages/sklearn/linear_model/_coordinate_descent.py:529: ConvergenceWarning: Objective did not converge. You might want to increase the number of iterations. Duality gap: 5414287288508.152, tolerance: 1083126207.3405545\n",
      "  model = cd_fast.enet_coordinate_descent(\n",
      "/Users/randallbloomquist/opt/anaconda3/lib/python3.8/site-packages/sklearn/linear_model/_coordinate_descent.py:529: ConvergenceWarning: Objective did not converge. You might want to increase the number of iterations. Duality gap: 6005583105398.685, tolerance: 1201398606.878122\n",
      "  model = cd_fast.enet_coordinate_descent(\n",
      "/Users/randallbloomquist/opt/anaconda3/lib/python3.8/site-packages/sklearn/linear_model/_coordinate_descent.py:529: ConvergenceWarning: Objective did not converge. You might want to increase the number of iterations. Duality gap: 5206726642443.359, tolerance: 1041595338.7514746\n",
      "  model = cd_fast.enet_coordinate_descent(\n",
      "/Users/randallbloomquist/opt/anaconda3/lib/python3.8/site-packages/sklearn/linear_model/_coordinate_descent.py:529: ConvergenceWarning: Objective did not converge. You might want to increase the number of iterations. Duality gap: 6116633440450.087, tolerance: 1223619074.2804961\n",
      "  model = cd_fast.enet_coordinate_descent(\n",
      "/Users/randallbloomquist/opt/anaconda3/lib/python3.8/site-packages/sklearn/linear_model/_coordinate_descent.py:529: ConvergenceWarning: Objective did not converge. You might want to increase the number of iterations. Duality gap: 6099733262108.388, tolerance: 1220240321.309364\n",
      "  model = cd_fast.enet_coordinate_descent(\n",
      "/Users/randallbloomquist/opt/anaconda3/lib/python3.8/site-packages/sklearn/linear_model/_coordinate_descent.py:529: ConvergenceWarning: Objective did not converge. You might want to increase the number of iterations. Duality gap: 5930514087135.953, tolerance: 1186125044.7488189\n",
      "  model = cd_fast.enet_coordinate_descent(\n",
      "/Users/randallbloomquist/opt/anaconda3/lib/python3.8/site-packages/sklearn/linear_model/_coordinate_descent.py:529: ConvergenceWarning: Objective did not converge. You might want to increase the number of iterations. Duality gap: 5799207132710.383, tolerance: 1159862609.8198588\n",
      "  model = cd_fast.enet_coordinate_descent(\n",
      "/Users/randallbloomquist/opt/anaconda3/lib/python3.8/site-packages/sklearn/linear_model/_coordinate_descent.py:529: ConvergenceWarning: Objective did not converge. You might want to increase the number of iterations. Duality gap: 5598339930725.734, tolerance: 1119688132.0352123\n",
      "  model = cd_fast.enet_coordinate_descent(\n",
      "/Users/randallbloomquist/opt/anaconda3/lib/python3.8/site-packages/sklearn/linear_model/_coordinate_descent.py:529: ConvergenceWarning: Objective did not converge. You might want to increase the number of iterations. Duality gap: 6142283364775.603, tolerance: 1228479668.3044217\n",
      "  model = cd_fast.enet_coordinate_descent(\n",
      "/Users/randallbloomquist/opt/anaconda3/lib/python3.8/site-packages/sklearn/linear_model/_coordinate_descent.py:529: ConvergenceWarning: Objective did not converge. You might want to increase the number of iterations. Duality gap: 6107101867821.158, tolerance: 1221443204.9114006\n",
      "  model = cd_fast.enet_coordinate_descent(\n",
      "/Users/randallbloomquist/opt/anaconda3/lib/python3.8/site-packages/sklearn/linear_model/_coordinate_descent.py:529: ConvergenceWarning: Objective did not converge. You might want to increase the number of iterations. Duality gap: 5415526962858.19, tolerance: 1083126207.3405545\n",
      "  model = cd_fast.enet_coordinate_descent(\n",
      "/Users/randallbloomquist/opt/anaconda3/lib/python3.8/site-packages/sklearn/linear_model/_coordinate_descent.py:529: ConvergenceWarning: Objective did not converge. You might want to increase the number of iterations. Duality gap: 6006883835107.52, tolerance: 1201398606.878122\n",
      "  model = cd_fast.enet_coordinate_descent(\n",
      "/Users/randallbloomquist/opt/anaconda3/lib/python3.8/site-packages/sklearn/linear_model/_coordinate_descent.py:529: ConvergenceWarning: Objective did not converge. You might want to increase the number of iterations. Duality gap: 5207879876835.857, tolerance: 1041595338.7514746\n",
      "  model = cd_fast.enet_coordinate_descent(\n",
      "/Users/randallbloomquist/opt/anaconda3/lib/python3.8/site-packages/sklearn/linear_model/_coordinate_descent.py:529: ConvergenceWarning: Objective did not converge. You might want to increase the number of iterations. Duality gap: 6117982144428.105, tolerance: 1223619074.2804961\n",
      "  model = cd_fast.enet_coordinate_descent(\n",
      "/Users/randallbloomquist/opt/anaconda3/lib/python3.8/site-packages/sklearn/linear_model/_coordinate_descent.py:529: ConvergenceWarning: Objective did not converge. You might want to increase the number of iterations. Duality gap: 6101087882492.755, tolerance: 1220240321.309364\n",
      "  model = cd_fast.enet_coordinate_descent(\n"
     ]
    },
    {
     "data": {
      "text/plain": [
       "{'regressor__alpha': 599.4842503189421, 'regressor__l1_ratio': 1.0}"
      ]
     },
     "execution_count": 87,
     "metadata": {},
     "output_type": "execute_result"
    }
   ],
   "source": [
    "enet_cv.fit(X_train,y_train)\n",
    "\n",
    "enet_cv.best_params_"
   ]
  },
  {
   "cell_type": "code",
   "execution_count": 88,
   "metadata": {},
   "outputs": [
    {
     "name": "stdout",
     "output_type": "stream",
     "text": [
      "MSE: 2.216383e+09\n"
     ]
    }
   ],
   "source": [
    "y_predict = enet_cv.predict(X_test)\n",
    "print('MSE: {:2e}'.format(mean_squared_error(y_test, y_predict)))"
   ]
  },
  {
   "cell_type": "code",
   "execution_count": 89,
   "metadata": {},
   "outputs": [
    {
     "data": {
      "text/plain": [
       "27.6"
      ]
     },
     "execution_count": 89,
     "metadata": {},
     "output_type": "execute_result"
    }
   ],
   "source": [
    "calculate_five_percent(y_predict,y_test)"
   ]
  },
  {
   "cell_type": "code",
   "execution_count": 90,
   "metadata": {},
   "outputs": [
    {
     "name": "stdout",
     "output_type": "stream",
     "text": [
      "score: 0.7723728171466584\n",
      "MSE: 2.223683e+09\n"
     ]
    }
   ],
   "source": [
    "ridge = Ridge(alpha=1)\n",
    "ridge.fit(X_train,y_train)\n",
    "y_predict = ridge.predict(X_test)\n",
    "print(\"score:\", ridge.score(X_test, y_test))\n",
    "print('MSE: {:2e}'.format(mean_squared_error(y_test, y_predict)))"
   ]
  },
  {
   "cell_type": "code",
   "execution_count": 91,
   "metadata": {},
   "outputs": [
    {
     "data": {
      "text/plain": [
       "(750, 10)"
      ]
     },
     "execution_count": 91,
     "metadata": {},
     "output_type": "execute_result"
    }
   ],
   "source": [
    "X_train.shape"
   ]
  },
  {
   "cell_type": "code",
   "execution_count": 92,
   "metadata": {},
   "outputs": [
    {
     "data": {
      "text/plain": [
       "(750,)"
      ]
     },
     "execution_count": 92,
     "metadata": {},
     "output_type": "execute_result"
    }
   ],
   "source": [
    "y_train.shape"
   ]
  },
  {
   "cell_type": "code",
   "execution_count": 93,
   "metadata": {},
   "outputs": [
    {
     "name": "stdout",
     "output_type": "stream",
     "text": [
      "score: 0.7722837384524026\n",
      "MSE: 2.224553e+09\n"
     ]
    }
   ],
   "source": [
    "lr = LinearRegression()\n",
    "lr.fit(X_train,y_train)\n",
    "y_predict = lr.predict(X_test)\n",
    "print(\"score:\", lr.score(X_test, y_test))\n",
    "print('MSE: {:2e}'.format(mean_squared_error(y_test, y_predict)))"
   ]
  },
  {
   "cell_type": "code",
   "execution_count": 94,
   "metadata": {},
   "outputs": [
    {
     "data": {
      "text/plain": [
       "28.000000000000004"
      ]
     },
     "execution_count": 94,
     "metadata": {},
     "output_type": "execute_result"
    }
   ],
   "source": [
    "calculate_five_percent(y_predict,y_test)"
   ]
  },
  {
   "cell_type": "code",
   "execution_count": 21,
   "metadata": {},
   "outputs": [
    {
     "data": {
      "text/plain": [
       "array([-5, -4, -3, -2, -1,  0,  1,  2,  3,  4])"
      ]
     },
     "execution_count": 21,
     "metadata": {},
     "output_type": "execute_result"
    }
   ],
   "source": [
    "np.arange(-5,5,1)"
   ]
  },
  {
   "cell_type": "code",
   "execution_count": 22,
   "metadata": {},
   "outputs": [
    {
     "data": {
      "text/plain": [
       "numpy.ndarray"
      ]
     },
     "execution_count": 22,
     "metadata": {},
     "output_type": "execute_result"
    }
   ],
   "source": [
    "type(y_train)"
   ]
  },
  {
   "cell_type": "code",
   "execution_count": 23,
   "metadata": {},
   "outputs": [
    {
     "name": "stdout",
     "output_type": "stream",
     "text": [
      "Ridge Accuracy: -2.76e+09\n"
     ]
    }
   ],
   "source": [
    "kf = KFold()\n",
    "skf = StratifiedKFold()\n",
    "ridge_pipe = Pipeline([('scaler', StandardScaler()), ('regressor', Ridge())])\n",
    "ridge_grid_params = {'regressor__alpha': np.arange(0,50,1)}\n",
    "ridge_grid = GridSearchCV(ridge_pipe, ridge_grid_params, cv=kf, scoring = 'neg_mean_squared_error')\n",
    "ridge_grid.fit(X_train, y_train)\n",
    "print(\"Ridge Accuracy: {:.2e}\".format(ridge_grid.score(X_test, y_test)))"
   ]
  },
  {
   "cell_type": "code",
   "execution_count": 24,
   "metadata": {},
   "outputs": [
    {
     "name": "stdout",
     "output_type": "stream",
     "text": [
      "Lasso Accuracy: -2.75e+09\n"
     ]
    }
   ],
   "source": [
    "kf = KFold()\n",
    "skf = StratifiedKFold()\n",
    "lasso_pipe = Pipeline([('scaler', StandardScaler()), ('regressor', Lasso())])\n",
    "lasso_grid_params = {'regressor__alpha': np.arange(0.1,0.9,0.1)}\n",
    "lasso_grid = GridSearchCV(lasso_pipe, lasso_grid_params, cv=kf, scoring = 'neg_mean_squared_error')\n",
    "lasso_grid.fit(X_train, y_train)\n",
    "print(\"Lasso Accuracy: {:.2e}\".format(lasso_grid.score(X_test, y_test)))"
   ]
  },
  {
   "cell_type": "code",
   "execution_count": 32,
   "metadata": {},
   "outputs": [
    {
     "name": "stdout",
     "output_type": "stream",
     "text": [
      "gbr Accuracy: -1.66e+09\n"
     ]
    }
   ],
   "source": [
    "kf = KFold()\n",
    "skf = StratifiedKFold()\n",
    "gbr_pipe = Pipeline([('scaler', StandardScaler()), ('regressor', GradientBoostingRegressor(loss='huber'))])\n",
    "gbr_grid_params = {'regressor__alpha': np.arange(0.1,0.9,0.2),\n",
    "                  'regressor__max_depth': np.arange(1,9,2),\n",
    "                  'regressor__learning_rate': np.arange(0.01,0.2,0.03)}\n",
    "gbr_grid = GridSearchCV(gbr_pipe, gbr_grid_params, cv=kf, scoring = 'neg_mean_squared_error')\n",
    "gbr_grid.fit(X_train, y_train)\n",
    "print(\"gbr Accuracy: {:.2e}\".format(gbr_grid.score(X_test, y_test)))"
   ]
  },
  {
   "cell_type": "code",
   "execution_count": 27,
   "metadata": {},
   "outputs": [
    {
     "data": {
      "text/plain": [
       "{'regressor__alpha': 0.4,\n",
       " 'regressor__learning_rate': 0.16000000000000003,\n",
       " 'regressor__max_depth': 4}"
      ]
     },
     "execution_count": 27,
     "metadata": {},
     "output_type": "execute_result"
    }
   ],
   "source": [
    "gbr_grid.best_params_"
   ]
  },
  {
   "cell_type": "code",
   "execution_count": 26,
   "metadata": {},
   "outputs": [
    {
     "name": "stdout",
     "output_type": "stream",
     "text": [
      "gbr Accuracy: -1.61e+09\n"
     ]
    }
   ],
   "source": [
    "kf = KFold()\n",
    "skf = StratifiedKFold()\n",
    "gbr_pipe2 = Pipeline([('scaler', StandardScaler()), ('regressor', GradientBoostingRegressor(loss='huber'))])\n",
    "gbr_grid_params2 = {'regressor__alpha': np.arange(0.1,0.9,0.3)}\n",
    "gbr_grid2 = GridSearchCV(gbr_pipe2, gbr_grid_params2, cv=kf, scoring = 'neg_mean_squared_error')\n",
    "gbr_grid2.fit(X_train, y_train)\n",
    "print(\"gbr Accuracy: {:.2e}\".format(gbr_grid.score(X_test, y_test)))"
   ]
  },
  {
   "cell_type": "code",
   "execution_count": 30,
   "metadata": {},
   "outputs": [
    {
     "data": {
      "text/plain": [
       "{'regressor__alpha': 0.7000000000000001}"
      ]
     },
     "execution_count": 30,
     "metadata": {},
     "output_type": "execute_result"
    }
   ],
   "source": [
    "gbr_grid2.best_params_"
   ]
  },
  {
   "cell_type": "code",
   "execution_count": 183,
   "metadata": {},
   "outputs": [
    {
     "data": {
      "text/plain": [
       "dict_keys(['explained_variance', 'r2', 'max_error', 'neg_median_absolute_error', 'neg_mean_absolute_error', 'neg_mean_squared_error', 'neg_mean_squared_log_error', 'neg_root_mean_squared_error', 'neg_mean_poisson_deviance', 'neg_mean_gamma_deviance', 'accuracy', 'roc_auc', 'roc_auc_ovr', 'roc_auc_ovo', 'roc_auc_ovr_weighted', 'roc_auc_ovo_weighted', 'balanced_accuracy', 'average_precision', 'neg_log_loss', 'neg_brier_score', 'adjusted_rand_score', 'homogeneity_score', 'completeness_score', 'v_measure_score', 'mutual_info_score', 'adjusted_mutual_info_score', 'normalized_mutual_info_score', 'fowlkes_mallows_score', 'precision', 'precision_macro', 'precision_micro', 'precision_samples', 'precision_weighted', 'recall', 'recall_macro', 'recall_micro', 'recall_samples', 'recall_weighted', 'f1', 'f1_macro', 'f1_micro', 'f1_samples', 'f1_weighted', 'jaccard', 'jaccard_macro', 'jaccard_micro', 'jaccard_samples', 'jaccard_weighted'])"
      ]
     },
     "execution_count": 183,
     "metadata": {},
     "output_type": "execute_result"
    }
   ],
   "source": [
    "SCORERS.keys()"
   ]
  },
  {
   "cell_type": "code",
   "execution_count": 184,
   "metadata": {},
   "outputs": [
    {
     "data": {
      "text/plain": [
       "array([0, 1, 2, 3, 4, 5, 6, 7, 8, 9])"
      ]
     },
     "execution_count": 184,
     "metadata": {},
     "output_type": "execute_result"
    }
   ],
   "source": [
    "np.arange(0,10)"
   ]
  },
  {
   "cell_type": "code",
   "execution_count": 95,
   "metadata": {},
   "outputs": [],
   "source": [
    "X_df = pd.DataFrame(X)"
   ]
  },
  {
   "cell_type": "code",
   "execution_count": 96,
   "metadata": {},
   "outputs": [
    {
     "data": {
      "text/html": [
       "<div>\n",
       "<style scoped>\n",
       "    .dataframe tbody tr th:only-of-type {\n",
       "        vertical-align: middle;\n",
       "    }\n",
       "\n",
       "    .dataframe tbody tr th {\n",
       "        vertical-align: top;\n",
       "    }\n",
       "\n",
       "    .dataframe thead th {\n",
       "        text-align: right;\n",
       "    }\n",
       "</style>\n",
       "<table border=\"1\" class=\"dataframe\">\n",
       "  <thead>\n",
       "    <tr style=\"text-align: right;\">\n",
       "      <th></th>\n",
       "      <th>0</th>\n",
       "      <th>1</th>\n",
       "      <th>2</th>\n",
       "      <th>3</th>\n",
       "      <th>4</th>\n",
       "      <th>5</th>\n",
       "      <th>6</th>\n",
       "      <th>7</th>\n",
       "      <th>8</th>\n",
       "      <th>9</th>\n",
       "    </tr>\n",
       "  </thead>\n",
       "  <tbody>\n",
       "    <tr>\n",
       "      <th>0</th>\n",
       "      <td>True</td>\n",
       "      <td>False</td>\n",
       "      <td>False</td>\n",
       "      <td>False</td>\n",
       "      <td>False</td>\n",
       "      <td>False</td>\n",
       "      <td>False</td>\n",
       "      <td>False</td>\n",
       "      <td>False</td>\n",
       "      <td>False</td>\n",
       "    </tr>\n",
       "    <tr>\n",
       "      <th>1</th>\n",
       "      <td>False</td>\n",
       "      <td>True</td>\n",
       "      <td>True</td>\n",
       "      <td>False</td>\n",
       "      <td>True</td>\n",
       "      <td>True</td>\n",
       "      <td>False</td>\n",
       "      <td>True</td>\n",
       "      <td>False</td>\n",
       "      <td>False</td>\n",
       "    </tr>\n",
       "    <tr>\n",
       "      <th>2</th>\n",
       "      <td>False</td>\n",
       "      <td>True</td>\n",
       "      <td>True</td>\n",
       "      <td>False</td>\n",
       "      <td>True</td>\n",
       "      <td>False</td>\n",
       "      <td>False</td>\n",
       "      <td>True</td>\n",
       "      <td>False</td>\n",
       "      <td>False</td>\n",
       "    </tr>\n",
       "    <tr>\n",
       "      <th>3</th>\n",
       "      <td>False</td>\n",
       "      <td>False</td>\n",
       "      <td>False</td>\n",
       "      <td>True</td>\n",
       "      <td>False</td>\n",
       "      <td>False</td>\n",
       "      <td>False</td>\n",
       "      <td>False</td>\n",
       "      <td>False</td>\n",
       "      <td>False</td>\n",
       "    </tr>\n",
       "    <tr>\n",
       "      <th>4</th>\n",
       "      <td>False</td>\n",
       "      <td>True</td>\n",
       "      <td>True</td>\n",
       "      <td>False</td>\n",
       "      <td>True</td>\n",
       "      <td>True</td>\n",
       "      <td>False</td>\n",
       "      <td>True</td>\n",
       "      <td>False</td>\n",
       "      <td>False</td>\n",
       "    </tr>\n",
       "    <tr>\n",
       "      <th>5</th>\n",
       "      <td>False</td>\n",
       "      <td>True</td>\n",
       "      <td>False</td>\n",
       "      <td>False</td>\n",
       "      <td>True</td>\n",
       "      <td>True</td>\n",
       "      <td>False</td>\n",
       "      <td>True</td>\n",
       "      <td>False</td>\n",
       "      <td>False</td>\n",
       "    </tr>\n",
       "    <tr>\n",
       "      <th>6</th>\n",
       "      <td>False</td>\n",
       "      <td>False</td>\n",
       "      <td>False</td>\n",
       "      <td>False</td>\n",
       "      <td>False</td>\n",
       "      <td>False</td>\n",
       "      <td>True</td>\n",
       "      <td>False</td>\n",
       "      <td>False</td>\n",
       "      <td>False</td>\n",
       "    </tr>\n",
       "    <tr>\n",
       "      <th>7</th>\n",
       "      <td>False</td>\n",
       "      <td>True</td>\n",
       "      <td>True</td>\n",
       "      <td>False</td>\n",
       "      <td>True</td>\n",
       "      <td>True</td>\n",
       "      <td>False</td>\n",
       "      <td>True</td>\n",
       "      <td>False</td>\n",
       "      <td>False</td>\n",
       "    </tr>\n",
       "    <tr>\n",
       "      <th>8</th>\n",
       "      <td>False</td>\n",
       "      <td>False</td>\n",
       "      <td>False</td>\n",
       "      <td>False</td>\n",
       "      <td>False</td>\n",
       "      <td>False</td>\n",
       "      <td>False</td>\n",
       "      <td>False</td>\n",
       "      <td>True</td>\n",
       "      <td>False</td>\n",
       "    </tr>\n",
       "    <tr>\n",
       "      <th>9</th>\n",
       "      <td>False</td>\n",
       "      <td>False</td>\n",
       "      <td>False</td>\n",
       "      <td>False</td>\n",
       "      <td>False</td>\n",
       "      <td>False</td>\n",
       "      <td>False</td>\n",
       "      <td>False</td>\n",
       "      <td>False</td>\n",
       "      <td>True</td>\n",
       "    </tr>\n",
       "  </tbody>\n",
       "</table>\n",
       "</div>"
      ],
      "text/plain": [
       "       0      1      2      3      4      5      6      7      8      9\n",
       "0   True  False  False  False  False  False  False  False  False  False\n",
       "1  False   True   True  False   True   True  False   True  False  False\n",
       "2  False   True   True  False   True  False  False   True  False  False\n",
       "3  False  False  False   True  False  False  False  False  False  False\n",
       "4  False   True   True  False   True   True  False   True  False  False\n",
       "5  False   True  False  False   True   True  False   True  False  False\n",
       "6  False  False  False  False  False  False   True  False  False  False\n",
       "7  False   True   True  False   True   True  False   True  False  False\n",
       "8  False  False  False  False  False  False  False  False   True  False\n",
       "9  False  False  False  False  False  False  False  False  False   True"
      ]
     },
     "execution_count": 96,
     "metadata": {},
     "output_type": "execute_result"
    }
   ],
   "source": [
    "X_df.corr() > 0.2"
   ]
  },
  {
   "cell_type": "code",
   "execution_count": 97,
   "metadata": {},
   "outputs": [],
   "source": [
    "X_train = sm.add_constant(X_train)"
   ]
  },
  {
   "cell_type": "code",
   "execution_count": 98,
   "metadata": {},
   "outputs": [
    {
     "data": {
      "text/html": [
       "<table class=\"simpletable\">\n",
       "<caption>OLS Regression Results</caption>\n",
       "<tr>\n",
       "  <th>Dep. Variable:</th>            <td>y</td>        <th>  R-squared:         </th> <td>   0.751</td> \n",
       "</tr>\n",
       "<tr>\n",
       "  <th>Model:</th>                   <td>OLS</td>       <th>  Adj. R-squared:    </th> <td>   0.748</td> \n",
       "</tr>\n",
       "<tr>\n",
       "  <th>Method:</th>             <td>Least Squares</td>  <th>  F-statistic:       </th> <td>   248.1</td> \n",
       "</tr>\n",
       "<tr>\n",
       "  <th>Date:</th>             <td>Sat, 27 Mar 2021</td> <th>  Prob (F-statistic):</th> <td>1.08e-216</td>\n",
       "</tr>\n",
       "<tr>\n",
       "  <th>Time:</th>                 <td>15:00:55</td>     <th>  Log-Likelihood:    </th> <td> -9383.2</td> \n",
       "</tr>\n",
       "<tr>\n",
       "  <th>No. Observations:</th>      <td>   750</td>      <th>  AIC:               </th> <td>1.879e+04</td>\n",
       "</tr>\n",
       "<tr>\n",
       "  <th>Df Residuals:</th>          <td>   740</td>      <th>  BIC:               </th> <td>1.883e+04</td>\n",
       "</tr>\n",
       "<tr>\n",
       "  <th>Df Model:</th>              <td>     9</td>      <th>                     </th>     <td> </td>    \n",
       "</tr>\n",
       "<tr>\n",
       "  <th>Covariance Type:</th>      <td>nonrobust</td>    <th>                     </th>     <td> </td>    \n",
       "</tr>\n",
       "</table>\n",
       "<table class=\"simpletable\">\n",
       "<tr>\n",
       "    <td></td>       <th>coef</th>     <th>std err</th>      <th>t</th>      <th>P>|t|</th>  <th>[0.025</th>    <th>0.975]</th>  \n",
       "</tr>\n",
       "<tr>\n",
       "  <th>const</th> <td>-1.111e+07</td> <td> 3.74e+06</td> <td>   -2.971</td> <td> 0.003</td> <td>-1.84e+07</td> <td>-3.77e+06</td>\n",
       "</tr>\n",
       "<tr>\n",
       "  <th>x1</th>    <td>   79.9889</td> <td>   46.982</td> <td>    1.703</td> <td> 0.089</td> <td>  -12.245</td> <td>  172.223</td>\n",
       "</tr>\n",
       "<tr>\n",
       "  <th>x2</th>    <td>   94.9924</td> <td>    6.432</td> <td>   14.768</td> <td> 0.000</td> <td>   82.365</td> <td>  107.620</td>\n",
       "</tr>\n",
       "<tr>\n",
       "  <th>x3</th>    <td>    6.4329</td> <td>    0.690</td> <td>    9.330</td> <td> 0.000</td> <td>    5.079</td> <td>    7.787</td>\n",
       "</tr>\n",
       "<tr>\n",
       "  <th>x4</th>    <td> 1601.0958</td> <td>  287.692</td> <td>    5.565</td> <td> 0.000</td> <td> 1036.307</td> <td> 2165.885</td>\n",
       "</tr>\n",
       "<tr>\n",
       "  <th>x5</th>    <td> 1319.0049</td> <td>   87.941</td> <td>   14.999</td> <td> 0.000</td> <td> 1146.361</td> <td> 1491.649</td>\n",
       "</tr>\n",
       "<tr>\n",
       "  <th>x6</th>    <td> 7.166e+04</td> <td>  2.5e+04</td> <td>    2.871</td> <td> 0.004</td> <td> 2.27e+04</td> <td> 1.21e+05</td>\n",
       "</tr>\n",
       "<tr>\n",
       "  <th>x7</th>    <td> 4888.7993</td> <td> 1.51e+04</td> <td>    0.323</td> <td> 0.747</td> <td>-2.48e+04</td> <td> 3.46e+04</td>\n",
       "</tr>\n",
       "<tr>\n",
       "  <th>x8</th>    <td>-7844.5272</td> <td> 3576.188</td> <td>   -2.194</td> <td> 0.029</td> <td>-1.49e+04</td> <td> -823.844</td>\n",
       "</tr>\n",
       "<tr>\n",
       "  <th>x9</th>    <td>  334.9652</td> <td>  770.976</td> <td>    0.434</td> <td> 0.664</td> <td>-1178.595</td> <td> 1848.526</td>\n",
       "</tr>\n",
       "</table>\n",
       "<table class=\"simpletable\">\n",
       "<tr>\n",
       "  <th>Omnibus:</th>       <td>767.532</td> <th>  Durbin-Watson:     </th> <td>   1.956</td> \n",
       "</tr>\n",
       "<tr>\n",
       "  <th>Prob(Omnibus):</th> <td> 0.000</td>  <th>  Jarque-Bera (JB):  </th> <td>77395.951</td>\n",
       "</tr>\n",
       "<tr>\n",
       "  <th>Skew:</th>          <td> 4.441</td>  <th>  Prob(JB):          </th> <td>    0.00</td> \n",
       "</tr>\n",
       "<tr>\n",
       "  <th>Kurtosis:</th>      <td>51.967</td>  <th>  Cond. No.          </th> <td>1.22e+08</td> \n",
       "</tr>\n",
       "</table><br/><br/>Notes:<br/>[1] Standard Errors assume that the covariance matrix of the errors is correctly specified.<br/>[2] The condition number is large, 1.22e+08. This might indicate that there are<br/>strong multicollinearity or other numerical problems."
      ],
      "text/plain": [
       "<class 'statsmodels.iolib.summary.Summary'>\n",
       "\"\"\"\n",
       "                            OLS Regression Results                            \n",
       "==============================================================================\n",
       "Dep. Variable:                      y   R-squared:                       0.751\n",
       "Model:                            OLS   Adj. R-squared:                  0.748\n",
       "Method:                 Least Squares   F-statistic:                     248.1\n",
       "Date:                Sat, 27 Mar 2021   Prob (F-statistic):          1.08e-216\n",
       "Time:                        15:00:55   Log-Likelihood:                -9383.2\n",
       "No. Observations:                 750   AIC:                         1.879e+04\n",
       "Df Residuals:                     740   BIC:                         1.883e+04\n",
       "Df Model:                           9                                         \n",
       "Covariance Type:            nonrobust                                         \n",
       "==============================================================================\n",
       "                 coef    std err          t      P>|t|      [0.025      0.975]\n",
       "------------------------------------------------------------------------------\n",
       "const      -1.111e+07   3.74e+06     -2.971      0.003   -1.84e+07   -3.77e+06\n",
       "x1            79.9889     46.982      1.703      0.089     -12.245     172.223\n",
       "x2            94.9924      6.432     14.768      0.000      82.365     107.620\n",
       "x3             6.4329      0.690      9.330      0.000       5.079       7.787\n",
       "x4          1601.0958    287.692      5.565      0.000    1036.307    2165.885\n",
       "x5          1319.0049     87.941     14.999      0.000    1146.361    1491.649\n",
       "x6          7.166e+04    2.5e+04      2.871      0.004    2.27e+04    1.21e+05\n",
       "x7          4888.7993   1.51e+04      0.323      0.747   -2.48e+04    3.46e+04\n",
       "x8         -7844.5272   3576.188     -2.194      0.029   -1.49e+04    -823.844\n",
       "x9           334.9652    770.976      0.434      0.664   -1178.595    1848.526\n",
       "==============================================================================\n",
       "Omnibus:                      767.532   Durbin-Watson:                   1.956\n",
       "Prob(Omnibus):                  0.000   Jarque-Bera (JB):            77395.951\n",
       "Skew:                           4.441   Prob(JB):                         0.00\n",
       "Kurtosis:                      51.967   Cond. No.                     1.22e+08\n",
       "==============================================================================\n",
       "\n",
       "Notes:\n",
       "[1] Standard Errors assume that the covariance matrix of the errors is correctly specified.\n",
       "[2] The condition number is large, 1.22e+08. This might indicate that there are\n",
       "strong multicollinearity or other numerical problems.\n",
       "\"\"\""
      ]
     },
     "execution_count": 98,
     "metadata": {},
     "output_type": "execute_result"
    }
   ],
   "source": [
    "X_opt = X_train[:,np.arange(0,10)]\n",
    "regressor_OLS = sm.OLS(endog = y_train, exog = X_opt).fit()\n",
    "regressor_OLS.summary()"
   ]
  },
  {
   "cell_type": "code",
   "execution_count": 202,
   "metadata": {},
   "outputs": [],
   "source": [
    "X_opt = X_train[:,[0,1,2,4,5,6,7,8,9,10]]"
   ]
  },
  {
   "cell_type": "code",
   "execution_count": 203,
   "metadata": {},
   "outputs": [
    {
     "data": {
      "text/html": [
       "<table class=\"simpletable\">\n",
       "<caption>OLS Regression Results</caption>\n",
       "<tr>\n",
       "  <th>Dep. Variable:</th>            <td>y</td>        <th>  R-squared:         </th>  <td>   0.713</td>  \n",
       "</tr>\n",
       "<tr>\n",
       "  <th>Model:</th>                   <td>OLS</td>       <th>  Adj. R-squared:    </th>  <td>   0.713</td>  \n",
       "</tr>\n",
       "<tr>\n",
       "  <th>Method:</th>             <td>Least Squares</td>  <th>  F-statistic:       </th>  <td>   2409.</td>  \n",
       "</tr>\n",
       "<tr>\n",
       "  <th>Date:</th>             <td>Wed, 24 Mar 2021</td> <th>  Prob (F-statistic):</th>   <td>  0.00</td>   \n",
       "</tr>\n",
       "<tr>\n",
       "  <th>Time:</th>                 <td>22:03:59</td>     <th>  Log-Likelihood:    </th> <td>-1.0857e+05</td>\n",
       "</tr>\n",
       "<tr>\n",
       "  <th>No. Observations:</th>      <td>  8740</td>      <th>  AIC:               </th>  <td>2.172e+05</td> \n",
       "</tr>\n",
       "<tr>\n",
       "  <th>Df Residuals:</th>          <td>  8730</td>      <th>  BIC:               </th>  <td>2.172e+05</td> \n",
       "</tr>\n",
       "<tr>\n",
       "  <th>Df Model:</th>              <td>     9</td>      <th>                     </th>      <td> </td>     \n",
       "</tr>\n",
       "<tr>\n",
       "  <th>Covariance Type:</th>      <td>nonrobust</td>    <th>                     </th>      <td> </td>     \n",
       "</tr>\n",
       "</table>\n",
       "<table class=\"simpletable\">\n",
       "<tr>\n",
       "    <td></td>       <th>coef</th>     <th>std err</th>      <th>t</th>      <th>P>|t|</th>  <th>[0.025</th>    <th>0.975]</th>  \n",
       "</tr>\n",
       "<tr>\n",
       "  <th>const</th> <td>-2.625e+07</td> <td> 1.77e+06</td> <td>  -14.793</td> <td> 0.000</td> <td>-2.97e+07</td> <td>-2.28e+07</td>\n",
       "</tr>\n",
       "<tr>\n",
       "  <th>x1</th>    <td>  -94.1917</td> <td>   11.221</td> <td>   -8.394</td> <td> 0.000</td> <td> -116.188</td> <td>  -72.196</td>\n",
       "</tr>\n",
       "<tr>\n",
       "  <th>x2</th>    <td>  108.0740</td> <td>    1.407</td> <td>   76.822</td> <td> 0.000</td> <td>  105.316</td> <td>  110.832</td>\n",
       "</tr>\n",
       "<tr>\n",
       "  <th>x3</th>    <td>  831.0016</td> <td>   76.436</td> <td>   10.872</td> <td> 0.000</td> <td>  681.169</td> <td>  980.834</td>\n",
       "</tr>\n",
       "<tr>\n",
       "  <th>x4</th>    <td> 1033.5446</td> <td>   21.627</td> <td>   47.789</td> <td> 0.000</td> <td>  991.150</td> <td> 1075.939</td>\n",
       "</tr>\n",
       "<tr>\n",
       "  <th>x5</th>    <td> 8.316e+04</td> <td> 6871.368</td> <td>   12.103</td> <td> 0.000</td> <td> 6.97e+04</td> <td> 9.66e+04</td>\n",
       "</tr>\n",
       "<tr>\n",
       "  <th>x6</th>    <td>-1.834e+04</td> <td> 3989.132</td> <td>   -4.597</td> <td> 0.000</td> <td>-2.62e+04</td> <td>-1.05e+04</td>\n",
       "</tr>\n",
       "<tr>\n",
       "  <th>x7</th>    <td> 1.941e+04</td> <td> 1819.451</td> <td>   10.669</td> <td> 0.000</td> <td> 1.58e+04</td> <td>  2.3e+04</td>\n",
       "</tr>\n",
       "<tr>\n",
       "  <th>x8</th>    <td> 1133.9101</td> <td>  205.944</td> <td>    5.506</td> <td> 0.000</td> <td>  730.212</td> <td> 1537.608</td>\n",
       "</tr>\n",
       "<tr>\n",
       "  <th>x9</th>    <td> 1.367e+04</td> <td>  753.404</td> <td>   18.142</td> <td> 0.000</td> <td> 1.22e+04</td> <td> 1.51e+04</td>\n",
       "</tr>\n",
       "</table>\n",
       "<table class=\"simpletable\">\n",
       "<tr>\n",
       "  <th>Omnibus:</th>       <td>6564.327</td> <th>  Durbin-Watson:     </th>  <td>   1.952</td> \n",
       "</tr>\n",
       "<tr>\n",
       "  <th>Prob(Omnibus):</th>  <td> 0.000</td>  <th>  Jarque-Bera (JB):  </th> <td>786991.236</td>\n",
       "</tr>\n",
       "<tr>\n",
       "  <th>Skew:</th>           <td> 2.821</td>  <th>  Prob(JB):          </th>  <td>    0.00</td> \n",
       "</tr>\n",
       "<tr>\n",
       "  <th>Kurtosis:</th>       <td>49.144</td>  <th>  Cond. No.          </th>  <td>2.16e+08</td> \n",
       "</tr>\n",
       "</table><br/><br/>Notes:<br/>[1] Standard Errors assume that the covariance matrix of the errors is correctly specified.<br/>[2] The condition number is large, 2.16e+08. This might indicate that there are<br/>strong multicollinearity or other numerical problems."
      ],
      "text/plain": [
       "<class 'statsmodels.iolib.summary.Summary'>\n",
       "\"\"\"\n",
       "                            OLS Regression Results                            \n",
       "==============================================================================\n",
       "Dep. Variable:                      y   R-squared:                       0.713\n",
       "Model:                            OLS   Adj. R-squared:                  0.713\n",
       "Method:                 Least Squares   F-statistic:                     2409.\n",
       "Date:                Wed, 24 Mar 2021   Prob (F-statistic):               0.00\n",
       "Time:                        22:03:59   Log-Likelihood:            -1.0857e+05\n",
       "No. Observations:                8740   AIC:                         2.172e+05\n",
       "Df Residuals:                    8730   BIC:                         2.172e+05\n",
       "Df Model:                           9                                         \n",
       "Covariance Type:            nonrobust                                         \n",
       "==============================================================================\n",
       "                 coef    std err          t      P>|t|      [0.025      0.975]\n",
       "------------------------------------------------------------------------------\n",
       "const      -2.625e+07   1.77e+06    -14.793      0.000   -2.97e+07   -2.28e+07\n",
       "x1           -94.1917     11.221     -8.394      0.000    -116.188     -72.196\n",
       "x2           108.0740      1.407     76.822      0.000     105.316     110.832\n",
       "x3           831.0016     76.436     10.872      0.000     681.169     980.834\n",
       "x4          1033.5446     21.627     47.789      0.000     991.150    1075.939\n",
       "x5          8.316e+04   6871.368     12.103      0.000    6.97e+04    9.66e+04\n",
       "x6         -1.834e+04   3989.132     -4.597      0.000   -2.62e+04   -1.05e+04\n",
       "x7          1.941e+04   1819.451     10.669      0.000    1.58e+04     2.3e+04\n",
       "x8          1133.9101    205.944      5.506      0.000     730.212    1537.608\n",
       "x9          1.367e+04    753.404     18.142      0.000    1.22e+04    1.51e+04\n",
       "==============================================================================\n",
       "Omnibus:                     6564.327   Durbin-Watson:                   1.952\n",
       "Prob(Omnibus):                  0.000   Jarque-Bera (JB):           786991.236\n",
       "Skew:                           2.821   Prob(JB):                         0.00\n",
       "Kurtosis:                      49.144   Cond. No.                     2.16e+08\n",
       "==============================================================================\n",
       "\n",
       "Notes:\n",
       "[1] Standard Errors assume that the covariance matrix of the errors is correctly specified.\n",
       "[2] The condition number is large, 2.16e+08. This might indicate that there are\n",
       "strong multicollinearity or other numerical problems.\n",
       "\"\"\""
      ]
     },
     "execution_count": 203,
     "metadata": {},
     "output_type": "execute_result"
    }
   ],
   "source": [
    "regressor_OLS = sm.OLS(endog = y_train, exog = X_opt).fit()\n",
    "regressor_OLS.summary()"
   ]
  },
  {
   "cell_type": "code",
   "execution_count": 99,
   "metadata": {},
   "outputs": [],
   "source": [
    "y_predict = regressor_OLS.predict(X_test)"
   ]
  },
  {
   "cell_type": "code",
   "execution_count": 100,
   "metadata": {},
   "outputs": [
    {
     "name": "stdout",
     "output_type": "stream",
     "text": [
      "MSE: 7.55e+23\n"
     ]
    }
   ],
   "source": [
    "print('MSE: {:.2e}'.format(mean_squared_error(y_test, y_predict)))"
   ]
  },
  {
   "cell_type": "code",
   "execution_count": 101,
   "metadata": {},
   "outputs": [
    {
     "data": {
      "text/plain": [
       "0.0"
      ]
     },
     "execution_count": 101,
     "metadata": {},
     "output_type": "execute_result"
    }
   ],
   "source": [
    "calculate_five_percent(y_predict,y_test)"
   ]
  },
  {
   "cell_type": "code",
   "execution_count": null,
   "metadata": {},
   "outputs": [],
   "source": []
  }
 ],
 "metadata": {
  "kernelspec": {
   "display_name": "Python 3",
   "language": "python",
   "name": "python3"
  },
  "language_info": {
   "codemirror_mode": {
    "name": "ipython",
    "version": 3
   },
   "file_extension": ".py",
   "mimetype": "text/x-python",
   "name": "python",
   "nbconvert_exporter": "python",
   "pygments_lexer": "ipython3",
   "version": "3.8.5"
  }
 },
 "nbformat": 4,
 "nbformat_minor": 4
}
