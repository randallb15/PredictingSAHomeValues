{
 "cells": [
  {
   "cell_type": "markdown",
   "metadata": {},
   "source": [
    "# Predicting Home Sale Price"
   ]
  },
  {
   "cell_type": "markdown",
   "metadata": {},
   "source": [
    "This will attempt to be similar to the Zestimate used on Zillow, the Redfin estimate used on Redfin, or any of the valuations provided by Collateral Analytics, CoreLogic, or Quantarium on Realtor.com.\n",
    "\n",
    "I will create a regression model and use it to predict valuation and compare to the other valuations on currently listed homes."
   ]
  },
  {
   "cell_type": "code",
   "execution_count": 1,
   "metadata": {},
   "outputs": [],
   "source": [
    "%run src/imports.py\n",
    "from src.helpers import calculate_five_percent, calculate_ten_percent"
   ]
  },
  {
   "cell_type": "code",
   "execution_count": 2,
   "metadata": {},
   "outputs": [],
   "source": [
    "sns.set(rc={'figure.figsize':(16,4)})"
   ]
  },
  {
   "cell_type": "code",
   "execution_count": 3,
   "metadata": {},
   "outputs": [],
   "source": [
    "modeldata = pd.read_pickle('data/modeldata.pkl')"
   ]
  },
  {
   "cell_type": "markdown",
   "metadata": {},
   "source": [
    "-----\n",
    "Data Density  \n",
    "= 11,654 / 11  \n",
    "= 1059\n",
    "-----\n",
    "With smaller dataset  \n",
    "= 1,000 / 11  \n",
    "= 91\n",
    "----"
   ]
  },
  {
   "cell_type": "markdown",
   "metadata": {},
   "source": [
    "## Building a Model"
   ]
  },
  {
   "cell_type": "markdown",
   "metadata": {},
   "source": [
    "Smaller set:"
   ]
  },
  {
   "cell_type": "code",
   "execution_count": 8,
   "metadata": {},
   "outputs": [],
   "source": [
    "df_small = modeldata.sample(1000)\n",
    "y = df_small['PRICE'].values\n",
    "X = df_small.drop('PRICE',axis=1).values\n",
    "X_train, X_test, y_train, y_test = train_test_split(X,y)"
   ]
  },
  {
   "cell_type": "code",
   "execution_count": 9,
   "metadata": {},
   "outputs": [
    {
     "name": "stdout",
     "output_type": "stream",
     "text": [
      "score: 0.8120338496848534\n",
      "MSE: 3.712353e+09\n"
     ]
    }
   ],
   "source": [
    "rfr = RandomForestRegressor()\n",
    "rfr.fit(X_train,y_train)\n",
    "y_predict = rfr.predict(X_test)\n",
    "print(\"score:\", rfr.score(X_test, y_test))\n",
    "print('MSE: {:2e}'.format(mean_squared_error(y_test, y_predict)))"
   ]
  },
  {
   "cell_type": "code",
   "execution_count": 10,
   "metadata": {},
   "outputs": [
    {
     "data": {
      "text/plain": [
       "34.4"
      ]
     },
     "execution_count": 10,
     "metadata": {},
     "output_type": "execute_result"
    }
   ],
   "source": [
    "calculate_five_percent(y_predict,y_test)"
   ]
  },
  {
   "cell_type": "code",
   "execution_count": 11,
   "metadata": {},
   "outputs": [
    {
     "data": {
      "text/plain": [
       "55.60000000000001"
      ]
     },
     "execution_count": 11,
     "metadata": {},
     "output_type": "execute_result"
    }
   ],
   "source": [
    "calculate_ten_percent(y_predict,y_test)"
   ]
  },
  {
   "cell_type": "code",
   "execution_count": 12,
   "metadata": {},
   "outputs": [],
   "source": [
    "search_space = [{'regressor__alpha': 10 ** (np.linspace(-5, 5, 10)), \n",
    "                 'regressor__l1_ratio': np.linspace(0,1,6)}]\n",
    "\n",
    "# l_lasso / (l_lasso + l_ridge)\n",
    "# if l_lasso = 0: 0 / 1 = 0 (this is ridge regression)\n",
    "# if l_ridge = 0: l_lasso / l_lasso = 1 (this is LASSSO regression)\n",
    "\n",
    "pipe = Pipeline([('scaler', StandardScaler()), ('regressor', ElasticNet())])\n",
    "\n",
    "enet_cv = GridSearchCV(pipe, \n",
    "                      search_space, \n",
    "                      cv=KFold(10, shuffle=True), \n",
    "                      scoring='neg_mean_squared_error',\n",
    "                      return_train_score = True)"
   ]
  },
  {
   "cell_type": "code",
   "execution_count": 13,
   "metadata": {},
   "outputs": [
    {
     "name": "stderr",
     "output_type": "stream",
     "text": [
      "/Users/randallbloomquist/opt/anaconda3/lib/python3.8/site-packages/sklearn/linear_model/_coordinate_descent.py:529: ConvergenceWarning: Objective did not converge. You might want to increase the number of iterations. Duality gap: 2712642943980.221, tolerance: 1343147202.3764865\n",
      "  model = cd_fast.enet_coordinate_descent(\n",
      "/Users/randallbloomquist/opt/anaconda3/lib/python3.8/site-packages/sklearn/linear_model/_coordinate_descent.py:529: ConvergenceWarning: Objective did not converge. You might want to increase the number of iterations. Duality gap: 2359062847652.591, tolerance: 1191872034.9726863\n",
      "  model = cd_fast.enet_coordinate_descent(\n",
      "/Users/randallbloomquist/opt/anaconda3/lib/python3.8/site-packages/sklearn/linear_model/_coordinate_descent.py:529: ConvergenceWarning: Objective did not converge. You might want to increase the number of iterations. Duality gap: 2646207581681.8843, tolerance: 1348904111.200411\n",
      "  model = cd_fast.enet_coordinate_descent(\n",
      "/Users/randallbloomquist/opt/anaconda3/lib/python3.8/site-packages/sklearn/linear_model/_coordinate_descent.py:529: ConvergenceWarning: Objective did not converge. You might want to increase the number of iterations. Duality gap: 2587095027957.492, tolerance: 1348003107.7131312\n",
      "  model = cd_fast.enet_coordinate_descent(\n",
      "/Users/randallbloomquist/opt/anaconda3/lib/python3.8/site-packages/sklearn/linear_model/_coordinate_descent.py:529: ConvergenceWarning: Objective did not converge. You might want to increase the number of iterations. Duality gap: 2480706388634.416, tolerance: 1238695530.6581817\n",
      "  model = cd_fast.enet_coordinate_descent(\n",
      "/Users/randallbloomquist/opt/anaconda3/lib/python3.8/site-packages/sklearn/linear_model/_coordinate_descent.py:529: ConvergenceWarning: Objective did not converge. You might want to increase the number of iterations. Duality gap: 2636045664870.1147, tolerance: 1311011987.2251787\n",
      "  model = cd_fast.enet_coordinate_descent(\n",
      "/Users/randallbloomquist/opt/anaconda3/lib/python3.8/site-packages/sklearn/linear_model/_coordinate_descent.py:529: ConvergenceWarning: Objective did not converge. You might want to increase the number of iterations. Duality gap: 1994505414632.464, tolerance: 1091522650.8738987\n",
      "  model = cd_fast.enet_coordinate_descent(\n",
      "/Users/randallbloomquist/opt/anaconda3/lib/python3.8/site-packages/sklearn/linear_model/_coordinate_descent.py:529: ConvergenceWarning: Objective did not converge. You might want to increase the number of iterations. Duality gap: 2600354756346.439, tolerance: 1328242382.9517798\n",
      "  model = cd_fast.enet_coordinate_descent(\n",
      "/Users/randallbloomquist/opt/anaconda3/lib/python3.8/site-packages/sklearn/linear_model/_coordinate_descent.py:529: ConvergenceWarning: Objective did not converge. You might want to increase the number of iterations. Duality gap: 2594936085345.566, tolerance: 1343126761.279595\n",
      "  model = cd_fast.enet_coordinate_descent(\n",
      "/Users/randallbloomquist/opt/anaconda3/lib/python3.8/site-packages/sklearn/linear_model/_coordinate_descent.py:529: ConvergenceWarning: Objective did not converge. You might want to increase the number of iterations. Duality gap: 2638492364585.3857, tolerance: 1325356538.4990263\n",
      "  model = cd_fast.enet_coordinate_descent(\n",
      "/Users/randallbloomquist/opt/anaconda3/lib/python3.8/site-packages/sklearn/linear_model/_coordinate_descent.py:529: ConvergenceWarning: Objective did not converge. You might want to increase the number of iterations. Duality gap: 2713254926546.8564, tolerance: 1343147202.3764865\n",
      "  model = cd_fast.enet_coordinate_descent(\n",
      "/Users/randallbloomquist/opt/anaconda3/lib/python3.8/site-packages/sklearn/linear_model/_coordinate_descent.py:529: ConvergenceWarning: Objective did not converge. You might want to increase the number of iterations. Duality gap: 2359554783065.0967, tolerance: 1191872034.9726863\n",
      "  model = cd_fast.enet_coordinate_descent(\n",
      "/Users/randallbloomquist/opt/anaconda3/lib/python3.8/site-packages/sklearn/linear_model/_coordinate_descent.py:529: ConvergenceWarning: Objective did not converge. You might want to increase the number of iterations. Duality gap: 2646841431347.216, tolerance: 1348904111.200411\n",
      "  model = cd_fast.enet_coordinate_descent(\n",
      "/Users/randallbloomquist/opt/anaconda3/lib/python3.8/site-packages/sklearn/linear_model/_coordinate_descent.py:529: ConvergenceWarning: Objective did not converge. You might want to increase the number of iterations. Duality gap: 2587749830979.979, tolerance: 1348003107.7131312\n",
      "  model = cd_fast.enet_coordinate_descent(\n",
      "/Users/randallbloomquist/opt/anaconda3/lib/python3.8/site-packages/sklearn/linear_model/_coordinate_descent.py:529: ConvergenceWarning: Objective did not converge. You might want to increase the number of iterations. Duality gap: 2481302107372.7544, tolerance: 1238695530.6581817\n",
      "  model = cd_fast.enet_coordinate_descent(\n",
      "/Users/randallbloomquist/opt/anaconda3/lib/python3.8/site-packages/sklearn/linear_model/_coordinate_descent.py:529: ConvergenceWarning: Objective did not converge. You might want to increase the number of iterations. Duality gap: 2636659883382.6704, tolerance: 1311011987.2251787\n",
      "  model = cd_fast.enet_coordinate_descent(\n",
      "/Users/randallbloomquist/opt/anaconda3/lib/python3.8/site-packages/sklearn/linear_model/_coordinate_descent.py:529: ConvergenceWarning: Objective did not converge. You might want to increase the number of iterations. Duality gap: 1994988258355.9116, tolerance: 1091522650.8738987\n",
      "  model = cd_fast.enet_coordinate_descent(\n",
      "/Users/randallbloomquist/opt/anaconda3/lib/python3.8/site-packages/sklearn/linear_model/_coordinate_descent.py:529: ConvergenceWarning: Objective did not converge. You might want to increase the number of iterations. Duality gap: 2600970001112.695, tolerance: 1328242382.9517798\n",
      "  model = cd_fast.enet_coordinate_descent(\n",
      "/Users/randallbloomquist/opt/anaconda3/lib/python3.8/site-packages/sklearn/linear_model/_coordinate_descent.py:529: ConvergenceWarning: Objective did not converge. You might want to increase the number of iterations. Duality gap: 2595605936892.042, tolerance: 1343126761.279595\n",
      "  model = cd_fast.enet_coordinate_descent(\n",
      "/Users/randallbloomquist/opt/anaconda3/lib/python3.8/site-packages/sklearn/linear_model/_coordinate_descent.py:529: ConvergenceWarning: Objective did not converge. You might want to increase the number of iterations. Duality gap: 2639043093736.4927, tolerance: 1325356538.4990263\n",
      "  model = cd_fast.enet_coordinate_descent(\n",
      "/Users/randallbloomquist/opt/anaconda3/lib/python3.8/site-packages/sklearn/linear_model/_coordinate_descent.py:529: ConvergenceWarning: Objective did not converge. You might want to increase the number of iterations. Duality gap: 2721108992790.884, tolerance: 1343147202.3764865\n",
      "  model = cd_fast.enet_coordinate_descent(\n",
      "/Users/randallbloomquist/opt/anaconda3/lib/python3.8/site-packages/sklearn/linear_model/_coordinate_descent.py:529: ConvergenceWarning: Objective did not converge. You might want to increase the number of iterations. Duality gap: 2365866805197.067, tolerance: 1191872034.9726863\n",
      "  model = cd_fast.enet_coordinate_descent(\n",
      "/Users/randallbloomquist/opt/anaconda3/lib/python3.8/site-packages/sklearn/linear_model/_coordinate_descent.py:529: ConvergenceWarning: Objective did not converge. You might want to increase the number of iterations. Duality gap: 2654970477116.4883, tolerance: 1348904111.200411\n",
      "  model = cd_fast.enet_coordinate_descent(\n",
      "/Users/randallbloomquist/opt/anaconda3/lib/python3.8/site-packages/sklearn/linear_model/_coordinate_descent.py:529: ConvergenceWarning: Objective did not converge. You might want to increase the number of iterations. Duality gap: 2596152285537.6484, tolerance: 1348003107.7131312\n",
      "  model = cd_fast.enet_coordinate_descent(\n",
      "/Users/randallbloomquist/opt/anaconda3/lib/python3.8/site-packages/sklearn/linear_model/_coordinate_descent.py:529: ConvergenceWarning: Objective did not converge. You might want to increase the number of iterations. Duality gap: 2488947510643.2485, tolerance: 1238695530.6581817\n",
      "  model = cd_fast.enet_coordinate_descent(\n",
      "/Users/randallbloomquist/opt/anaconda3/lib/python3.8/site-packages/sklearn/linear_model/_coordinate_descent.py:529: ConvergenceWarning: Objective did not converge. You might want to increase the number of iterations. Duality gap: 2644540611804.3228, tolerance: 1311011987.2251787\n",
      "  model = cd_fast.enet_coordinate_descent(\n",
      "/Users/randallbloomquist/opt/anaconda3/lib/python3.8/site-packages/sklearn/linear_model/_coordinate_descent.py:529: ConvergenceWarning: Objective did not converge. You might want to increase the number of iterations. Duality gap: 2001189443738.5923, tolerance: 1091522650.8738987\n",
      "  model = cd_fast.enet_coordinate_descent(\n",
      "/Users/randallbloomquist/opt/anaconda3/lib/python3.8/site-packages/sklearn/linear_model/_coordinate_descent.py:529: ConvergenceWarning: Objective did not converge. You might want to increase the number of iterations. Duality gap: 2608867439075.9272, tolerance: 1328242382.9517798\n",
      "  model = cd_fast.enet_coordinate_descent(\n",
      "/Users/randallbloomquist/opt/anaconda3/lib/python3.8/site-packages/sklearn/linear_model/_coordinate_descent.py:529: ConvergenceWarning: Objective did not converge. You might want to increase the number of iterations. Duality gap: 2604199220210.367, tolerance: 1343126761.279595\n",
      "  model = cd_fast.enet_coordinate_descent(\n",
      "/Users/randallbloomquist/opt/anaconda3/lib/python3.8/site-packages/sklearn/linear_model/_coordinate_descent.py:529: ConvergenceWarning: Objective did not converge. You might want to increase the number of iterations. Duality gap: 2646111343402.632, tolerance: 1325356538.4990263\n",
      "  model = cd_fast.enet_coordinate_descent(\n",
      "/Users/randallbloomquist/opt/anaconda3/lib/python3.8/site-packages/sklearn/linear_model/_coordinate_descent.py:529: ConvergenceWarning: Objective did not converge. You might want to increase the number of iterations. Duality gap: 2815114525128.272, tolerance: 1343147202.3764865\n",
      "  model = cd_fast.enet_coordinate_descent(\n",
      "/Users/randallbloomquist/opt/anaconda3/lib/python3.8/site-packages/sklearn/linear_model/_coordinate_descent.py:529: ConvergenceWarning: Objective did not converge. You might want to increase the number of iterations. Duality gap: 2441254921104.1504, tolerance: 1191872034.9726863\n",
      "  model = cd_fast.enet_coordinate_descent(\n",
      "/Users/randallbloomquist/opt/anaconda3/lib/python3.8/site-packages/sklearn/linear_model/_coordinate_descent.py:529: ConvergenceWarning: Objective did not converge. You might want to increase the number of iterations. Duality gap: 2751539678442.092, tolerance: 1348904111.200411\n",
      "  model = cd_fast.enet_coordinate_descent(\n",
      "/Users/randallbloomquist/opt/anaconda3/lib/python3.8/site-packages/sklearn/linear_model/_coordinate_descent.py:529: ConvergenceWarning: Objective did not converge. You might want to increase the number of iterations. Duality gap: 2696545940602.699, tolerance: 1348003107.7131312\n",
      "  model = cd_fast.enet_coordinate_descent(\n",
      "/Users/randallbloomquist/opt/anaconda3/lib/python3.8/site-packages/sklearn/linear_model/_coordinate_descent.py:529: ConvergenceWarning: Objective did not converge. You might want to increase the number of iterations. Duality gap: 2580437331631.0903, tolerance: 1238695530.6581817\n",
      "  model = cd_fast.enet_coordinate_descent(\n",
      "/Users/randallbloomquist/opt/anaconda3/lib/python3.8/site-packages/sklearn/linear_model/_coordinate_descent.py:529: ConvergenceWarning: Objective did not converge. You might want to increase the number of iterations. Duality gap: 2738570448312.0713, tolerance: 1311011987.2251787\n",
      "  model = cd_fast.enet_coordinate_descent(\n",
      "/Users/randallbloomquist/opt/anaconda3/lib/python3.8/site-packages/sklearn/linear_model/_coordinate_descent.py:529: ConvergenceWarning: Objective did not converge. You might want to increase the number of iterations. Duality gap: 2076046697447.8694, tolerance: 1091522650.8738987\n",
      "  model = cd_fast.enet_coordinate_descent(\n",
      "/Users/randallbloomquist/opt/anaconda3/lib/python3.8/site-packages/sklearn/linear_model/_coordinate_descent.py:529: ConvergenceWarning: Objective did not converge. You might want to increase the number of iterations. Duality gap: 2703588089514.84, tolerance: 1328242382.9517798\n",
      "  model = cd_fast.enet_coordinate_descent(\n",
      "/Users/randallbloomquist/opt/anaconda3/lib/python3.8/site-packages/sklearn/linear_model/_coordinate_descent.py:529: ConvergenceWarning: Objective did not converge. You might want to increase the number of iterations. Duality gap: 2706568888175.5005, tolerance: 1343126761.279595\n",
      "  model = cd_fast.enet_coordinate_descent(\n",
      "/Users/randallbloomquist/opt/anaconda3/lib/python3.8/site-packages/sklearn/linear_model/_coordinate_descent.py:529: ConvergenceWarning: Objective did not converge. You might want to increase the number of iterations. Duality gap: 2730770306206.826, tolerance: 1325356538.4990263\n",
      "  model = cd_fast.enet_coordinate_descent(\n",
      "/Users/randallbloomquist/opt/anaconda3/lib/python3.8/site-packages/sklearn/linear_model/_coordinate_descent.py:529: ConvergenceWarning: Objective did not converge. You might want to increase the number of iterations. Duality gap: 3517008698928.9766, tolerance: 1343147202.3764865\n",
      "  model = cd_fast.enet_coordinate_descent(\n",
      "/Users/randallbloomquist/opt/anaconda3/lib/python3.8/site-packages/sklearn/linear_model/_coordinate_descent.py:529: ConvergenceWarning: Objective did not converge. You might want to increase the number of iterations. Duality gap: 3008030970898.386, tolerance: 1191872034.9726863\n",
      "  model = cd_fast.enet_coordinate_descent(\n",
      "/Users/randallbloomquist/opt/anaconda3/lib/python3.8/site-packages/sklearn/linear_model/_coordinate_descent.py:529: ConvergenceWarning: Objective did not converge. You might want to increase the number of iterations. Duality gap: 3456957721459.51, tolerance: 1348904111.200411\n",
      "  model = cd_fast.enet_coordinate_descent(\n",
      "/Users/randallbloomquist/opt/anaconda3/lib/python3.8/site-packages/sklearn/linear_model/_coordinate_descent.py:529: ConvergenceWarning: Objective did not converge. You might want to increase the number of iterations. Duality gap: 3434765187890.552, tolerance: 1348003107.7131312\n",
      "  model = cd_fast.enet_coordinate_descent(\n",
      "/Users/randallbloomquist/opt/anaconda3/lib/python3.8/site-packages/sklearn/linear_model/_coordinate_descent.py:529: ConvergenceWarning: Objective did not converge. You might want to increase the number of iterations. Duality gap: 3255153010821.964, tolerance: 1238695530.6581817\n",
      "  model = cd_fast.enet_coordinate_descent(\n",
      "/Users/randallbloomquist/opt/anaconda3/lib/python3.8/site-packages/sklearn/linear_model/_coordinate_descent.py:529: ConvergenceWarning: Objective did not converge. You might want to increase the number of iterations. Duality gap: 3425711447771.7637, tolerance: 1311011987.2251787\n",
      "  model = cd_fast.enet_coordinate_descent(\n",
      "/Users/randallbloomquist/opt/anaconda3/lib/python3.8/site-packages/sklearn/linear_model/_coordinate_descent.py:529: ConvergenceWarning: Objective did not converge. You might want to increase the number of iterations. Duality gap: 2664455960617.4634, tolerance: 1091522650.8738987\n",
      "  model = cd_fast.enet_coordinate_descent(\n",
      "/Users/randallbloomquist/opt/anaconda3/lib/python3.8/site-packages/sklearn/linear_model/_coordinate_descent.py:529: ConvergenceWarning: Objective did not converge. You might want to increase the number of iterations. Duality gap: 3415285596197.739, tolerance: 1328242382.9517798\n",
      "  model = cd_fast.enet_coordinate_descent(\n",
      "/Users/randallbloomquist/opt/anaconda3/lib/python3.8/site-packages/sklearn/linear_model/_coordinate_descent.py:529: ConvergenceWarning: Objective did not converge. You might want to increase the number of iterations. Duality gap: 3450000166261.8735, tolerance: 1343126761.279595\n",
      "  model = cd_fast.enet_coordinate_descent(\n",
      "/Users/randallbloomquist/opt/anaconda3/lib/python3.8/site-packages/sklearn/linear_model/_coordinate_descent.py:529: ConvergenceWarning: Objective did not converge. You might want to increase the number of iterations. Duality gap: 3372761851527.1763, tolerance: 1325356538.4990263\n",
      "  model = cd_fast.enet_coordinate_descent(\n",
      "/Users/randallbloomquist/opt/anaconda3/lib/python3.8/site-packages/sklearn/linear_model/_coordinate_descent.py:529: ConvergenceWarning: Objective did not converge. You might want to increase the number of iterations. Duality gap: 5439453611504.664, tolerance: 1343147202.3764865\n",
      "  model = cd_fast.enet_coordinate_descent(\n",
      "/Users/randallbloomquist/opt/anaconda3/lib/python3.8/site-packages/sklearn/linear_model/_coordinate_descent.py:529: ConvergenceWarning: Objective did not converge. You might want to increase the number of iterations. Duality gap: 4715040448065.511, tolerance: 1191872034.9726863\n",
      "  model = cd_fast.enet_coordinate_descent(\n",
      "/Users/randallbloomquist/opt/anaconda3/lib/python3.8/site-packages/sklearn/linear_model/_coordinate_descent.py:529: ConvergenceWarning: Objective did not converge. You might want to increase the number of iterations. Duality gap: 5418263472638.11, tolerance: 1348904111.200411\n",
      "  model = cd_fast.enet_coordinate_descent(\n",
      "/Users/randallbloomquist/opt/anaconda3/lib/python3.8/site-packages/sklearn/linear_model/_coordinate_descent.py:529: ConvergenceWarning: Objective did not converge. You might want to increase the number of iterations. Duality gap: 5417093067785.905, tolerance: 1348003107.7131312\n",
      "  model = cd_fast.enet_coordinate_descent(\n",
      "/Users/randallbloomquist/opt/anaconda3/lib/python3.8/site-packages/sklearn/linear_model/_coordinate_descent.py:529: ConvergenceWarning: Objective did not converge. You might want to increase the number of iterations. Duality gap: 5036242359907.725, tolerance: 1238695530.6581817\n",
      "  model = cd_fast.enet_coordinate_descent(\n",
      "/Users/randallbloomquist/opt/anaconda3/lib/python3.8/site-packages/sklearn/linear_model/_coordinate_descent.py:529: ConvergenceWarning: Objective did not converge. You might want to increase the number of iterations. Duality gap: 5288597902427.923, tolerance: 1311011987.2251787\n",
      "  model = cd_fast.enet_coordinate_descent(\n",
      "/Users/randallbloomquist/opt/anaconda3/lib/python3.8/site-packages/sklearn/linear_model/_coordinate_descent.py:529: ConvergenceWarning: Objective did not converge. You might want to increase the number of iterations. Duality gap: 4346699696194.368, tolerance: 1091522650.8738987\n",
      "  model = cd_fast.enet_coordinate_descent(\n",
      "/Users/randallbloomquist/opt/anaconda3/lib/python3.8/site-packages/sklearn/linear_model/_coordinate_descent.py:529: ConvergenceWarning: Objective did not converge. You might want to increase the number of iterations. Duality gap: 5359215513624.2705, tolerance: 1328242382.9517798\n",
      "  model = cd_fast.enet_coordinate_descent(\n",
      "/Users/randallbloomquist/opt/anaconda3/lib/python3.8/site-packages/sklearn/linear_model/_coordinate_descent.py:529: ConvergenceWarning: Objective did not converge. You might want to increase the number of iterations. Duality gap: 5423777913297.843, tolerance: 1343126761.279595\n",
      "  model = cd_fast.enet_coordinate_descent(\n",
      "/Users/randallbloomquist/opt/anaconda3/lib/python3.8/site-packages/sklearn/linear_model/_coordinate_descent.py:529: ConvergenceWarning: Objective did not converge. You might want to increase the number of iterations. Duality gap: 5280935074733.02, tolerance: 1325356538.4990263\n",
      "  model = cd_fast.enet_coordinate_descent(\n",
      "/Users/randallbloomquist/opt/anaconda3/lib/python3.8/site-packages/sklearn/linear_model/_coordinate_descent.py:529: ConvergenceWarning: Objective did not converge. You might want to increase the number of iterations. Duality gap: 6558235440665.154, tolerance: 1343147202.3764865\n",
      "  model = cd_fast.enet_coordinate_descent(\n",
      "/Users/randallbloomquist/opt/anaconda3/lib/python3.8/site-packages/sklearn/linear_model/_coordinate_descent.py:529: ConvergenceWarning: Objective did not converge. You might want to increase the number of iterations. Duality gap: 5802648353093.978, tolerance: 1191872034.9726863\n",
      "  model = cd_fast.enet_coordinate_descent(\n",
      "/Users/randallbloomquist/opt/anaconda3/lib/python3.8/site-packages/sklearn/linear_model/_coordinate_descent.py:529: ConvergenceWarning: Objective did not converge. You might want to increase the number of iterations. Duality gap: 6579978076287.902, tolerance: 1348904111.200411\n",
      "  model = cd_fast.enet_coordinate_descent(\n",
      "/Users/randallbloomquist/opt/anaconda3/lib/python3.8/site-packages/sklearn/linear_model/_coordinate_descent.py:529: ConvergenceWarning: Objective did not converge. You might want to increase the number of iterations. Duality gap: 6576314023160.656, tolerance: 1348003107.7131312\n",
      "  model = cd_fast.enet_coordinate_descent(\n",
      "/Users/randallbloomquist/opt/anaconda3/lib/python3.8/site-packages/sklearn/linear_model/_coordinate_descent.py:529: ConvergenceWarning: Objective did not converge. You might want to increase the number of iterations. Duality gap: 6051478618744.328, tolerance: 1238695530.6581817\n",
      "  model = cd_fast.enet_coordinate_descent(\n",
      "/Users/randallbloomquist/opt/anaconda3/lib/python3.8/site-packages/sklearn/linear_model/_coordinate_descent.py:529: ConvergenceWarning: Objective did not converge. You might want to increase the number of iterations. Duality gap: 6397578717276.977, tolerance: 1311011987.2251787\n",
      "  model = cd_fast.enet_coordinate_descent(\n",
      "/Users/randallbloomquist/opt/anaconda3/lib/python3.8/site-packages/sklearn/linear_model/_coordinate_descent.py:529: ConvergenceWarning: Objective did not converge. You might want to increase the number of iterations. Duality gap: 5320975571814.76, tolerance: 1091522650.8738987\n",
      "  model = cd_fast.enet_coordinate_descent(\n",
      "/Users/randallbloomquist/opt/anaconda3/lib/python3.8/site-packages/sklearn/linear_model/_coordinate_descent.py:529: ConvergenceWarning: Objective did not converge. You might want to increase the number of iterations. Duality gap: 6483543038885.303, tolerance: 1328242382.9517798\n",
      "  model = cd_fast.enet_coordinate_descent(\n",
      "/Users/randallbloomquist/opt/anaconda3/lib/python3.8/site-packages/sklearn/linear_model/_coordinate_descent.py:529: ConvergenceWarning: Objective did not converge. You might want to increase the number of iterations. Duality gap: 6557087357065.793, tolerance: 1343126761.279595\n",
      "  model = cd_fast.enet_coordinate_descent(\n",
      "/Users/randallbloomquist/opt/anaconda3/lib/python3.8/site-packages/sklearn/linear_model/_coordinate_descent.py:529: ConvergenceWarning: Objective did not converge. You might want to increase the number of iterations. Duality gap: 6458889636879.621, tolerance: 1325356538.4990263\n",
      "  model = cd_fast.enet_coordinate_descent(\n",
      "/Users/randallbloomquist/opt/anaconda3/lib/python3.8/site-packages/sklearn/linear_model/_coordinate_descent.py:529: ConvergenceWarning: Objective did not converge. You might want to increase the number of iterations. Duality gap: 6702924579958.471, tolerance: 1343147202.3764865\n",
      "  model = cd_fast.enet_coordinate_descent(\n",
      "/Users/randallbloomquist/opt/anaconda3/lib/python3.8/site-packages/sklearn/linear_model/_coordinate_descent.py:529: ConvergenceWarning: Objective did not converge. You might want to increase the number of iterations. Duality gap: 5946586232667.708, tolerance: 1191872034.9726863\n",
      "  model = cd_fast.enet_coordinate_descent(\n",
      "/Users/randallbloomquist/opt/anaconda3/lib/python3.8/site-packages/sklearn/linear_model/_coordinate_descent.py:529: ConvergenceWarning: Objective did not converge. You might want to increase the number of iterations. Duality gap: 6731127337173.373, tolerance: 1348904111.200411\n",
      "  model = cd_fast.enet_coordinate_descent(\n",
      "/Users/randallbloomquist/opt/anaconda3/lib/python3.8/site-packages/sklearn/linear_model/_coordinate_descent.py:529: ConvergenceWarning: Objective did not converge. You might want to increase the number of iterations. Duality gap: 6726695573521.413, tolerance: 1348003107.7131312\n",
      "  model = cd_fast.enet_coordinate_descent(\n",
      "/Users/randallbloomquist/opt/anaconda3/lib/python3.8/site-packages/sklearn/linear_model/_coordinate_descent.py:529: ConvergenceWarning: Objective did not converge. You might want to increase the number of iterations. Duality gap: 6181935203023.704, tolerance: 1238695530.6581817\n",
      "  model = cd_fast.enet_coordinate_descent(\n",
      "/Users/randallbloomquist/opt/anaconda3/lib/python3.8/site-packages/sklearn/linear_model/_coordinate_descent.py:529: ConvergenceWarning: Objective did not converge. You might want to increase the number of iterations. Duality gap: 6542239002681.645, tolerance: 1311011987.2251787\n",
      "  model = cd_fast.enet_coordinate_descent(\n",
      "/Users/randallbloomquist/opt/anaconda3/lib/python3.8/site-packages/sklearn/linear_model/_coordinate_descent.py:529: ConvergenceWarning: Objective did not converge. You might want to increase the number of iterations. Duality gap: 5446503408361.967, tolerance: 1091522650.8738987\n",
      "  model = cd_fast.enet_coordinate_descent(\n",
      "/Users/randallbloomquist/opt/anaconda3/lib/python3.8/site-packages/sklearn/linear_model/_coordinate_descent.py:529: ConvergenceWarning: Objective did not converge. You might want to increase the number of iterations. Duality gap: 6628393037848.323, tolerance: 1328242382.9517798\n",
      "  model = cd_fast.enet_coordinate_descent(\n",
      "/Users/randallbloomquist/opt/anaconda3/lib/python3.8/site-packages/sklearn/linear_model/_coordinate_descent.py:529: ConvergenceWarning: Objective did not converge. You might want to increase the number of iterations. Duality gap: 6702747237116.905, tolerance: 1343126761.279595\n",
      "  model = cd_fast.enet_coordinate_descent(\n",
      "/Users/randallbloomquist/opt/anaconda3/lib/python3.8/site-packages/sklearn/linear_model/_coordinate_descent.py:529: ConvergenceWarning: Objective did not converge. You might want to increase the number of iterations. Duality gap: 6613110181050.989, tolerance: 1325356538.4990263\n",
      "  model = cd_fast.enet_coordinate_descent(\n",
      "/Users/randallbloomquist/opt/anaconda3/lib/python3.8/site-packages/sklearn/linear_model/_coordinate_descent.py:529: ConvergenceWarning: Objective did not converge. You might want to increase the number of iterations. Duality gap: 6714740151783.752, tolerance: 1343147202.3764865\n",
      "  model = cd_fast.enet_coordinate_descent(\n",
      "/Users/randallbloomquist/opt/anaconda3/lib/python3.8/site-packages/sklearn/linear_model/_coordinate_descent.py:529: ConvergenceWarning: Objective did not converge. You might want to increase the number of iterations. Duality gap: 5958367064114.191, tolerance: 1191872034.9726863\n",
      "  model = cd_fast.enet_coordinate_descent(\n",
      "/Users/randallbloomquist/opt/anaconda3/lib/python3.8/site-packages/sklearn/linear_model/_coordinate_descent.py:529: ConvergenceWarning: Objective did not converge. You might want to increase the number of iterations. Duality gap: 6743479415465.211, tolerance: 1348904111.200411\n",
      "  model = cd_fast.enet_coordinate_descent(\n",
      "/Users/randallbloomquist/opt/anaconda3/lib/python3.8/site-packages/sklearn/linear_model/_coordinate_descent.py:529: ConvergenceWarning: Objective did not converge. You might want to increase the number of iterations. Duality gap: 6738980123295.109, tolerance: 1348003107.7131312\n",
      "  model = cd_fast.enet_coordinate_descent(\n",
      "/Users/randallbloomquist/opt/anaconda3/lib/python3.8/site-packages/sklearn/linear_model/_coordinate_descent.py:529: ConvergenceWarning: Objective did not converge. You might want to increase the number of iterations. Duality gap: 6192580484667.405, tolerance: 1238695530.6581817\n",
      "  model = cd_fast.enet_coordinate_descent(\n",
      "/Users/randallbloomquist/opt/anaconda3/lib/python3.8/site-packages/sklearn/linear_model/_coordinate_descent.py:529: ConvergenceWarning: Objective did not converge. You might want to increase the number of iterations. Duality gap: 6554063268189.127, tolerance: 1311011987.2251787\n",
      "  model = cd_fast.enet_coordinate_descent(\n",
      "/Users/randallbloomquist/opt/anaconda3/lib/python3.8/site-packages/sklearn/linear_model/_coordinate_descent.py:529: ConvergenceWarning: Objective did not converge. You might want to increase the number of iterations. Duality gap: 5456749690908.15, tolerance: 1091522650.8738987\n",
      "  model = cd_fast.enet_coordinate_descent(\n",
      "/Users/randallbloomquist/opt/anaconda3/lib/python3.8/site-packages/sklearn/linear_model/_coordinate_descent.py:529: ConvergenceWarning: Objective did not converge. You might want to increase the number of iterations. Duality gap: 6640215515958.722, tolerance: 1328242382.9517798\n",
      "  model = cd_fast.enet_coordinate_descent(\n",
      "/Users/randallbloomquist/opt/anaconda3/lib/python3.8/site-packages/sklearn/linear_model/_coordinate_descent.py:529: ConvergenceWarning: Objective did not converge. You might want to increase the number of iterations. Duality gap: 6714632169263.239, tolerance: 1343126761.279595\n",
      "  model = cd_fast.enet_coordinate_descent(\n",
      "/Users/randallbloomquist/opt/anaconda3/lib/python3.8/site-packages/sklearn/linear_model/_coordinate_descent.py:529: ConvergenceWarning: Objective did not converge. You might want to increase the number of iterations. Duality gap: 6625719800641.671, tolerance: 1325356538.4990263\n",
      "  model = cd_fast.enet_coordinate_descent(\n",
      "/Users/randallbloomquist/opt/anaconda3/lib/python3.8/site-packages/sklearn/linear_model/_coordinate_descent.py:529: ConvergenceWarning: Objective did not converge. You might want to increase the number of iterations. Duality gap: 6715658882458.657, tolerance: 1343147202.3764865\n",
      "  model = cd_fast.enet_coordinate_descent(\n",
      "/Users/randallbloomquist/opt/anaconda3/lib/python3.8/site-packages/sklearn/linear_model/_coordinate_descent.py:529: ConvergenceWarning: Objective did not converge. You might want to increase the number of iterations. Duality gap: 5959283257386.586, tolerance: 1191872034.9726863\n",
      "  model = cd_fast.enet_coordinate_descent(\n",
      "/Users/randallbloomquist/opt/anaconda3/lib/python3.8/site-packages/sklearn/linear_model/_coordinate_descent.py:529: ConvergenceWarning: Objective did not converge. You might want to increase the number of iterations. Duality gap: 6744439919263.094, tolerance: 1348904111.200411\n",
      "  model = cd_fast.enet_coordinate_descent(\n",
      "/Users/randallbloomquist/opt/anaconda3/lib/python3.8/site-packages/sklearn/linear_model/_coordinate_descent.py:529: ConvergenceWarning: Objective did not converge. You might want to increase the number of iterations. Duality gap: 6739935345436.309, tolerance: 1348003107.7131312\n",
      "  model = cd_fast.enet_coordinate_descent(\n",
      "/Users/randallbloomquist/opt/anaconda3/lib/python3.8/site-packages/sklearn/linear_model/_coordinate_descent.py:529: ConvergenceWarning: Objective did not converge. You might want to increase the number of iterations. Duality gap: 6193408167833.566, tolerance: 1238695530.6581817\n",
      "  model = cd_fast.enet_coordinate_descent(\n",
      "/Users/randallbloomquist/opt/anaconda3/lib/python3.8/site-packages/sklearn/linear_model/_coordinate_descent.py:529: ConvergenceWarning: Objective did not converge. You might want to increase the number of iterations. Duality gap: 6554982743718.387, tolerance: 1311011987.2251787\n",
      "  model = cd_fast.enet_coordinate_descent(\n",
      "/Users/randallbloomquist/opt/anaconda3/lib/python3.8/site-packages/sklearn/linear_model/_coordinate_descent.py:529: ConvergenceWarning: Objective did not converge. You might want to increase the number of iterations. Duality gap: 5457546371500.951, tolerance: 1091522650.8738987\n",
      "  model = cd_fast.enet_coordinate_descent(\n",
      "/Users/randallbloomquist/opt/anaconda3/lib/python3.8/site-packages/sklearn/linear_model/_coordinate_descent.py:529: ConvergenceWarning: Objective did not converge. You might want to increase the number of iterations. Duality gap: 6641134743853.806, tolerance: 1328242382.9517798\n",
      "  model = cd_fast.enet_coordinate_descent(\n",
      "/Users/randallbloomquist/opt/anaconda3/lib/python3.8/site-packages/sklearn/linear_model/_coordinate_descent.py:529: ConvergenceWarning: Objective did not converge. You might want to increase the number of iterations. Duality gap: 6715556229925.365, tolerance: 1343126761.279595\n",
      "  model = cd_fast.enet_coordinate_descent(\n",
      "/Users/randallbloomquist/opt/anaconda3/lib/python3.8/site-packages/sklearn/linear_model/_coordinate_descent.py:529: ConvergenceWarning: Objective did not converge. You might want to increase the number of iterations. Duality gap: 6626700370867.391, tolerance: 1325356538.4990263\n",
      "  model = cd_fast.enet_coordinate_descent(\n"
     ]
    },
    {
     "data": {
      "text/plain": [
       "{'regressor__alpha': 1e-05, 'regressor__l1_ratio': 1.0}"
      ]
     },
     "execution_count": 13,
     "metadata": {},
     "output_type": "execute_result"
    }
   ],
   "source": [
    "enet_cv.fit(X_train,y_train)\n",
    "\n",
    "enet_cv.best_params_"
   ]
  },
  {
   "cell_type": "code",
   "execution_count": 14,
   "metadata": {},
   "outputs": [
    {
     "name": "stdout",
     "output_type": "stream",
     "text": [
      "MSE: 8.452559e+09\n"
     ]
    }
   ],
   "source": [
    "y_predict = enet_cv.predict(X_test)\n",
    "print('MSE: {:2e}'.format(mean_squared_error(y_test, y_predict)))"
   ]
  },
  {
   "cell_type": "code",
   "execution_count": 15,
   "metadata": {},
   "outputs": [
    {
     "data": {
      "text/plain": [
       "10.8"
      ]
     },
     "execution_count": 15,
     "metadata": {},
     "output_type": "execute_result"
    }
   ],
   "source": [
    "calculate_five_percent(y_predict,y_test)"
   ]
  },
  {
   "cell_type": "code",
   "execution_count": 16,
   "metadata": {},
   "outputs": [
    {
     "data": {
      "text/plain": [
       "27.200000000000003"
      ]
     },
     "execution_count": 16,
     "metadata": {},
     "output_type": "execute_result"
    }
   ],
   "source": [
    "calculate_ten_percent(y_predict,y_test)"
   ]
  },
  {
   "cell_type": "code",
   "execution_count": 17,
   "metadata": {},
   "outputs": [
    {
     "name": "stdout",
     "output_type": "stream",
     "text": [
      "score: 0.5721873723338067\n",
      "MSE: 8.449348e+09\n"
     ]
    }
   ],
   "source": [
    "ridge = Ridge(alpha=1)\n",
    "ridge.fit(X_train,y_train)\n",
    "y_predict = ridge.predict(X_test)\n",
    "print(\"score:\", ridge.score(X_test, y_test))\n",
    "print('MSE: {:2e}'.format(mean_squared_error(y_test, y_predict)))"
   ]
  },
  {
   "cell_type": "code",
   "execution_count": 18,
   "metadata": {},
   "outputs": [
    {
     "name": "stdout",
     "output_type": "stream",
     "text": [
      "10.4\n",
      "26.8\n"
     ]
    }
   ],
   "source": [
    "print(calculate_five_percent(y_predict,y_test))\n",
    "print(calculate_ten_percent(y_predict,y_test))"
   ]
  },
  {
   "cell_type": "code",
   "execution_count": 20,
   "metadata": {},
   "outputs": [
    {
     "name": "stdout",
     "output_type": "stream",
     "text": [
      "score: 0.5720247858690821\n",
      "MSE: 8.452559e+09\n"
     ]
    }
   ],
   "source": [
    "lr = LinearRegression()\n",
    "lr.fit(X_train,y_train)\n",
    "y_predict = lr.predict(X_test)\n",
    "print(\"score:\", lr.score(X_test, y_test))\n",
    "print('MSE: {:2e}'.format(mean_squared_error(y_test, y_predict)))"
   ]
  },
  {
   "cell_type": "code",
   "execution_count": 21,
   "metadata": {},
   "outputs": [
    {
     "name": "stdout",
     "output_type": "stream",
     "text": [
      "10.8\n",
      "27.200000000000003\n"
     ]
    }
   ],
   "source": [
    "print(calculate_five_percent(y_predict,y_test))\n",
    "print(calculate_ten_percent(y_predict,y_test))"
   ]
  },
  {
   "cell_type": "code",
   "execution_count": 22,
   "metadata": {},
   "outputs": [
    {
     "name": "stdout",
     "output_type": "stream",
     "text": [
      "Ridge Accuracy: -8.45e+09\n",
      "10.8\n",
      "27.200000000000003\n"
     ]
    }
   ],
   "source": [
    "kf = KFold()\n",
    "skf = StratifiedKFold()\n",
    "ridge_pipe = Pipeline([('scaler', StandardScaler()), ('regressor', Ridge())])\n",
    "ridge_grid_params = {'regressor__alpha': np.arange(0,50,1)}\n",
    "ridge_grid = GridSearchCV(ridge_pipe, ridge_grid_params, cv=kf, scoring = 'neg_mean_squared_error')\n",
    "ridge_grid.fit(X_train, y_train)\n",
    "y_predict = ridge_grid.predict(X_test)\n",
    "print(\"Ridge Accuracy: {:.2e}\".format(ridge_grid.score(X_test, y_test)))\n",
    "print(calculate_five_percent(y_predict,y_test))\n",
    "print(calculate_ten_percent(y_predict,y_test))"
   ]
  },
  {
   "cell_type": "code",
   "execution_count": 23,
   "metadata": {},
   "outputs": [
    {
     "name": "stdout",
     "output_type": "stream",
     "text": [
      "Lasso Accuracy: -8.45e+09\n",
      "10.8\n",
      "27.200000000000003\n"
     ]
    }
   ],
   "source": [
    "kf = KFold()\n",
    "skf = StratifiedKFold()\n",
    "lasso_pipe = Pipeline([('scaler', StandardScaler()), ('regressor', Lasso())])\n",
    "lasso_grid_params = {'regressor__alpha': np.arange(0.1,0.9,0.1)}\n",
    "lasso_grid = GridSearchCV(lasso_pipe, lasso_grid_params, cv=kf, scoring = 'neg_mean_squared_error')\n",
    "lasso_grid.fit(X_train, y_train)\n",
    "y_predict = lasso_grid.predict(X_test)\n",
    "print(\"Lasso Accuracy: {:.2e}\".format(lasso_grid.score(X_test, y_test)))\n",
    "print(calculate_five_percent(y_predict,y_test))\n",
    "print(calculate_ten_percent(y_predict,y_test))"
   ]
  },
  {
   "cell_type": "code",
   "execution_count": 24,
   "metadata": {},
   "outputs": [
    {
     "name": "stdout",
     "output_type": "stream",
     "text": [
      "gbr Accuracy: -4.40e+09\n",
      "32.4\n",
      "53.2\n"
     ]
    }
   ],
   "source": [
    "kf = KFold()\n",
    "skf = StratifiedKFold()\n",
    "gbr_pipe = Pipeline([('scaler', StandardScaler()), ('regressor', GradientBoostingRegressor(loss='huber'))])\n",
    "gbr_grid_params = {'regressor__alpha': np.arange(0.1,0.9,0.2),\n",
    "                  'regressor__max_depth': np.arange(1,9,2),\n",
    "                  'regressor__learning_rate': np.arange(0.01,0.2,0.03)}\n",
    "gbr_grid = GridSearchCV(gbr_pipe, gbr_grid_params, cv=kf, scoring = 'neg_mean_squared_error')\n",
    "gbr_grid.fit(X_train, y_train)\n",
    "y_predict = gbr_grid.predict(X_test)\n",
    "print(\"gbr Accuracy: {:.2e}\".format(gbr_grid.score(X_test, y_test)))\n",
    "print(calculate_five_percent(y_predict,y_test))\n",
    "print(calculate_ten_percent(y_predict,y_test))"
   ]
  },
  {
   "cell_type": "code",
   "execution_count": 25,
   "metadata": {},
   "outputs": [
    {
     "data": {
      "text/plain": [
       "{'regressor__alpha': 0.7000000000000001,\n",
       " 'regressor__learning_rate': 0.06999999999999999,\n",
       " 'regressor__max_depth': 7}"
      ]
     },
     "execution_count": 25,
     "metadata": {},
     "output_type": "execute_result"
    }
   ],
   "source": [
    "gbr_grid.best_params_"
   ]
  },
  {
   "cell_type": "code",
   "execution_count": 26,
   "metadata": {},
   "outputs": [
    {
     "name": "stdout",
     "output_type": "stream",
     "text": [
      "gbr Accuracy: -1.61e+09\n"
     ]
    }
   ],
   "source": [
    "kf = KFold()\n",
    "skf = StratifiedKFold()\n",
    "gbr_pipe2 = Pipeline([('scaler', StandardScaler()), ('regressor', GradientBoostingRegressor(loss='huber'))])\n",
    "gbr_grid_params2 = {'regressor__alpha': np.arange(0.1,0.9,0.3)}\n",
    "gbr_grid2 = GridSearchCV(gbr_pipe2, gbr_grid_params2, cv=kf, scoring = 'neg_mean_squared_error')\n",
    "gbr_grid2.fit(X_train, y_train)\n",
    "y_predict = gbr_grid2.predict(X_test)\n",
    "print(\"gbr Accuracy: {:.2e}\".format(gbr_grid.score(X_test, y_test)))\n",
    "print(calculate_five_percent(y_predict,y_test))\n",
    "print(calculate_ten_percent(y_predict,y_test))"
   ]
  },
  {
   "cell_type": "code",
   "execution_count": 30,
   "metadata": {},
   "outputs": [
    {
     "data": {
      "text/plain": [
       "{'regressor__alpha': 0.7000000000000001}"
      ]
     },
     "execution_count": 30,
     "metadata": {},
     "output_type": "execute_result"
    }
   ],
   "source": [
    "gbr_grid2.best_params_"
   ]
  },
  {
   "cell_type": "code",
   "execution_count": 95,
   "metadata": {},
   "outputs": [],
   "source": [
    "X_df = pd.DataFrame(X)"
   ]
  },
  {
   "cell_type": "code",
   "execution_count": 96,
   "metadata": {},
   "outputs": [
    {
     "data": {
      "text/html": [
       "<div>\n",
       "<style scoped>\n",
       "    .dataframe tbody tr th:only-of-type {\n",
       "        vertical-align: middle;\n",
       "    }\n",
       "\n",
       "    .dataframe tbody tr th {\n",
       "        vertical-align: top;\n",
       "    }\n",
       "\n",
       "    .dataframe thead th {\n",
       "        text-align: right;\n",
       "    }\n",
       "</style>\n",
       "<table border=\"1\" class=\"dataframe\">\n",
       "  <thead>\n",
       "    <tr style=\"text-align: right;\">\n",
       "      <th></th>\n",
       "      <th>0</th>\n",
       "      <th>1</th>\n",
       "      <th>2</th>\n",
       "      <th>3</th>\n",
       "      <th>4</th>\n",
       "      <th>5</th>\n",
       "      <th>6</th>\n",
       "      <th>7</th>\n",
       "      <th>8</th>\n",
       "      <th>9</th>\n",
       "    </tr>\n",
       "  </thead>\n",
       "  <tbody>\n",
       "    <tr>\n",
       "      <th>0</th>\n",
       "      <td>True</td>\n",
       "      <td>False</td>\n",
       "      <td>False</td>\n",
       "      <td>False</td>\n",
       "      <td>False</td>\n",
       "      <td>False</td>\n",
       "      <td>False</td>\n",
       "      <td>False</td>\n",
       "      <td>False</td>\n",
       "      <td>False</td>\n",
       "    </tr>\n",
       "    <tr>\n",
       "      <th>1</th>\n",
       "      <td>False</td>\n",
       "      <td>True</td>\n",
       "      <td>True</td>\n",
       "      <td>False</td>\n",
       "      <td>True</td>\n",
       "      <td>True</td>\n",
       "      <td>False</td>\n",
       "      <td>True</td>\n",
       "      <td>False</td>\n",
       "      <td>False</td>\n",
       "    </tr>\n",
       "    <tr>\n",
       "      <th>2</th>\n",
       "      <td>False</td>\n",
       "      <td>True</td>\n",
       "      <td>True</td>\n",
       "      <td>False</td>\n",
       "      <td>True</td>\n",
       "      <td>False</td>\n",
       "      <td>False</td>\n",
       "      <td>True</td>\n",
       "      <td>False</td>\n",
       "      <td>False</td>\n",
       "    </tr>\n",
       "    <tr>\n",
       "      <th>3</th>\n",
       "      <td>False</td>\n",
       "      <td>False</td>\n",
       "      <td>False</td>\n",
       "      <td>True</td>\n",
       "      <td>False</td>\n",
       "      <td>False</td>\n",
       "      <td>False</td>\n",
       "      <td>False</td>\n",
       "      <td>False</td>\n",
       "      <td>False</td>\n",
       "    </tr>\n",
       "    <tr>\n",
       "      <th>4</th>\n",
       "      <td>False</td>\n",
       "      <td>True</td>\n",
       "      <td>True</td>\n",
       "      <td>False</td>\n",
       "      <td>True</td>\n",
       "      <td>True</td>\n",
       "      <td>False</td>\n",
       "      <td>True</td>\n",
       "      <td>False</td>\n",
       "      <td>False</td>\n",
       "    </tr>\n",
       "    <tr>\n",
       "      <th>5</th>\n",
       "      <td>False</td>\n",
       "      <td>True</td>\n",
       "      <td>False</td>\n",
       "      <td>False</td>\n",
       "      <td>True</td>\n",
       "      <td>True</td>\n",
       "      <td>False</td>\n",
       "      <td>True</td>\n",
       "      <td>False</td>\n",
       "      <td>False</td>\n",
       "    </tr>\n",
       "    <tr>\n",
       "      <th>6</th>\n",
       "      <td>False</td>\n",
       "      <td>False</td>\n",
       "      <td>False</td>\n",
       "      <td>False</td>\n",
       "      <td>False</td>\n",
       "      <td>False</td>\n",
       "      <td>True</td>\n",
       "      <td>False</td>\n",
       "      <td>False</td>\n",
       "      <td>False</td>\n",
       "    </tr>\n",
       "    <tr>\n",
       "      <th>7</th>\n",
       "      <td>False</td>\n",
       "      <td>True</td>\n",
       "      <td>True</td>\n",
       "      <td>False</td>\n",
       "      <td>True</td>\n",
       "      <td>True</td>\n",
       "      <td>False</td>\n",
       "      <td>True</td>\n",
       "      <td>False</td>\n",
       "      <td>False</td>\n",
       "    </tr>\n",
       "    <tr>\n",
       "      <th>8</th>\n",
       "      <td>False</td>\n",
       "      <td>False</td>\n",
       "      <td>False</td>\n",
       "      <td>False</td>\n",
       "      <td>False</td>\n",
       "      <td>False</td>\n",
       "      <td>False</td>\n",
       "      <td>False</td>\n",
       "      <td>True</td>\n",
       "      <td>False</td>\n",
       "    </tr>\n",
       "    <tr>\n",
       "      <th>9</th>\n",
       "      <td>False</td>\n",
       "      <td>False</td>\n",
       "      <td>False</td>\n",
       "      <td>False</td>\n",
       "      <td>False</td>\n",
       "      <td>False</td>\n",
       "      <td>False</td>\n",
       "      <td>False</td>\n",
       "      <td>False</td>\n",
       "      <td>True</td>\n",
       "    </tr>\n",
       "  </tbody>\n",
       "</table>\n",
       "</div>"
      ],
      "text/plain": [
       "       0      1      2      3      4      5      6      7      8      9\n",
       "0   True  False  False  False  False  False  False  False  False  False\n",
       "1  False   True   True  False   True   True  False   True  False  False\n",
       "2  False   True   True  False   True  False  False   True  False  False\n",
       "3  False  False  False   True  False  False  False  False  False  False\n",
       "4  False   True   True  False   True   True  False   True  False  False\n",
       "5  False   True  False  False   True   True  False   True  False  False\n",
       "6  False  False  False  False  False  False   True  False  False  False\n",
       "7  False   True   True  False   True   True  False   True  False  False\n",
       "8  False  False  False  False  False  False  False  False   True  False\n",
       "9  False  False  False  False  False  False  False  False  False   True"
      ]
     },
     "execution_count": 96,
     "metadata": {},
     "output_type": "execute_result"
    }
   ],
   "source": [
    "X_df.corr() > 0.2"
   ]
  },
  {
   "cell_type": "code",
   "execution_count": 97,
   "metadata": {},
   "outputs": [],
   "source": [
    "X_train = sm.add_constant(X_train)"
   ]
  },
  {
   "cell_type": "code",
   "execution_count": 98,
   "metadata": {},
   "outputs": [
    {
     "data": {
      "text/html": [
       "<table class=\"simpletable\">\n",
       "<caption>OLS Regression Results</caption>\n",
       "<tr>\n",
       "  <th>Dep. Variable:</th>            <td>y</td>        <th>  R-squared:         </th> <td>   0.751</td> \n",
       "</tr>\n",
       "<tr>\n",
       "  <th>Model:</th>                   <td>OLS</td>       <th>  Adj. R-squared:    </th> <td>   0.748</td> \n",
       "</tr>\n",
       "<tr>\n",
       "  <th>Method:</th>             <td>Least Squares</td>  <th>  F-statistic:       </th> <td>   248.1</td> \n",
       "</tr>\n",
       "<tr>\n",
       "  <th>Date:</th>             <td>Sat, 27 Mar 2021</td> <th>  Prob (F-statistic):</th> <td>1.08e-216</td>\n",
       "</tr>\n",
       "<tr>\n",
       "  <th>Time:</th>                 <td>15:00:55</td>     <th>  Log-Likelihood:    </th> <td> -9383.2</td> \n",
       "</tr>\n",
       "<tr>\n",
       "  <th>No. Observations:</th>      <td>   750</td>      <th>  AIC:               </th> <td>1.879e+04</td>\n",
       "</tr>\n",
       "<tr>\n",
       "  <th>Df Residuals:</th>          <td>   740</td>      <th>  BIC:               </th> <td>1.883e+04</td>\n",
       "</tr>\n",
       "<tr>\n",
       "  <th>Df Model:</th>              <td>     9</td>      <th>                     </th>     <td> </td>    \n",
       "</tr>\n",
       "<tr>\n",
       "  <th>Covariance Type:</th>      <td>nonrobust</td>    <th>                     </th>     <td> </td>    \n",
       "</tr>\n",
       "</table>\n",
       "<table class=\"simpletable\">\n",
       "<tr>\n",
       "    <td></td>       <th>coef</th>     <th>std err</th>      <th>t</th>      <th>P>|t|</th>  <th>[0.025</th>    <th>0.975]</th>  \n",
       "</tr>\n",
       "<tr>\n",
       "  <th>const</th> <td>-1.111e+07</td> <td> 3.74e+06</td> <td>   -2.971</td> <td> 0.003</td> <td>-1.84e+07</td> <td>-3.77e+06</td>\n",
       "</tr>\n",
       "<tr>\n",
       "  <th>x1</th>    <td>   79.9889</td> <td>   46.982</td> <td>    1.703</td> <td> 0.089</td> <td>  -12.245</td> <td>  172.223</td>\n",
       "</tr>\n",
       "<tr>\n",
       "  <th>x2</th>    <td>   94.9924</td> <td>    6.432</td> <td>   14.768</td> <td> 0.000</td> <td>   82.365</td> <td>  107.620</td>\n",
       "</tr>\n",
       "<tr>\n",
       "  <th>x3</th>    <td>    6.4329</td> <td>    0.690</td> <td>    9.330</td> <td> 0.000</td> <td>    5.079</td> <td>    7.787</td>\n",
       "</tr>\n",
       "<tr>\n",
       "  <th>x4</th>    <td> 1601.0958</td> <td>  287.692</td> <td>    5.565</td> <td> 0.000</td> <td> 1036.307</td> <td> 2165.885</td>\n",
       "</tr>\n",
       "<tr>\n",
       "  <th>x5</th>    <td> 1319.0049</td> <td>   87.941</td> <td>   14.999</td> <td> 0.000</td> <td> 1146.361</td> <td> 1491.649</td>\n",
       "</tr>\n",
       "<tr>\n",
       "  <th>x6</th>    <td> 7.166e+04</td> <td>  2.5e+04</td> <td>    2.871</td> <td> 0.004</td> <td> 2.27e+04</td> <td> 1.21e+05</td>\n",
       "</tr>\n",
       "<tr>\n",
       "  <th>x7</th>    <td> 4888.7993</td> <td> 1.51e+04</td> <td>    0.323</td> <td> 0.747</td> <td>-2.48e+04</td> <td> 3.46e+04</td>\n",
       "</tr>\n",
       "<tr>\n",
       "  <th>x8</th>    <td>-7844.5272</td> <td> 3576.188</td> <td>   -2.194</td> <td> 0.029</td> <td>-1.49e+04</td> <td> -823.844</td>\n",
       "</tr>\n",
       "<tr>\n",
       "  <th>x9</th>    <td>  334.9652</td> <td>  770.976</td> <td>    0.434</td> <td> 0.664</td> <td>-1178.595</td> <td> 1848.526</td>\n",
       "</tr>\n",
       "</table>\n",
       "<table class=\"simpletable\">\n",
       "<tr>\n",
       "  <th>Omnibus:</th>       <td>767.532</td> <th>  Durbin-Watson:     </th> <td>   1.956</td> \n",
       "</tr>\n",
       "<tr>\n",
       "  <th>Prob(Omnibus):</th> <td> 0.000</td>  <th>  Jarque-Bera (JB):  </th> <td>77395.951</td>\n",
       "</tr>\n",
       "<tr>\n",
       "  <th>Skew:</th>          <td> 4.441</td>  <th>  Prob(JB):          </th> <td>    0.00</td> \n",
       "</tr>\n",
       "<tr>\n",
       "  <th>Kurtosis:</th>      <td>51.967</td>  <th>  Cond. No.          </th> <td>1.22e+08</td> \n",
       "</tr>\n",
       "</table><br/><br/>Notes:<br/>[1] Standard Errors assume that the covariance matrix of the errors is correctly specified.<br/>[2] The condition number is large, 1.22e+08. This might indicate that there are<br/>strong multicollinearity or other numerical problems."
      ],
      "text/plain": [
       "<class 'statsmodels.iolib.summary.Summary'>\n",
       "\"\"\"\n",
       "                            OLS Regression Results                            \n",
       "==============================================================================\n",
       "Dep. Variable:                      y   R-squared:                       0.751\n",
       "Model:                            OLS   Adj. R-squared:                  0.748\n",
       "Method:                 Least Squares   F-statistic:                     248.1\n",
       "Date:                Sat, 27 Mar 2021   Prob (F-statistic):          1.08e-216\n",
       "Time:                        15:00:55   Log-Likelihood:                -9383.2\n",
       "No. Observations:                 750   AIC:                         1.879e+04\n",
       "Df Residuals:                     740   BIC:                         1.883e+04\n",
       "Df Model:                           9                                         \n",
       "Covariance Type:            nonrobust                                         \n",
       "==============================================================================\n",
       "                 coef    std err          t      P>|t|      [0.025      0.975]\n",
       "------------------------------------------------------------------------------\n",
       "const      -1.111e+07   3.74e+06     -2.971      0.003   -1.84e+07   -3.77e+06\n",
       "x1            79.9889     46.982      1.703      0.089     -12.245     172.223\n",
       "x2            94.9924      6.432     14.768      0.000      82.365     107.620\n",
       "x3             6.4329      0.690      9.330      0.000       5.079       7.787\n",
       "x4          1601.0958    287.692      5.565      0.000    1036.307    2165.885\n",
       "x5          1319.0049     87.941     14.999      0.000    1146.361    1491.649\n",
       "x6          7.166e+04    2.5e+04      2.871      0.004    2.27e+04    1.21e+05\n",
       "x7          4888.7993   1.51e+04      0.323      0.747   -2.48e+04    3.46e+04\n",
       "x8         -7844.5272   3576.188     -2.194      0.029   -1.49e+04    -823.844\n",
       "x9           334.9652    770.976      0.434      0.664   -1178.595    1848.526\n",
       "==============================================================================\n",
       "Omnibus:                      767.532   Durbin-Watson:                   1.956\n",
       "Prob(Omnibus):                  0.000   Jarque-Bera (JB):            77395.951\n",
       "Skew:                           4.441   Prob(JB):                         0.00\n",
       "Kurtosis:                      51.967   Cond. No.                     1.22e+08\n",
       "==============================================================================\n",
       "\n",
       "Notes:\n",
       "[1] Standard Errors assume that the covariance matrix of the errors is correctly specified.\n",
       "[2] The condition number is large, 1.22e+08. This might indicate that there are\n",
       "strong multicollinearity or other numerical problems.\n",
       "\"\"\""
      ]
     },
     "execution_count": 98,
     "metadata": {},
     "output_type": "execute_result"
    }
   ],
   "source": [
    "X_opt = X_train[:,np.arange(0,10)]\n",
    "regressor_OLS = sm.OLS(endog = y_train, exog = X_opt).fit()\n",
    "regressor_OLS.summary()"
   ]
  },
  {
   "cell_type": "code",
   "execution_count": 202,
   "metadata": {},
   "outputs": [],
   "source": [
    "X_opt = X_train[:,[0,1,2,4,5,6,7,8,9,10]]"
   ]
  },
  {
   "cell_type": "code",
   "execution_count": 203,
   "metadata": {},
   "outputs": [
    {
     "data": {
      "text/html": [
       "<table class=\"simpletable\">\n",
       "<caption>OLS Regression Results</caption>\n",
       "<tr>\n",
       "  <th>Dep. Variable:</th>            <td>y</td>        <th>  R-squared:         </th>  <td>   0.713</td>  \n",
       "</tr>\n",
       "<tr>\n",
       "  <th>Model:</th>                   <td>OLS</td>       <th>  Adj. R-squared:    </th>  <td>   0.713</td>  \n",
       "</tr>\n",
       "<tr>\n",
       "  <th>Method:</th>             <td>Least Squares</td>  <th>  F-statistic:       </th>  <td>   2409.</td>  \n",
       "</tr>\n",
       "<tr>\n",
       "  <th>Date:</th>             <td>Wed, 24 Mar 2021</td> <th>  Prob (F-statistic):</th>   <td>  0.00</td>   \n",
       "</tr>\n",
       "<tr>\n",
       "  <th>Time:</th>                 <td>22:03:59</td>     <th>  Log-Likelihood:    </th> <td>-1.0857e+05</td>\n",
       "</tr>\n",
       "<tr>\n",
       "  <th>No. Observations:</th>      <td>  8740</td>      <th>  AIC:               </th>  <td>2.172e+05</td> \n",
       "</tr>\n",
       "<tr>\n",
       "  <th>Df Residuals:</th>          <td>  8730</td>      <th>  BIC:               </th>  <td>2.172e+05</td> \n",
       "</tr>\n",
       "<tr>\n",
       "  <th>Df Model:</th>              <td>     9</td>      <th>                     </th>      <td> </td>     \n",
       "</tr>\n",
       "<tr>\n",
       "  <th>Covariance Type:</th>      <td>nonrobust</td>    <th>                     </th>      <td> </td>     \n",
       "</tr>\n",
       "</table>\n",
       "<table class=\"simpletable\">\n",
       "<tr>\n",
       "    <td></td>       <th>coef</th>     <th>std err</th>      <th>t</th>      <th>P>|t|</th>  <th>[0.025</th>    <th>0.975]</th>  \n",
       "</tr>\n",
       "<tr>\n",
       "  <th>const</th> <td>-2.625e+07</td> <td> 1.77e+06</td> <td>  -14.793</td> <td> 0.000</td> <td>-2.97e+07</td> <td>-2.28e+07</td>\n",
       "</tr>\n",
       "<tr>\n",
       "  <th>x1</th>    <td>  -94.1917</td> <td>   11.221</td> <td>   -8.394</td> <td> 0.000</td> <td> -116.188</td> <td>  -72.196</td>\n",
       "</tr>\n",
       "<tr>\n",
       "  <th>x2</th>    <td>  108.0740</td> <td>    1.407</td> <td>   76.822</td> <td> 0.000</td> <td>  105.316</td> <td>  110.832</td>\n",
       "</tr>\n",
       "<tr>\n",
       "  <th>x3</th>    <td>  831.0016</td> <td>   76.436</td> <td>   10.872</td> <td> 0.000</td> <td>  681.169</td> <td>  980.834</td>\n",
       "</tr>\n",
       "<tr>\n",
       "  <th>x4</th>    <td> 1033.5446</td> <td>   21.627</td> <td>   47.789</td> <td> 0.000</td> <td>  991.150</td> <td> 1075.939</td>\n",
       "</tr>\n",
       "<tr>\n",
       "  <th>x5</th>    <td> 8.316e+04</td> <td> 6871.368</td> <td>   12.103</td> <td> 0.000</td> <td> 6.97e+04</td> <td> 9.66e+04</td>\n",
       "</tr>\n",
       "<tr>\n",
       "  <th>x6</th>    <td>-1.834e+04</td> <td> 3989.132</td> <td>   -4.597</td> <td> 0.000</td> <td>-2.62e+04</td> <td>-1.05e+04</td>\n",
       "</tr>\n",
       "<tr>\n",
       "  <th>x7</th>    <td> 1.941e+04</td> <td> 1819.451</td> <td>   10.669</td> <td> 0.000</td> <td> 1.58e+04</td> <td>  2.3e+04</td>\n",
       "</tr>\n",
       "<tr>\n",
       "  <th>x8</th>    <td> 1133.9101</td> <td>  205.944</td> <td>    5.506</td> <td> 0.000</td> <td>  730.212</td> <td> 1537.608</td>\n",
       "</tr>\n",
       "<tr>\n",
       "  <th>x9</th>    <td> 1.367e+04</td> <td>  753.404</td> <td>   18.142</td> <td> 0.000</td> <td> 1.22e+04</td> <td> 1.51e+04</td>\n",
       "</tr>\n",
       "</table>\n",
       "<table class=\"simpletable\">\n",
       "<tr>\n",
       "  <th>Omnibus:</th>       <td>6564.327</td> <th>  Durbin-Watson:     </th>  <td>   1.952</td> \n",
       "</tr>\n",
       "<tr>\n",
       "  <th>Prob(Omnibus):</th>  <td> 0.000</td>  <th>  Jarque-Bera (JB):  </th> <td>786991.236</td>\n",
       "</tr>\n",
       "<tr>\n",
       "  <th>Skew:</th>           <td> 2.821</td>  <th>  Prob(JB):          </th>  <td>    0.00</td> \n",
       "</tr>\n",
       "<tr>\n",
       "  <th>Kurtosis:</th>       <td>49.144</td>  <th>  Cond. No.          </th>  <td>2.16e+08</td> \n",
       "</tr>\n",
       "</table><br/><br/>Notes:<br/>[1] Standard Errors assume that the covariance matrix of the errors is correctly specified.<br/>[2] The condition number is large, 2.16e+08. This might indicate that there are<br/>strong multicollinearity or other numerical problems."
      ],
      "text/plain": [
       "<class 'statsmodels.iolib.summary.Summary'>\n",
       "\"\"\"\n",
       "                            OLS Regression Results                            \n",
       "==============================================================================\n",
       "Dep. Variable:                      y   R-squared:                       0.713\n",
       "Model:                            OLS   Adj. R-squared:                  0.713\n",
       "Method:                 Least Squares   F-statistic:                     2409.\n",
       "Date:                Wed, 24 Mar 2021   Prob (F-statistic):               0.00\n",
       "Time:                        22:03:59   Log-Likelihood:            -1.0857e+05\n",
       "No. Observations:                8740   AIC:                         2.172e+05\n",
       "Df Residuals:                    8730   BIC:                         2.172e+05\n",
       "Df Model:                           9                                         \n",
       "Covariance Type:            nonrobust                                         \n",
       "==============================================================================\n",
       "                 coef    std err          t      P>|t|      [0.025      0.975]\n",
       "------------------------------------------------------------------------------\n",
       "const      -2.625e+07   1.77e+06    -14.793      0.000   -2.97e+07   -2.28e+07\n",
       "x1           -94.1917     11.221     -8.394      0.000    -116.188     -72.196\n",
       "x2           108.0740      1.407     76.822      0.000     105.316     110.832\n",
       "x3           831.0016     76.436     10.872      0.000     681.169     980.834\n",
       "x4          1033.5446     21.627     47.789      0.000     991.150    1075.939\n",
       "x5          8.316e+04   6871.368     12.103      0.000    6.97e+04    9.66e+04\n",
       "x6         -1.834e+04   3989.132     -4.597      0.000   -2.62e+04   -1.05e+04\n",
       "x7          1.941e+04   1819.451     10.669      0.000    1.58e+04     2.3e+04\n",
       "x8          1133.9101    205.944      5.506      0.000     730.212    1537.608\n",
       "x9          1.367e+04    753.404     18.142      0.000    1.22e+04    1.51e+04\n",
       "==============================================================================\n",
       "Omnibus:                     6564.327   Durbin-Watson:                   1.952\n",
       "Prob(Omnibus):                  0.000   Jarque-Bera (JB):           786991.236\n",
       "Skew:                           2.821   Prob(JB):                         0.00\n",
       "Kurtosis:                      49.144   Cond. No.                     2.16e+08\n",
       "==============================================================================\n",
       "\n",
       "Notes:\n",
       "[1] Standard Errors assume that the covariance matrix of the errors is correctly specified.\n",
       "[2] The condition number is large, 2.16e+08. This might indicate that there are\n",
       "strong multicollinearity or other numerical problems.\n",
       "\"\"\""
      ]
     },
     "execution_count": 203,
     "metadata": {},
     "output_type": "execute_result"
    }
   ],
   "source": [
    "regressor_OLS = sm.OLS(endog = y_train, exog = X_opt).fit()\n",
    "regressor_OLS.summary()"
   ]
  },
  {
   "cell_type": "code",
   "execution_count": 99,
   "metadata": {},
   "outputs": [],
   "source": [
    "y_predict = regressor_OLS.predict(X_test)"
   ]
  },
  {
   "cell_type": "code",
   "execution_count": 100,
   "metadata": {},
   "outputs": [
    {
     "name": "stdout",
     "output_type": "stream",
     "text": [
      "MSE: 7.55e+23\n"
     ]
    }
   ],
   "source": [
    "print('MSE: {:.2e}'.format(mean_squared_error(y_test, y_predict)))"
   ]
  },
  {
   "cell_type": "code",
   "execution_count": 101,
   "metadata": {},
   "outputs": [
    {
     "data": {
      "text/plain": [
       "0.0"
      ]
     },
     "execution_count": 101,
     "metadata": {},
     "output_type": "execute_result"
    }
   ],
   "source": [
    "calculate_five_percent(y_predict,y_test)\n",
    "calculate_ten_percent(y_predict,y_test)"
   ]
  },
  {
   "cell_type": "code",
   "execution_count": null,
   "metadata": {},
   "outputs": [],
   "source": []
  }
 ],
 "metadata": {
  "kernelspec": {
   "display_name": "Python 3",
   "language": "python",
   "name": "python3"
  },
  "language_info": {
   "codemirror_mode": {
    "name": "ipython",
    "version": 3
   },
   "file_extension": ".py",
   "mimetype": "text/x-python",
   "name": "python",
   "nbconvert_exporter": "python",
   "pygments_lexer": "ipython3",
   "version": "3.8.5"
  }
 },
 "nbformat": 4,
 "nbformat_minor": 4
}
