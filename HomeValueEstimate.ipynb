{
 "cells": [
  {
   "cell_type": "markdown",
   "metadata": {},
   "source": [
    "# Predicting Home Sale Price"
   ]
  },
  {
   "cell_type": "markdown",
   "metadata": {},
   "source": [
    "This will attempt to be similar to the Zestimate used on Zillow, the Redfin estimate used on Redfin, or any of the valuations provided by Collateral Analytics, CoreLogic, or Quantarium on Realtor.com.\n",
    "\n",
    "I will create a regression model and use it to predict valuation and compare to the other valuations on currently listed homes."
   ]
  },
  {
   "cell_type": "code",
   "execution_count": 127,
   "metadata": {},
   "outputs": [],
   "source": [
    "%run src/imports.py\n",
    "from src.helpers import calculate_five_percent, calculate_ten_percent, calculate_twenty_percent"
   ]
  },
  {
   "cell_type": "code",
   "execution_count": 120,
   "metadata": {},
   "outputs": [
    {
     "name": "stdout",
     "output_type": "stream",
     "text": [
      "Checking whether there is an H2O instance running at http://localhost:54321 ..... not found.\n",
      "Attempting to start a local H2O server...\n",
      "  Java Version: openjdk version \"11.0.6\" 2020-01-14; OpenJDK Runtime Environment (build 11.0.6+8-b765.1); OpenJDK 64-Bit Server VM (build 11.0.6+8-b765.1, mixed mode)\n",
      "  Starting server from /Users/randallbloomquist/opt/anaconda3/lib/python3.8/site-packages/h2o/backend/bin/h2o.jar\n",
      "  Ice root: /var/folders/x9/yfstzcgs657dxpgy6xy50glm0000gn/T/tmpb23g78ei\n",
      "  JVM stdout: /var/folders/x9/yfstzcgs657dxpgy6xy50glm0000gn/T/tmpb23g78ei/h2o_randallbloomquist_started_from_python.out\n",
      "  JVM stderr: /var/folders/x9/yfstzcgs657dxpgy6xy50glm0000gn/T/tmpb23g78ei/h2o_randallbloomquist_started_from_python.err\n",
      "  Server is running at http://127.0.0.1:54321\n",
      "Connecting to H2O server at http://127.0.0.1:54321 ... successful.\n"
     ]
    },
    {
     "data": {
      "text/html": [
       "<div style=\"overflow:auto\"><table style=\"width:50%\"><tr><td>H2O_cluster_uptime:</td>\n",
       "<td>03 secs</td></tr>\n",
       "<tr><td>H2O_cluster_timezone:</td>\n",
       "<td>America/Chicago</td></tr>\n",
       "<tr><td>H2O_data_parsing_timezone:</td>\n",
       "<td>UTC</td></tr>\n",
       "<tr><td>H2O_cluster_version:</td>\n",
       "<td>3.32.1.1</td></tr>\n",
       "<tr><td>H2O_cluster_version_age:</td>\n",
       "<td>7 days, 1 hour and 53 minutes </td></tr>\n",
       "<tr><td>H2O_cluster_name:</td>\n",
       "<td>H2O_from_python_randallbloomquist_jb6qzf</td></tr>\n",
       "<tr><td>H2O_cluster_total_nodes:</td>\n",
       "<td>1</td></tr>\n",
       "<tr><td>H2O_cluster_free_memory:</td>\n",
       "<td>4 Gb</td></tr>\n",
       "<tr><td>H2O_cluster_total_cores:</td>\n",
       "<td>8</td></tr>\n",
       "<tr><td>H2O_cluster_allowed_cores:</td>\n",
       "<td>8</td></tr>\n",
       "<tr><td>H2O_cluster_status:</td>\n",
       "<td>accepting new members, healthy</td></tr>\n",
       "<tr><td>H2O_connection_url:</td>\n",
       "<td>http://127.0.0.1:54321</td></tr>\n",
       "<tr><td>H2O_connection_proxy:</td>\n",
       "<td>{\"http\": null, \"https\": null}</td></tr>\n",
       "<tr><td>H2O_internal_security:</td>\n",
       "<td>False</td></tr>\n",
       "<tr><td>H2O_API_Extensions:</td>\n",
       "<td>Amazon S3, XGBoost, Algos, AutoML, Core V3, TargetEncoder, Core V4</td></tr>\n",
       "<tr><td>Python_version:</td>\n",
       "<td>3.8.5 final</td></tr></table></div>"
      ],
      "text/plain": [
       "--------------------------  ------------------------------------------------------------------\n",
       "H2O_cluster_uptime:         03 secs\n",
       "H2O_cluster_timezone:       America/Chicago\n",
       "H2O_data_parsing_timezone:  UTC\n",
       "H2O_cluster_version:        3.32.1.1\n",
       "H2O_cluster_version_age:    7 days, 1 hour and 53 minutes\n",
       "H2O_cluster_name:           H2O_from_python_randallbloomquist_jb6qzf\n",
       "H2O_cluster_total_nodes:    1\n",
       "H2O_cluster_free_memory:    4 Gb\n",
       "H2O_cluster_total_cores:    8\n",
       "H2O_cluster_allowed_cores:  8\n",
       "H2O_cluster_status:         accepting new members, healthy\n",
       "H2O_connection_url:         http://127.0.0.1:54321\n",
       "H2O_connection_proxy:       {\"http\": null, \"https\": null}\n",
       "H2O_internal_security:      False\n",
       "H2O_API_Extensions:         Amazon S3, XGBoost, Algos, AutoML, Core V3, TargetEncoder, Core V4\n",
       "Python_version:             3.8.5 final\n",
       "--------------------------  ------------------------------------------------------------------"
      ]
     },
     "metadata": {},
     "output_type": "display_data"
    }
   ],
   "source": [
    "h2o.init()"
   ]
  },
  {
   "cell_type": "code",
   "execution_count": 43,
   "metadata": {},
   "outputs": [],
   "source": [
    "sns.set(rc={'figure.figsize':(16,4)})"
   ]
  },
  {
   "cell_type": "code",
   "execution_count": 44,
   "metadata": {},
   "outputs": [],
   "source": [
    "modeldata = pd.read_pickle('data/modeldata.pkl')"
   ]
  },
  {
   "cell_type": "code",
   "execution_count": 45,
   "metadata": {},
   "outputs": [
    {
     "data": {
      "text/html": [
       "<div>\n",
       "<style scoped>\n",
       "    .dataframe tbody tr th:only-of-type {\n",
       "        vertical-align: middle;\n",
       "    }\n",
       "\n",
       "    .dataframe tbody tr th {\n",
       "        vertical-align: top;\n",
       "    }\n",
       "\n",
       "    .dataframe thead th {\n",
       "        text-align: right;\n",
       "    }\n",
       "</style>\n",
       "<table border=\"1\" class=\"dataframe\">\n",
       "  <thead>\n",
       "    <tr style=\"text-align: right;\">\n",
       "      <th></th>\n",
       "      <th>ZIP OR POSTAL CODE</th>\n",
       "      <th>PRICE</th>\n",
       "      <th>SQUARE FEET</th>\n",
       "      <th>LOT SIZE</th>\n",
       "      <th>YEAR BUILT</th>\n",
       "      <th>HOA/MONTH</th>\n",
       "      <th>LATITUDE</th>\n",
       "      <th>LONGITUDE</th>\n",
       "      <th>ROOMS</th>\n",
       "      <th>MONTH</th>\n",
       "      <th>YEAR</th>\n",
       "    </tr>\n",
       "  </thead>\n",
       "  <tbody>\n",
       "    <tr>\n",
       "      <th>0</th>\n",
       "      <td>78257</td>\n",
       "      <td>345000</td>\n",
       "      <td>1989.0</td>\n",
       "      <td>5662.0</td>\n",
       "      <td>2005.0</td>\n",
       "      <td>230.0</td>\n",
       "      <td>29.647801</td>\n",
       "      <td>-98.614186</td>\n",
       "      <td>4.0</td>\n",
       "      <td>9</td>\n",
       "      <td>2020</td>\n",
       "    </tr>\n",
       "    <tr>\n",
       "      <th>1</th>\n",
       "      <td>78256</td>\n",
       "      <td>337500</td>\n",
       "      <td>2166.0</td>\n",
       "      <td>9583.0</td>\n",
       "      <td>2004.0</td>\n",
       "      <td>54.0</td>\n",
       "      <td>29.650304</td>\n",
       "      <td>-98.629082</td>\n",
       "      <td>6.0</td>\n",
       "      <td>6</td>\n",
       "      <td>2020</td>\n",
       "    </tr>\n",
       "    <tr>\n",
       "      <th>2</th>\n",
       "      <td>78256</td>\n",
       "      <td>375500</td>\n",
       "      <td>2969.0</td>\n",
       "      <td>6605.0</td>\n",
       "      <td>2004.0</td>\n",
       "      <td>54.0</td>\n",
       "      <td>29.651842</td>\n",
       "      <td>-98.630650</td>\n",
       "      <td>6.5</td>\n",
       "      <td>3</td>\n",
       "      <td>2021</td>\n",
       "    </tr>\n",
       "    <tr>\n",
       "      <th>3</th>\n",
       "      <td>78255</td>\n",
       "      <td>462000</td>\n",
       "      <td>2716.0</td>\n",
       "      <td>9147.0</td>\n",
       "      <td>2014.0</td>\n",
       "      <td>95.0</td>\n",
       "      <td>29.617650</td>\n",
       "      <td>-98.643430</td>\n",
       "      <td>7.0</td>\n",
       "      <td>10</td>\n",
       "      <td>2018</td>\n",
       "    </tr>\n",
       "    <tr>\n",
       "      <th>4</th>\n",
       "      <td>78256</td>\n",
       "      <td>624000</td>\n",
       "      <td>3012.0</td>\n",
       "      <td>75794.0</td>\n",
       "      <td>2000.0</td>\n",
       "      <td>25.0</td>\n",
       "      <td>29.620646</td>\n",
       "      <td>-98.622295</td>\n",
       "      <td>5.5</td>\n",
       "      <td>2</td>\n",
       "      <td>2021</td>\n",
       "    </tr>\n",
       "    <tr>\n",
       "      <th>...</th>\n",
       "      <td>...</td>\n",
       "      <td>...</td>\n",
       "      <td>...</td>\n",
       "      <td>...</td>\n",
       "      <td>...</td>\n",
       "      <td>...</td>\n",
       "      <td>...</td>\n",
       "      <td>...</td>\n",
       "      <td>...</td>\n",
       "      <td>...</td>\n",
       "      <td>...</td>\n",
       "    </tr>\n",
       "    <tr>\n",
       "      <th>20007</th>\n",
       "      <td>78222</td>\n",
       "      <td>153000</td>\n",
       "      <td>1577.0</td>\n",
       "      <td>6969.0</td>\n",
       "      <td>1983.0</td>\n",
       "      <td>0.0</td>\n",
       "      <td>29.383410</td>\n",
       "      <td>-98.376520</td>\n",
       "      <td>5.0</td>\n",
       "      <td>9</td>\n",
       "      <td>2019</td>\n",
       "    </tr>\n",
       "    <tr>\n",
       "      <th>20008</th>\n",
       "      <td>78222</td>\n",
       "      <td>189900</td>\n",
       "      <td>1703.0</td>\n",
       "      <td>4791.0</td>\n",
       "      <td>2018.0</td>\n",
       "      <td>25.0</td>\n",
       "      <td>29.386700</td>\n",
       "      <td>-98.379900</td>\n",
       "      <td>6.0</td>\n",
       "      <td>7</td>\n",
       "      <td>2018</td>\n",
       "    </tr>\n",
       "    <tr>\n",
       "      <th>20009</th>\n",
       "      <td>78222</td>\n",
       "      <td>128000</td>\n",
       "      <td>1102.0</td>\n",
       "      <td>5662.0</td>\n",
       "      <td>1985.0</td>\n",
       "      <td>0.0</td>\n",
       "      <td>29.383092</td>\n",
       "      <td>-98.376562</td>\n",
       "      <td>5.0</td>\n",
       "      <td>3</td>\n",
       "      <td>2019</td>\n",
       "    </tr>\n",
       "    <tr>\n",
       "      <th>20010</th>\n",
       "      <td>78222</td>\n",
       "      <td>196499</td>\n",
       "      <td>2324.0</td>\n",
       "      <td>5662.0</td>\n",
       "      <td>2014.0</td>\n",
       "      <td>6.0</td>\n",
       "      <td>29.379346</td>\n",
       "      <td>-98.370269</td>\n",
       "      <td>7.0</td>\n",
       "      <td>3</td>\n",
       "      <td>2019</td>\n",
       "    </tr>\n",
       "    <tr>\n",
       "      <th>20011</th>\n",
       "      <td>78222</td>\n",
       "      <td>170000</td>\n",
       "      <td>3048.0</td>\n",
       "      <td>5227.0</td>\n",
       "      <td>2006.0</td>\n",
       "      <td>0.0</td>\n",
       "      <td>29.381472</td>\n",
       "      <td>-98.373694</td>\n",
       "      <td>6.5</td>\n",
       "      <td>10</td>\n",
       "      <td>2019</td>\n",
       "    </tr>\n",
       "  </tbody>\n",
       "</table>\n",
       "<p>19812 rows × 11 columns</p>\n",
       "</div>"
      ],
      "text/plain": [
       "       ZIP OR POSTAL CODE   PRICE  SQUARE FEET  LOT SIZE  YEAR BUILT  \\\n",
       "0                   78257  345000       1989.0    5662.0      2005.0   \n",
       "1                   78256  337500       2166.0    9583.0      2004.0   \n",
       "2                   78256  375500       2969.0    6605.0      2004.0   \n",
       "3                   78255  462000       2716.0    9147.0      2014.0   \n",
       "4                   78256  624000       3012.0   75794.0      2000.0   \n",
       "...                   ...     ...          ...       ...         ...   \n",
       "20007               78222  153000       1577.0    6969.0      1983.0   \n",
       "20008               78222  189900       1703.0    4791.0      2018.0   \n",
       "20009               78222  128000       1102.0    5662.0      1985.0   \n",
       "20010               78222  196499       2324.0    5662.0      2014.0   \n",
       "20011               78222  170000       3048.0    5227.0      2006.0   \n",
       "\n",
       "       HOA/MONTH   LATITUDE  LONGITUDE  ROOMS  MONTH  YEAR  \n",
       "0          230.0  29.647801 -98.614186    4.0      9  2020  \n",
       "1           54.0  29.650304 -98.629082    6.0      6  2020  \n",
       "2           54.0  29.651842 -98.630650    6.5      3  2021  \n",
       "3           95.0  29.617650 -98.643430    7.0     10  2018  \n",
       "4           25.0  29.620646 -98.622295    5.5      2  2021  \n",
       "...          ...        ...        ...    ...    ...   ...  \n",
       "20007        0.0  29.383410 -98.376520    5.0      9  2019  \n",
       "20008       25.0  29.386700 -98.379900    6.0      7  2018  \n",
       "20009        0.0  29.383092 -98.376562    5.0      3  2019  \n",
       "20010        6.0  29.379346 -98.370269    7.0      3  2019  \n",
       "20011        0.0  29.381472 -98.373694    6.5     10  2019  \n",
       "\n",
       "[19812 rows x 11 columns]"
      ]
     },
     "execution_count": 45,
     "metadata": {},
     "output_type": "execute_result"
    }
   ],
   "source": [
    "modeldata"
   ]
  },
  {
   "cell_type": "markdown",
   "metadata": {},
   "source": [
    "-----\n",
    "Data Density  \n",
    "= 19,812 / 11  \n",
    "= 1801\n",
    "-----\n",
    "With smaller dataset  \n",
    "= 1,000 / 11  \n",
    "= 91\n",
    "----"
   ]
  },
  {
   "cell_type": "markdown",
   "metadata": {},
   "source": [
    "## Building a Model"
   ]
  },
  {
   "cell_type": "markdown",
   "metadata": {},
   "source": [
    "Smaller set:"
   ]
  },
  {
   "cell_type": "code",
   "execution_count": 8,
   "metadata": {},
   "outputs": [],
   "source": [
    "df_small = modeldata.sample(1000)\n",
    "y = df_small['PRICE'].values\n",
    "X = df_small.drop('PRICE',axis=1).values\n",
    "X_train, X_test, y_train, y_test = train_test_split(X,y)"
   ]
  },
  {
   "cell_type": "code",
   "execution_count": 25,
   "metadata": {},
   "outputs": [],
   "source": [
    "y = modeldata['PRICE'].values\n",
    "X = modeldata.drop('PRICE',axis=1).values\n",
    "X_train, X_test, y_train, y_test = train_test_split(X,y)"
   ]
  },
  {
   "cell_type": "code",
   "execution_count": 67,
   "metadata": {},
   "outputs": [
    {
     "name": "stdout",
     "output_type": "stream",
     "text": [
      "score: 0.7995623956124502\n",
      "MSE: 5.685604e+09\n",
      "49.94952554007672\n",
      "70.82576216434484\n",
      "88.14859681001414\n",
      "0.7995623956124502\n"
     ]
    }
   ],
   "source": [
    "rfr = RandomForestRegressor(oob_score=True)\n",
    "rfr.fit(X_train,y_train)\n",
    "y_predict = rfr.predict(X_test)\n",
    "print(\"score:\", rfr.score(X_test, y_test))\n",
    "print('MSE: {:2e}'.format(mean_squared_error(y_test, y_predict)))\n",
    "print(calculate_five_percent(y_predict,y_test))\n",
    "print(calculate_ten_percent(y_predict,y_test))\n",
    "print(calculate_twenty_percent(y_predict,y_test))\n",
    "print(r2_score(y_test,y_predict))"
   ]
  },
  {
   "cell_type": "code",
   "execution_count": 10,
   "metadata": {},
   "outputs": [
    {
     "name": "stderr",
     "output_type": "stream",
     "text": [
      "/Users/randallbloomquist/opt/anaconda3/lib/python3.8/site-packages/sklearn/linear_model/_coordinate_descent.py:529: ConvergenceWarning: Objective did not converge. You might want to increase the number of iterations. Duality gap: 2790398349155.116, tolerance: 1311002112.6500173\n",
      "  model = cd_fast.enet_coordinate_descent(\n",
      "/Users/randallbloomquist/opt/anaconda3/lib/python3.8/site-packages/sklearn/linear_model/_coordinate_descent.py:529: ConvergenceWarning: Objective did not converge. You might want to increase the number of iterations. Duality gap: 3077268448852.238, tolerance: 1565508902.4464314\n",
      "  model = cd_fast.enet_coordinate_descent(\n",
      "/Users/randallbloomquist/opt/anaconda3/lib/python3.8/site-packages/sklearn/linear_model/_coordinate_descent.py:529: ConvergenceWarning: Objective did not converge. You might want to increase the number of iterations. Duality gap: 2885331866344.253, tolerance: 1456204779.596652\n",
      "  model = cd_fast.enet_coordinate_descent(\n",
      "/Users/randallbloomquist/opt/anaconda3/lib/python3.8/site-packages/sklearn/linear_model/_coordinate_descent.py:529: ConvergenceWarning: Objective did not converge. You might want to increase the number of iterations. Duality gap: 2694416337043.259, tolerance: 1426912394.0734348\n",
      "  model = cd_fast.enet_coordinate_descent(\n",
      "/Users/randallbloomquist/opt/anaconda3/lib/python3.8/site-packages/sklearn/linear_model/_coordinate_descent.py:529: ConvergenceWarning: Objective did not converge. You might want to increase the number of iterations. Duality gap: 2936907596609.371, tolerance: 1542385871.600179\n",
      "  model = cd_fast.enet_coordinate_descent(\n",
      "/Users/randallbloomquist/opt/anaconda3/lib/python3.8/site-packages/sklearn/linear_model/_coordinate_descent.py:529: ConvergenceWarning: Objective did not converge. You might want to increase the number of iterations. Duality gap: 3014235083790.1196, tolerance: 1588272916.2122736\n",
      "  model = cd_fast.enet_coordinate_descent(\n",
      "/Users/randallbloomquist/opt/anaconda3/lib/python3.8/site-packages/sklearn/linear_model/_coordinate_descent.py:529: ConvergenceWarning: Objective did not converge. You might want to increase the number of iterations. Duality gap: 2955292416318.4307, tolerance: 1528377395.8884346\n",
      "  model = cd_fast.enet_coordinate_descent(\n",
      "/Users/randallbloomquist/opt/anaconda3/lib/python3.8/site-packages/sklearn/linear_model/_coordinate_descent.py:529: ConvergenceWarning: Objective did not converge. You might want to increase the number of iterations. Duality gap: 3056388953954.909, tolerance: 1511816763.9376738\n",
      "  model = cd_fast.enet_coordinate_descent(\n",
      "/Users/randallbloomquist/opt/anaconda3/lib/python3.8/site-packages/sklearn/linear_model/_coordinate_descent.py:529: ConvergenceWarning: Objective did not converge. You might want to increase the number of iterations. Duality gap: 2694232503959.1255, tolerance: 1371976790.7138734\n",
      "  model = cd_fast.enet_coordinate_descent(\n",
      "/Users/randallbloomquist/opt/anaconda3/lib/python3.8/site-packages/sklearn/linear_model/_coordinate_descent.py:529: ConvergenceWarning: Objective did not converge. You might want to increase the number of iterations. Duality gap: 3013708445682.1655, tolerance: 1505459135.7030735\n",
      "  model = cd_fast.enet_coordinate_descent(\n",
      "/Users/randallbloomquist/opt/anaconda3/lib/python3.8/site-packages/sklearn/linear_model/_coordinate_descent.py:529: ConvergenceWarning: Objective did not converge. You might want to increase the number of iterations. Duality gap: 2790984852230.8877, tolerance: 1311002112.6500173\n",
      "  model = cd_fast.enet_coordinate_descent(\n",
      "/Users/randallbloomquist/opt/anaconda3/lib/python3.8/site-packages/sklearn/linear_model/_coordinate_descent.py:529: ConvergenceWarning: Objective did not converge. You might want to increase the number of iterations. Duality gap: 3078075841468.878, tolerance: 1565508902.4464314\n",
      "  model = cd_fast.enet_coordinate_descent(\n",
      "/Users/randallbloomquist/opt/anaconda3/lib/python3.8/site-packages/sklearn/linear_model/_coordinate_descent.py:529: ConvergenceWarning: Objective did not converge. You might want to increase the number of iterations. Duality gap: 2886061445859.7344, tolerance: 1456204779.596652\n",
      "  model = cd_fast.enet_coordinate_descent(\n",
      "/Users/randallbloomquist/opt/anaconda3/lib/python3.8/site-packages/sklearn/linear_model/_coordinate_descent.py:529: ConvergenceWarning: Objective did not converge. You might want to increase the number of iterations. Duality gap: 2695139993430.178, tolerance: 1426912394.0734348\n",
      "  model = cd_fast.enet_coordinate_descent(\n",
      "/Users/randallbloomquist/opt/anaconda3/lib/python3.8/site-packages/sklearn/linear_model/_coordinate_descent.py:529: ConvergenceWarning: Objective did not converge. You might want to increase the number of iterations. Duality gap: 2937581376184.149, tolerance: 1542385871.600179\n",
      "  model = cd_fast.enet_coordinate_descent(\n",
      "/Users/randallbloomquist/opt/anaconda3/lib/python3.8/site-packages/sklearn/linear_model/_coordinate_descent.py:529: ConvergenceWarning: Objective did not converge. You might want to increase the number of iterations. Duality gap: 3015065719781.4834, tolerance: 1588272916.2122736\n",
      "  model = cd_fast.enet_coordinate_descent(\n",
      "/Users/randallbloomquist/opt/anaconda3/lib/python3.8/site-packages/sklearn/linear_model/_coordinate_descent.py:529: ConvergenceWarning: Objective did not converge. You might want to increase the number of iterations. Duality gap: 2956061781292.034, tolerance: 1528377395.8884346\n",
      "  model = cd_fast.enet_coordinate_descent(\n",
      "/Users/randallbloomquist/opt/anaconda3/lib/python3.8/site-packages/sklearn/linear_model/_coordinate_descent.py:529: ConvergenceWarning: Objective did not converge. You might want to increase the number of iterations. Duality gap: 3057149107269.613, tolerance: 1511816763.9376738\n",
      "  model = cd_fast.enet_coordinate_descent(\n",
      "/Users/randallbloomquist/opt/anaconda3/lib/python3.8/site-packages/sklearn/linear_model/_coordinate_descent.py:529: ConvergenceWarning: Objective did not converge. You might want to increase the number of iterations. Duality gap: 2694958724477.117, tolerance: 1371976790.7138734\n",
      "  model = cd_fast.enet_coordinate_descent(\n",
      "/Users/randallbloomquist/opt/anaconda3/lib/python3.8/site-packages/sklearn/linear_model/_coordinate_descent.py:529: ConvergenceWarning: Objective did not converge. You might want to increase the number of iterations. Duality gap: 3014439825993.489, tolerance: 1505459135.7030735\n",
      "  model = cd_fast.enet_coordinate_descent(\n",
      "/Users/randallbloomquist/opt/anaconda3/lib/python3.8/site-packages/sklearn/linear_model/_coordinate_descent.py:529: ConvergenceWarning: Objective did not converge. You might want to increase the number of iterations. Duality gap: 2798512256249.219, tolerance: 1311002112.6500173\n",
      "  model = cd_fast.enet_coordinate_descent(\n",
      "/Users/randallbloomquist/opt/anaconda3/lib/python3.8/site-packages/sklearn/linear_model/_coordinate_descent.py:529: ConvergenceWarning: Objective did not converge. You might want to increase the number of iterations. Duality gap: 3088435515400.2036, tolerance: 1565508902.4464314\n",
      "  model = cd_fast.enet_coordinate_descent(\n",
      "/Users/randallbloomquist/opt/anaconda3/lib/python3.8/site-packages/sklearn/linear_model/_coordinate_descent.py:529: ConvergenceWarning: Objective did not converge. You might want to increase the number of iterations. Duality gap: 2895427056179.956, tolerance: 1456204779.596652\n",
      "  model = cd_fast.enet_coordinate_descent(\n",
      "/Users/randallbloomquist/opt/anaconda3/lib/python3.8/site-packages/sklearn/linear_model/_coordinate_descent.py:529: ConvergenceWarning: Objective did not converge. You might want to increase the number of iterations. Duality gap: 2704429693948.5693, tolerance: 1426912394.0734348\n",
      "  model = cd_fast.enet_coordinate_descent(\n",
      "/Users/randallbloomquist/opt/anaconda3/lib/python3.8/site-packages/sklearn/linear_model/_coordinate_descent.py:529: ConvergenceWarning: Objective did not converge. You might want to increase the number of iterations. Duality gap: 2946227812462.522, tolerance: 1542385871.600179\n",
      "  model = cd_fast.enet_coordinate_descent(\n",
      "/Users/randallbloomquist/opt/anaconda3/lib/python3.8/site-packages/sklearn/linear_model/_coordinate_descent.py:529: ConvergenceWarning: Objective did not converge. You might want to increase the number of iterations. Duality gap: 3025723284543.724, tolerance: 1588272916.2122736\n",
      "  model = cd_fast.enet_coordinate_descent(\n",
      "/Users/randallbloomquist/opt/anaconda3/lib/python3.8/site-packages/sklearn/linear_model/_coordinate_descent.py:529: ConvergenceWarning: Objective did not converge. You might want to increase the number of iterations. Duality gap: 2965935290166.943, tolerance: 1528377395.8884346\n",
      "  model = cd_fast.enet_coordinate_descent(\n",
      "/Users/randallbloomquist/opt/anaconda3/lib/python3.8/site-packages/sklearn/linear_model/_coordinate_descent.py:529: ConvergenceWarning: Objective did not converge. You might want to increase the number of iterations. Duality gap: 3066905447146.2104, tolerance: 1511816763.9376738\n",
      "  model = cd_fast.enet_coordinate_descent(\n",
      "/Users/randallbloomquist/opt/anaconda3/lib/python3.8/site-packages/sklearn/linear_model/_coordinate_descent.py:529: ConvergenceWarning: Objective did not converge. You might want to increase the number of iterations. Duality gap: 2704276964638.575, tolerance: 1371976790.7138734\n",
      "  model = cd_fast.enet_coordinate_descent(\n",
      "/Users/randallbloomquist/opt/anaconda3/lib/python3.8/site-packages/sklearn/linear_model/_coordinate_descent.py:529: ConvergenceWarning: Objective did not converge. You might want to increase the number of iterations. Duality gap: 3023827425012.3086, tolerance: 1505459135.7030735\n",
      "  model = cd_fast.enet_coordinate_descent(\n",
      "/Users/randallbloomquist/opt/anaconda3/lib/python3.8/site-packages/sklearn/linear_model/_coordinate_descent.py:529: ConvergenceWarning: Objective did not converge. You might want to increase the number of iterations. Duality gap: 2888704441842.987, tolerance: 1311002112.6500173\n",
      "  model = cd_fast.enet_coordinate_descent(\n",
      "/Users/randallbloomquist/opt/anaconda3/lib/python3.8/site-packages/sklearn/linear_model/_coordinate_descent.py:529: ConvergenceWarning: Objective did not converge. You might want to increase the number of iterations. Duality gap: 3212153022640.834, tolerance: 1565508902.4464314\n",
      "  model = cd_fast.enet_coordinate_descent(\n",
      "/Users/randallbloomquist/opt/anaconda3/lib/python3.8/site-packages/sklearn/linear_model/_coordinate_descent.py:529: ConvergenceWarning: Objective did not converge. You might want to increase the number of iterations. Duality gap: 3007842824123.6304, tolerance: 1456204779.596652\n",
      "  model = cd_fast.enet_coordinate_descent(\n",
      "/Users/randallbloomquist/opt/anaconda3/lib/python3.8/site-packages/sklearn/linear_model/_coordinate_descent.py:529: ConvergenceWarning: Objective did not converge. You might want to increase the number of iterations. Duality gap: 2815964169700.528, tolerance: 1426912394.0734348\n",
      "  model = cd_fast.enet_coordinate_descent(\n",
      "/Users/randallbloomquist/opt/anaconda3/lib/python3.8/site-packages/sklearn/linear_model/_coordinate_descent.py:529: ConvergenceWarning: Objective did not converge. You might want to increase the number of iterations. Duality gap: 3049690588803.583, tolerance: 1542385871.600179\n",
      "  model = cd_fast.enet_coordinate_descent(\n",
      "/Users/randallbloomquist/opt/anaconda3/lib/python3.8/site-packages/sklearn/linear_model/_coordinate_descent.py:529: ConvergenceWarning: Objective did not converge. You might want to increase the number of iterations. Duality gap: 3152950509377.081, tolerance: 1588272916.2122736\n",
      "  model = cd_fast.enet_coordinate_descent(\n",
      "/Users/randallbloomquist/opt/anaconda3/lib/python3.8/site-packages/sklearn/linear_model/_coordinate_descent.py:529: ConvergenceWarning: Objective did not converge. You might want to increase the number of iterations. Duality gap: 3084079737046.5757, tolerance: 1528377395.8884346\n",
      "  model = cd_fast.enet_coordinate_descent(\n",
      "/Users/randallbloomquist/opt/anaconda3/lib/python3.8/site-packages/sklearn/linear_model/_coordinate_descent.py:529: ConvergenceWarning: Objective did not converge. You might want to increase the number of iterations. Duality gap: 3183779998670.336, tolerance: 1511816763.9376738\n",
      "  model = cd_fast.enet_coordinate_descent(\n",
      "/Users/randallbloomquist/opt/anaconda3/lib/python3.8/site-packages/sklearn/linear_model/_coordinate_descent.py:529: ConvergenceWarning: Objective did not converge. You might want to increase the number of iterations. Duality gap: 2815514182412.56, tolerance: 1371976790.7138734\n",
      "  model = cd_fast.enet_coordinate_descent(\n",
      "/Users/randallbloomquist/opt/anaconda3/lib/python3.8/site-packages/sklearn/linear_model/_coordinate_descent.py:529: ConvergenceWarning: Objective did not converge. You might want to increase the number of iterations. Duality gap: 3136376371078.037, tolerance: 1505459135.7030735\n",
      "  model = cd_fast.enet_coordinate_descent(\n",
      "/Users/randallbloomquist/opt/anaconda3/lib/python3.8/site-packages/sklearn/linear_model/_coordinate_descent.py:529: ConvergenceWarning: Objective did not converge. You might want to increase the number of iterations. Duality gap: 3575590394795.635, tolerance: 1311002112.6500173\n",
      "  model = cd_fast.enet_coordinate_descent(\n",
      "/Users/randallbloomquist/opt/anaconda3/lib/python3.8/site-packages/sklearn/linear_model/_coordinate_descent.py:529: ConvergenceWarning: Objective did not converge. You might want to increase the number of iterations. Duality gap: 4129576316783.8096, tolerance: 1565508902.4464314\n",
      "  model = cd_fast.enet_coordinate_descent(\n",
      "/Users/randallbloomquist/opt/anaconda3/lib/python3.8/site-packages/sklearn/linear_model/_coordinate_descent.py:529: ConvergenceWarning: Objective did not converge. You might want to increase the number of iterations. Duality gap: 3854253272753.683, tolerance: 1456204779.596652\n",
      "  model = cd_fast.enet_coordinate_descent(\n",
      "/Users/randallbloomquist/opt/anaconda3/lib/python3.8/site-packages/sklearn/linear_model/_coordinate_descent.py:529: ConvergenceWarning: Objective did not converge. You might want to increase the number of iterations. Duality gap: 3661317554523.1025, tolerance: 1426912394.0734348\n",
      "  model = cd_fast.enet_coordinate_descent(\n",
      "/Users/randallbloomquist/opt/anaconda3/lib/python3.8/site-packages/sklearn/linear_model/_coordinate_descent.py:529: ConvergenceWarning: Objective did not converge. You might want to increase the number of iterations. Duality gap: 3841776051192.0933, tolerance: 1542385871.600179\n",
      "  model = cd_fast.enet_coordinate_descent(\n",
      "/Users/randallbloomquist/opt/anaconda3/lib/python3.8/site-packages/sklearn/linear_model/_coordinate_descent.py:529: ConvergenceWarning: Objective did not converge. You might want to increase the number of iterations. Duality gap: 4094674093055.3794, tolerance: 1588272916.2122736\n",
      "  model = cd_fast.enet_coordinate_descent(\n",
      "/Users/randallbloomquist/opt/anaconda3/lib/python3.8/site-packages/sklearn/linear_model/_coordinate_descent.py:529: ConvergenceWarning: Objective did not converge. You might want to increase the number of iterations. Duality gap: 3966707932675.521, tolerance: 1528377395.8884346\n",
      "  model = cd_fast.enet_coordinate_descent(\n",
      "/Users/randallbloomquist/opt/anaconda3/lib/python3.8/site-packages/sklearn/linear_model/_coordinate_descent.py:529: ConvergenceWarning: Objective did not converge. You might want to increase the number of iterations. Duality gap: 4057954862460.324, tolerance: 1511816763.9376738\n",
      "  model = cd_fast.enet_coordinate_descent(\n",
      "/Users/randallbloomquist/opt/anaconda3/lib/python3.8/site-packages/sklearn/linear_model/_coordinate_descent.py:529: ConvergenceWarning: Objective did not converge. You might want to increase the number of iterations. Duality gap: 3624517469460.658, tolerance: 1371976790.7138734\n",
      "  model = cd_fast.enet_coordinate_descent(\n",
      "/Users/randallbloomquist/opt/anaconda3/lib/python3.8/site-packages/sklearn/linear_model/_coordinate_descent.py:529: ConvergenceWarning: Objective did not converge. You might want to increase the number of iterations. Duality gap: 3987931355431.124, tolerance: 1505459135.7030735\n",
      "  model = cd_fast.enet_coordinate_descent(\n",
      "/Users/randallbloomquist/opt/anaconda3/lib/python3.8/site-packages/sklearn/linear_model/_coordinate_descent.py:529: ConvergenceWarning: Objective did not converge. You might want to increase the number of iterations. Duality gap: 5418349517187.111, tolerance: 1311002112.6500173\n",
      "  model = cd_fast.enet_coordinate_descent(\n",
      "/Users/randallbloomquist/opt/anaconda3/lib/python3.8/site-packages/sklearn/linear_model/_coordinate_descent.py:529: ConvergenceWarning: Objective did not converge. You might want to increase the number of iterations. Duality gap: 6466552254154.437, tolerance: 1565508902.4464314\n",
      "  model = cd_fast.enet_coordinate_descent(\n",
      "/Users/randallbloomquist/opt/anaconda3/lib/python3.8/site-packages/sklearn/linear_model/_coordinate_descent.py:529: ConvergenceWarning: Objective did not converge. You might want to increase the number of iterations. Duality gap: 6000839135017.823, tolerance: 1456204779.596652\n",
      "  model = cd_fast.enet_coordinate_descent(\n",
      "/Users/randallbloomquist/opt/anaconda3/lib/python3.8/site-packages/sklearn/linear_model/_coordinate_descent.py:529: ConvergenceWarning: Objective did not converge. You might want to increase the number of iterations. Duality gap: 5843608715243.656, tolerance: 1426912394.0734348\n",
      "  model = cd_fast.enet_coordinate_descent(\n",
      "/Users/randallbloomquist/opt/anaconda3/lib/python3.8/site-packages/sklearn/linear_model/_coordinate_descent.py:529: ConvergenceWarning: Objective did not converge. You might want to increase the number of iterations. Duality gap: 6170586214234.385, tolerance: 1542385871.600179\n",
      "  model = cd_fast.enet_coordinate_descent(\n",
      "/Users/randallbloomquist/opt/anaconda3/lib/python3.8/site-packages/sklearn/linear_model/_coordinate_descent.py:529: ConvergenceWarning: Objective did not converge. You might want to increase the number of iterations. Duality gap: 6509894568592.495, tolerance: 1588272916.2122736\n",
      "  model = cd_fast.enet_coordinate_descent(\n",
      "/Users/randallbloomquist/opt/anaconda3/lib/python3.8/site-packages/sklearn/linear_model/_coordinate_descent.py:529: ConvergenceWarning: Objective did not converge. You might want to increase the number of iterations. Duality gap: 6254182190002.307, tolerance: 1528377395.8884346\n",
      "  model = cd_fast.enet_coordinate_descent(\n",
      "/Users/randallbloomquist/opt/anaconda3/lib/python3.8/site-packages/sklearn/linear_model/_coordinate_descent.py:529: ConvergenceWarning: Objective did not converge. You might want to increase the number of iterations. Duality gap: 6266825163501.842, tolerance: 1511816763.9376738\n",
      "  model = cd_fast.enet_coordinate_descent(\n",
      "/Users/randallbloomquist/opt/anaconda3/lib/python3.8/site-packages/sklearn/linear_model/_coordinate_descent.py:529: ConvergenceWarning: Objective did not converge. You might want to increase the number of iterations. Duality gap: 5638642741343.578, tolerance: 1371976790.7138734\n",
      "  model = cd_fast.enet_coordinate_descent(\n",
      "/Users/randallbloomquist/opt/anaconda3/lib/python3.8/site-packages/sklearn/linear_model/_coordinate_descent.py:529: ConvergenceWarning: Objective did not converge. You might want to increase the number of iterations. Duality gap: 6214793845793.753, tolerance: 1505459135.7030735\n",
      "  model = cd_fast.enet_coordinate_descent(\n",
      "/Users/randallbloomquist/opt/anaconda3/lib/python3.8/site-packages/sklearn/linear_model/_coordinate_descent.py:529: ConvergenceWarning: Objective did not converge. You might want to increase the number of iterations. Duality gap: 6417048763725.762, tolerance: 1311002112.6500173\n",
      "  model = cd_fast.enet_coordinate_descent(\n",
      "/Users/randallbloomquist/opt/anaconda3/lib/python3.8/site-packages/sklearn/linear_model/_coordinate_descent.py:529: ConvergenceWarning: Objective did not converge. You might want to increase the number of iterations. Duality gap: 7665517107539.525, tolerance: 1565508902.4464314\n",
      "  model = cd_fast.enet_coordinate_descent(\n",
      "/Users/randallbloomquist/opt/anaconda3/lib/python3.8/site-packages/sklearn/linear_model/_coordinate_descent.py:529: ConvergenceWarning: Objective did not converge. You might want to increase the number of iterations. Duality gap: 7126638381482.73, tolerance: 1456204779.596652\n",
      "  model = cd_fast.enet_coordinate_descent(\n",
      "/Users/randallbloomquist/opt/anaconda3/lib/python3.8/site-packages/sklearn/linear_model/_coordinate_descent.py:529: ConvergenceWarning: Objective did not converge. You might want to increase the number of iterations. Duality gap: 6979924814038.728, tolerance: 1426912394.0734348\n",
      "  model = cd_fast.enet_coordinate_descent(\n",
      "/Users/randallbloomquist/opt/anaconda3/lib/python3.8/site-packages/sklearn/linear_model/_coordinate_descent.py:529: ConvergenceWarning: Objective did not converge. You might want to increase the number of iterations. Duality gap: 7523407043575.464, tolerance: 1542385871.600179\n",
      "  model = cd_fast.enet_coordinate_descent(\n",
      "/Users/randallbloomquist/opt/anaconda3/lib/python3.8/site-packages/sklearn/linear_model/_coordinate_descent.py:529: ConvergenceWarning: Objective did not converge. You might want to increase the number of iterations. Duality gap: 7770017440442.234, tolerance: 1588272916.2122736\n",
      "  model = cd_fast.enet_coordinate_descent(\n",
      "/Users/randallbloomquist/opt/anaconda3/lib/python3.8/site-packages/sklearn/linear_model/_coordinate_descent.py:529: ConvergenceWarning: Objective did not converge. You might want to increase the number of iterations. Duality gap: 7474322508768.529, tolerance: 1528377395.8884346\n",
      "  model = cd_fast.enet_coordinate_descent(\n",
      "/Users/randallbloomquist/opt/anaconda3/lib/python3.8/site-packages/sklearn/linear_model/_coordinate_descent.py:529: ConvergenceWarning: Objective did not converge. You might want to increase the number of iterations. Duality gap: 7404548842518.916, tolerance: 1511816763.9376738\n",
      "  model = cd_fast.enet_coordinate_descent(\n",
      "/Users/randallbloomquist/opt/anaconda3/lib/python3.8/site-packages/sklearn/linear_model/_coordinate_descent.py:529: ConvergenceWarning: Objective did not converge. You might want to increase the number of iterations. Duality gap: 6712381826233.019, tolerance: 1371976790.7138734\n",
      "  model = cd_fast.enet_coordinate_descent(\n",
      "/Users/randallbloomquist/opt/anaconda3/lib/python3.8/site-packages/sklearn/linear_model/_coordinate_descent.py:529: ConvergenceWarning: Objective did not converge. You might want to increase the number of iterations. Duality gap: 7370667429180.217, tolerance: 1505459135.7030735\n",
      "  model = cd_fast.enet_coordinate_descent(\n",
      "/Users/randallbloomquist/opt/anaconda3/lib/python3.8/site-packages/sklearn/linear_model/_coordinate_descent.py:529: ConvergenceWarning: Objective did not converge. You might want to increase the number of iterations. Duality gap: 6543806056210.7295, tolerance: 1311002112.6500173\n",
      "  model = cd_fast.enet_coordinate_descent(\n",
      "/Users/randallbloomquist/opt/anaconda3/lib/python3.8/site-packages/sklearn/linear_model/_coordinate_descent.py:529: ConvergenceWarning: Objective did not converge. You might want to increase the number of iterations. Duality gap: 7814415704753.258, tolerance: 1565508902.4464314\n",
      "  model = cd_fast.enet_coordinate_descent(\n",
      "/Users/randallbloomquist/opt/anaconda3/lib/python3.8/site-packages/sklearn/linear_model/_coordinate_descent.py:529: ConvergenceWarning: Objective did not converge. You might want to increase the number of iterations. Duality gap: 7268493808454.476, tolerance: 1456204779.596652\n",
      "  model = cd_fast.enet_coordinate_descent(\n",
      "/Users/randallbloomquist/opt/anaconda3/lib/python3.8/site-packages/sklearn/linear_model/_coordinate_descent.py:529: ConvergenceWarning: Objective did not converge. You might want to increase the number of iterations. Duality gap: 7122022609701.074, tolerance: 1426912394.0734348\n",
      "  model = cd_fast.enet_coordinate_descent(\n",
      "/Users/randallbloomquist/opt/anaconda3/lib/python3.8/site-packages/sklearn/linear_model/_coordinate_descent.py:529: ConvergenceWarning: Objective did not converge. You might want to increase the number of iterations. Duality gap: 7696610637808.19, tolerance: 1542385871.600179\n",
      "  model = cd_fast.enet_coordinate_descent(\n",
      "/Users/randallbloomquist/opt/anaconda3/lib/python3.8/site-packages/sklearn/linear_model/_coordinate_descent.py:529: ConvergenceWarning: Objective did not converge. You might want to increase the number of iterations. Duality gap: 7927472227437.0625, tolerance: 1588272916.2122736\n",
      "  model = cd_fast.enet_coordinate_descent(\n",
      "/Users/randallbloomquist/opt/anaconda3/lib/python3.8/site-packages/sklearn/linear_model/_coordinate_descent.py:529: ConvergenceWarning: Objective did not converge. You might want to increase the number of iterations. Duality gap: 7628287491350.395, tolerance: 1528377395.8884346\n",
      "  model = cd_fast.enet_coordinate_descent(\n",
      "/Users/randallbloomquist/opt/anaconda3/lib/python3.8/site-packages/sklearn/linear_model/_coordinate_descent.py:529: ConvergenceWarning: Objective did not converge. You might want to increase the number of iterations. Duality gap: 7546554899535.942, tolerance: 1511816763.9376738\n",
      "  model = cd_fast.enet_coordinate_descent(\n",
      "/Users/randallbloomquist/opt/anaconda3/lib/python3.8/site-packages/sklearn/linear_model/_coordinate_descent.py:529: ConvergenceWarning: Objective did not converge. You might want to increase the number of iterations. Duality gap: 6847913659590.611, tolerance: 1371976790.7138734\n",
      "  model = cd_fast.enet_coordinate_descent(\n",
      "/Users/randallbloomquist/opt/anaconda3/lib/python3.8/site-packages/sklearn/linear_model/_coordinate_descent.py:529: ConvergenceWarning: Objective did not converge. You might want to increase the number of iterations. Duality gap: 7514600530736.103, tolerance: 1505459135.7030735\n",
      "  model = cd_fast.enet_coordinate_descent(\n",
      "/Users/randallbloomquist/opt/anaconda3/lib/python3.8/site-packages/sklearn/linear_model/_coordinate_descent.py:529: ConvergenceWarning: Objective did not converge. You might want to increase the number of iterations. Duality gap: 6554139720159.373, tolerance: 1311002112.6500173\n",
      "  model = cd_fast.enet_coordinate_descent(\n",
      "/Users/randallbloomquist/opt/anaconda3/lib/python3.8/site-packages/sklearn/linear_model/_coordinate_descent.py:529: ConvergenceWarning: Objective did not converge. You might want to increase the number of iterations. Duality gap: 7826524296729.946, tolerance: 1565508902.4464314\n",
      "  model = cd_fast.enet_coordinate_descent(\n",
      "/Users/randallbloomquist/opt/anaconda3/lib/python3.8/site-packages/sklearn/linear_model/_coordinate_descent.py:529: ConvergenceWarning: Objective did not converge. You might want to increase the number of iterations. Duality gap: 7280050078225.758, tolerance: 1456204779.596652\n",
      "  model = cd_fast.enet_coordinate_descent(\n",
      "/Users/randallbloomquist/opt/anaconda3/lib/python3.8/site-packages/sklearn/linear_model/_coordinate_descent.py:529: ConvergenceWarning: Objective did not converge. You might want to increase the number of iterations. Duality gap: 7133587500725.062, tolerance: 1426912394.0734348\n",
      "  model = cd_fast.enet_coordinate_descent(\n",
      "/Users/randallbloomquist/opt/anaconda3/lib/python3.8/site-packages/sklearn/linear_model/_coordinate_descent.py:529: ConvergenceWarning: Objective did not converge. You might want to increase the number of iterations. Duality gap: 7710738700895.389, tolerance: 1542385871.600179\n",
      "  model = cd_fast.enet_coordinate_descent(\n",
      "/Users/randallbloomquist/opt/anaconda3/lib/python3.8/site-packages/sklearn/linear_model/_coordinate_descent.py:529: ConvergenceWarning: Objective did not converge. You might want to increase the number of iterations. Duality gap: 7940284979583.251, tolerance: 1588272916.2122736\n",
      "  model = cd_fast.enet_coordinate_descent(\n",
      "/Users/randallbloomquist/opt/anaconda3/lib/python3.8/site-packages/sklearn/linear_model/_coordinate_descent.py:529: ConvergenceWarning: Objective did not converge. You might want to increase the number of iterations. Duality gap: 7640830050648.395, tolerance: 1528377395.8884346\n",
      "  model = cd_fast.enet_coordinate_descent(\n",
      "/Users/randallbloomquist/opt/anaconda3/lib/python3.8/site-packages/sklearn/linear_model/_coordinate_descent.py:529: ConvergenceWarning: Objective did not converge. You might want to increase the number of iterations. Duality gap: 7558110174841.738, tolerance: 1511816763.9376738\n",
      "  model = cd_fast.enet_coordinate_descent(\n",
      "/Users/randallbloomquist/opt/anaconda3/lib/python3.8/site-packages/sklearn/linear_model/_coordinate_descent.py:529: ConvergenceWarning: Objective did not converge. You might want to increase the number of iterations. Duality gap: 6858953649858.665, tolerance: 1371976790.7138734\n",
      "  model = cd_fast.enet_coordinate_descent(\n",
      "/Users/randallbloomquist/opt/anaconda3/lib/python3.8/site-packages/sklearn/linear_model/_coordinate_descent.py:529: ConvergenceWarning: Objective did not converge. You might want to increase the number of iterations. Duality gap: 7526309137534.016, tolerance: 1505459135.7030735\n",
      "  model = cd_fast.enet_coordinate_descent(\n",
      "/Users/randallbloomquist/opt/anaconda3/lib/python3.8/site-packages/sklearn/linear_model/_coordinate_descent.py:529: ConvergenceWarning: Objective did not converge. You might want to increase the number of iterations. Duality gap: 6554943117044.99, tolerance: 1311002112.6500173\n",
      "  model = cd_fast.enet_coordinate_descent(\n",
      "/Users/randallbloomquist/opt/anaconda3/lib/python3.8/site-packages/sklearn/linear_model/_coordinate_descent.py:529: ConvergenceWarning: Objective did not converge. You might want to increase the number of iterations. Duality gap: 7827465498373.417, tolerance: 1565508902.4464314\n",
      "  model = cd_fast.enet_coordinate_descent(\n",
      "/Users/randallbloomquist/opt/anaconda3/lib/python3.8/site-packages/sklearn/linear_model/_coordinate_descent.py:529: ConvergenceWarning: Objective did not converge. You might want to increase the number of iterations. Duality gap: 7280948476611.873, tolerance: 1456204779.596652\n",
      "  model = cd_fast.enet_coordinate_descent(\n",
      "/Users/randallbloomquist/opt/anaconda3/lib/python3.8/site-packages/sklearn/linear_model/_coordinate_descent.py:529: ConvergenceWarning: Objective did not converge. You might want to increase the number of iterations. Duality gap: 7134486499088.292, tolerance: 1426912394.0734348\n",
      "  model = cd_fast.enet_coordinate_descent(\n",
      "/Users/randallbloomquist/opt/anaconda3/lib/python3.8/site-packages/sklearn/linear_model/_coordinate_descent.py:529: ConvergenceWarning: Objective did not converge. You might want to increase the number of iterations. Duality gap: 7711837142137.821, tolerance: 1542385871.600179\n",
      "  model = cd_fast.enet_coordinate_descent(\n",
      "/Users/randallbloomquist/opt/anaconda3/lib/python3.8/site-packages/sklearn/linear_model/_coordinate_descent.py:529: ConvergenceWarning: Objective did not converge. You might want to increase the number of iterations. Duality gap: 7941280967551.501, tolerance: 1588272916.2122736\n",
      "  model = cd_fast.enet_coordinate_descent(\n",
      "/Users/randallbloomquist/opt/anaconda3/lib/python3.8/site-packages/sklearn/linear_model/_coordinate_descent.py:529: ConvergenceWarning: Objective did not converge. You might want to increase the number of iterations. Duality gap: 7641805121377.549, tolerance: 1528377395.8884346\n",
      "  model = cd_fast.enet_coordinate_descent(\n",
      "/Users/randallbloomquist/opt/anaconda3/lib/python3.8/site-packages/sklearn/linear_model/_coordinate_descent.py:529: ConvergenceWarning: Objective did not converge. You might want to increase the number of iterations. Duality gap: 7559008412369.502, tolerance: 1511816763.9376738\n",
      "  model = cd_fast.enet_coordinate_descent(\n",
      "/Users/randallbloomquist/opt/anaconda3/lib/python3.8/site-packages/sklearn/linear_model/_coordinate_descent.py:529: ConvergenceWarning: Objective did not converge. You might want to increase the number of iterations. Duality gap: 6859811902531.33, tolerance: 1371976790.7138734\n",
      "  model = cd_fast.enet_coordinate_descent(\n"
     ]
    },
    {
     "name": "stdout",
     "output_type": "stream",
     "text": [
      "{'regressor__alpha': 46.41588833612782, 'regressor__l1_ratio': 0.8}\n",
      "MSE: 1.976368e+10\n",
      "10.0\n",
      "18.8\n",
      "37.6\n"
     ]
    },
    {
     "name": "stderr",
     "output_type": "stream",
     "text": [
      "/Users/randallbloomquist/opt/anaconda3/lib/python3.8/site-packages/sklearn/linear_model/_coordinate_descent.py:529: ConvergenceWarning: Objective did not converge. You might want to increase the number of iterations. Duality gap: 7527219272540.936, tolerance: 1505459135.7030735\n",
      "  model = cd_fast.enet_coordinate_descent(\n"
     ]
    }
   ],
   "source": [
    "search_space = [{'regressor__alpha': 10 ** (np.linspace(-5, 5, 10)), \n",
    "                 'regressor__l1_ratio': np.linspace(0,1,6)}]\n",
    "\n",
    "# l_lasso / (l_lasso + l_ridge)\n",
    "# if l_lasso = 0: 0 / 1 = 0 (this is ridge regression)\n",
    "# if l_ridge = 0: l_lasso / l_lasso = 1 (this is LASSSO regression)\n",
    "\n",
    "pipe = Pipeline([('scaler', StandardScaler()), ('regressor', ElasticNet())])\n",
    "\n",
    "enet_cv = GridSearchCV(pipe, \n",
    "                      search_space, \n",
    "                      cv=KFold(10, shuffle=True), \n",
    "                      scoring='neg_mean_squared_error',\n",
    "                      return_train_score = True)\n",
    "enet_cv.fit(X_train,y_train)\n",
    "\n",
    "print(enet_cv.best_params_)\n",
    "\n",
    "y_predict = enet_cv.predict(X_test)\n",
    "print('MSE: {:2e}'.format(mean_squared_error(y_test, y_predict)))\n",
    "print(calculate_five_percent(y_predict,y_test))\n",
    "print(calculate_ten_percent(y_predict,y_test))\n",
    "print(calculate_twenty_percent(y_predict,y_test))"
   ]
  },
  {
   "cell_type": "code",
   "execution_count": 27,
   "metadata": {},
   "outputs": [
    {
     "name": "stdout",
     "output_type": "stream",
     "text": [
      "score: 0.5362856621849305\n",
      "MSE: 1.315370e+10\n",
      "11.710074702200686\n",
      "23.88451443569554\n",
      "49.16212396527357\n"
     ]
    }
   ],
   "source": [
    "ridge = Ridge(alpha=1)\n",
    "ridge.fit(X_train,y_train)\n",
    "y_predict = ridge.predict(X_test)\n",
    "print(\"score:\", ridge.score(X_test, y_test))\n",
    "print('MSE: {:2e}'.format(mean_squared_error(y_test, y_predict)))\n",
    "print(calculate_five_percent(y_predict,y_test))\n",
    "print(calculate_ten_percent(y_predict,y_test))\n",
    "print(calculate_twenty_percent(y_predict,y_test))"
   ]
  },
  {
   "cell_type": "code",
   "execution_count": 28,
   "metadata": {},
   "outputs": [
    {
     "name": "stdout",
     "output_type": "stream",
     "text": [
      "score: 0.5362814077045177\n",
      "MSE: 1.315382e+10\n",
      "11.710074702200686\n",
      "23.90470421966485\n",
      "49.16212396527357\n"
     ]
    }
   ],
   "source": [
    "lr = LinearRegression()\n",
    "lr.fit(X_train,y_train)\n",
    "y_predict = lr.predict(X_test)\n",
    "print(\"score:\", lr.score(X_test, y_test))\n",
    "print('MSE: {:2e}'.format(mean_squared_error(y_test, y_predict)))\n",
    "print(calculate_five_percent(y_predict,y_test))\n",
    "print(calculate_ten_percent(y_predict,y_test))\n",
    "print(calculate_twenty_percent(y_predict,y_test))"
   ]
  },
  {
   "cell_type": "code",
   "execution_count": 29,
   "metadata": {},
   "outputs": [
    {
     "name": "stdout",
     "output_type": "stream",
     "text": [
      "Ridge Accuracy: -1.32e+10\n",
      "11.710074702200686\n",
      "23.90470421966485\n",
      "49.16212396527357\n"
     ]
    }
   ],
   "source": [
    "kf = KFold()\n",
    "skf = StratifiedKFold()\n",
    "ridge_pipe = Pipeline([('scaler', StandardScaler()), ('regressor', Ridge())])\n",
    "ridge_grid_params = {'regressor__alpha': np.arange(0,50,1)}\n",
    "ridge_grid = GridSearchCV(ridge_pipe, ridge_grid_params, cv=kf, scoring = 'neg_mean_squared_error')\n",
    "ridge_grid.fit(X_train, y_train)\n",
    "y_predict = ridge_grid.predict(X_test)\n",
    "print(\"Ridge Accuracy: {:.2e}\".format(ridge_grid.score(X_test, y_test)))\n",
    "print(calculate_five_percent(y_predict,y_test))\n",
    "print(calculate_ten_percent(y_predict,y_test))\n",
    "print(calculate_twenty_percent(y_predict,y_test))"
   ]
  },
  {
   "cell_type": "code",
   "execution_count": 30,
   "metadata": {},
   "outputs": [
    {
     "name": "stdout",
     "output_type": "stream",
     "text": [
      "Lasso Accuracy: -1.32e+10\n",
      "11.710074702200686\n",
      "23.90470421966485\n",
      "49.16212396527357\n"
     ]
    }
   ],
   "source": [
    "kf = KFold()\n",
    "skf = StratifiedKFold()\n",
    "lasso_pipe = Pipeline([('scaler', StandardScaler()), ('regressor', Lasso())])\n",
    "lasso_grid_params = {'regressor__alpha': np.arange(0.1,0.9,0.1)}\n",
    "lasso_grid = GridSearchCV(lasso_pipe, lasso_grid_params, cv=kf, scoring = 'neg_mean_squared_error')\n",
    "lasso_grid.fit(X_train, y_train)\n",
    "y_predict = lasso_grid.predict(X_test)\n",
    "print(\"Lasso Accuracy: {:.2e}\".format(lasso_grid.score(X_test, y_test)))\n",
    "print(calculate_five_percent(y_predict,y_test))\n",
    "print(calculate_ten_percent(y_predict,y_test))\n",
    "print(calculate_twenty_percent(y_predict,y_test))"
   ]
  },
  {
   "cell_type": "code",
   "execution_count": 31,
   "metadata": {},
   "outputs": [
    {
     "name": "stdout",
     "output_type": "stream",
     "text": [
      "gbr Accuracy: -6.67e+09\n",
      "46.17403593781547\n",
      "69.3519079345851\n",
      "86.71512214819302\n"
     ]
    }
   ],
   "source": [
    "kf = KFold()\n",
    "skf = StratifiedKFold()\n",
    "gbr_pipe = Pipeline([('scaler', StandardScaler()), ('regressor', GradientBoostingRegressor(loss='huber'))])\n",
    "gbr_grid_params = {'regressor__alpha': np.arange(0.1,0.9,0.2),\n",
    "                  'regressor__max_depth': np.arange(1,9,2),\n",
    "                  'regressor__learning_rate': np.arange(0.01,0.2,0.03)}\n",
    "gbr_grid = GridSearchCV(gbr_pipe, gbr_grid_params, cv=kf, scoring = 'neg_mean_squared_error')\n",
    "gbr_grid.fit(X_train, y_train)\n",
    "y_predict = gbr_grid.predict(X_test)\n",
    "print(\"gbr Accuracy: {:.2e}\".format(gbr_grid.score(X_test, y_test)))\n",
    "print(calculate_five_percent(y_predict,y_test))\n",
    "print(calculate_ten_percent(y_predict,y_test))\n",
    "print(calculate_twenty_percent(y_predict,y_test))"
   ]
  },
  {
   "cell_type": "code",
   "execution_count": 35,
   "metadata": {},
   "outputs": [
    {
     "data": {
      "text/plain": [
       "{'regressor__alpha': 0.7000000000000001,\n",
       " 'regressor__learning_rate': 0.13,\n",
       " 'regressor__max_depth': 5}"
      ]
     },
     "execution_count": 35,
     "metadata": {},
     "output_type": "execute_result"
    }
   ],
   "source": [
    "gbr_grid.best_params_"
   ]
  },
  {
   "cell_type": "code",
   "execution_count": 32,
   "metadata": {},
   "outputs": [
    {
     "name": "stdout",
     "output_type": "stream",
     "text": [
      "rfrAccuracy: -5.76e+09\n",
      "42.13607914395316\n",
      "67.47425802543913\n",
      "86.93720977185544\n"
     ]
    }
   ],
   "source": [
    "kf = KFold()\n",
    "skf = StratifiedKFold()\n",
    "rfr_pipe = Pipeline([('scaler', StandardScaler()), ('regressor', RandomForestRegressor(warm_start=True))])\n",
    "rfr_grid_params = {'regressor__n_estimators': np.arange(50,250,10),\n",
    "                  'regressor__max_depth': np.arange(1,15,2)}\n",
    "rfr_grid = GridSearchCV(rfr_pipe, rfr_grid_params, cv=kf, scoring = 'neg_mean_squared_error')\n",
    "rfr_grid.fit(X_train, y_train)\n",
    "y_predict = rfr_grid.predict(X_test)\n",
    "print(\"rfrAccuracy: {:.2e}\".format(rfr_grid.score(X_test, y_test)))\n",
    "print(calculate_five_percent(y_predict,y_test))\n",
    "print(calculate_ten_percent(y_predict,y_test))\n",
    "print(calculate_twenty_percent(y_predict,y_test))"
   ]
  },
  {
   "cell_type": "code",
   "execution_count": 56,
   "metadata": {},
   "outputs": [
    {
     "name": "stdout",
     "output_type": "stream",
     "text": [
      "gbr Accuracy: -6.87e+09\n",
      "30.8\n",
      "54.800000000000004\n",
      "79.2\n"
     ]
    }
   ],
   "source": [
    "kf = KFold()\n",
    "skf = StratifiedKFold()\n",
    "gbr_pipe2 = Pipeline([('scaler', StandardScaler()), ('regressor', GradientBoostingRegressor(loss='huber'))])\n",
    "gbr_grid_params2 = {'regressor__alpha': np.arange(0.1,0.9,0.3)}\n",
    "gbr_grid2 = GridSearchCV(gbr_pipe2, gbr_grid_params2, cv=kf, scoring = 'neg_mean_squared_error')\n",
    "gbr_grid2.fit(X_train, y_train)\n",
    "y_predict = gbr_grid2.predict(X_test)\n",
    "print(\"gbr Accuracy: {:.2e}\".format(gbr_grid.score(X_test, y_test)))\n",
    "print(calculate_five_percent(y_predict,y_test))\n",
    "print(calculate_ten_percent(y_predict,y_test))\n",
    "print(calculate_twenty_percent(y_predict,y_test))"
   ]
  },
  {
   "cell_type": "code",
   "execution_count": 38,
   "metadata": {},
   "outputs": [
    {
     "data": {
      "text/plain": [
       "{'regressor__alpha': 0.7000000000000001}"
      ]
     },
     "execution_count": 38,
     "metadata": {},
     "output_type": "execute_result"
    }
   ],
   "source": [
    "gbr_grid2.best_params_"
   ]
  },
  {
   "cell_type": "code",
   "execution_count": 39,
   "metadata": {},
   "outputs": [],
   "source": [
    "X_df = pd.DataFrame(X)"
   ]
  },
  {
   "cell_type": "code",
   "execution_count": 40,
   "metadata": {},
   "outputs": [
    {
     "data": {
      "text/html": [
       "<div>\n",
       "<style scoped>\n",
       "    .dataframe tbody tr th:only-of-type {\n",
       "        vertical-align: middle;\n",
       "    }\n",
       "\n",
       "    .dataframe tbody tr th {\n",
       "        vertical-align: top;\n",
       "    }\n",
       "\n",
       "    .dataframe thead th {\n",
       "        text-align: right;\n",
       "    }\n",
       "</style>\n",
       "<table border=\"1\" class=\"dataframe\">\n",
       "  <thead>\n",
       "    <tr style=\"text-align: right;\">\n",
       "      <th></th>\n",
       "      <th>0</th>\n",
       "      <th>1</th>\n",
       "      <th>2</th>\n",
       "      <th>3</th>\n",
       "      <th>4</th>\n",
       "      <th>5</th>\n",
       "      <th>6</th>\n",
       "      <th>7</th>\n",
       "      <th>8</th>\n",
       "      <th>9</th>\n",
       "    </tr>\n",
       "  </thead>\n",
       "  <tbody>\n",
       "    <tr>\n",
       "      <th>0</th>\n",
       "      <td>True</td>\n",
       "      <td>False</td>\n",
       "      <td>False</td>\n",
       "      <td>False</td>\n",
       "      <td>False</td>\n",
       "      <td>True</td>\n",
       "      <td>False</td>\n",
       "      <td>False</td>\n",
       "      <td>False</td>\n",
       "      <td>False</td>\n",
       "    </tr>\n",
       "    <tr>\n",
       "      <th>1</th>\n",
       "      <td>False</td>\n",
       "      <td>True</td>\n",
       "      <td>False</td>\n",
       "      <td>True</td>\n",
       "      <td>True</td>\n",
       "      <td>True</td>\n",
       "      <td>False</td>\n",
       "      <td>True</td>\n",
       "      <td>False</td>\n",
       "      <td>False</td>\n",
       "    </tr>\n",
       "    <tr>\n",
       "      <th>2</th>\n",
       "      <td>False</td>\n",
       "      <td>False</td>\n",
       "      <td>True</td>\n",
       "      <td>False</td>\n",
       "      <td>False</td>\n",
       "      <td>False</td>\n",
       "      <td>False</td>\n",
       "      <td>False</td>\n",
       "      <td>False</td>\n",
       "      <td>False</td>\n",
       "    </tr>\n",
       "    <tr>\n",
       "      <th>3</th>\n",
       "      <td>False</td>\n",
       "      <td>True</td>\n",
       "      <td>False</td>\n",
       "      <td>True</td>\n",
       "      <td>True</td>\n",
       "      <td>True</td>\n",
       "      <td>False</td>\n",
       "      <td>True</td>\n",
       "      <td>False</td>\n",
       "      <td>False</td>\n",
       "    </tr>\n",
       "    <tr>\n",
       "      <th>4</th>\n",
       "      <td>False</td>\n",
       "      <td>True</td>\n",
       "      <td>False</td>\n",
       "      <td>True</td>\n",
       "      <td>True</td>\n",
       "      <td>True</td>\n",
       "      <td>False</td>\n",
       "      <td>True</td>\n",
       "      <td>False</td>\n",
       "      <td>False</td>\n",
       "    </tr>\n",
       "    <tr>\n",
       "      <th>5</th>\n",
       "      <td>True</td>\n",
       "      <td>True</td>\n",
       "      <td>False</td>\n",
       "      <td>True</td>\n",
       "      <td>True</td>\n",
       "      <td>True</td>\n",
       "      <td>False</td>\n",
       "      <td>True</td>\n",
       "      <td>False</td>\n",
       "      <td>False</td>\n",
       "    </tr>\n",
       "    <tr>\n",
       "      <th>6</th>\n",
       "      <td>False</td>\n",
       "      <td>False</td>\n",
       "      <td>False</td>\n",
       "      <td>False</td>\n",
       "      <td>False</td>\n",
       "      <td>False</td>\n",
       "      <td>True</td>\n",
       "      <td>False</td>\n",
       "      <td>False</td>\n",
       "      <td>False</td>\n",
       "    </tr>\n",
       "    <tr>\n",
       "      <th>7</th>\n",
       "      <td>False</td>\n",
       "      <td>True</td>\n",
       "      <td>False</td>\n",
       "      <td>True</td>\n",
       "      <td>True</td>\n",
       "      <td>True</td>\n",
       "      <td>False</td>\n",
       "      <td>True</td>\n",
       "      <td>False</td>\n",
       "      <td>False</td>\n",
       "    </tr>\n",
       "    <tr>\n",
       "      <th>8</th>\n",
       "      <td>False</td>\n",
       "      <td>False</td>\n",
       "      <td>False</td>\n",
       "      <td>False</td>\n",
       "      <td>False</td>\n",
       "      <td>False</td>\n",
       "      <td>False</td>\n",
       "      <td>False</td>\n",
       "      <td>True</td>\n",
       "      <td>False</td>\n",
       "    </tr>\n",
       "    <tr>\n",
       "      <th>9</th>\n",
       "      <td>False</td>\n",
       "      <td>False</td>\n",
       "      <td>False</td>\n",
       "      <td>False</td>\n",
       "      <td>False</td>\n",
       "      <td>False</td>\n",
       "      <td>False</td>\n",
       "      <td>False</td>\n",
       "      <td>False</td>\n",
       "      <td>True</td>\n",
       "    </tr>\n",
       "  </tbody>\n",
       "</table>\n",
       "</div>"
      ],
      "text/plain": [
       "       0      1      2      3      4      5      6      7      8      9\n",
       "0   True  False  False  False  False   True  False  False  False  False\n",
       "1  False   True  False   True   True   True  False   True  False  False\n",
       "2  False  False   True  False  False  False  False  False  False  False\n",
       "3  False   True  False   True   True   True  False   True  False  False\n",
       "4  False   True  False   True   True   True  False   True  False  False\n",
       "5   True   True  False   True   True   True  False   True  False  False\n",
       "6  False  False  False  False  False  False   True  False  False  False\n",
       "7  False   True  False   True   True   True  False   True  False  False\n",
       "8  False  False  False  False  False  False  False  False   True  False\n",
       "9  False  False  False  False  False  False  False  False  False   True"
      ]
     },
     "execution_count": 40,
     "metadata": {},
     "output_type": "execute_result"
    }
   ],
   "source": [
    "X_df.corr() > 0.2"
   ]
  },
  {
   "cell_type": "code",
   "execution_count": 41,
   "metadata": {},
   "outputs": [],
   "source": [
    "X_train = sm.add_constant(X_train)"
   ]
  },
  {
   "cell_type": "code",
   "execution_count": 42,
   "metadata": {},
   "outputs": [
    {
     "data": {
      "text/html": [
       "<table class=\"simpletable\">\n",
       "<caption>OLS Regression Results</caption>\n",
       "<tr>\n",
       "  <th>Dep. Variable:</th>            <td>y</td>        <th>  R-squared:         </th> <td>   0.560</td> \n",
       "</tr>\n",
       "<tr>\n",
       "  <th>Model:</th>                   <td>OLS</td>       <th>  Adj. R-squared:    </th> <td>   0.555</td> \n",
       "</tr>\n",
       "<tr>\n",
       "  <th>Method:</th>             <td>Least Squares</td>  <th>  F-statistic:       </th> <td>   104.8</td> \n",
       "</tr>\n",
       "<tr>\n",
       "  <th>Date:</th>             <td>Sat, 27 Mar 2021</td> <th>  Prob (F-statistic):</th> <td>1.09e-125</td>\n",
       "</tr>\n",
       "<tr>\n",
       "  <th>Time:</th>                 <td>18:53:22</td>     <th>  Log-Likelihood:    </th> <td> -9780.8</td> \n",
       "</tr>\n",
       "<tr>\n",
       "  <th>No. Observations:</th>      <td>   750</td>      <th>  AIC:               </th> <td>1.958e+04</td>\n",
       "</tr>\n",
       "<tr>\n",
       "  <th>Df Residuals:</th>          <td>   740</td>      <th>  BIC:               </th> <td>1.963e+04</td>\n",
       "</tr>\n",
       "<tr>\n",
       "  <th>Df Model:</th>              <td>     9</td>      <th>                     </th>     <td> </td>    \n",
       "</tr>\n",
       "<tr>\n",
       "  <th>Covariance Type:</th>      <td>nonrobust</td>    <th>                     </th>     <td> </td>    \n",
       "</tr>\n",
       "</table>\n",
       "<table class=\"simpletable\">\n",
       "<tr>\n",
       "    <td></td>       <th>coef</th>     <th>std err</th>      <th>t</th>      <th>P>|t|</th>  <th>[0.025</th>    <th>0.975]</th>  \n",
       "</tr>\n",
       "<tr>\n",
       "  <th>const</th> <td>  1.91e+07</td> <td> 7.25e+06</td> <td>    2.636</td> <td> 0.009</td> <td> 4.88e+06</td> <td> 3.33e+07</td>\n",
       "</tr>\n",
       "<tr>\n",
       "  <th>x1</th>    <td> -257.0925</td> <td>   97.375</td> <td>   -2.640</td> <td> 0.008</td> <td> -448.258</td> <td>  -65.928</td>\n",
       "</tr>\n",
       "<tr>\n",
       "  <th>x2</th>    <td>  167.3773</td> <td>    9.990</td> <td>   16.755</td> <td> 0.000</td> <td>  147.766</td> <td>  186.989</td>\n",
       "</tr>\n",
       "<tr>\n",
       "  <th>x3</th>    <td>    0.4295</td> <td>    0.131</td> <td>    3.285</td> <td> 0.001</td> <td>    0.173</td> <td>    0.686</td>\n",
       "</tr>\n",
       "<tr>\n",
       "  <th>x4</th>    <td>-1767.9014</td> <td>  158.376</td> <td>  -11.163</td> <td> 0.000</td> <td>-2078.821</td> <td>-1456.982</td>\n",
       "</tr>\n",
       "<tr>\n",
       "  <th>x5</th>    <td>  426.3365</td> <td>  173.307</td> <td>    2.460</td> <td> 0.014</td> <td>   86.104</td> <td>  766.569</td>\n",
       "</tr>\n",
       "<tr>\n",
       "  <th>x6</th>    <td>   4.7e+04</td> <td> 5.06e+04</td> <td>    0.929</td> <td> 0.353</td> <td>-5.23e+04</td> <td> 1.46e+05</td>\n",
       "</tr>\n",
       "<tr>\n",
       "  <th>x7</th>    <td>-3.107e+04</td> <td> 3.28e+04</td> <td>   -0.949</td> <td> 0.343</td> <td>-9.54e+04</td> <td> 3.32e+04</td>\n",
       "</tr>\n",
       "<tr>\n",
       "  <th>x8</th>    <td>-1965.1738</td> <td> 5510.107</td> <td>   -0.357</td> <td> 0.721</td> <td>-1.28e+04</td> <td> 8852.131</td>\n",
       "</tr>\n",
       "<tr>\n",
       "  <th>x9</th>    <td> -721.3523</td> <td> 1249.411</td> <td>   -0.577</td> <td> 0.564</td> <td>-3174.166</td> <td> 1731.461</td>\n",
       "</tr>\n",
       "</table>\n",
       "<table class=\"simpletable\">\n",
       "<tr>\n",
       "  <th>Omnibus:</th>       <td>771.327</td> <th>  Durbin-Watson:     </th> <td>   1.832</td> \n",
       "</tr>\n",
       "<tr>\n",
       "  <th>Prob(Omnibus):</th> <td> 0.000</td>  <th>  Jarque-Bera (JB):  </th> <td>75725.392</td>\n",
       "</tr>\n",
       "<tr>\n",
       "  <th>Skew:</th>          <td> 4.492</td>  <th>  Prob(JB):          </th> <td>    0.00</td> \n",
       "</tr>\n",
       "<tr>\n",
       "  <th>Kurtosis:</th>      <td>51.399</td>  <th>  Cond. No.          </th> <td>1.39e+08</td> \n",
       "</tr>\n",
       "</table><br/><br/>Notes:<br/>[1] Standard Errors assume that the covariance matrix of the errors is correctly specified.<br/>[2] The condition number is large, 1.39e+08. This might indicate that there are<br/>strong multicollinearity or other numerical problems."
      ],
      "text/plain": [
       "<class 'statsmodels.iolib.summary.Summary'>\n",
       "\"\"\"\n",
       "                            OLS Regression Results                            \n",
       "==============================================================================\n",
       "Dep. Variable:                      y   R-squared:                       0.560\n",
       "Model:                            OLS   Adj. R-squared:                  0.555\n",
       "Method:                 Least Squares   F-statistic:                     104.8\n",
       "Date:                Sat, 27 Mar 2021   Prob (F-statistic):          1.09e-125\n",
       "Time:                        18:53:22   Log-Likelihood:                -9780.8\n",
       "No. Observations:                 750   AIC:                         1.958e+04\n",
       "Df Residuals:                     740   BIC:                         1.963e+04\n",
       "Df Model:                           9                                         \n",
       "Covariance Type:            nonrobust                                         \n",
       "==============================================================================\n",
       "                 coef    std err          t      P>|t|      [0.025      0.975]\n",
       "------------------------------------------------------------------------------\n",
       "const        1.91e+07   7.25e+06      2.636      0.009    4.88e+06    3.33e+07\n",
       "x1          -257.0925     97.375     -2.640      0.008    -448.258     -65.928\n",
       "x2           167.3773      9.990     16.755      0.000     147.766     186.989\n",
       "x3             0.4295      0.131      3.285      0.001       0.173       0.686\n",
       "x4         -1767.9014    158.376    -11.163      0.000   -2078.821   -1456.982\n",
       "x5           426.3365    173.307      2.460      0.014      86.104     766.569\n",
       "x6            4.7e+04   5.06e+04      0.929      0.353   -5.23e+04    1.46e+05\n",
       "x7         -3.107e+04   3.28e+04     -0.949      0.343   -9.54e+04    3.32e+04\n",
       "x8         -1965.1738   5510.107     -0.357      0.721   -1.28e+04    8852.131\n",
       "x9          -721.3523   1249.411     -0.577      0.564   -3174.166    1731.461\n",
       "==============================================================================\n",
       "Omnibus:                      771.327   Durbin-Watson:                   1.832\n",
       "Prob(Omnibus):                  0.000   Jarque-Bera (JB):            75725.392\n",
       "Skew:                           4.492   Prob(JB):                         0.00\n",
       "Kurtosis:                      51.399   Cond. No.                     1.39e+08\n",
       "==============================================================================\n",
       "\n",
       "Notes:\n",
       "[1] Standard Errors assume that the covariance matrix of the errors is correctly specified.\n",
       "[2] The condition number is large, 1.39e+08. This might indicate that there are\n",
       "strong multicollinearity or other numerical problems.\n",
       "\"\"\""
      ]
     },
     "execution_count": 42,
     "metadata": {},
     "output_type": "execute_result"
    }
   ],
   "source": [
    "X_opt = X_train[:,np.arange(0,10)]\n",
    "regressor_OLS = sm.OLS(endog = y_train, exog = X_opt).fit()\n",
    "regressor_OLS.summary()"
   ]
  },
  {
   "cell_type": "code",
   "execution_count": 43,
   "metadata": {},
   "outputs": [],
   "source": [
    "X_opt = X_train[:,[0,1,2,4,5,6,7,8,9,10]]"
   ]
  },
  {
   "cell_type": "code",
   "execution_count": 44,
   "metadata": {},
   "outputs": [
    {
     "data": {
      "text/html": [
       "<table class=\"simpletable\">\n",
       "<caption>OLS Regression Results</caption>\n",
       "<tr>\n",
       "  <th>Dep. Variable:</th>            <td>y</td>        <th>  R-squared:         </th> <td>   0.556</td> \n",
       "</tr>\n",
       "<tr>\n",
       "  <th>Model:</th>                   <td>OLS</td>       <th>  Adj. R-squared:    </th> <td>   0.550</td> \n",
       "</tr>\n",
       "<tr>\n",
       "  <th>Method:</th>             <td>Least Squares</td>  <th>  F-statistic:       </th> <td>   102.9</td> \n",
       "</tr>\n",
       "<tr>\n",
       "  <th>Date:</th>             <td>Sat, 27 Mar 2021</td> <th>  Prob (F-statistic):</th> <td>4.08e-124</td>\n",
       "</tr>\n",
       "<tr>\n",
       "  <th>Time:</th>                 <td>18:53:22</td>     <th>  Log-Likelihood:    </th> <td> -9784.5</td> \n",
       "</tr>\n",
       "<tr>\n",
       "  <th>No. Observations:</th>      <td>   750</td>      <th>  AIC:               </th> <td>1.959e+04</td>\n",
       "</tr>\n",
       "<tr>\n",
       "  <th>Df Residuals:</th>          <td>   740</td>      <th>  BIC:               </th> <td>1.964e+04</td>\n",
       "</tr>\n",
       "<tr>\n",
       "  <th>Df Model:</th>              <td>     9</td>      <th>                     </th>     <td> </td>    \n",
       "</tr>\n",
       "<tr>\n",
       "  <th>Covariance Type:</th>      <td>nonrobust</td>    <th>                     </th>     <td> </td>    \n",
       "</tr>\n",
       "</table>\n",
       "<table class=\"simpletable\">\n",
       "<tr>\n",
       "    <td></td>       <th>coef</th>     <th>std err</th>      <th>t</th>      <th>P>|t|</th>  <th>[0.025</th>    <th>0.975]</th>  \n",
       "</tr>\n",
       "<tr>\n",
       "  <th>const</th> <td> 4.449e+06</td> <td> 1.22e+07</td> <td>    0.363</td> <td> 0.716</td> <td>-1.96e+07</td> <td> 2.85e+07</td>\n",
       "</tr>\n",
       "<tr>\n",
       "  <th>x1</th>    <td> -264.8363</td> <td>   97.830</td> <td>   -2.707</td> <td> 0.007</td> <td> -456.894</td> <td>  -72.778</td>\n",
       "</tr>\n",
       "<tr>\n",
       "  <th>x2</th>    <td>  170.8658</td> <td>    9.960</td> <td>   17.156</td> <td> 0.000</td> <td>  151.313</td> <td>  190.418</td>\n",
       "</tr>\n",
       "<tr>\n",
       "  <th>x3</th>    <td>-1751.2316</td> <td>  159.717</td> <td>  -10.965</td> <td> 0.000</td> <td>-2064.784</td> <td>-1437.680</td>\n",
       "</tr>\n",
       "<tr>\n",
       "  <th>x4</th>    <td>  466.5946</td> <td>  174.440</td> <td>    2.675</td> <td> 0.008</td> <td>  124.138</td> <td>  809.051</td>\n",
       "</tr>\n",
       "<tr>\n",
       "  <th>x5</th>    <td> 5813.4052</td> <td> 4.99e+04</td> <td>    0.116</td> <td> 0.907</td> <td>-9.22e+04</td> <td> 1.04e+05</td>\n",
       "</tr>\n",
       "<tr>\n",
       "  <th>x6</th>    <td>-1.517e+04</td> <td> 3.26e+04</td> <td>   -0.466</td> <td> 0.642</td> <td>-7.92e+04</td> <td> 4.88e+04</td>\n",
       "</tr>\n",
       "<tr>\n",
       "  <th>x7</th>    <td>-1961.3432</td> <td> 5541.075</td> <td>   -0.354</td> <td> 0.723</td> <td>-1.28e+04</td> <td> 8916.757</td>\n",
       "</tr>\n",
       "<tr>\n",
       "  <th>x8</th>    <td>  -12.4337</td> <td> 1313.039</td> <td>   -0.009</td> <td> 0.992</td> <td>-2590.160</td> <td> 2565.292</td>\n",
       "</tr>\n",
       "<tr>\n",
       "  <th>x9</th>    <td> 8911.6173</td> <td> 4811.572</td> <td>    1.852</td> <td> 0.064</td> <td> -534.339</td> <td> 1.84e+04</td>\n",
       "</tr>\n",
       "</table>\n",
       "<table class=\"simpletable\">\n",
       "<tr>\n",
       "  <th>Omnibus:</th>       <td>760.353</td> <th>  Durbin-Watson:     </th> <td>   1.814</td> \n",
       "</tr>\n",
       "<tr>\n",
       "  <th>Prob(Omnibus):</th> <td> 0.000</td>  <th>  Jarque-Bera (JB):  </th> <td>72443.149</td>\n",
       "</tr>\n",
       "<tr>\n",
       "  <th>Skew:</th>          <td> 4.391</td>  <th>  Prob(JB):          </th> <td>    0.00</td> \n",
       "</tr>\n",
       "<tr>\n",
       "  <th>Kurtosis:</th>      <td>50.340</td>  <th>  Cond. No.          </th> <td>2.33e+08</td> \n",
       "</tr>\n",
       "</table><br/><br/>Notes:<br/>[1] Standard Errors assume that the covariance matrix of the errors is correctly specified.<br/>[2] The condition number is large, 2.33e+08. This might indicate that there are<br/>strong multicollinearity or other numerical problems."
      ],
      "text/plain": [
       "<class 'statsmodels.iolib.summary.Summary'>\n",
       "\"\"\"\n",
       "                            OLS Regression Results                            \n",
       "==============================================================================\n",
       "Dep. Variable:                      y   R-squared:                       0.556\n",
       "Model:                            OLS   Adj. R-squared:                  0.550\n",
       "Method:                 Least Squares   F-statistic:                     102.9\n",
       "Date:                Sat, 27 Mar 2021   Prob (F-statistic):          4.08e-124\n",
       "Time:                        18:53:22   Log-Likelihood:                -9784.5\n",
       "No. Observations:                 750   AIC:                         1.959e+04\n",
       "Df Residuals:                     740   BIC:                         1.964e+04\n",
       "Df Model:                           9                                         \n",
       "Covariance Type:            nonrobust                                         \n",
       "==============================================================================\n",
       "                 coef    std err          t      P>|t|      [0.025      0.975]\n",
       "------------------------------------------------------------------------------\n",
       "const       4.449e+06   1.22e+07      0.363      0.716   -1.96e+07    2.85e+07\n",
       "x1          -264.8363     97.830     -2.707      0.007    -456.894     -72.778\n",
       "x2           170.8658      9.960     17.156      0.000     151.313     190.418\n",
       "x3         -1751.2316    159.717    -10.965      0.000   -2064.784   -1437.680\n",
       "x4           466.5946    174.440      2.675      0.008     124.138     809.051\n",
       "x5          5813.4052   4.99e+04      0.116      0.907   -9.22e+04    1.04e+05\n",
       "x6         -1.517e+04   3.26e+04     -0.466      0.642   -7.92e+04    4.88e+04\n",
       "x7         -1961.3432   5541.075     -0.354      0.723   -1.28e+04    8916.757\n",
       "x8           -12.4337   1313.039     -0.009      0.992   -2590.160    2565.292\n",
       "x9          8911.6173   4811.572      1.852      0.064    -534.339    1.84e+04\n",
       "==============================================================================\n",
       "Omnibus:                      760.353   Durbin-Watson:                   1.814\n",
       "Prob(Omnibus):                  0.000   Jarque-Bera (JB):            72443.149\n",
       "Skew:                           4.391   Prob(JB):                         0.00\n",
       "Kurtosis:                      50.340   Cond. No.                     2.33e+08\n",
       "==============================================================================\n",
       "\n",
       "Notes:\n",
       "[1] Standard Errors assume that the covariance matrix of the errors is correctly specified.\n",
       "[2] The condition number is large, 2.33e+08. This might indicate that there are\n",
       "strong multicollinearity or other numerical problems.\n",
       "\"\"\""
      ]
     },
     "execution_count": 44,
     "metadata": {},
     "output_type": "execute_result"
    }
   ],
   "source": [
    "regressor_OLS = sm.OLS(endog = y_train, exog = X_opt).fit()\n",
    "regressor_OLS.summary()"
   ]
  },
  {
   "cell_type": "code",
   "execution_count": 45,
   "metadata": {},
   "outputs": [],
   "source": [
    "sns_plot = sns.histplot(data=df['MONTH'],kde=True,shrink=2,binrange=[1,13],binwidth=.5).set_title('Houses Sold By Month')\n",
    "fig = sns_plot.get_figure()\n",
    "fig.savefig('img/housesbymonth.png')y_predict = regressor_OLS.predict(X_test)"
   ]
  },
  {
   "cell_type": "code",
   "execution_count": 46,
   "metadata": {},
   "outputs": [
    {
     "name": "stdout",
     "output_type": "stream",
     "text": [
      "MSE: 1.21e+23\n"
     ]
    }
   ],
   "source": [
    "print('MSE: {:.2e}'.format(mean_squared_error(y_test, y_predict)))"
   ]
  },
  {
   "cell_type": "code",
   "execution_count": 47,
   "metadata": {},
   "outputs": [
    {
     "name": "stdout",
     "output_type": "stream",
     "text": [
      "0.0\n"
     ]
    }
   ],
   "source": [
    "calculate_five_percent(y_predict,y_test)\n",
    "calculate_ten_percent(y_predict,y_test)\n",
    "print(calculate_twenty_percent(y_predict,y_test))"
   ]
  },
  {
   "cell_type": "markdown",
   "metadata": {},
   "source": [
    "## Feature Importances"
   ]
  },
  {
   "cell_type": "code",
   "execution_count": 33,
   "metadata": {},
   "outputs": [
    {
     "data": {
      "text/plain": [
       "Pipeline(steps=[('scaler', StandardScaler()),\n",
       "                ('regressor',\n",
       "                 RandomForestRegressor(max_depth=13, n_estimators=120))])"
      ]
     },
     "execution_count": 33,
     "metadata": {},
     "output_type": "execute_result"
    }
   ],
   "source": [
    "rfr_grid.best_estimator_"
   ]
  },
  {
   "cell_type": "code",
   "execution_count": 34,
   "metadata": {},
   "outputs": [
    {
     "data": {
      "text/plain": [
       "RandomForestRegressor(max_depth=13, n_estimators=120)"
      ]
     },
     "execution_count": 34,
     "metadata": {},
     "output_type": "execute_result"
    }
   ],
   "source": [
    "rfr_grid.best_estimator_.steps[1][1]"
   ]
  },
  {
   "cell_type": "code",
   "execution_count": 35,
   "metadata": {},
   "outputs": [
    {
     "data": {
      "text/plain": [
       "array([0.01228483, 0.01883107, 0.00835079, 0.01407618, 0.02981249,\n",
       "       0.01205757, 0.01754874, 0.00599366, 0.0031491 , 0.00503621])"
      ]
     },
     "execution_count": 35,
     "metadata": {},
     "output_type": "execute_result"
    }
   ],
   "source": [
    "std = np.std([tree.feature_importances_ for tree in rfr_grid.best_estimator_.steps[1][1].estimators_],axis=0)\n",
    "std"
   ]
  },
  {
   "cell_type": "code",
   "execution_count": 36,
   "metadata": {},
   "outputs": [],
   "source": [
    "feature_importances = rfr_grid.best_estimator_.steps[1][1].feature_importances_"
   ]
  },
  {
   "cell_type": "code",
   "execution_count": 37,
   "metadata": {},
   "outputs": [
    {
     "data": {
      "text/plain": [
       "array([0.04309778, 0.59934286, 0.05608799, 0.07904959, 0.07795421,\n",
       "       0.06254325, 0.05392468, 0.01256994, 0.00746612, 0.00796357])"
      ]
     },
     "execution_count": 37,
     "metadata": {},
     "output_type": "execute_result"
    }
   ],
   "source": [
    "feature_importances"
   ]
  },
  {
   "cell_type": "code",
   "execution_count": 75,
   "metadata": {},
   "outputs": [],
   "source": [
    "features = np.array(modeldata.drop('PRICE',axis=1).columns)"
   ]
  },
  {
   "cell_type": "code",
   "execution_count": 39,
   "metadata": {},
   "outputs": [
    {
     "data": {
      "text/html": [
       "<div>\n",
       "<style scoped>\n",
       "    .dataframe tbody tr th:only-of-type {\n",
       "        vertical-align: middle;\n",
       "    }\n",
       "\n",
       "    .dataframe tbody tr th {\n",
       "        vertical-align: top;\n",
       "    }\n",
       "\n",
       "    .dataframe thead th {\n",
       "        text-align: right;\n",
       "    }\n",
       "</style>\n",
       "<table border=\"1\" class=\"dataframe\">\n",
       "  <thead>\n",
       "    <tr style=\"text-align: right;\">\n",
       "      <th></th>\n",
       "      <th>ZIP OR POSTAL CODE</th>\n",
       "      <th>SQUARE FEET</th>\n",
       "      <th>LOT SIZE</th>\n",
       "      <th>YEAR BUILT</th>\n",
       "      <th>HOA/MONTH</th>\n",
       "      <th>LATITUDE</th>\n",
       "      <th>LONGITUDE</th>\n",
       "      <th>ROOMS</th>\n",
       "      <th>MONTH</th>\n",
       "      <th>YEAR</th>\n",
       "    </tr>\n",
       "  </thead>\n",
       "  <tbody>\n",
       "    <tr>\n",
       "      <th>0</th>\n",
       "      <td>0.043098</td>\n",
       "      <td>0.599343</td>\n",
       "      <td>0.056088</td>\n",
       "      <td>0.07905</td>\n",
       "      <td>0.077954</td>\n",
       "      <td>0.062543</td>\n",
       "      <td>0.053925</td>\n",
       "      <td>0.01257</td>\n",
       "      <td>0.007466</td>\n",
       "      <td>0.007964</td>\n",
       "    </tr>\n",
       "  </tbody>\n",
       "</table>\n",
       "</div>"
      ],
      "text/plain": [
       "   ZIP OR POSTAL CODE  SQUARE FEET  LOT SIZE  YEAR BUILT  HOA/MONTH  LATITUDE  \\\n",
       "0            0.043098     0.599343  0.056088     0.07905   0.077954  0.062543   \n",
       "\n",
       "   LONGITUDE    ROOMS     MONTH      YEAR  \n",
       "0   0.053925  0.01257  0.007466  0.007964  "
      ]
     },
     "execution_count": 39,
     "metadata": {},
     "output_type": "execute_result"
    }
   ],
   "source": [
    "importances_df = pd.DataFrame([feature_importances],columns=features)\n",
    "importances_df"
   ]
  },
  {
   "cell_type": "code",
   "execution_count": 153,
   "metadata": {},
   "outputs": [
    {
     "data": {
      "image/png": "[encoded data removed]",
      "text/plain": [
       "<Figure size 1440x288 with 1 Axes>"
      ]
     },
     "metadata": {},
     "output_type": "display_data"
    }
   ],
   "source": [
    "plt.figure(figsize=(20,4))\n",
    "plt.scatter(x=features,y=feature_importances,s=200)\n",
    "plt.title('Feature Importances',fontsize=30)\n",
    "plt.ylabel('Feature Importance',fontsize=20)\n",
    "plt.xlabel(\"Feature\",fontsize=20)\n",
    "plt.tight_layout()\n",
    "plt.savefig('img/featureimportances2.png')"
   ]
  },
  {
   "cell_type": "markdown",
   "metadata": {},
   "source": [
    "___"
   ]
  },
  {
   "cell_type": "markdown",
   "metadata": {},
   "source": [
    "## Permutation Importance"
   ]
  },
  {
   "cell_type": "code",
   "execution_count": 46,
   "metadata": {},
   "outputs": [],
   "source": [
    "r = permutation_importance(rfr_grid, X_test, y_test, n_repeats=30)"
   ]
  },
  {
   "cell_type": "code",
   "execution_count": 51,
   "metadata": {},
   "outputs": [],
   "source": [
    "perm_importances = r.importances_mean"
   ]
  },
  {
   "cell_type": "code",
   "execution_count": 52,
   "metadata": {},
   "outputs": [
    {
     "data": {
      "text/html": [
       "<div>\n",
       "<style scoped>\n",
       "    .dataframe tbody tr th:only-of-type {\n",
       "        vertical-align: middle;\n",
       "    }\n",
       "\n",
       "    .dataframe tbody tr th {\n",
       "        vertical-align: top;\n",
       "    }\n",
       "\n",
       "    .dataframe thead th {\n",
       "        text-align: right;\n",
       "    }\n",
       "</style>\n",
       "<table border=\"1\" class=\"dataframe\">\n",
       "  <thead>\n",
       "    <tr style=\"text-align: right;\">\n",
       "      <th></th>\n",
       "      <th>ZIP OR POSTAL CODE</th>\n",
       "      <th>SQUARE FEET</th>\n",
       "      <th>LOT SIZE</th>\n",
       "      <th>YEAR BUILT</th>\n",
       "      <th>HOA/MONTH</th>\n",
       "      <th>LATITUDE</th>\n",
       "      <th>LONGITUDE</th>\n",
       "      <th>ROOMS</th>\n",
       "      <th>MONTH</th>\n",
       "      <th>YEAR</th>\n",
       "    </tr>\n",
       "  </thead>\n",
       "  <tbody>\n",
       "    <tr>\n",
       "      <th>0</th>\n",
       "      <td>1.929978e+09</td>\n",
       "      <td>2.483626e+10</td>\n",
       "      <td>1.731492e+09</td>\n",
       "      <td>2.452394e+09</td>\n",
       "      <td>2.839793e+09</td>\n",
       "      <td>2.609847e+09</td>\n",
       "      <td>2.745420e+09</td>\n",
       "      <td>8.558712e+08</td>\n",
       "      <td>8.185933e+07</td>\n",
       "      <td>6.101866e+07</td>\n",
       "    </tr>\n",
       "  </tbody>\n",
       "</table>\n",
       "</div>"
      ],
      "text/plain": [
       "   ZIP OR POSTAL CODE   SQUARE FEET      LOT SIZE    YEAR BUILT     HOA/MONTH  \\\n",
       "0        1.929978e+09  2.483626e+10  1.731492e+09  2.452394e+09  2.839793e+09   \n",
       "\n",
       "       LATITUDE     LONGITUDE         ROOMS         MONTH          YEAR  \n",
       "0  2.609847e+09  2.745420e+09  8.558712e+08  8.185933e+07  6.101866e+07  "
      ]
     },
     "execution_count": 52,
     "metadata": {},
     "output_type": "execute_result"
    }
   ],
   "source": [
    "perm_importances_df = pd.DataFrame([perm_importances],columns=features)\n",
    "perm_importances_df"
   ]
  },
  {
   "cell_type": "code",
   "execution_count": 152,
   "metadata": {},
   "outputs": [
    {
     "data": {
      "image/png": "[encoded data removed]",
      "text/plain": [
       "<Figure size 1440x288 with 1 Axes>"
      ]
     },
     "metadata": {},
     "output_type": "display_data"
    }
   ],
   "source": [
    "plt.figure(figsize=(20,4))\n",
    "plt.scatter(x=features,y=perm_importances,s=200)\n",
    "plt.title('Permutation Importances',fontsize=30)\n",
    "plt.ylabel('Permutation Importance',fontsize=20)\n",
    "plt.xlabel(\"Feature\",fontsize=20)\n",
    "plt.tight_layout()\n",
    "plt.savefig('img/permimportances.png')\n"
   ]
  },
  {
   "cell_type": "markdown",
   "metadata": {},
   "source": [
    "----"
   ]
  },
  {
   "cell_type": "markdown",
   "metadata": {},
   "source": [
    "## Taking out square feet"
   ]
  },
  {
   "cell_type": "code",
   "execution_count": 58,
   "metadata": {},
   "outputs": [],
   "source": [
    "X_nosf = modeldata.drop(['SQUARE FEET','PRICE'],axis=1).values"
   ]
  },
  {
   "cell_type": "code",
   "execution_count": 60,
   "metadata": {},
   "outputs": [
    {
     "data": {
      "text/plain": [
       "(19812, 9)"
      ]
     },
     "execution_count": 60,
     "metadata": {},
     "output_type": "execute_result"
    }
   ],
   "source": [
    "X_nosf.shape"
   ]
  },
  {
   "cell_type": "code",
   "execution_count": 61,
   "metadata": {},
   "outputs": [
    {
     "data": {
      "text/plain": [
       "(19812,)"
      ]
     },
     "execution_count": 61,
     "metadata": {},
     "output_type": "execute_result"
    }
   ],
   "source": [
    "y.shape"
   ]
  },
  {
   "cell_type": "code",
   "execution_count": 130,
   "metadata": {},
   "outputs": [],
   "source": [
    "X_tr, X_te, y_tr, y_te = train_test_split(X_nosf,y)"
   ]
  },
  {
   "cell_type": "code",
   "execution_count": 63,
   "metadata": {},
   "outputs": [],
   "source": [
    "df_small = modeldata.sample(1000)\n",
    "y2 = df_small['PRICE'].values\n",
    "X2 = df_small.drop(['SQUARE FEET','PRICE'],axis=1).values\n",
    "X_tr, X_te, y_tr, y_te = train_test_split(X2,y2)"
   ]
  },
  {
   "cell_type": "code",
   "execution_count": 139,
   "metadata": {},
   "outputs": [
    {
     "ename": "ValueError",
     "evalue": "X has 10 features, but this StandardScaler is expecting 9 features as input.",
     "output_type": "error",
     "traceback": [
      "\u001b[0;31m---------------------------------------------------------------------------\u001b[0m",
      "\u001b[0;31mValueError\u001b[0m                                Traceback (most recent call last)",
      "\u001b[0;32m<ipython-input-139-84ea8f3d2822>\u001b[0m in \u001b[0;36m<module>\u001b[0;34m\u001b[0m\n\u001b[1;32m      6\u001b[0m \u001b[0mrfr_grid2\u001b[0m \u001b[0;34m=\u001b[0m \u001b[0mGridSearchCV\u001b[0m\u001b[0;34m(\u001b[0m\u001b[0mrfr_pipe2\u001b[0m\u001b[0;34m,\u001b[0m \u001b[0mrfr_grid_params2\u001b[0m\u001b[0;34m,\u001b[0m \u001b[0mcv\u001b[0m\u001b[0;34m=\u001b[0m\u001b[0mkf\u001b[0m\u001b[0;34m,\u001b[0m \u001b[0mscoring\u001b[0m \u001b[0;34m=\u001b[0m \u001b[0;34m'neg_mean_squared_error'\u001b[0m\u001b[0;34m)\u001b[0m\u001b[0;34m\u001b[0m\u001b[0;34m\u001b[0m\u001b[0m\n\u001b[1;32m      7\u001b[0m \u001b[0mrfr_grid2\u001b[0m\u001b[0;34m.\u001b[0m\u001b[0mfit\u001b[0m\u001b[0;34m(\u001b[0m\u001b[0mX_tr\u001b[0m\u001b[0;34m,\u001b[0m \u001b[0my_tr\u001b[0m\u001b[0;34m)\u001b[0m\u001b[0;34m\u001b[0m\u001b[0;34m\u001b[0m\u001b[0m\n\u001b[0;32m----> 8\u001b[0;31m \u001b[0my_predict\u001b[0m \u001b[0;34m=\u001b[0m \u001b[0mrfr_grid2\u001b[0m\u001b[0;34m.\u001b[0m\u001b[0mpredict\u001b[0m\u001b[0;34m(\u001b[0m\u001b[0mX_test\u001b[0m\u001b[0;34m)\u001b[0m\u001b[0;34m\u001b[0m\u001b[0;34m\u001b[0m\u001b[0m\n\u001b[0m\u001b[1;32m      9\u001b[0m \u001b[0mprint\u001b[0m\u001b[0;34m(\u001b[0m\u001b[0;34m\"rfrAccuracy: {:.2e}\"\u001b[0m\u001b[0;34m.\u001b[0m\u001b[0mformat\u001b[0m\u001b[0;34m(\u001b[0m\u001b[0mrfr_grid\u001b[0m\u001b[0;34m.\u001b[0m\u001b[0mscore\u001b[0m\u001b[0;34m(\u001b[0m\u001b[0mX_te\u001b[0m\u001b[0;34m,\u001b[0m \u001b[0my_te\u001b[0m\u001b[0;34m)\u001b[0m\u001b[0;34m)\u001b[0m\u001b[0;34m)\u001b[0m\u001b[0;34m\u001b[0m\u001b[0;34m\u001b[0m\u001b[0m\n\u001b[1;32m     10\u001b[0m \u001b[0mprint\u001b[0m\u001b[0;34m(\u001b[0m\u001b[0mcalculate_five_percent\u001b[0m\u001b[0;34m(\u001b[0m\u001b[0my_predict\u001b[0m\u001b[0;34m,\u001b[0m\u001b[0my_te\u001b[0m\u001b[0;34m)\u001b[0m\u001b[0;34m)\u001b[0m\u001b[0;34m\u001b[0m\u001b[0;34m\u001b[0m\u001b[0m\n",
      "\u001b[0;32m~/opt/anaconda3/lib/python3.8/site-packages/sklearn/utils/metaestimators.py\u001b[0m in \u001b[0;36m<lambda>\u001b[0;34m(*args, **kwargs)\u001b[0m\n\u001b[1;32m    117\u001b[0m \u001b[0;34m\u001b[0m\u001b[0m\n\u001b[1;32m    118\u001b[0m         \u001b[0;31m# lambda, but not partial, allows help() to work with update_wrapper\u001b[0m\u001b[0;34m\u001b[0m\u001b[0;34m\u001b[0m\u001b[0;34m\u001b[0m\u001b[0m\n\u001b[0;32m--> 119\u001b[0;31m         \u001b[0mout\u001b[0m \u001b[0;34m=\u001b[0m \u001b[0;32mlambda\u001b[0m \u001b[0;34m*\u001b[0m\u001b[0margs\u001b[0m\u001b[0;34m,\u001b[0m \u001b[0;34m**\u001b[0m\u001b[0mkwargs\u001b[0m\u001b[0;34m:\u001b[0m \u001b[0mself\u001b[0m\u001b[0;34m.\u001b[0m\u001b[0mfn\u001b[0m\u001b[0;34m(\u001b[0m\u001b[0mobj\u001b[0m\u001b[0;34m,\u001b[0m \u001b[0;34m*\u001b[0m\u001b[0margs\u001b[0m\u001b[0;34m,\u001b[0m \u001b[0;34m**\u001b[0m\u001b[0mkwargs\u001b[0m\u001b[0;34m)\u001b[0m\u001b[0;34m\u001b[0m\u001b[0;34m\u001b[0m\u001b[0m\n\u001b[0m\u001b[1;32m    120\u001b[0m         \u001b[0;31m# update the docstring of the returned function\u001b[0m\u001b[0;34m\u001b[0m\u001b[0;34m\u001b[0m\u001b[0;34m\u001b[0m\u001b[0m\n\u001b[1;32m    121\u001b[0m         \u001b[0mupdate_wrapper\u001b[0m\u001b[0;34m(\u001b[0m\u001b[0mout\u001b[0m\u001b[0;34m,\u001b[0m \u001b[0mself\u001b[0m\u001b[0;34m.\u001b[0m\u001b[0mfn\u001b[0m\u001b[0;34m)\u001b[0m\u001b[0;34m\u001b[0m\u001b[0;34m\u001b[0m\u001b[0m\n",
      "\u001b[0;32m~/opt/anaconda3/lib/python3.8/site-packages/sklearn/model_selection/_search.py\u001b[0m in \u001b[0;36mpredict\u001b[0;34m(self, X)\u001b[0m\n\u001b[1;32m    485\u001b[0m         \"\"\"\n\u001b[1;32m    486\u001b[0m         \u001b[0mself\u001b[0m\u001b[0;34m.\u001b[0m\u001b[0m_check_is_fitted\u001b[0m\u001b[0;34m(\u001b[0m\u001b[0;34m'predict'\u001b[0m\u001b[0;34m)\u001b[0m\u001b[0;34m\u001b[0m\u001b[0;34m\u001b[0m\u001b[0m\n\u001b[0;32m--> 487\u001b[0;31m         \u001b[0;32mreturn\u001b[0m \u001b[0mself\u001b[0m\u001b[0;34m.\u001b[0m\u001b[0mbest_estimator_\u001b[0m\u001b[0;34m.\u001b[0m\u001b[0mpredict\u001b[0m\u001b[0;34m(\u001b[0m\u001b[0mX\u001b[0m\u001b[0;34m)\u001b[0m\u001b[0;34m\u001b[0m\u001b[0;34m\u001b[0m\u001b[0m\n\u001b[0m\u001b[1;32m    488\u001b[0m \u001b[0;34m\u001b[0m\u001b[0m\n\u001b[1;32m    489\u001b[0m     \u001b[0;34m@\u001b[0m\u001b[0mif_delegate_has_method\u001b[0m\u001b[0;34m(\u001b[0m\u001b[0mdelegate\u001b[0m\u001b[0;34m=\u001b[0m\u001b[0;34m(\u001b[0m\u001b[0;34m'best_estimator_'\u001b[0m\u001b[0;34m,\u001b[0m \u001b[0;34m'estimator'\u001b[0m\u001b[0;34m)\u001b[0m\u001b[0;34m)\u001b[0m\u001b[0;34m\u001b[0m\u001b[0;34m\u001b[0m\u001b[0m\n",
      "\u001b[0;32m~/opt/anaconda3/lib/python3.8/site-packages/sklearn/utils/metaestimators.py\u001b[0m in \u001b[0;36m<lambda>\u001b[0;34m(*args, **kwargs)\u001b[0m\n\u001b[1;32m    117\u001b[0m \u001b[0;34m\u001b[0m\u001b[0m\n\u001b[1;32m    118\u001b[0m         \u001b[0;31m# lambda, but not partial, allows help() to work with update_wrapper\u001b[0m\u001b[0;34m\u001b[0m\u001b[0;34m\u001b[0m\u001b[0;34m\u001b[0m\u001b[0m\n\u001b[0;32m--> 119\u001b[0;31m         \u001b[0mout\u001b[0m \u001b[0;34m=\u001b[0m \u001b[0;32mlambda\u001b[0m \u001b[0;34m*\u001b[0m\u001b[0margs\u001b[0m\u001b[0;34m,\u001b[0m \u001b[0;34m**\u001b[0m\u001b[0mkwargs\u001b[0m\u001b[0;34m:\u001b[0m \u001b[0mself\u001b[0m\u001b[0;34m.\u001b[0m\u001b[0mfn\u001b[0m\u001b[0;34m(\u001b[0m\u001b[0mobj\u001b[0m\u001b[0;34m,\u001b[0m \u001b[0;34m*\u001b[0m\u001b[0margs\u001b[0m\u001b[0;34m,\u001b[0m \u001b[0;34m**\u001b[0m\u001b[0mkwargs\u001b[0m\u001b[0;34m)\u001b[0m\u001b[0;34m\u001b[0m\u001b[0;34m\u001b[0m\u001b[0m\n\u001b[0m\u001b[1;32m    120\u001b[0m         \u001b[0;31m# update the docstring of the returned function\u001b[0m\u001b[0;34m\u001b[0m\u001b[0;34m\u001b[0m\u001b[0;34m\u001b[0m\u001b[0m\n\u001b[1;32m    121\u001b[0m         \u001b[0mupdate_wrapper\u001b[0m\u001b[0;34m(\u001b[0m\u001b[0mout\u001b[0m\u001b[0;34m,\u001b[0m \u001b[0mself\u001b[0m\u001b[0;34m.\u001b[0m\u001b[0mfn\u001b[0m\u001b[0;34m)\u001b[0m\u001b[0;34m\u001b[0m\u001b[0;34m\u001b[0m\u001b[0m\n",
      "\u001b[0;32m~/opt/anaconda3/lib/python3.8/site-packages/sklearn/pipeline.py\u001b[0m in \u001b[0;36mpredict\u001b[0;34m(self, X, **predict_params)\u001b[0m\n\u001b[1;32m    405\u001b[0m         \u001b[0mXt\u001b[0m \u001b[0;34m=\u001b[0m \u001b[0mX\u001b[0m\u001b[0;34m\u001b[0m\u001b[0;34m\u001b[0m\u001b[0m\n\u001b[1;32m    406\u001b[0m         \u001b[0;32mfor\u001b[0m \u001b[0m_\u001b[0m\u001b[0;34m,\u001b[0m \u001b[0mname\u001b[0m\u001b[0;34m,\u001b[0m \u001b[0mtransform\u001b[0m \u001b[0;32min\u001b[0m \u001b[0mself\u001b[0m\u001b[0;34m.\u001b[0m\u001b[0m_iter\u001b[0m\u001b[0;34m(\u001b[0m\u001b[0mwith_final\u001b[0m\u001b[0;34m=\u001b[0m\u001b[0;32mFalse\u001b[0m\u001b[0;34m)\u001b[0m\u001b[0;34m:\u001b[0m\u001b[0;34m\u001b[0m\u001b[0;34m\u001b[0m\u001b[0m\n\u001b[0;32m--> 407\u001b[0;31m             \u001b[0mXt\u001b[0m \u001b[0;34m=\u001b[0m \u001b[0mtransform\u001b[0m\u001b[0;34m.\u001b[0m\u001b[0mtransform\u001b[0m\u001b[0;34m(\u001b[0m\u001b[0mXt\u001b[0m\u001b[0;34m)\u001b[0m\u001b[0;34m\u001b[0m\u001b[0;34m\u001b[0m\u001b[0m\n\u001b[0m\u001b[1;32m    408\u001b[0m         \u001b[0;32mreturn\u001b[0m \u001b[0mself\u001b[0m\u001b[0;34m.\u001b[0m\u001b[0msteps\u001b[0m\u001b[0;34m[\u001b[0m\u001b[0;34m-\u001b[0m\u001b[0;36m1\u001b[0m\u001b[0;34m]\u001b[0m\u001b[0;34m[\u001b[0m\u001b[0;34m-\u001b[0m\u001b[0;36m1\u001b[0m\u001b[0;34m]\u001b[0m\u001b[0;34m.\u001b[0m\u001b[0mpredict\u001b[0m\u001b[0;34m(\u001b[0m\u001b[0mXt\u001b[0m\u001b[0;34m,\u001b[0m \u001b[0;34m**\u001b[0m\u001b[0mpredict_params\u001b[0m\u001b[0;34m)\u001b[0m\u001b[0;34m\u001b[0m\u001b[0;34m\u001b[0m\u001b[0m\n\u001b[1;32m    409\u001b[0m \u001b[0;34m\u001b[0m\u001b[0m\n",
      "\u001b[0;32m~/opt/anaconda3/lib/python3.8/site-packages/sklearn/preprocessing/_data.py\u001b[0m in \u001b[0;36mtransform\u001b[0;34m(self, X, copy)\u001b[0m\n\u001b[1;32m    789\u001b[0m \u001b[0;34m\u001b[0m\u001b[0m\n\u001b[1;32m    790\u001b[0m         \u001b[0mcopy\u001b[0m \u001b[0;34m=\u001b[0m \u001b[0mcopy\u001b[0m \u001b[0;32mif\u001b[0m \u001b[0mcopy\u001b[0m \u001b[0;32mis\u001b[0m \u001b[0;32mnot\u001b[0m \u001b[0;32mNone\u001b[0m \u001b[0;32melse\u001b[0m \u001b[0mself\u001b[0m\u001b[0;34m.\u001b[0m\u001b[0mcopy\u001b[0m\u001b[0;34m\u001b[0m\u001b[0;34m\u001b[0m\u001b[0m\n\u001b[0;32m--> 791\u001b[0;31m         X = self._validate_data(X, reset=False,\n\u001b[0m\u001b[1;32m    792\u001b[0m                                 \u001b[0maccept_sparse\u001b[0m\u001b[0;34m=\u001b[0m\u001b[0;34m'csr'\u001b[0m\u001b[0;34m,\u001b[0m \u001b[0mcopy\u001b[0m\u001b[0;34m=\u001b[0m\u001b[0mcopy\u001b[0m\u001b[0;34m,\u001b[0m\u001b[0;34m\u001b[0m\u001b[0;34m\u001b[0m\u001b[0m\n\u001b[1;32m    793\u001b[0m                                 \u001b[0mestimator\u001b[0m\u001b[0;34m=\u001b[0m\u001b[0mself\u001b[0m\u001b[0;34m,\u001b[0m \u001b[0mdtype\u001b[0m\u001b[0;34m=\u001b[0m\u001b[0mFLOAT_DTYPES\u001b[0m\u001b[0;34m,\u001b[0m\u001b[0;34m\u001b[0m\u001b[0;34m\u001b[0m\u001b[0m\n",
      "\u001b[0;32m~/opt/anaconda3/lib/python3.8/site-packages/sklearn/base.py\u001b[0m in \u001b[0;36m_validate_data\u001b[0;34m(self, X, y, reset, validate_separately, **check_params)\u001b[0m\n\u001b[1;32m    434\u001b[0m \u001b[0;34m\u001b[0m\u001b[0m\n\u001b[1;32m    435\u001b[0m         \u001b[0;32mif\u001b[0m \u001b[0mcheck_params\u001b[0m\u001b[0;34m.\u001b[0m\u001b[0mget\u001b[0m\u001b[0;34m(\u001b[0m\u001b[0;34m'ensure_2d'\u001b[0m\u001b[0;34m,\u001b[0m \u001b[0;32mTrue\u001b[0m\u001b[0;34m)\u001b[0m\u001b[0;34m:\u001b[0m\u001b[0;34m\u001b[0m\u001b[0;34m\u001b[0m\u001b[0m\n\u001b[0;32m--> 436\u001b[0;31m             \u001b[0mself\u001b[0m\u001b[0;34m.\u001b[0m\u001b[0m_check_n_features\u001b[0m\u001b[0;34m(\u001b[0m\u001b[0mX\u001b[0m\u001b[0;34m,\u001b[0m \u001b[0mreset\u001b[0m\u001b[0;34m=\u001b[0m\u001b[0mreset\u001b[0m\u001b[0;34m)\u001b[0m\u001b[0;34m\u001b[0m\u001b[0;34m\u001b[0m\u001b[0m\n\u001b[0m\u001b[1;32m    437\u001b[0m \u001b[0;34m\u001b[0m\u001b[0m\n\u001b[1;32m    438\u001b[0m         \u001b[0;32mreturn\u001b[0m \u001b[0mout\u001b[0m\u001b[0;34m\u001b[0m\u001b[0;34m\u001b[0m\u001b[0m\n",
      "\u001b[0;32m~/opt/anaconda3/lib/python3.8/site-packages/sklearn/base.py\u001b[0m in \u001b[0;36m_check_n_features\u001b[0;34m(self, X, reset)\u001b[0m\n\u001b[1;32m    375\u001b[0m                 )\n\u001b[1;32m    376\u001b[0m             \u001b[0;32mif\u001b[0m \u001b[0mn_features\u001b[0m \u001b[0;34m!=\u001b[0m \u001b[0mself\u001b[0m\u001b[0;34m.\u001b[0m\u001b[0mn_features_in_\u001b[0m\u001b[0;34m:\u001b[0m\u001b[0;34m\u001b[0m\u001b[0;34m\u001b[0m\u001b[0m\n\u001b[0;32m--> 377\u001b[0;31m                 raise ValueError(\n\u001b[0m\u001b[1;32m    378\u001b[0m                     \u001b[0;34m'X has {} features, but this {} is expecting {} features '\u001b[0m\u001b[0;34m\u001b[0m\u001b[0;34m\u001b[0m\u001b[0m\n\u001b[1;32m    379\u001b[0m                     'as input.'.format(n_features, self.__class__.__name__,\n",
      "\u001b[0;31mValueError\u001b[0m: X has 10 features, but this StandardScaler is expecting 9 features as input."
     ]
    }
   ],
   "source": [
    "kf = KFold()\n",
    "skf = StratifiedKFold()\n",
    "rfr_pipe2 = Pipeline([('scaler', StandardScaler()), ('regressor', RandomForestRegressor(warm_start=True))])\n",
    "rfr_grid_params2 = {'regressor__n_estimators': np.arange(50,250,50),\n",
    "                  'regressor__max_depth': np.arange(1,15,5)}\n",
    "rfr_grid2 = GridSearchCV(rfr_pipe2, rfr_grid_params2, cv=kf, scoring = 'neg_mean_squared_error')\n",
    "rfr_grid2.fit(X_tr, y_tr)\n"
   ]
  },
  {
   "cell_type": "code",
   "execution_count": 140,
   "metadata": {},
   "outputs": [
    {
     "name": "stdout",
     "output_type": "stream",
     "text": [
      "rfrAccuracy: -3.48e+12\n",
      "32.68726024631536\n",
      "57.37936604078337\n",
      "82.09166161922067\n",
      "0.8436287459267812\n"
     ]
    }
   ],
   "source": [
    "y_predict = rfr_grid2.predict(X_te)\n",
    "print(\"rfrAccuracy: {:.2e}\".format(rfr_grid.score(X_te, y_te)))\n",
    "print(calculate_five_percent(y_predict,y_te))\n",
    "print(calculate_ten_percent(y_predict,y_te))\n",
    "print(calculate_twenty_percent(y_predict,y_te))\n",
    "print(r2_score(y_te,y_pre))"
   ]
  },
  {
   "cell_type": "code",
   "execution_count": 141,
   "metadata": {},
   "outputs": [],
   "source": [
    "std = np.std([tree.feature_importances_ for tree in rfr_grid2.best_estimator_.steps[1][1].estimators_],axis=0)\n",
    "FI2 = rfr_grid2.best_estimator_.steps[1][1].feature_importances_"
   ]
  },
  {
   "cell_type": "code",
   "execution_count": 132,
   "metadata": {},
   "outputs": [],
   "source": [
    "#FI2 = rfr2.feature_importances_"
   ]
  },
  {
   "cell_type": "code",
   "execution_count": 142,
   "metadata": {},
   "outputs": [],
   "source": [
    "features2 = np.array(modeldata.drop(['PRICE','SQUARE FEET'],axis=1).columns)"
   ]
  },
  {
   "cell_type": "code",
   "execution_count": 151,
   "metadata": {},
   "outputs": [
    {
     "data": {
      "image/png": "[encoded data removed]",
      "text/plain": [
       "<Figure size 1440x288 with 1 Axes>"
      ]
     },
     "metadata": {},
     "output_type": "display_data"
    }
   ],
   "source": [
    "plt.figure(figsize=(20,4))\n",
    "plt.scatter(x=features2,y=FI2,s=200)\n",
    "plt.title('Feature Importances',fontsize=30)\n",
    "plt.ylabel('Feature Importance',fontsize=20)\n",
    "plt.xlabel(\"Feature\",fontsize=20)\n",
    "plt.tight_layout()\n",
    "plt.savefig('img/FI2.png')"
   ]
  },
  {
   "cell_type": "markdown",
   "metadata": {},
   "source": [
    "## Permutation Importance"
   ]
  },
  {
   "cell_type": "code",
   "execution_count": 144,
   "metadata": {},
   "outputs": [],
   "source": [
    "r = permutation_importance(rfr_grid2, X_te, y_te, n_repeats=30)"
   ]
  },
  {
   "cell_type": "code",
   "execution_count": 145,
   "metadata": {},
   "outputs": [],
   "source": [
    "perm_importances2 = r.importances_mean"
   ]
  },
  {
   "cell_type": "code",
   "execution_count": 146,
   "metadata": {},
   "outputs": [
    {
     "data": {
      "text/html": [
       "<div>\n",
       "<style scoped>\n",
       "    .dataframe tbody tr th:only-of-type {\n",
       "        vertical-align: middle;\n",
       "    }\n",
       "\n",
       "    .dataframe tbody tr th {\n",
       "        vertical-align: top;\n",
       "    }\n",
       "\n",
       "    .dataframe thead th {\n",
       "        text-align: right;\n",
       "    }\n",
       "</style>\n",
       "<table border=\"1\" class=\"dataframe\">\n",
       "  <thead>\n",
       "    <tr style=\"text-align: right;\">\n",
       "      <th></th>\n",
       "      <th>ZIP OR POSTAL CODE</th>\n",
       "      <th>LOT SIZE</th>\n",
       "      <th>YEAR BUILT</th>\n",
       "      <th>HOA/MONTH</th>\n",
       "      <th>LATITUDE</th>\n",
       "      <th>LONGITUDE</th>\n",
       "      <th>ROOMS</th>\n",
       "      <th>MONTH</th>\n",
       "      <th>YEAR</th>\n",
       "    </tr>\n",
       "  </thead>\n",
       "  <tbody>\n",
       "    <tr>\n",
       "      <th>0</th>\n",
       "      <td>3.697318e+09</td>\n",
       "      <td>6.146930e+09</td>\n",
       "      <td>3.009588e+09</td>\n",
       "      <td>1.680061e+09</td>\n",
       "      <td>5.595946e+09</td>\n",
       "      <td>4.038186e+09</td>\n",
       "      <td>7.789140e+09</td>\n",
       "      <td>1.645248e+07</td>\n",
       "      <td>4.013530e+07</td>\n",
       "    </tr>\n",
       "  </tbody>\n",
       "</table>\n",
       "</div>"
      ],
      "text/plain": [
       "   ZIP OR POSTAL CODE      LOT SIZE    YEAR BUILT     HOA/MONTH      LATITUDE  \\\n",
       "0        3.697318e+09  6.146930e+09  3.009588e+09  1.680061e+09  5.595946e+09   \n",
       "\n",
       "      LONGITUDE         ROOMS         MONTH          YEAR  \n",
       "0  4.038186e+09  7.789140e+09  1.645248e+07  4.013530e+07  "
      ]
     },
     "execution_count": 146,
     "metadata": {},
     "output_type": "execute_result"
    }
   ],
   "source": [
    "perm_importances_df2 = pd.DataFrame([perm_importances2],columns=features2)\n",
    "perm_importances_df2"
   ]
  },
  {
   "cell_type": "code",
   "execution_count": 148,
   "metadata": {},
   "outputs": [
    {
     "data": {
      "image/png": "[encoded data removed]",
      "text/plain": [
       "<Figure size 1440x288 with 1 Axes>"
      ]
     },
     "metadata": {},
     "output_type": "display_data"
    }
   ],
   "source": [
    "plt.figure(figsize=(20,4))\n",
    "plt.scatter(x=features2,y=perm_importances2,s=200)\n",
    "plt.title('Permutation Importances',fontsize=30)\n",
    "plt.ylabel('Permutation Importance',fontsize=20)\n",
    "plt.xlabel(\"Feature\",fontsize=20)\n",
    "plt.tight_layout()\n",
    "plt.savefig('img/permimportances2.png')\n"
   ]
  },
  {
   "cell_type": "code",
   "execution_count": null,
   "metadata": {},
   "outputs": [],
   "source": []
  },
  {
   "cell_type": "markdown",
   "metadata": {},
   "source": [
    "-----"
   ]
  },
  {
   "cell_type": "markdown",
   "metadata": {},
   "source": [
    "## Taking Out Rooms"
   ]
  },
  {
   "cell_type": "code",
   "execution_count": 78,
   "metadata": {},
   "outputs": [],
   "source": [
    "X_norooms = modeldata.drop(['ROOMS','PRICE'],axis=1).values"
   ]
  },
  {
   "cell_type": "code",
   "execution_count": 79,
   "metadata": {},
   "outputs": [
    {
     "data": {
      "text/plain": [
       "(19812, 9)"
      ]
     },
     "execution_count": 79,
     "metadata": {},
     "output_type": "execute_result"
    }
   ],
   "source": [
    "X_norooms.shape"
   ]
  },
  {
   "cell_type": "code",
   "execution_count": 80,
   "metadata": {},
   "outputs": [
    {
     "data": {
      "text/plain": [
       "(19812,)"
      ]
     },
     "execution_count": 80,
     "metadata": {},
     "output_type": "execute_result"
    }
   ],
   "source": [
    "y.shape"
   ]
  },
  {
   "cell_type": "code",
   "execution_count": 81,
   "metadata": {},
   "outputs": [],
   "source": [
    "X_tr, X_te, y_tr, y_te = train_test_split(X_norooms,y)"
   ]
  },
  {
   "cell_type": "code",
   "execution_count": 94,
   "metadata": {},
   "outputs": [],
   "source": [
    "df_small = modeldata.sample(1000)\n",
    "y3 = df_small['PRICE'].values\n",
    "X3 = df_small.drop(['ROOMS','PRICE'],axis=1).values\n",
    "X_tr, X_te, y_tr, y_te = train_test_split(X_norooms,y)"
   ]
  },
  {
   "cell_type": "code",
   "execution_count": 95,
   "metadata": {},
   "outputs": [
    {
     "name": "stdout",
     "output_type": "stream",
     "text": [
      "score: -0.2572512134129459\n",
      "MSE: 2.256825e+09\n",
      "49.94952554007672\n",
      "71.81506157884111\n",
      "88.49182313749243\n",
      "0.8979368516467979\n"
     ]
    }
   ],
   "source": [
    "rfr3 = RandomForestRegressor(oob_score=True)\n",
    "rfr3.fit(X_tr,y_tr)\n",
    "y_pre = rfr3.predict(X_te)\n",
    "print(\"score:\", rfr.score(X_te, y_te))\n",
    "print('MSE: {:2e}'.format(mean_squared_error(y_te, y_pre)))\n",
    "print(calculate_five_percent(y_pre,y_te))\n",
    "print(calculate_ten_percent(y_pre,y_te))\n",
    "print(calculate_twenty_percent(y_pre,y_te))\n",
    "print(r2_score(y_te,y_pre))"
   ]
  },
  {
   "cell_type": "code",
   "execution_count": 96,
   "metadata": {},
   "outputs": [],
   "source": [
    "FI3 = rfr3.feature_importances_"
   ]
  },
  {
   "cell_type": "code",
   "execution_count": 97,
   "metadata": {},
   "outputs": [],
   "source": [
    "features3 = np.array(modeldata.drop(['PRICE','ROOMS'],axis=1).columns)"
   ]
  },
  {
   "cell_type": "code",
   "execution_count": 149,
   "metadata": {},
   "outputs": [
    {
     "data": {
      "image/png": "[encoded data removed]",
      "text/plain": [
       "<Figure size 1440x288 with 1 Axes>"
      ]
     },
     "metadata": {},
     "output_type": "display_data"
    }
   ],
   "source": [
    "plt.figure(figsize=(20,4))\n",
    "plt.scatter(x=features3,y=FI3,s=200)\n",
    "plt.title('Feature Importances',fontsize=30)\n",
    "plt.ylabel('Feature Importance',fontsize=20)\n",
    "plt.xlabel(\"Feature\",fontsize=20)\n",
    "plt.tight_layout()\n",
    "plt.savefig('img/FI3.png')"
   ]
  },
  {
   "cell_type": "code",
   "execution_count": 110,
   "metadata": {},
   "outputs": [
    {
     "name": "stdout",
     "output_type": "stream",
     "text": [
      "rfrAccuracy: -2.63e+09\n",
      "38.50191802947708\n",
      "63.355542095699576\n",
      "85.2614577024026\n",
      "0.8811134493806448\n"
     ]
    }
   ],
   "source": [
    "kf = KFold()\n",
    "skf = StratifiedKFold()\n",
    "rfr_pipe_rooms = Pipeline([('scaler', StandardScaler()), ('regressor', RandomForestRegressor(oob_score=True))])\n",
    "rfr__rooms_grid_params = {'regressor__n_estimators': np.arange(50,250,50),\n",
    "                  'regressor__max_depth': np.arange(1,15,5)}\n",
    "rfr_rooms_grid = GridSearchCV(rfr_pipe_rooms, rfr__rooms_grid_params, cv=kf, scoring = 'neg_mean_squared_error')\n",
    "rfr_rooms_grid.fit(X_tr, y_tr)\n",
    "y_predict = rfr_rooms_grid.predict(X_te)\n",
    "print(\"rfrAccuracy: {:.2e}\".format(rfr_rooms_grid.score(X_te, y_te)))\n",
    "print(calculate_five_percent(y_predict,y_te))\n",
    "print(calculate_ten_percent(y_predict,y_te))\n",
    "print(calculate_twenty_percent(y_predict,y_te))\n",
    "print(r2_score(y_te,y_predict))"
   ]
  },
  {
   "cell_type": "code",
   "execution_count": 111,
   "metadata": {},
   "outputs": [
    {
     "data": {
      "text/plain": [
       "{'regressor__max_depth': 11, 'regressor__n_estimators': 50}"
      ]
     },
     "execution_count": 111,
     "metadata": {},
     "output_type": "execute_result"
    }
   ],
   "source": [
    "rfr_rooms_grid.best_params_"
   ]
  },
  {
   "cell_type": "markdown",
   "metadata": {},
   "source": [
    "## Permutation Importance"
   ]
  },
  {
   "cell_type": "code",
   "execution_count": 112,
   "metadata": {},
   "outputs": [],
   "source": [
    "r = permutation_importance(rfr_rooms_grid, X_te, y_te, n_repeats=30)"
   ]
  },
  {
   "cell_type": "code",
   "execution_count": 113,
   "metadata": {},
   "outputs": [],
   "source": [
    "perm_importances3 = r.importances_mean"
   ]
  },
  {
   "cell_type": "code",
   "execution_count": 114,
   "metadata": {},
   "outputs": [
    {
     "data": {
      "text/html": [
       "<div>\n",
       "<style scoped>\n",
       "    .dataframe tbody tr th:only-of-type {\n",
       "        vertical-align: middle;\n",
       "    }\n",
       "\n",
       "    .dataframe tbody tr th {\n",
       "        vertical-align: top;\n",
       "    }\n",
       "\n",
       "    .dataframe thead th {\n",
       "        text-align: right;\n",
       "    }\n",
       "</style>\n",
       "<table border=\"1\" class=\"dataframe\">\n",
       "  <thead>\n",
       "    <tr style=\"text-align: right;\">\n",
       "      <th></th>\n",
       "      <th>ZIP OR POSTAL CODE</th>\n",
       "      <th>SQUARE FEET</th>\n",
       "      <th>LOT SIZE</th>\n",
       "      <th>YEAR BUILT</th>\n",
       "      <th>HOA/MONTH</th>\n",
       "      <th>LATITUDE</th>\n",
       "      <th>LONGITUDE</th>\n",
       "      <th>MONTH</th>\n",
       "      <th>YEAR</th>\n",
       "    </tr>\n",
       "  </thead>\n",
       "  <tbody>\n",
       "    <tr>\n",
       "      <th>0</th>\n",
       "      <td>1.569812e+09</td>\n",
       "      <td>2.245047e+10</td>\n",
       "      <td>1.077457e+09</td>\n",
       "      <td>2.726916e+09</td>\n",
       "      <td>2.298973e+09</td>\n",
       "      <td>2.244883e+09</td>\n",
       "      <td>2.204259e+09</td>\n",
       "      <td>4.109035e+07</td>\n",
       "      <td>7.656289e+07</td>\n",
       "    </tr>\n",
       "  </tbody>\n",
       "</table>\n",
       "</div>"
      ],
      "text/plain": [
       "   ZIP OR POSTAL CODE   SQUARE FEET      LOT SIZE    YEAR BUILT     HOA/MONTH  \\\n",
       "0        1.569812e+09  2.245047e+10  1.077457e+09  2.726916e+09  2.298973e+09   \n",
       "\n",
       "       LATITUDE     LONGITUDE         MONTH          YEAR  \n",
       "0  2.244883e+09  2.204259e+09  4.109035e+07  7.656289e+07  "
      ]
     },
     "execution_count": 114,
     "metadata": {},
     "output_type": "execute_result"
    }
   ],
   "source": [
    "perm_importances_df3 = pd.DataFrame([perm_importances3],columns=features3)\n",
    "perm_importances_df3"
   ]
  },
  {
   "cell_type": "code",
   "execution_count": 150,
   "metadata": {},
   "outputs": [
    {
     "data": {
      "image/png": "[encoded data removed]",
      "text/plain": [
       "<Figure size 1440x288 with 1 Axes>"
      ]
     },
     "metadata": {},
     "output_type": "display_data"
    }
   ],
   "source": [
    "plt.figure(figsize=(20,4))\n",
    "plt.scatter(x=features3,y=perm_importances3,s=200)\n",
    "plt.title('Permutation Importances',fontsize=30)\n",
    "plt.ylabel('Permutation Importance',fontsize=20)\n",
    "plt.xlabel(\"Feature\",fontsize=20)\n",
    "plt.tight_layout()\n",
    "plt.savefig('img/permimportances3.png')\n"
   ]
  },
  {
   "cell_type": "markdown",
   "metadata": {},
   "source": [
    "-----"
   ]
  },
  {
   "cell_type": "markdown",
   "metadata": {},
   "source": [
    "-----"
   ]
  },
  {
   "cell_type": "markdown",
   "metadata": {},
   "source": [
    "# H2O Random Forest Model"
   ]
  },
  {
   "cell_type": "code",
   "execution_count": 122,
   "metadata": {},
   "outputs": [],
   "source": [
    "neighborhoods_df = pd.read_pickle('data/neighborhoods.pkl')"
   ]
  },
  {
   "cell_type": "code",
   "execution_count": 123,
   "metadata": {},
   "outputs": [
    {
     "data": {
      "text/html": [
       "<div>\n",
       "<style scoped>\n",
       "    .dataframe tbody tr th:only-of-type {\n",
       "        vertical-align: middle;\n",
       "    }\n",
       "\n",
       "    .dataframe tbody tr th {\n",
       "        vertical-align: top;\n",
       "    }\n",
       "\n",
       "    .dataframe thead th {\n",
       "        text-align: right;\n",
       "    }\n",
       "</style>\n",
       "<table border=\"1\" class=\"dataframe\">\n",
       "  <thead>\n",
       "    <tr style=\"text-align: right;\">\n",
       "      <th></th>\n",
       "      <th>ZIP OR POSTAL CODE</th>\n",
       "      <th>PRICE</th>\n",
       "      <th>LOCATION</th>\n",
       "      <th>SQUARE FEET</th>\n",
       "      <th>LOT SIZE</th>\n",
       "      <th>YEAR BUILT</th>\n",
       "      <th>HOA/MONTH</th>\n",
       "      <th>LATITUDE</th>\n",
       "      <th>LONGITUDE</th>\n",
       "      <th>ROOMS</th>\n",
       "      <th>MONTH</th>\n",
       "      <th>YEAR</th>\n",
       "    </tr>\n",
       "  </thead>\n",
       "  <tbody>\n",
       "    <tr>\n",
       "      <th>1908</th>\n",
       "      <td>78253</td>\n",
       "      <td>336899</td>\n",
       "      <td>Fronterra At Westpointe - Bexa</td>\n",
       "      <td>2377.0</td>\n",
       "      <td>9147.0</td>\n",
       "      <td>2020.0</td>\n",
       "      <td>40.0</td>\n",
       "      <td>29.455971</td>\n",
       "      <td>-98.726593</td>\n",
       "      <td>7.0</td>\n",
       "      <td>10</td>\n",
       "      <td>2020</td>\n",
       "    </tr>\n",
       "    <tr>\n",
       "      <th>7587</th>\n",
       "      <td>78154</td>\n",
       "      <td>294000</td>\n",
       "      <td>Rhine Valley</td>\n",
       "      <td>2843.0</td>\n",
       "      <td>5662.0</td>\n",
       "      <td>2018.0</td>\n",
       "      <td>31.0</td>\n",
       "      <td>29.531783</td>\n",
       "      <td>-98.239924</td>\n",
       "      <td>9.0</td>\n",
       "      <td>10</td>\n",
       "      <td>2018</td>\n",
       "    </tr>\n",
       "  </tbody>\n",
       "</table>\n",
       "</div>"
      ],
      "text/plain": [
       "      ZIP OR POSTAL CODE   PRICE                        LOCATION  SQUARE FEET  \\\n",
       "1908               78253  336899  Fronterra At Westpointe - Bexa       2377.0   \n",
       "7587               78154  294000                    Rhine Valley       2843.0   \n",
       "\n",
       "      LOT SIZE  YEAR BUILT  HOA/MONTH   LATITUDE  LONGITUDE  ROOMS  MONTH  \\\n",
       "1908    9147.0      2020.0       40.0  29.455971 -98.726593    7.0     10   \n",
       "7587    5662.0      2018.0       31.0  29.531783 -98.239924    9.0     10   \n",
       "\n",
       "      YEAR  \n",
       "1908  2020  \n",
       "7587  2018  "
      ]
     },
     "execution_count": 123,
     "metadata": {},
     "output_type": "execute_result"
    }
   ],
   "source": [
    "neighborhoods_df.sample(2)"
   ]
  },
  {
   "cell_type": "code",
   "execution_count": 129,
   "metadata": {},
   "outputs": [
    {
     "name": "stdout",
     "output_type": "stream",
     "text": [
      "Parse progress: |█████████████████████████████████████████████████████████| 100%\n"
     ]
    },
    {
     "ename": "H2OResponseError",
     "evalue": "ModelBuilderErrorV3  (water.exceptions.H2OModelBuilderIllegalArgumentException):\n    timestamp = 1617372196318\n    error_url = '/3/ModelBuilders/drf'\n    msg = 'Illegal argument(s) for DRF model: DRF_model_python_1617328725089_1.  Details: ERRR on field: _calibrate_model: Model calibration is only currently supported for binomial models.'\n    dev_msg = 'Illegal argument(s) for DRF model: DRF_model_python_1617328725089_1.  Details: ERRR on field: _calibrate_model: Model calibration is only currently supported for binomial models.'\n    http_status = 412\n    values = {'messages': [{'_log_level': 5, '_field_name': '_keep_cross_validation_models', '_message': 'Only for cross-validation.'}, {'_log_level': 5, '_field_name': '_keep_cross_validation_predictions', '_message': 'Only for cross-validation.'}, {'_log_level': 5, '_field_name': '_keep_cross_validation_fold_assignment', '_message': 'Only for cross-validation.'}, {'_log_level': 5, '_field_name': '_fold_assignment', '_message': 'Only for cross-validation.'}, {'_log_level': 5, '_field_name': '_tweedie_power', '_message': 'Only for Tweedie Distribution.'}, {'_log_level': 5, '_field_name': '_tweedie_power', '_message': 'Tweedie power is only used for Tweedie distribution.'}, {'_log_level': 5, '_field_name': '_quantile_alpha', '_message': 'Quantile (alpha) is only used for Quantile regression.'}, {'_log_level': 5, '_field_name': '_max_after_balance_size', '_message': 'Balance classes is false, hide max_after_balance_size'}, {'_log_level': 5, '_field_name': '_max_after_balance_size', '_message': 'Only used with balanced classes'}, {'_log_level': 5, '_field_name': '_class_sampling_factors', '_message': 'Class sampling factors is only applicable if balancing classes.'}, {'_log_level': 1, '_field_name': '_calibrate_model', '_message': 'Model calibration is only currently supported for binomial models.'}], 'algo': 'DRF', 'parameters': {'_train': {'name': 'py_11_sid_b152', 'type': 'Key'}, '_valid': {'name': 'py_12_sid_b152', 'type': 'Key'}, '_nfolds': 0, '_keep_cross_validation_models': True, '_keep_cross_validation_predictions': False, '_keep_cross_validation_fold_assignment': False, '_parallelize_cross_validation': True, '_auto_rebalance': True, '_preprocessors': None, '_seed': -1, '_fold_assignment': 'AUTO', '_categorical_encoding': 'AUTO', '_max_categorical_levels': 10, '_distribution': 'multinomial', '_tweedie_power': 1.5, '_quantile_alpha': 0.5, '_huber_alpha': 0.9, '_ignored_columns': ['HOA/MONTH', 'C1', 'LONGITUDE', 'ZIP OR POSTAL CODE', 'LATITUDE'], '_ignore_const_cols': True, '_weights_column': None, '_offset_column': None, '_fold_column': None, '_check_constant_response': True, '_is_cv_model': False, '_cv_fold': -1, '_score_each_iteration': False, '_max_runtime_secs': 0.0, '_stopping_rounds': 0, '_stopping_metric': 'AUTO', '_stopping_tolerance': 0.001, '_response_column': 'PRICE', '_balance_classes': False, '_max_after_balance_size': 5.0, '_class_sampling_factors': None, '_max_confusion_matrix_size': 20, '_checkpoint': None, '_pretrained_autoencoder': None, '_custom_metric_func': None, '_custom_distribution_func': None, '_export_checkpoints_dir': None, '_gainslift_bins': -1, '_auc_type': 'AUTO', '_ntrees': 10, '_max_depth': 5, '_min_rows': 10.0, '_nbins': 20, '_nbins_cats': 1024, '_min_split_improvement': 1e-05, '_histogram_type': 'AUTO', '_r2_stopping': 1.7976931348623157e+308, '_nbins_top_level': 1024, '_build_tree_one_node': False, '_score_tree_interval': 0, '_initial_score_interval': 4000, '_score_interval': 4000, '_sample_rate': 0.632, '_sample_rate_per_class': None, '_calibrate_model': True, '_calibration_frame': {'name': 'py_12_sid_b152', 'type': 'Key'}, '_col_sample_rate_change_per_level': 1.0, '_col_sample_rate_per_tree': 1.0, '_parallel_main_model_building': False, '_binomial_double_trees': True, '_mtries': -1}, 'error_count': 2}\n    exception_msg = 'Illegal argument(s) for DRF model: DRF_model_python_1617328725089_1.  Details: ERRR on field: _calibrate_model: Model calibration is only currently supported for binomial models.'\n    stacktrace =\n        water.exceptions.H2OModelBuilderIllegalArgumentException: Illegal argument(s) for DRF model: DRF_model_python_1617328725089_1.  Details: ERRR on field: _calibrate_model: Model calibration is only currently supported for binomial models.\n        water.exceptions.H2OModelBuilderIllegalArgumentException.makeFromBuilder(H2OModelBuilderIllegalArgumentException.java:19)\n        hex.ModelBuilder.trainModelOnH2ONode(ModelBuilder.java:327)\n        water.api.ModelBuilderHandler.handle(ModelBuilderHandler.java:51)\n        water.api.ModelBuilderHandler.handle(ModelBuilderHandler.java:16)\n        water.api.RequestServer.serve(RequestServer.java:470)\n        water.api.RequestServer.doGeneric(RequestServer.java:301)\n        water.api.RequestServer.doPost(RequestServer.java:227)\n        javax.servlet.http.HttpServlet.service(HttpServlet.java:707)\n        javax.servlet.http.HttpServlet.service(HttpServlet.java:790)\n        org.eclipse.jetty.servlet.ServletHolder.handle(ServletHolder.java:865)\n        org.eclipse.jetty.servlet.ServletHandler.doHandle(ServletHandler.java:535)\n        org.eclipse.jetty.server.handler.ScopedHandler.nextHandle(ScopedHandler.java:255)\n        org.eclipse.jetty.server.handler.ContextHandler.doHandle(ContextHandler.java:1317)\n        org.eclipse.jetty.server.handler.ScopedHandler.nextScope(ScopedHandler.java:203)\n        org.eclipse.jetty.servlet.ServletHandler.doScope(ServletHandler.java:473)\n        org.eclipse.jetty.server.handler.ScopedHandler.nextScope(ScopedHandler.java:201)\n        org.eclipse.jetty.server.handler.ContextHandler.doScope(ContextHandler.java:1219)\n        org.eclipse.jetty.server.handler.ScopedHandler.handle(ScopedHandler.java:144)\n        org.eclipse.jetty.server.handler.HandlerCollection.handle(HandlerCollection.java:126)\n        org.eclipse.jetty.server.handler.HandlerWrapper.handle(HandlerWrapper.java:132)\n        water.webserver.jetty9.Jetty9ServerAdapter$LoginHandler.handle(Jetty9ServerAdapter.java:130)\n        org.eclipse.jetty.server.handler.HandlerCollection.handle(HandlerCollection.java:126)\n        org.eclipse.jetty.server.handler.HandlerWrapper.handle(HandlerWrapper.java:132)\n        org.eclipse.jetty.server.Server.handle(Server.java:531)\n        org.eclipse.jetty.server.HttpChannel.handle(HttpChannel.java:352)\n        org.eclipse.jetty.server.HttpConnection.onFillable(HttpConnection.java:260)\n        org.eclipse.jetty.io.AbstractConnection$ReadCallback.succeeded(AbstractConnection.java:281)\n        org.eclipse.jetty.io.FillInterest.fillable(FillInterest.java:102)\n        org.eclipse.jetty.io.ChannelEndPoint$2.run(ChannelEndPoint.java:118)\n        org.eclipse.jetty.util.thread.strategy.EatWhatYouKill.runTask(EatWhatYouKill.java:333)\n        org.eclipse.jetty.util.thread.strategy.EatWhatYouKill.doProduce(EatWhatYouKill.java:310)\n        org.eclipse.jetty.util.thread.strategy.EatWhatYouKill.tryProduce(EatWhatYouKill.java:168)\n        org.eclipse.jetty.util.thread.strategy.EatWhatYouKill.run(EatWhatYouKill.java:126)\n        org.eclipse.jetty.util.thread.ReservedThreadExecutor$ReservedThread.run(ReservedThreadExecutor.java:366)\n        org.eclipse.jetty.util.thread.QueuedThreadPool.runJob(QueuedThreadPool.java:762)\n        org.eclipse.jetty.util.thread.QueuedThreadPool$2.run(QueuedThreadPool.java:680)\n        java.base/java.lang.Thread.run(Thread.java:834)\n    parameters = {'__meta': {'schema_version': 3, 'schema_name': 'DRFParametersV3', 'schema_type': 'DRFParameters'}, 'model_id': None, 'training_frame': {'__meta': {'schema_version': 3, 'schema_name': 'FrameKeyV3', 'schema_type': 'Key<Frame>'}, 'name': 'py_11_sid_b152', 'type': 'Key<Frame>', 'URL': '/3/Frames/py_11_sid_b152'}, 'validation_frame': {'__meta': {'schema_version': 3, 'schema_name': 'FrameKeyV3', 'schema_type': 'Key<Frame>'}, 'name': 'py_12_sid_b152', 'type': 'Key<Frame>', 'URL': '/3/Frames/py_12_sid_b152'}, 'nfolds': 0, 'keep_cross_validation_models': True, 'keep_cross_validation_predictions': False, 'keep_cross_validation_fold_assignment': False, 'parallelize_cross_validation': True, 'distribution': 'multinomial', 'tweedie_power': 1.5, 'quantile_alpha': 0.5, 'huber_alpha': 0.9, 'response_column': {'__meta': {'schema_version': 3, 'schema_name': 'ColSpecifierV3', 'schema_type': 'VecSpecifier'}, 'column_name': 'PRICE', 'is_member_of_frames': None}, 'weights_column': None, 'offset_column': None, 'fold_column': None, 'fold_assignment': 'AUTO', 'categorical_encoding': 'AUTO', 'max_categorical_levels': 10, 'ignored_columns': ['HOA/MONTH', 'C1', 'LONGITUDE', 'ZIP OR POSTAL CODE', 'LATITUDE'], 'ignore_const_cols': True, 'score_each_iteration': False, 'checkpoint': None, 'stopping_rounds': 0, 'max_runtime_secs': 0.0, 'stopping_metric': 'AUTO', 'stopping_tolerance': 0.001, 'gainslift_bins': -1, 'custom_metric_func': None, 'custom_distribution_func': None, 'export_checkpoints_dir': None, 'auc_type': 'AUTO', 'balance_classes': False, 'class_sampling_factors': None, 'max_after_balance_size': 5.0, 'max_confusion_matrix_size': 20, 'ntrees': 10, 'max_depth': 5, 'min_rows': 10.0, 'nbins': 20, 'nbins_top_level': 1024, 'nbins_cats': 1024, 'r2_stopping': 1.7976931348623157e+308, 'seed': -1, 'build_tree_one_node': False, 'sample_rate_per_class': None, 'col_sample_rate_per_tree': 1.0, 'col_sample_rate_change_per_level': 1.0, 'score_tree_interval': 0, 'min_split_improvement': 1e-05, 'histogram_type': 'AUTO', 'calibrate_model': True, 'calibration_frame': {'__meta': {'schema_version': 3, 'schema_name': 'FrameKeyV3', 'schema_type': 'Key<Frame>'}, 'name': 'py_12_sid_b152', 'type': 'Key<Frame>', 'URL': '/3/Frames/py_12_sid_b152'}, 'check_constant_response': True, 'mtries': -1, 'binomial_double_trees': True, 'sample_rate': 0.632}\n    messages = [{'__meta': {'schema_version': 3, 'schema_name': 'ValidationMessageV3', 'schema_type': 'ValidationMessage'}, 'message_type': 'TRACE', 'field_name': 'keep_cross_validation_models', 'message': 'Only for cross-validation.'}, {'__meta': {'schema_version': 3, 'schema_name': 'ValidationMessageV3', 'schema_type': 'ValidationMessage'}, 'message_type': 'TRACE', 'field_name': 'keep_cross_validation_predictions', 'message': 'Only for cross-validation.'}, {'__meta': {'schema_version': 3, 'schema_name': 'ValidationMessageV3', 'schema_type': 'ValidationMessage'}, 'message_type': 'TRACE', 'field_name': 'keep_cross_validation_fold_assignment', 'message': 'Only for cross-validation.'}, {'__meta': {'schema_version': 3, 'schema_name': 'ValidationMessageV3', 'schema_type': 'ValidationMessage'}, 'message_type': 'TRACE', 'field_name': 'fold_assignment', 'message': 'Only for cross-validation.'}, {'__meta': {'schema_version': 3, 'schema_name': 'ValidationMessageV3', 'schema_type': 'ValidationMessage'}, 'message_type': 'TRACE', 'field_name': 'tweedie_power', 'message': 'Only for Tweedie Distribution.'}, {'__meta': {'schema_version': 3, 'schema_name': 'ValidationMessageV3', 'schema_type': 'ValidationMessage'}, 'message_type': 'TRACE', 'field_name': 'tweedie_power', 'message': 'Tweedie power is only used for Tweedie distribution.'}, {'__meta': {'schema_version': 3, 'schema_name': 'ValidationMessageV3', 'schema_type': 'ValidationMessage'}, 'message_type': 'TRACE', 'field_name': 'quantile_alpha', 'message': 'Quantile (alpha) is only used for Quantile regression.'}, {'__meta': {'schema_version': 3, 'schema_name': 'ValidationMessageV3', 'schema_type': 'ValidationMessage'}, 'message_type': 'TRACE', 'field_name': 'max_after_balance_size', 'message': 'Balance classes is false, hide max_after_balance_size'}, {'__meta': {'schema_version': 3, 'schema_name': 'ValidationMessageV3', 'schema_type': 'ValidationMessage'}, 'message_type': 'TRACE', 'field_name': 'max_after_balance_size', 'message': 'Only used with balanced classes'}, {'__meta': {'schema_version': 3, 'schema_name': 'ValidationMessageV3', 'schema_type': 'ValidationMessage'}, 'message_type': 'TRACE', 'field_name': 'class_sampling_factors', 'message': 'Class sampling factors is only applicable if balancing classes.'}, {'__meta': {'schema_version': 3, 'schema_name': 'ValidationMessageV3', 'schema_type': 'ValidationMessage'}, 'message_type': 'ERRR', 'field_name': 'calibrate_model', 'message': 'Model calibration is only currently supported for binomial models.'}]\n    error_count = 2\n",
     "output_type": "error",
     "traceback": [
      "\u001b[0;31m---------------------------------------------------------------------------\u001b[0m",
      "\u001b[0;31mH2OResponseError\u001b[0m                          Traceback (most recent call last)",
      "\u001b[0;32m<ipython-input-129-c3a6b1ad7152>\u001b[0m in \u001b[0;36m<module>\u001b[0;34m\u001b[0m\n\u001b[1;32m     18\u001b[0m                                     \u001b[0mcalibration_frame\u001b[0m\u001b[0;34m=\u001b[0m\u001b[0mtest\u001b[0m\u001b[0;34m,\u001b[0m\u001b[0;34m\u001b[0m\u001b[0;34m\u001b[0m\u001b[0m\n\u001b[1;32m     19\u001b[0m                                     binomial_double_trees=True)\n\u001b[0;32m---> 20\u001b[0;31m neighborhoods_drf.train(x=predictors,\n\u001b[0m\u001b[1;32m     21\u001b[0m                \u001b[0my\u001b[0m\u001b[0;34m=\u001b[0m\u001b[0mresponse\u001b[0m\u001b[0;34m,\u001b[0m\u001b[0;34m\u001b[0m\u001b[0;34m\u001b[0m\u001b[0m\n\u001b[1;32m     22\u001b[0m                \u001b[0mtraining_frame\u001b[0m\u001b[0;34m=\u001b[0m\u001b[0mtrain\u001b[0m\u001b[0;34m,\u001b[0m\u001b[0;34m\u001b[0m\u001b[0;34m\u001b[0m\u001b[0m\n",
      "\u001b[0;32m~/opt/anaconda3/lib/python3.8/site-packages/h2o/estimators/estimator_base.py\u001b[0m in \u001b[0;36mtrain\u001b[0;34m(self, x, y, training_frame, offset_column, fold_column, weights_column, validation_frame, max_runtime_secs, ignored_columns, model_id, verbose)\u001b[0m\n\u001b[1;32m    113\u001b[0m                                  \u001b[0mvalidation_frame\u001b[0m\u001b[0;34m=\u001b[0m\u001b[0mvalidation_frame\u001b[0m\u001b[0;34m,\u001b[0m \u001b[0mmax_runtime_secs\u001b[0m\u001b[0;34m=\u001b[0m\u001b[0mmax_runtime_secs\u001b[0m\u001b[0;34m,\u001b[0m\u001b[0;34m\u001b[0m\u001b[0;34m\u001b[0m\u001b[0m\n\u001b[1;32m    114\u001b[0m                                  ignored_columns=ignored_columns, model_id=model_id, verbose=verbose)\n\u001b[0;32m--> 115\u001b[0;31m         \u001b[0mself\u001b[0m\u001b[0;34m.\u001b[0m\u001b[0m_train\u001b[0m\u001b[0;34m(\u001b[0m\u001b[0mparms\u001b[0m\u001b[0;34m,\u001b[0m \u001b[0mverbose\u001b[0m\u001b[0;34m=\u001b[0m\u001b[0mverbose\u001b[0m\u001b[0;34m)\u001b[0m\u001b[0;34m\u001b[0m\u001b[0;34m\u001b[0m\u001b[0m\n\u001b[0m\u001b[1;32m    116\u001b[0m \u001b[0;34m\u001b[0m\u001b[0m\n\u001b[1;32m    117\u001b[0m     def train_segments(self, x=None, y=None, training_frame=None, offset_column=None, fold_column=None,\n",
      "\u001b[0;32m~/opt/anaconda3/lib/python3.8/site-packages/h2o/estimators/estimator_base.py\u001b[0m in \u001b[0;36m_train\u001b[0;34m(self, parms, verbose)\u001b[0m\n\u001b[1;32m    192\u001b[0m \u001b[0;34m\u001b[0m\u001b[0m\n\u001b[1;32m    193\u001b[0m         \u001b[0mrest_ver\u001b[0m \u001b[0;34m=\u001b[0m \u001b[0mself\u001b[0m\u001b[0;34m.\u001b[0m\u001b[0m_get_rest_version\u001b[0m\u001b[0;34m(\u001b[0m\u001b[0mparms\u001b[0m\u001b[0;34m)\u001b[0m\u001b[0;34m\u001b[0m\u001b[0;34m\u001b[0m\u001b[0m\n\u001b[0;32m--> 194\u001b[0;31m         \u001b[0mmodel_builder_json\u001b[0m \u001b[0;34m=\u001b[0m \u001b[0mh2o\u001b[0m\u001b[0;34m.\u001b[0m\u001b[0mapi\u001b[0m\u001b[0;34m(\u001b[0m\u001b[0;34m\"POST /%d/ModelBuilders/%s\"\u001b[0m \u001b[0;34m%\u001b[0m \u001b[0;34m(\u001b[0m\u001b[0mrest_ver\u001b[0m\u001b[0;34m,\u001b[0m \u001b[0mself\u001b[0m\u001b[0;34m.\u001b[0m\u001b[0malgo\u001b[0m\u001b[0;34m)\u001b[0m\u001b[0;34m,\u001b[0m \u001b[0mdata\u001b[0m\u001b[0;34m=\u001b[0m\u001b[0mparms\u001b[0m\u001b[0;34m)\u001b[0m\u001b[0;34m\u001b[0m\u001b[0;34m\u001b[0m\u001b[0m\n\u001b[0m\u001b[1;32m    195\u001b[0m         \u001b[0mjob\u001b[0m \u001b[0;34m=\u001b[0m \u001b[0mH2OJob\u001b[0m\u001b[0;34m(\u001b[0m\u001b[0mmodel_builder_json\u001b[0m\u001b[0;34m,\u001b[0m \u001b[0mjob_type\u001b[0m\u001b[0;34m=\u001b[0m\u001b[0;34m(\u001b[0m\u001b[0mself\u001b[0m\u001b[0;34m.\u001b[0m\u001b[0malgo\u001b[0m \u001b[0;34m+\u001b[0m \u001b[0;34m\" Model Build\"\u001b[0m\u001b[0;34m)\u001b[0m\u001b[0;34m)\u001b[0m\u001b[0;34m\u001b[0m\u001b[0;34m\u001b[0m\u001b[0m\n\u001b[1;32m    196\u001b[0m \u001b[0;34m\u001b[0m\u001b[0m\n",
      "\u001b[0;32m~/opt/anaconda3/lib/python3.8/site-packages/h2o/h2o.py\u001b[0m in \u001b[0;36mapi\u001b[0;34m(endpoint, data, json, filename, save_to)\u001b[0m\n\u001b[1;32m    105\u001b[0m     \u001b[0;31m# type checks are performed in H2OConnection class\u001b[0m\u001b[0;34m\u001b[0m\u001b[0;34m\u001b[0m\u001b[0;34m\u001b[0m\u001b[0m\n\u001b[1;32m    106\u001b[0m     \u001b[0m_check_connection\u001b[0m\u001b[0;34m(\u001b[0m\u001b[0;34m)\u001b[0m\u001b[0;34m\u001b[0m\u001b[0;34m\u001b[0m\u001b[0m\n\u001b[0;32m--> 107\u001b[0;31m     \u001b[0;32mreturn\u001b[0m \u001b[0mh2oconn\u001b[0m\u001b[0;34m.\u001b[0m\u001b[0mrequest\u001b[0m\u001b[0;34m(\u001b[0m\u001b[0mendpoint\u001b[0m\u001b[0;34m,\u001b[0m \u001b[0mdata\u001b[0m\u001b[0;34m=\u001b[0m\u001b[0mdata\u001b[0m\u001b[0;34m,\u001b[0m \u001b[0mjson\u001b[0m\u001b[0;34m=\u001b[0m\u001b[0mjson\u001b[0m\u001b[0;34m,\u001b[0m \u001b[0mfilename\u001b[0m\u001b[0;34m=\u001b[0m\u001b[0mfilename\u001b[0m\u001b[0;34m,\u001b[0m \u001b[0msave_to\u001b[0m\u001b[0;34m=\u001b[0m\u001b[0msave_to\u001b[0m\u001b[0;34m)\u001b[0m\u001b[0;34m\u001b[0m\u001b[0;34m\u001b[0m\u001b[0m\n\u001b[0m\u001b[1;32m    108\u001b[0m \u001b[0;34m\u001b[0m\u001b[0m\n\u001b[1;32m    109\u001b[0m \u001b[0;34m\u001b[0m\u001b[0m\n",
      "\u001b[0;32m~/opt/anaconda3/lib/python3.8/site-packages/h2o/backend/connection.py\u001b[0m in \u001b[0;36mrequest\u001b[0;34m(self, endpoint, data, json, filename, save_to)\u001b[0m\n\u001b[1;32m    476\u001b[0m                 \u001b[0msave_to\u001b[0m \u001b[0;34m=\u001b[0m \u001b[0msave_to\u001b[0m\u001b[0;34m(\u001b[0m\u001b[0mresp\u001b[0m\u001b[0;34m)\u001b[0m\u001b[0;34m\u001b[0m\u001b[0;34m\u001b[0m\u001b[0m\n\u001b[1;32m    477\u001b[0m             \u001b[0mself\u001b[0m\u001b[0;34m.\u001b[0m\u001b[0m_log_end_transaction\u001b[0m\u001b[0;34m(\u001b[0m\u001b[0mstart_time\u001b[0m\u001b[0;34m,\u001b[0m \u001b[0mresp\u001b[0m\u001b[0;34m)\u001b[0m\u001b[0;34m\u001b[0m\u001b[0;34m\u001b[0m\u001b[0m\n\u001b[0;32m--> 478\u001b[0;31m             \u001b[0;32mreturn\u001b[0m \u001b[0mself\u001b[0m\u001b[0;34m.\u001b[0m\u001b[0m_process_response\u001b[0m\u001b[0;34m(\u001b[0m\u001b[0mresp\u001b[0m\u001b[0;34m,\u001b[0m \u001b[0msave_to\u001b[0m\u001b[0;34m)\u001b[0m\u001b[0;34m\u001b[0m\u001b[0;34m\u001b[0m\u001b[0m\n\u001b[0m\u001b[1;32m    479\u001b[0m \u001b[0;34m\u001b[0m\u001b[0m\n\u001b[1;32m    480\u001b[0m         \u001b[0;32mexcept\u001b[0m \u001b[0;34m(\u001b[0m\u001b[0mrequests\u001b[0m\u001b[0;34m.\u001b[0m\u001b[0mexceptions\u001b[0m\u001b[0;34m.\u001b[0m\u001b[0mConnectionError\u001b[0m\u001b[0;34m,\u001b[0m \u001b[0mrequests\u001b[0m\u001b[0;34m.\u001b[0m\u001b[0mexceptions\u001b[0m\u001b[0;34m.\u001b[0m\u001b[0mHTTPError\u001b[0m\u001b[0;34m)\u001b[0m \u001b[0;32mas\u001b[0m \u001b[0me\u001b[0m\u001b[0;34m:\u001b[0m\u001b[0;34m\u001b[0m\u001b[0;34m\u001b[0m\u001b[0m\n",
      "\u001b[0;32m~/opt/anaconda3/lib/python3.8/site-packages/h2o/backend/connection.py\u001b[0m in \u001b[0;36m_process_response\u001b[0;34m(response, save_to)\u001b[0m\n\u001b[1;32m    822\u001b[0m         \u001b[0;31m# Client errors (400 = \"Bad Request\", 404 = \"Not Found\", 412 = \"Precondition Failed\")\u001b[0m\u001b[0;34m\u001b[0m\u001b[0;34m\u001b[0m\u001b[0;34m\u001b[0m\u001b[0m\n\u001b[1;32m    823\u001b[0m         \u001b[0;32mif\u001b[0m \u001b[0mstatus_code\u001b[0m \u001b[0;32min\u001b[0m \u001b[0;34m{\u001b[0m\u001b[0;36m400\u001b[0m\u001b[0;34m,\u001b[0m \u001b[0;36m404\u001b[0m\u001b[0;34m,\u001b[0m \u001b[0;36m412\u001b[0m\u001b[0;34m}\u001b[0m \u001b[0;32mand\u001b[0m \u001b[0misinstance\u001b[0m\u001b[0;34m(\u001b[0m\u001b[0mdata\u001b[0m\u001b[0;34m,\u001b[0m \u001b[0;34m(\u001b[0m\u001b[0mH2OErrorV3\u001b[0m\u001b[0;34m,\u001b[0m \u001b[0mH2OModelBuilderErrorV3\u001b[0m\u001b[0;34m)\u001b[0m\u001b[0;34m)\u001b[0m\u001b[0;34m:\u001b[0m\u001b[0;34m\u001b[0m\u001b[0;34m\u001b[0m\u001b[0m\n\u001b[0;32m--> 824\u001b[0;31m             \u001b[0;32mraise\u001b[0m \u001b[0mH2OResponseError\u001b[0m\u001b[0;34m(\u001b[0m\u001b[0mdata\u001b[0m\u001b[0;34m)\u001b[0m\u001b[0;34m\u001b[0m\u001b[0;34m\u001b[0m\u001b[0m\n\u001b[0m\u001b[1;32m    825\u001b[0m \u001b[0;34m\u001b[0m\u001b[0m\n\u001b[1;32m    826\u001b[0m         \u001b[0;31m# Server errors (notably 500 = \"Server Error\")\u001b[0m\u001b[0;34m\u001b[0m\u001b[0;34m\u001b[0m\u001b[0;34m\u001b[0m\u001b[0m\n",
      "\u001b[0;31mH2OResponseError\u001b[0m: ModelBuilderErrorV3  (water.exceptions.H2OModelBuilderIllegalArgumentException):\n    timestamp = 1617372196318\n    error_url = '/3/ModelBuilders/drf'\n    msg = 'Illegal argument(s) for DRF model: DRF_model_python_1617328725089_1.  Details: ERRR on field: _calibrate_model: Model calibration is only currently supported for binomial models.'\n    dev_msg = 'Illegal argument(s) for DRF model: DRF_model_python_1617328725089_1.  Details: ERRR on field: _calibrate_model: Model calibration is only currently supported for binomial models.'\n    http_status = 412\n    values = {'messages': [{'_log_level': 5, '_field_name': '_keep_cross_validation_models', '_message': 'Only for cross-validation.'}, {'_log_level': 5, '_field_name': '_keep_cross_validation_predictions', '_message': 'Only for cross-validation.'}, {'_log_level': 5, '_field_name': '_keep_cross_validation_fold_assignment', '_message': 'Only for cross-validation.'}, {'_log_level': 5, '_field_name': '_fold_assignment', '_message': 'Only for cross-validation.'}, {'_log_level': 5, '_field_name': '_tweedie_power', '_message': 'Only for Tweedie Distribution.'}, {'_log_level': 5, '_field_name': '_tweedie_power', '_message': 'Tweedie power is only used for Tweedie distribution.'}, {'_log_level': 5, '_field_name': '_quantile_alpha', '_message': 'Quantile (alpha) is only used for Quantile regression.'}, {'_log_level': 5, '_field_name': '_max_after_balance_size', '_message': 'Balance classes is false, hide max_after_balance_size'}, {'_log_level': 5, '_field_name': '_max_after_balance_size', '_message': 'Only used with balanced classes'}, {'_log_level': 5, '_field_name': '_class_sampling_factors', '_message': 'Class sampling factors is only applicable if balancing classes.'}, {'_log_level': 1, '_field_name': '_calibrate_model', '_message': 'Model calibration is only currently supported for binomial models.'}], 'algo': 'DRF', 'parameters': {'_train': {'name': 'py_11_sid_b152', 'type': 'Key'}, '_valid': {'name': 'py_12_sid_b152', 'type': 'Key'}, '_nfolds': 0, '_keep_cross_validation_models': True, '_keep_cross_validation_predictions': False, '_keep_cross_validation_fold_assignment': False, '_parallelize_cross_validation': True, '_auto_rebalance': True, '_preprocessors': None, '_seed': -1, '_fold_assignment': 'AUTO', '_categorical_encoding': 'AUTO', '_max_categorical_levels': 10, '_distribution': 'multinomial', '_tweedie_power': 1.5, '_quantile_alpha': 0.5, '_huber_alpha': 0.9, '_ignored_columns': ['HOA/MONTH', 'C1', 'LONGITUDE', 'ZIP OR POSTAL CODE', 'LATITUDE'], '_ignore_const_cols': True, '_weights_column': None, '_offset_column': None, '_fold_column': None, '_check_constant_response': True, '_is_cv_model': False, '_cv_fold': -1, '_score_each_iteration': False, '_max_runtime_secs': 0.0, '_stopping_rounds': 0, '_stopping_metric': 'AUTO', '_stopping_tolerance': 0.001, '_response_column': 'PRICE', '_balance_classes': False, '_max_after_balance_size': 5.0, '_class_sampling_factors': None, '_max_confusion_matrix_size': 20, '_checkpoint': None, '_pretrained_autoencoder': None, '_custom_metric_func': None, '_custom_distribution_func': None, '_export_checkpoints_dir': None, '_gainslift_bins': -1, '_auc_type': 'AUTO', '_ntrees': 10, '_max_depth': 5, '_min_rows': 10.0, '_nbins': 20, '_nbins_cats': 1024, '_min_split_improvement': 1e-05, '_histogram_type': 'AUTO', '_r2_stopping': 1.7976931348623157e+308, '_nbins_top_level': 1024, '_build_tree_one_node': False, '_score_tree_interval': 0, '_initial_score_interval': 4000, '_score_interval': 4000, '_sample_rate': 0.632, '_sample_rate_per_class': None, '_calibrate_model': True, '_calibration_frame': {'name': 'py_12_sid_b152', 'type': 'Key'}, '_col_sample_rate_change_per_level': 1.0, '_col_sample_rate_per_tree': 1.0, '_parallel_main_model_building': False, '_binomial_double_trees': True, '_mtries': -1}, 'error_count': 2}\n    exception_msg = 'Illegal argument(s) for DRF model: DRF_model_python_1617328725089_1.  Details: ERRR on field: _calibrate_model: Model calibration is only currently supported for binomial models.'\n    stacktrace =\n        water.exceptions.H2OModelBuilderIllegalArgumentException: Illegal argument(s) for DRF model: DRF_model_python_1617328725089_1.  Details: ERRR on field: _calibrate_model: Model calibration is only currently supported for binomial models.\n        water.exceptions.H2OModelBuilderIllegalArgumentException.makeFromBuilder(H2OModelBuilderIllegalArgumentException.java:19)\n        hex.ModelBuilder.trainModelOnH2ONode(ModelBuilder.java:327)\n        water.api.ModelBuilderHandler.handle(ModelBuilderHandler.java:51)\n        water.api.ModelBuilderHandler.handle(ModelBuilderHandler.java:16)\n        water.api.RequestServer.serve(RequestServer.java:470)\n        water.api.RequestServer.doGeneric(RequestServer.java:301)\n        water.api.RequestServer.doPost(RequestServer.java:227)\n        javax.servlet.http.HttpServlet.service(HttpServlet.java:707)\n        javax.servlet.http.HttpServlet.service(HttpServlet.java:790)\n        org.eclipse.jetty.servlet.ServletHolder.handle(ServletHolder.java:865)\n        org.eclipse.jetty.servlet.ServletHandler.doHandle(ServletHandler.java:535)\n        org.eclipse.jetty.server.handler.ScopedHandler.nextHandle(ScopedHandler.java:255)\n        org.eclipse.jetty.server.handler.ContextHandler.doHandle(ContextHandler.java:1317)\n        org.eclipse.jetty.server.handler.ScopedHandler.nextScope(ScopedHandler.java:203)\n        org.eclipse.jetty.servlet.ServletHandler.doScope(ServletHandler.java:473)\n        org.eclipse.jetty.server.handler.ScopedHandler.nextScope(ScopedHandler.java:201)\n        org.eclipse.jetty.server.handler.ContextHandler.doScope(ContextHandler.java:1219)\n        org.eclipse.jetty.server.handler.ScopedHandler.handle(ScopedHandler.java:144)\n        org.eclipse.jetty.server.handler.HandlerCollection.handle(HandlerCollection.java:126)\n        org.eclipse.jetty.server.handler.HandlerWrapper.handle(HandlerWrapper.java:132)\n        water.webserver.jetty9.Jetty9ServerAdapter$LoginHandler.handle(Jetty9ServerAdapter.java:130)\n        org.eclipse.jetty.server.handler.HandlerCollection.handle(HandlerCollection.java:126)\n        org.eclipse.jetty.server.handler.HandlerWrapper.handle(HandlerWrapper.java:132)\n        org.eclipse.jetty.server.Server.handle(Server.java:531)\n        org.eclipse.jetty.server.HttpChannel.handle(HttpChannel.java:352)\n        org.eclipse.jetty.server.HttpConnection.onFillable(HttpConnection.java:260)\n        org.eclipse.jetty.io.AbstractConnection$ReadCallback.succeeded(AbstractConnection.java:281)\n        org.eclipse.jetty.io.FillInterest.fillable(FillInterest.java:102)\n        org.eclipse.jetty.io.ChannelEndPoint$2.run(ChannelEndPoint.java:118)\n        org.eclipse.jetty.util.thread.strategy.EatWhatYouKill.runTask(EatWhatYouKill.java:333)\n        org.eclipse.jetty.util.thread.strategy.EatWhatYouKill.doProduce(EatWhatYouKill.java:310)\n        org.eclipse.jetty.util.thread.strategy.EatWhatYouKill.tryProduce(EatWhatYouKill.java:168)\n        org.eclipse.jetty.util.thread.strategy.EatWhatYouKill.run(EatWhatYouKill.java:126)\n        org.eclipse.jetty.util.thread.ReservedThreadExecutor$ReservedThread.run(ReservedThreadExecutor.java:366)\n        org.eclipse.jetty.util.thread.QueuedThreadPool.runJob(QueuedThreadPool.java:762)\n        org.eclipse.jetty.util.thread.QueuedThreadPool$2.run(QueuedThreadPool.java:680)\n        java.base/java.lang.Thread.run(Thread.java:834)\n    parameters = {'__meta': {'schema_version': 3, 'schema_name': 'DRFParametersV3', 'schema_type': 'DRFParameters'}, 'model_id': None, 'training_frame': {'__meta': {'schema_version': 3, 'schema_name': 'FrameKeyV3', 'schema_type': 'Key<Frame>'}, 'name': 'py_11_sid_b152', 'type': 'Key<Frame>', 'URL': '/3/Frames/py_11_sid_b152'}, 'validation_frame': {'__meta': {'schema_version': 3, 'schema_name': 'FrameKeyV3', 'schema_type': 'Key<Frame>'}, 'name': 'py_12_sid_b152', 'type': 'Key<Frame>', 'URL': '/3/Frames/py_12_sid_b152'}, 'nfolds': 0, 'keep_cross_validation_models': True, 'keep_cross_validation_predictions': False, 'keep_cross_validation_fold_assignment': False, 'parallelize_cross_validation': True, 'distribution': 'multinomial', 'tweedie_power': 1.5, 'quantile_alpha': 0.5, 'huber_alpha': 0.9, 'response_column': {'__meta': {'schema_version': 3, 'schema_name': 'ColSpecifierV3', 'schema_type': 'VecSpecifier'}, 'column_name': 'PRICE', 'is_member_of_frames': None}, 'weights_column': None, 'offset_column': None, 'fold_column': None, 'fold_assignment': 'AUTO', 'categorical_encoding': 'AUTO', 'max_categorical_levels': 10, 'ignored_columns': ['HOA/MONTH', 'C1', 'LONGITUDE', 'ZIP OR POSTAL CODE', 'LATITUDE'], 'ignore_const_cols': True, 'score_each_iteration': False, 'checkpoint': None, 'stopping_rounds': 0, 'max_runtime_secs': 0.0, 'stopping_metric': 'AUTO', 'stopping_tolerance': 0.001, 'gainslift_bins': -1, 'custom_metric_func': None, 'custom_distribution_func': None, 'export_checkpoints_dir': None, 'auc_type': 'AUTO', 'balance_classes': False, 'class_sampling_factors': None, 'max_after_balance_size': 5.0, 'max_confusion_matrix_size': 20, 'ntrees': 10, 'max_depth': 5, 'min_rows': 10.0, 'nbins': 20, 'nbins_top_level': 1024, 'nbins_cats': 1024, 'r2_stopping': 1.7976931348623157e+308, 'seed': -1, 'build_tree_one_node': False, 'sample_rate_per_class': None, 'col_sample_rate_per_tree': 1.0, 'col_sample_rate_change_per_level': 1.0, 'score_tree_interval': 0, 'min_split_improvement': 1e-05, 'histogram_type': 'AUTO', 'calibrate_model': True, 'calibration_frame': {'__meta': {'schema_version': 3, 'schema_name': 'FrameKeyV3', 'schema_type': 'Key<Frame>'}, 'name': 'py_12_sid_b152', 'type': 'Key<Frame>', 'URL': '/3/Frames/py_12_sid_b152'}, 'check_constant_response': True, 'mtries': -1, 'binomial_double_trees': True, 'sample_rate': 0.632}\n    messages = [{'__meta': {'schema_version': 3, 'schema_name': 'ValidationMessageV3', 'schema_type': 'ValidationMessage'}, 'message_type': 'TRACE', 'field_name': 'keep_cross_validation_models', 'message': 'Only for cross-validation.'}, {'__meta': {'schema_version': 3, 'schema_name': 'ValidationMessageV3', 'schema_type': 'ValidationMessage'}, 'message_type': 'TRACE', 'field_name': 'keep_cross_validation_predictions', 'message': 'Only for cross-validation.'}, {'__meta': {'schema_version': 3, 'schema_name': 'ValidationMessageV3', 'schema_type': 'ValidationMessage'}, 'message_type': 'TRACE', 'field_name': 'keep_cross_validation_fold_assignment', 'message': 'Only for cross-validation.'}, {'__meta': {'schema_version': 3, 'schema_name': 'ValidationMessageV3', 'schema_type': 'ValidationMessage'}, 'message_type': 'TRACE', 'field_name': 'fold_assignment', 'message': 'Only for cross-validation.'}, {'__meta': {'schema_version': 3, 'schema_name': 'ValidationMessageV3', 'schema_type': 'ValidationMessage'}, 'message_type': 'TRACE', 'field_name': 'tweedie_power', 'message': 'Only for Tweedie Distribution.'}, {'__meta': {'schema_version': 3, 'schema_name': 'ValidationMessageV3', 'schema_type': 'ValidationMessage'}, 'message_type': 'TRACE', 'field_name': 'tweedie_power', 'message': 'Tweedie power is only used for Tweedie distribution.'}, {'__meta': {'schema_version': 3, 'schema_name': 'ValidationMessageV3', 'schema_type': 'ValidationMessage'}, 'message_type': 'TRACE', 'field_name': 'quantile_alpha', 'message': 'Quantile (alpha) is only used for Quantile regression.'}, {'__meta': {'schema_version': 3, 'schema_name': 'ValidationMessageV3', 'schema_type': 'ValidationMessage'}, 'message_type': 'TRACE', 'field_name': 'max_after_balance_size', 'message': 'Balance classes is false, hide max_after_balance_size'}, {'__meta': {'schema_version': 3, 'schema_name': 'ValidationMessageV3', 'schema_type': 'ValidationMessage'}, 'message_type': 'TRACE', 'field_name': 'max_after_balance_size', 'message': 'Only used with balanced classes'}, {'__meta': {'schema_version': 3, 'schema_name': 'ValidationMessageV3', 'schema_type': 'ValidationMessage'}, 'message_type': 'TRACE', 'field_name': 'class_sampling_factors', 'message': 'Class sampling factors is only applicable if balancing classes.'}, {'__meta': {'schema_version': 3, 'schema_name': 'ValidationMessageV3', 'schema_type': 'ValidationMessage'}, 'message_type': 'ERRR', 'field_name': 'calibrate_model', 'message': 'Model calibration is only currently supported for binomial models.'}]\n    error_count = 2\n"
     ]
    }
   ],
   "source": [
    "# Import dataset into H2O:\n",
    "neighborhoods = h2o.import_file('data/neighborhoods/neighborhoods.csv')\n",
    "\n",
    "# Set the predictors and response;\n",
    "# set the response as a factor:\n",
    "neighborhoods[\"PRICE\"] = neighborhoods[\"PRICE\"].asfactor()\n",
    "predictors = [\"LOCATION\",\"SQUARE FEET\",\"LOT SIZE\",\"YEAR BUILT\",\"ROOMS\",\"MONTH\",\"YEAR\"]\n",
    "response = \"PRICE\"\n",
    "\n",
    "# Split the dataset into a train and valid set:\n",
    "train, test = neighborhoods.split_frame(ratios=[.8])\n",
    "\n",
    "# Build and train the model:\n",
    "neighborhoods_drf = H2ORandomForestEstimator(ntrees=10,\n",
    "                                    max_depth=5,\n",
    "                                    min_rows=10,\n",
    "                                    calibrate_model=True,\n",
    "                                    calibration_frame=test,\n",
    "                                    binomial_double_trees=True)\n",
    "neighborhoods_drf.train(x=predictors,\n",
    "               y=response,\n",
    "               training_frame=train,\n",
    "               validation_frame=test)\n",
    "\n",
    "# Eval performance:\n",
    "perf = neighborhoods_drf.model_performance()\n",
    "\n",
    "# Generate predictions on a validation set (if necessary):\n",
    "pred = neighborhoods_drf.predict(test)"
   ]
  },
  {
   "cell_type": "code",
   "execution_count": null,
   "metadata": {},
   "outputs": [],
   "source": []
  },
  {
   "cell_type": "code",
   "execution_count": null,
   "metadata": {},
   "outputs": [],
   "source": []
  }
 ],
 "metadata": {
  "kernelspec": {
   "display_name": "Python 3",
   "language": "python",
   "name": "python3"
  },
  "language_info": {
   "codemirror_mode": {
    "name": "ipython",
    "version": 3
   },
   "file_extension": ".py",
   "mimetype": "text/x-python",
   "name": "python",
   "nbconvert_exporter": "python",
   "pygments_lexer": "ipython3",
   "version": "3.8.5"
  }
 },
 "nbformat": 4,
 "nbformat_minor": 4
}
