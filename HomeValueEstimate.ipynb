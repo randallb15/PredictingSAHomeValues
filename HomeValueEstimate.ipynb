{
 "cells": [
  {
   "cell_type": "markdown",
   "metadata": {},
   "source": [
    "# Predicting Home Sale Price"
   ]
  },
  {
   "cell_type": "markdown",
   "metadata": {},
   "source": [
    "This will attempt to be similar to the Zestimate used on Zillow, the Redfin estimate used on Redfin, or any of the valuations provided by Collateral Analytics, CoreLogic, or Quantarium on Realtor.com.\n",
    "\n",
    "I will create a regression model and use it to predict valuation and compare to the other valuations on currently listed homes."
   ]
  },
  {
   "cell_type": "code",
   "execution_count": 116,
   "metadata": {},
   "outputs": [],
   "source": [
    "%run src/imports.py"
   ]
  },
  {
   "cell_type": "code",
   "execution_count": 2,
   "metadata": {},
   "outputs": [],
   "source": [
    "sns.set(rc={'figure.figsize':(16,4)})"
   ]
  },
  {
   "cell_type": "code",
   "execution_count": 64,
   "metadata": {},
   "outputs": [],
   "source": [
    "neighborhoods_cleaned = pd.read_pickle('data/neighborhoods_cleaned.pkl')\n",
    "neighborhoods_cleaned.reset_index(inplace=True)\n",
    "neighborhoods_cleaned.drop(['index','DAYS ON MARKET','PROPERTY TYPE','ADDRESS','CITY','STATE OR PROVINCE'],axis=1,inplace=True)\n",
    "#neighborhoods_cleaned = neighborhoods_cleaned.merge(pd.get_dummies(neighborhoods_cleaned['LOCATION'],drop_first=True), how='outer',left_index=True,right_index=True)\n",
    "neighborhoods_cleaned.drop(['LOCATION'],axis=1,inplace=True)\n",
    "neighborhoods_cleaned['SOLD DATE'] = pd.to_datetime(neighborhoods_cleaned['SOLD DATE'])\n",
    "neighborhoods_cleaned['MONTH'] = pd.DatetimeIndex(neighborhoods_cleaned['SOLD DATE']).month\n",
    "neighborhoods_cleaned['YEAR'] = pd.DatetimeIndex(neighborhoods_cleaned['SOLD DATE']).year\n",
    "neighborhoods_cleaned.drop(['SOLD DATE'],axis=1,inplace=True)"
   ]
  },
  {
   "cell_type": "code",
   "execution_count": 65,
   "metadata": {},
   "outputs": [
    {
     "data": {
      "text/html": [
       "<div>\n",
       "<style scoped>\n",
       "    .dataframe tbody tr th:only-of-type {\n",
       "        vertical-align: middle;\n",
       "    }\n",
       "\n",
       "    .dataframe tbody tr th {\n",
       "        vertical-align: top;\n",
       "    }\n",
       "\n",
       "    .dataframe thead th {\n",
       "        text-align: right;\n",
       "    }\n",
       "</style>\n",
       "<table border=\"1\" class=\"dataframe\">\n",
       "  <thead>\n",
       "    <tr style=\"text-align: right;\">\n",
       "      <th></th>\n",
       "      <th>ZIP OR POSTAL CODE</th>\n",
       "      <th>PRICE</th>\n",
       "      <th>LOT SIZE</th>\n",
       "      <th>YEAR BUILT</th>\n",
       "      <th>$/SQUARE FEET</th>\n",
       "      <th>HOA/MONTH</th>\n",
       "      <th>LATITUDE</th>\n",
       "      <th>LONGITUDE</th>\n",
       "      <th>ROOMS PER SQFT * 1000</th>\n",
       "      <th>MONTH</th>\n",
       "      <th>YEAR</th>\n",
       "    </tr>\n",
       "  </thead>\n",
       "  <tbody>\n",
       "    <tr>\n",
       "      <th>0</th>\n",
       "      <td>78257</td>\n",
       "      <td>345000</td>\n",
       "      <td>5662.0</td>\n",
       "      <td>2005.0</td>\n",
       "      <td>173.0</td>\n",
       "      <td>230.0</td>\n",
       "      <td>29.647801</td>\n",
       "      <td>-98.614186</td>\n",
       "      <td>2.011061</td>\n",
       "      <td>9</td>\n",
       "      <td>2020</td>\n",
       "    </tr>\n",
       "    <tr>\n",
       "      <th>1</th>\n",
       "      <td>78256</td>\n",
       "      <td>337500</td>\n",
       "      <td>9583.0</td>\n",
       "      <td>2004.0</td>\n",
       "      <td>156.0</td>\n",
       "      <td>54.0</td>\n",
       "      <td>29.650304</td>\n",
       "      <td>-98.629082</td>\n",
       "      <td>2.770083</td>\n",
       "      <td>6</td>\n",
       "      <td>2020</td>\n",
       "    </tr>\n",
       "    <tr>\n",
       "      <th>2</th>\n",
       "      <td>78256</td>\n",
       "      <td>375500</td>\n",
       "      <td>6605.0</td>\n",
       "      <td>2004.0</td>\n",
       "      <td>126.0</td>\n",
       "      <td>54.0</td>\n",
       "      <td>29.651842</td>\n",
       "      <td>-98.630650</td>\n",
       "      <td>2.189289</td>\n",
       "      <td>3</td>\n",
       "      <td>2021</td>\n",
       "    </tr>\n",
       "    <tr>\n",
       "      <th>3</th>\n",
       "      <td>78255</td>\n",
       "      <td>462000</td>\n",
       "      <td>9147.0</td>\n",
       "      <td>2014.0</td>\n",
       "      <td>170.0</td>\n",
       "      <td>95.0</td>\n",
       "      <td>29.617650</td>\n",
       "      <td>-98.643430</td>\n",
       "      <td>2.577320</td>\n",
       "      <td>10</td>\n",
       "      <td>2018</td>\n",
       "    </tr>\n",
       "    <tr>\n",
       "      <th>4</th>\n",
       "      <td>78256</td>\n",
       "      <td>624000</td>\n",
       "      <td>75794.0</td>\n",
       "      <td>2000.0</td>\n",
       "      <td>207.0</td>\n",
       "      <td>25.0</td>\n",
       "      <td>29.620646</td>\n",
       "      <td>-98.622295</td>\n",
       "      <td>1.826029</td>\n",
       "      <td>2</td>\n",
       "      <td>2021</td>\n",
       "    </tr>\n",
       "    <tr>\n",
       "      <th>...</th>\n",
       "      <td>...</td>\n",
       "      <td>...</td>\n",
       "      <td>...</td>\n",
       "      <td>...</td>\n",
       "      <td>...</td>\n",
       "      <td>...</td>\n",
       "      <td>...</td>\n",
       "      <td>...</td>\n",
       "      <td>...</td>\n",
       "      <td>...</td>\n",
       "      <td>...</td>\n",
       "    </tr>\n",
       "    <tr>\n",
       "      <th>20007</th>\n",
       "      <td>78222</td>\n",
       "      <td>153000</td>\n",
       "      <td>6969.0</td>\n",
       "      <td>1983.0</td>\n",
       "      <td>97.0</td>\n",
       "      <td>NaN</td>\n",
       "      <td>29.383410</td>\n",
       "      <td>-98.376520</td>\n",
       "      <td>3.170577</td>\n",
       "      <td>9</td>\n",
       "      <td>2019</td>\n",
       "    </tr>\n",
       "    <tr>\n",
       "      <th>20008</th>\n",
       "      <td>78222</td>\n",
       "      <td>189900</td>\n",
       "      <td>4791.0</td>\n",
       "      <td>2018.0</td>\n",
       "      <td>112.0</td>\n",
       "      <td>25.0</td>\n",
       "      <td>29.386700</td>\n",
       "      <td>-98.379900</td>\n",
       "      <td>3.523194</td>\n",
       "      <td>7</td>\n",
       "      <td>2018</td>\n",
       "    </tr>\n",
       "    <tr>\n",
       "      <th>20009</th>\n",
       "      <td>78222</td>\n",
       "      <td>128000</td>\n",
       "      <td>5662.0</td>\n",
       "      <td>1985.0</td>\n",
       "      <td>116.0</td>\n",
       "      <td>NaN</td>\n",
       "      <td>29.383092</td>\n",
       "      <td>-98.376562</td>\n",
       "      <td>4.537205</td>\n",
       "      <td>3</td>\n",
       "      <td>2019</td>\n",
       "    </tr>\n",
       "    <tr>\n",
       "      <th>20010</th>\n",
       "      <td>78222</td>\n",
       "      <td>196499</td>\n",
       "      <td>5662.0</td>\n",
       "      <td>2014.0</td>\n",
       "      <td>85.0</td>\n",
       "      <td>6.0</td>\n",
       "      <td>29.379346</td>\n",
       "      <td>-98.370269</td>\n",
       "      <td>3.012048</td>\n",
       "      <td>3</td>\n",
       "      <td>2019</td>\n",
       "    </tr>\n",
       "    <tr>\n",
       "      <th>20011</th>\n",
       "      <td>78222</td>\n",
       "      <td>170000</td>\n",
       "      <td>5227.0</td>\n",
       "      <td>2006.0</td>\n",
       "      <td>56.0</td>\n",
       "      <td>NaN</td>\n",
       "      <td>29.381472</td>\n",
       "      <td>-98.373694</td>\n",
       "      <td>2.132546</td>\n",
       "      <td>10</td>\n",
       "      <td>2019</td>\n",
       "    </tr>\n",
       "  </tbody>\n",
       "</table>\n",
       "<p>20012 rows × 11 columns</p>\n",
       "</div>"
      ],
      "text/plain": [
       "       ZIP OR POSTAL CODE   PRICE  LOT SIZE  YEAR BUILT  $/SQUARE FEET  \\\n",
       "0                   78257  345000    5662.0      2005.0          173.0   \n",
       "1                   78256  337500    9583.0      2004.0          156.0   \n",
       "2                   78256  375500    6605.0      2004.0          126.0   \n",
       "3                   78255  462000    9147.0      2014.0          170.0   \n",
       "4                   78256  624000   75794.0      2000.0          207.0   \n",
       "...                   ...     ...       ...         ...            ...   \n",
       "20007               78222  153000    6969.0      1983.0           97.0   \n",
       "20008               78222  189900    4791.0      2018.0          112.0   \n",
       "20009               78222  128000    5662.0      1985.0          116.0   \n",
       "20010               78222  196499    5662.0      2014.0           85.0   \n",
       "20011               78222  170000    5227.0      2006.0           56.0   \n",
       "\n",
       "       HOA/MONTH   LATITUDE  LONGITUDE  ROOMS PER SQFT * 1000  MONTH  YEAR  \n",
       "0          230.0  29.647801 -98.614186               2.011061      9  2020  \n",
       "1           54.0  29.650304 -98.629082               2.770083      6  2020  \n",
       "2           54.0  29.651842 -98.630650               2.189289      3  2021  \n",
       "3           95.0  29.617650 -98.643430               2.577320     10  2018  \n",
       "4           25.0  29.620646 -98.622295               1.826029      2  2021  \n",
       "...          ...        ...        ...                    ...    ...   ...  \n",
       "20007        NaN  29.383410 -98.376520               3.170577      9  2019  \n",
       "20008       25.0  29.386700 -98.379900               3.523194      7  2018  \n",
       "20009        NaN  29.383092 -98.376562               4.537205      3  2019  \n",
       "20010        6.0  29.379346 -98.370269               3.012048      3  2019  \n",
       "20011        NaN  29.381472 -98.373694               2.132546     10  2019  \n",
       "\n",
       "[20012 rows x 11 columns]"
      ]
     },
     "execution_count": 65,
     "metadata": {},
     "output_type": "execute_result"
    }
   ],
   "source": [
    "neighborhoods_cleaned"
   ]
  },
  {
   "cell_type": "code",
   "execution_count": 66,
   "metadata": {},
   "outputs": [],
   "source": [
    "neighborhoods_cleaned.dropna(inplace=True)"
   ]
  },
  {
   "cell_type": "code",
   "execution_count": 67,
   "metadata": {},
   "outputs": [],
   "source": [
    "y = neighborhoods_cleaned['PRICE'].values\n",
    "X = neighborhoods_cleaned.drop('PRICE',axis=1).values"
   ]
  },
  {
   "cell_type": "code",
   "execution_count": 68,
   "metadata": {},
   "outputs": [
    {
     "data": {
      "text/html": [
       "<div>\n",
       "<style scoped>\n",
       "    .dataframe tbody tr th:only-of-type {\n",
       "        vertical-align: middle;\n",
       "    }\n",
       "\n",
       "    .dataframe tbody tr th {\n",
       "        vertical-align: top;\n",
       "    }\n",
       "\n",
       "    .dataframe thead th {\n",
       "        text-align: right;\n",
       "    }\n",
       "</style>\n",
       "<table border=\"1\" class=\"dataframe\">\n",
       "  <thead>\n",
       "    <tr style=\"text-align: right;\">\n",
       "      <th></th>\n",
       "      <th>ZIP OR POSTAL CODE</th>\n",
       "      <th>PRICE</th>\n",
       "      <th>LOT SIZE</th>\n",
       "      <th>YEAR BUILT</th>\n",
       "      <th>$/SQUARE FEET</th>\n",
       "      <th>HOA/MONTH</th>\n",
       "      <th>LATITUDE</th>\n",
       "      <th>LONGITUDE</th>\n",
       "      <th>ROOMS PER SQFT * 1000</th>\n",
       "      <th>MONTH</th>\n",
       "      <th>YEAR</th>\n",
       "    </tr>\n",
       "  </thead>\n",
       "  <tbody>\n",
       "    <tr>\n",
       "      <th>0</th>\n",
       "      <td>78257</td>\n",
       "      <td>345000</td>\n",
       "      <td>5662.0</td>\n",
       "      <td>2005.0</td>\n",
       "      <td>173.0</td>\n",
       "      <td>230.0</td>\n",
       "      <td>29.647801</td>\n",
       "      <td>-98.614186</td>\n",
       "      <td>2.011061</td>\n",
       "      <td>9</td>\n",
       "      <td>2020</td>\n",
       "    </tr>\n",
       "    <tr>\n",
       "      <th>1</th>\n",
       "      <td>78256</td>\n",
       "      <td>337500</td>\n",
       "      <td>9583.0</td>\n",
       "      <td>2004.0</td>\n",
       "      <td>156.0</td>\n",
       "      <td>54.0</td>\n",
       "      <td>29.650304</td>\n",
       "      <td>-98.629082</td>\n",
       "      <td>2.770083</td>\n",
       "      <td>6</td>\n",
       "      <td>2020</td>\n",
       "    </tr>\n",
       "    <tr>\n",
       "      <th>2</th>\n",
       "      <td>78256</td>\n",
       "      <td>375500</td>\n",
       "      <td>6605.0</td>\n",
       "      <td>2004.0</td>\n",
       "      <td>126.0</td>\n",
       "      <td>54.0</td>\n",
       "      <td>29.651842</td>\n",
       "      <td>-98.630650</td>\n",
       "      <td>2.189289</td>\n",
       "      <td>3</td>\n",
       "      <td>2021</td>\n",
       "    </tr>\n",
       "    <tr>\n",
       "      <th>3</th>\n",
       "      <td>78255</td>\n",
       "      <td>462000</td>\n",
       "      <td>9147.0</td>\n",
       "      <td>2014.0</td>\n",
       "      <td>170.0</td>\n",
       "      <td>95.0</td>\n",
       "      <td>29.617650</td>\n",
       "      <td>-98.643430</td>\n",
       "      <td>2.577320</td>\n",
       "      <td>10</td>\n",
       "      <td>2018</td>\n",
       "    </tr>\n",
       "    <tr>\n",
       "      <th>4</th>\n",
       "      <td>78256</td>\n",
       "      <td>624000</td>\n",
       "      <td>75794.0</td>\n",
       "      <td>2000.0</td>\n",
       "      <td>207.0</td>\n",
       "      <td>25.0</td>\n",
       "      <td>29.620646</td>\n",
       "      <td>-98.622295</td>\n",
       "      <td>1.826029</td>\n",
       "      <td>2</td>\n",
       "      <td>2021</td>\n",
       "    </tr>\n",
       "    <tr>\n",
       "      <th>...</th>\n",
       "      <td>...</td>\n",
       "      <td>...</td>\n",
       "      <td>...</td>\n",
       "      <td>...</td>\n",
       "      <td>...</td>\n",
       "      <td>...</td>\n",
       "      <td>...</td>\n",
       "      <td>...</td>\n",
       "      <td>...</td>\n",
       "      <td>...</td>\n",
       "      <td>...</td>\n",
       "    </tr>\n",
       "    <tr>\n",
       "      <th>20002</th>\n",
       "      <td>78222</td>\n",
       "      <td>137000</td>\n",
       "      <td>5227.0</td>\n",
       "      <td>2005.0</td>\n",
       "      <td>49.0</td>\n",
       "      <td>6.0</td>\n",
       "      <td>29.379318</td>\n",
       "      <td>-98.373976</td>\n",
       "      <td>2.163722</td>\n",
       "      <td>6</td>\n",
       "      <td>2018</td>\n",
       "    </tr>\n",
       "    <tr>\n",
       "      <th>20003</th>\n",
       "      <td>78222</td>\n",
       "      <td>165000</td>\n",
       "      <td>8276.0</td>\n",
       "      <td>2014.0</td>\n",
       "      <td>79.0</td>\n",
       "      <td>7.0</td>\n",
       "      <td>29.388351</td>\n",
       "      <td>-98.370269</td>\n",
       "      <td>3.117506</td>\n",
       "      <td>1</td>\n",
       "      <td>2020</td>\n",
       "    </tr>\n",
       "    <tr>\n",
       "      <th>20006</th>\n",
       "      <td>78222</td>\n",
       "      <td>165900</td>\n",
       "      <td>5662.0</td>\n",
       "      <td>2018.0</td>\n",
       "      <td>133.0</td>\n",
       "      <td>7.0</td>\n",
       "      <td>29.374355</td>\n",
       "      <td>-98.385532</td>\n",
       "      <td>4.815409</td>\n",
       "      <td>2</td>\n",
       "      <td>2019</td>\n",
       "    </tr>\n",
       "    <tr>\n",
       "      <th>20008</th>\n",
       "      <td>78222</td>\n",
       "      <td>189900</td>\n",
       "      <td>4791.0</td>\n",
       "      <td>2018.0</td>\n",
       "      <td>112.0</td>\n",
       "      <td>25.0</td>\n",
       "      <td>29.386700</td>\n",
       "      <td>-98.379900</td>\n",
       "      <td>3.523194</td>\n",
       "      <td>7</td>\n",
       "      <td>2018</td>\n",
       "    </tr>\n",
       "    <tr>\n",
       "      <th>20010</th>\n",
       "      <td>78222</td>\n",
       "      <td>196499</td>\n",
       "      <td>5662.0</td>\n",
       "      <td>2014.0</td>\n",
       "      <td>85.0</td>\n",
       "      <td>6.0</td>\n",
       "      <td>29.379346</td>\n",
       "      <td>-98.370269</td>\n",
       "      <td>3.012048</td>\n",
       "      <td>3</td>\n",
       "      <td>2019</td>\n",
       "    </tr>\n",
       "  </tbody>\n",
       "</table>\n",
       "<p>11654 rows × 11 columns</p>\n",
       "</div>"
      ],
      "text/plain": [
       "       ZIP OR POSTAL CODE   PRICE  LOT SIZE  YEAR BUILT  $/SQUARE FEET  \\\n",
       "0                   78257  345000    5662.0      2005.0          173.0   \n",
       "1                   78256  337500    9583.0      2004.0          156.0   \n",
       "2                   78256  375500    6605.0      2004.0          126.0   \n",
       "3                   78255  462000    9147.0      2014.0          170.0   \n",
       "4                   78256  624000   75794.0      2000.0          207.0   \n",
       "...                   ...     ...       ...         ...            ...   \n",
       "20002               78222  137000    5227.0      2005.0           49.0   \n",
       "20003               78222  165000    8276.0      2014.0           79.0   \n",
       "20006               78222  165900    5662.0      2018.0          133.0   \n",
       "20008               78222  189900    4791.0      2018.0          112.0   \n",
       "20010               78222  196499    5662.0      2014.0           85.0   \n",
       "\n",
       "       HOA/MONTH   LATITUDE  LONGITUDE  ROOMS PER SQFT * 1000  MONTH  YEAR  \n",
       "0          230.0  29.647801 -98.614186               2.011061      9  2020  \n",
       "1           54.0  29.650304 -98.629082               2.770083      6  2020  \n",
       "2           54.0  29.651842 -98.630650               2.189289      3  2021  \n",
       "3           95.0  29.617650 -98.643430               2.577320     10  2018  \n",
       "4           25.0  29.620646 -98.622295               1.826029      2  2021  \n",
       "...          ...        ...        ...                    ...    ...   ...  \n",
       "20002        6.0  29.379318 -98.373976               2.163722      6  2018  \n",
       "20003        7.0  29.388351 -98.370269               3.117506      1  2020  \n",
       "20006        7.0  29.374355 -98.385532               4.815409      2  2019  \n",
       "20008       25.0  29.386700 -98.379900               3.523194      7  2018  \n",
       "20010        6.0  29.379346 -98.370269               3.012048      3  2019  \n",
       "\n",
       "[11654 rows x 11 columns]"
      ]
     },
     "execution_count": 68,
     "metadata": {},
     "output_type": "execute_result"
    }
   ],
   "source": [
    "neighborhoods_cleaned"
   ]
  },
  {
   "cell_type": "markdown",
   "metadata": {},
   "source": [
    "-----\n",
    "Data Density  \n",
    "= 11,654 / 185  \n",
    "= 62.7\n",
    "-----"
   ]
  },
  {
   "cell_type": "markdown",
   "metadata": {},
   "source": [
    "## Building a Model"
   ]
  },
  {
   "cell_type": "code",
   "execution_count": 69,
   "metadata": {},
   "outputs": [],
   "source": [
    "X_train, X_test, y_train, y_test = train_test_split(X,y)"
   ]
  },
  {
   "cell_type": "code",
   "execution_count": 70,
   "metadata": {},
   "outputs": [
    {
     "name": "stdout",
     "output_type": "stream",
     "text": [
      "score: 0.9031548267635894\n"
     ]
    },
    {
     "data": {
      "text/plain": [
       "1052095673.0105727"
      ]
     },
     "execution_count": 70,
     "metadata": {},
     "output_type": "execute_result"
    }
   ],
   "source": [
    "rfr = RandomForestRegressor()\n",
    "rfr.fit(X_train,y_train)\n",
    "y_predict = rfr.predict(X_test)\n",
    "print(\"score:\", rfr.score(X_test, y_test))\n",
    "mean_squared_error(y_test, y_predict)"
   ]
  },
  {
   "cell_type": "code",
   "execution_count": 71,
   "metadata": {},
   "outputs": [
    {
     "data": {
      "text/plain": [
       "array([507329.92, 226049.86, 219557.21, ..., 270831.88, 161264.  ,\n",
       "       189024.89])"
      ]
     },
     "execution_count": 71,
     "metadata": {},
     "output_type": "execute_result"
    }
   ],
   "source": [
    "y_predict"
   ]
  },
  {
   "cell_type": "code",
   "execution_count": 72,
   "metadata": {},
   "outputs": [
    {
     "data": {
      "text/plain": [
       "array([572500, 209900, 275000, ..., 265000, 162500, 190000])"
      ]
     },
     "execution_count": 72,
     "metadata": {},
     "output_type": "execute_result"
    }
   ],
   "source": [
    "y_test"
   ]
  },
  {
   "cell_type": "code",
   "execution_count": 94,
   "metadata": {},
   "outputs": [],
   "source": [
    "search_space = [{'regressor__alpha': 10 ** (np.linspace(-5, 5, 10)), \n",
    "                 'regressor__l1_ratio': np.linspace(0,1,6)}]\n",
    "\n",
    "# l_lasso / (l_lasso + l_ridge)\n",
    "# if l_lasso = 0: 0 / 1 = 0 (this is ridge regression)\n",
    "# if l_ridge = 0: l_lasso / l_lasso = 1 (this is LASSSO regression)\n",
    "\n",
    "pipe = Pipeline([('scaler', StandardScaler()), ('regressor', ElasticNet())])\n",
    "\n",
    "enet_cv = GridSearchCV(pipe, \n",
    "                      search_space, \n",
    "                      cv=KFold(10, shuffle=True), \n",
    "                      scoring='neg_mean_squared_error',\n",
    "                      return_train_score = True)"
   ]
  },
  {
   "cell_type": "code",
   "execution_count": 95,
   "metadata": {},
   "outputs": [
    {
     "name": "stderr",
     "output_type": "stream",
     "text": [
      "/Users/randallbloomquist/opt/anaconda3/lib/python3.8/site-packages/sklearn/linear_model/_coordinate_descent.py:529: ConvergenceWarning: Objective did not converge. You might want to increase the number of iterations. Duality gap: 18298192065864.008, tolerance: 10381918551.804132\n",
      "  model = cd_fast.enet_coordinate_descent(\n",
      "/Users/randallbloomquist/opt/anaconda3/lib/python3.8/site-packages/sklearn/linear_model/_coordinate_descent.py:529: ConvergenceWarning: Objective did not converge. You might want to increase the number of iterations. Duality gap: 17873261824885.523, tolerance: 10138232116.824657\n",
      "  model = cd_fast.enet_coordinate_descent(\n",
      "/Users/randallbloomquist/opt/anaconda3/lib/python3.8/site-packages/sklearn/linear_model/_coordinate_descent.py:529: ConvergenceWarning: Objective did not converge. You might want to increase the number of iterations. Duality gap: 16656992441780.867, tolerance: 10358434301.164389\n",
      "  model = cd_fast.enet_coordinate_descent(\n",
      "/Users/randallbloomquist/opt/anaconda3/lib/python3.8/site-packages/sklearn/linear_model/_coordinate_descent.py:529: ConvergenceWarning: Objective did not converge. You might want to increase the number of iterations. Duality gap: 17928230306214.44, tolerance: 10156172437.324589\n",
      "  model = cd_fast.enet_coordinate_descent(\n",
      "/Users/randallbloomquist/opt/anaconda3/lib/python3.8/site-packages/sklearn/linear_model/_coordinate_descent.py:529: ConvergenceWarning: Objective did not converge. You might want to increase the number of iterations. Duality gap: 18247667169851.84, tolerance: 10473698782.049208\n",
      "  model = cd_fast.enet_coordinate_descent(\n",
      "/Users/randallbloomquist/opt/anaconda3/lib/python3.8/site-packages/sklearn/linear_model/_coordinate_descent.py:529: ConvergenceWarning: Objective did not converge. You might want to increase the number of iterations. Duality gap: 17546533512013.928, tolerance: 9960581342.55149\n",
      "  model = cd_fast.enet_coordinate_descent(\n",
      "/Users/randallbloomquist/opt/anaconda3/lib/python3.8/site-packages/sklearn/linear_model/_coordinate_descent.py:529: ConvergenceWarning: Objective did not converge. You might want to increase the number of iterations. Duality gap: 16941368110771.34, tolerance: 9838516618.814056\n",
      "  model = cd_fast.enet_coordinate_descent(\n",
      "/Users/randallbloomquist/opt/anaconda3/lib/python3.8/site-packages/sklearn/linear_model/_coordinate_descent.py:529: ConvergenceWarning: Objective did not converge. You might want to increase the number of iterations. Duality gap: 18163042194752.117, tolerance: 10331751349.20982\n",
      "  model = cd_fast.enet_coordinate_descent(\n",
      "/Users/randallbloomquist/opt/anaconda3/lib/python3.8/site-packages/sklearn/linear_model/_coordinate_descent.py:529: ConvergenceWarning: Objective did not converge. You might want to increase the number of iterations. Duality gap: 18453799005903.207, tolerance: 10427704723.960468\n",
      "  model = cd_fast.enet_coordinate_descent(\n",
      "/Users/randallbloomquist/opt/anaconda3/lib/python3.8/site-packages/sklearn/linear_model/_coordinate_descent.py:529: ConvergenceWarning: Objective did not converge. You might want to increase the number of iterations. Duality gap: 18703902188907.457, tolerance: 10618392119.968765\n",
      "  model = cd_fast.enet_coordinate_descent(\n",
      "/Users/randallbloomquist/opt/anaconda3/lib/python3.8/site-packages/sklearn/linear_model/_coordinate_descent.py:529: ConvergenceWarning: Objective did not converge. You might want to increase the number of iterations. Duality gap: 18302879644754.383, tolerance: 10381918551.804132\n",
      "  model = cd_fast.enet_coordinate_descent(\n",
      "/Users/randallbloomquist/opt/anaconda3/lib/python3.8/site-packages/sklearn/linear_model/_coordinate_descent.py:529: ConvergenceWarning: Objective did not converge. You might want to increase the number of iterations. Duality gap: 17877817594276.25, tolerance: 10138232116.824657\n",
      "  model = cd_fast.enet_coordinate_descent(\n",
      "/Users/randallbloomquist/opt/anaconda3/lib/python3.8/site-packages/sklearn/linear_model/_coordinate_descent.py:529: ConvergenceWarning: Objective did not converge. You might want to increase the number of iterations. Duality gap: 16660829284534.318, tolerance: 10358434301.164389\n",
      "  model = cd_fast.enet_coordinate_descent(\n",
      "/Users/randallbloomquist/opt/anaconda3/lib/python3.8/site-packages/sklearn/linear_model/_coordinate_descent.py:529: ConvergenceWarning: Objective did not converge. You might want to increase the number of iterations. Duality gap: 17932785782405.094, tolerance: 10156172437.324589\n",
      "  model = cd_fast.enet_coordinate_descent(\n",
      "/Users/randallbloomquist/opt/anaconda3/lib/python3.8/site-packages/sklearn/linear_model/_coordinate_descent.py:529: ConvergenceWarning: Objective did not converge. You might want to increase the number of iterations. Duality gap: 18252398992152.9, tolerance: 10473698782.049208\n",
      "  model = cd_fast.enet_coordinate_descent(\n",
      "/Users/randallbloomquist/opt/anaconda3/lib/python3.8/site-packages/sklearn/linear_model/_coordinate_descent.py:529: ConvergenceWarning: Objective did not converge. You might want to increase the number of iterations. Duality gap: 17551038370753.512, tolerance: 9960581342.55149\n",
      "  model = cd_fast.enet_coordinate_descent(\n",
      "/Users/randallbloomquist/opt/anaconda3/lib/python3.8/site-packages/sklearn/linear_model/_coordinate_descent.py:529: ConvergenceWarning: Objective did not converge. You might want to increase the number of iterations. Duality gap: 16945881289552.734, tolerance: 9838516618.814056\n",
      "  model = cd_fast.enet_coordinate_descent(\n",
      "/Users/randallbloomquist/opt/anaconda3/lib/python3.8/site-packages/sklearn/linear_model/_coordinate_descent.py:529: ConvergenceWarning: Objective did not converge. You might want to increase the number of iterations. Duality gap: 18167691607183.77, tolerance: 10331751349.20982\n",
      "  model = cd_fast.enet_coordinate_descent(\n",
      "/Users/randallbloomquist/opt/anaconda3/lib/python3.8/site-packages/sklearn/linear_model/_coordinate_descent.py:529: ConvergenceWarning: Objective did not converge. You might want to increase the number of iterations. Duality gap: 18458487916847.684, tolerance: 10427704723.960468\n",
      "  model = cd_fast.enet_coordinate_descent(\n",
      "/Users/randallbloomquist/opt/anaconda3/lib/python3.8/site-packages/sklearn/linear_model/_coordinate_descent.py:529: ConvergenceWarning: Objective did not converge. You might want to increase the number of iterations. Duality gap: 18708698577003.844, tolerance: 10618392119.968765\n",
      "  model = cd_fast.enet_coordinate_descent(\n",
      "/Users/randallbloomquist/opt/anaconda3/lib/python3.8/site-packages/sklearn/linear_model/_coordinate_descent.py:529: ConvergenceWarning: Objective did not converge. You might want to increase the number of iterations. Duality gap: 18363275353214.324, tolerance: 10381918551.804132\n",
      "  model = cd_fast.enet_coordinate_descent(\n",
      "/Users/randallbloomquist/opt/anaconda3/lib/python3.8/site-packages/sklearn/linear_model/_coordinate_descent.py:529: ConvergenceWarning: Objective did not converge. You might want to increase the number of iterations. Duality gap: 17936516138370.99, tolerance: 10138232116.824657\n",
      "  model = cd_fast.enet_coordinate_descent(\n",
      "/Users/randallbloomquist/opt/anaconda3/lib/python3.8/site-packages/sklearn/linear_model/_coordinate_descent.py:529: ConvergenceWarning: Objective did not converge. You might want to increase the number of iterations. Duality gap: 16710260232799.533, tolerance: 10358434301.164389\n",
      "  model = cd_fast.enet_coordinate_descent(\n",
      "/Users/randallbloomquist/opt/anaconda3/lib/python3.8/site-packages/sklearn/linear_model/_coordinate_descent.py:529: ConvergenceWarning: Objective did not converge. You might want to increase the number of iterations. Duality gap: 17991479591977.637, tolerance: 10156172437.324589\n",
      "  model = cd_fast.enet_coordinate_descent(\n",
      "/Users/randallbloomquist/opt/anaconda3/lib/python3.8/site-packages/sklearn/linear_model/_coordinate_descent.py:529: ConvergenceWarning: Objective did not converge. You might want to increase the number of iterations. Duality gap: 18313365316986.133, tolerance: 10473698782.049208\n",
      "  model = cd_fast.enet_coordinate_descent(\n",
      "/Users/randallbloomquist/opt/anaconda3/lib/python3.8/site-packages/sklearn/linear_model/_coordinate_descent.py:529: ConvergenceWarning: Objective did not converge. You might want to increase the number of iterations. Duality gap: 17609079496230.46, tolerance: 9960581342.55149\n",
      "  model = cd_fast.enet_coordinate_descent(\n",
      "/Users/randallbloomquist/opt/anaconda3/lib/python3.8/site-packages/sklearn/linear_model/_coordinate_descent.py:529: ConvergenceWarning: Objective did not converge. You might want to increase the number of iterations. Duality gap: 17004029415809.795, tolerance: 9838516618.814056\n",
      "  model = cd_fast.enet_coordinate_descent(\n",
      "/Users/randallbloomquist/opt/anaconda3/lib/python3.8/site-packages/sklearn/linear_model/_coordinate_descent.py:529: ConvergenceWarning: Objective did not converge. You might want to increase the number of iterations. Duality gap: 18227595721392.137, tolerance: 10331751349.20982\n",
      "  model = cd_fast.enet_coordinate_descent(\n",
      "/Users/randallbloomquist/opt/anaconda3/lib/python3.8/site-packages/sklearn/linear_model/_coordinate_descent.py:529: ConvergenceWarning: Objective did not converge. You might want to increase the number of iterations. Duality gap: 18518901181121.63, tolerance: 10427704723.960468\n",
      "  model = cd_fast.enet_coordinate_descent(\n",
      "/Users/randallbloomquist/opt/anaconda3/lib/python3.8/site-packages/sklearn/linear_model/_coordinate_descent.py:529: ConvergenceWarning: Objective did not converge. You might want to increase the number of iterations. Duality gap: 18770496132045.4, tolerance: 10618392119.968765\n",
      "  model = cd_fast.enet_coordinate_descent(\n",
      "/Users/randallbloomquist/opt/anaconda3/lib/python3.8/site-packages/sklearn/linear_model/_coordinate_descent.py:529: ConvergenceWarning: Objective did not converge. You might want to increase the number of iterations. Duality gap: 19119734601487.8, tolerance: 10381918551.804132\n",
      "  model = cd_fast.enet_coordinate_descent(\n",
      "/Users/randallbloomquist/opt/anaconda3/lib/python3.8/site-packages/sklearn/linear_model/_coordinate_descent.py:529: ConvergenceWarning: Objective did not converge. You might want to increase the number of iterations. Duality gap: 18671887986361.387, tolerance: 10138232116.824657\n",
      "  model = cd_fast.enet_coordinate_descent(\n",
      "/Users/randallbloomquist/opt/anaconda3/lib/python3.8/site-packages/sklearn/linear_model/_coordinate_descent.py:529: ConvergenceWarning: Objective did not converge. You might want to increase the number of iterations. Duality gap: 17328965265024.799, tolerance: 10358434301.164389\n",
      "  model = cd_fast.enet_coordinate_descent(\n",
      "/Users/randallbloomquist/opt/anaconda3/lib/python3.8/site-packages/sklearn/linear_model/_coordinate_descent.py:529: ConvergenceWarning: Objective did not converge. You might want to increase the number of iterations. Duality gap: 18726648693133.895, tolerance: 10156172437.324589\n",
      "  model = cd_fast.enet_coordinate_descent(\n",
      "/Users/randallbloomquist/opt/anaconda3/lib/python3.8/site-packages/sklearn/linear_model/_coordinate_descent.py:529: ConvergenceWarning: Objective did not converge. You might want to increase the number of iterations. Duality gap: 19077063647563.2, tolerance: 10473698782.049208\n",
      "  model = cd_fast.enet_coordinate_descent(\n",
      "/Users/randallbloomquist/opt/anaconda3/lib/python3.8/site-packages/sklearn/linear_model/_coordinate_descent.py:529: ConvergenceWarning: Objective did not converge. You might want to increase the number of iterations. Duality gap: 18335990994251.383, tolerance: 9960581342.55149\n",
      "  model = cd_fast.enet_coordinate_descent(\n",
      "/Users/randallbloomquist/opt/anaconda3/lib/python3.8/site-packages/sklearn/linear_model/_coordinate_descent.py:529: ConvergenceWarning: Objective did not converge. You might want to increase the number of iterations. Duality gap: 17732248827411.05, tolerance: 9838516618.814056\n",
      "  model = cd_fast.enet_coordinate_descent(\n",
      "/Users/randallbloomquist/opt/anaconda3/lib/python3.8/site-packages/sklearn/linear_model/_coordinate_descent.py:529: ConvergenceWarning: Objective did not converge. You might want to increase the number of iterations. Duality gap: 18977925979691.926, tolerance: 10331751349.20982\n",
      "  model = cd_fast.enet_coordinate_descent(\n",
      "/Users/randallbloomquist/opt/anaconda3/lib/python3.8/site-packages/sklearn/linear_model/_coordinate_descent.py:529: ConvergenceWarning: Objective did not converge. You might want to increase the number of iterations. Duality gap: 19275641477249.46, tolerance: 10427704723.960468\n",
      "  model = cd_fast.enet_coordinate_descent(\n",
      "/Users/randallbloomquist/opt/anaconda3/lib/python3.8/site-packages/sklearn/linear_model/_coordinate_descent.py:529: ConvergenceWarning: Objective did not converge. You might want to increase the number of iterations. Duality gap: 19544502914927.785, tolerance: 10618392119.968765\n",
      "  model = cd_fast.enet_coordinate_descent(\n",
      "/Users/randallbloomquist/opt/anaconda3/lib/python3.8/site-packages/sklearn/linear_model/_coordinate_descent.py:529: ConvergenceWarning: Objective did not converge. You might want to increase the number of iterations. Duality gap: 26205625684689.594, tolerance: 10381918551.804132\n",
      "  model = cd_fast.enet_coordinate_descent(\n",
      "/Users/randallbloomquist/opt/anaconda3/lib/python3.8/site-packages/sklearn/linear_model/_coordinate_descent.py:529: ConvergenceWarning: Objective did not converge. You might want to increase the number of iterations. Duality gap: 25573183295168.605, tolerance: 10138232116.824657\n",
      "  model = cd_fast.enet_coordinate_descent(\n",
      "/Users/randallbloomquist/opt/anaconda3/lib/python3.8/site-packages/sklearn/linear_model/_coordinate_descent.py:529: ConvergenceWarning: Objective did not converge. You might want to increase the number of iterations. Duality gap: 23209463150836.16, tolerance: 10358434301.164389\n",
      "  model = cd_fast.enet_coordinate_descent(\n",
      "/Users/randallbloomquist/opt/anaconda3/lib/python3.8/site-packages/sklearn/linear_model/_coordinate_descent.py:529: ConvergenceWarning: Objective did not converge. You might want to increase the number of iterations. Duality gap: 25618639575101.965, tolerance: 10156172437.324589\n",
      "  model = cd_fast.enet_coordinate_descent(\n",
      "/Users/randallbloomquist/opt/anaconda3/lib/python3.8/site-packages/sklearn/linear_model/_coordinate_descent.py:529: ConvergenceWarning: Objective did not converge. You might want to increase the number of iterations. Duality gap: 26239999228293.527, tolerance: 10473698782.049208\n",
      "  model = cd_fast.enet_coordinate_descent(\n",
      "/Users/randallbloomquist/opt/anaconda3/lib/python3.8/site-packages/sklearn/linear_model/_coordinate_descent.py:529: ConvergenceWarning: Objective did not converge. You might want to increase the number of iterations. Duality gap: 25142085892451.793, tolerance: 9960581342.55149\n",
      "  model = cd_fast.enet_coordinate_descent(\n",
      "/Users/randallbloomquist/opt/anaconda3/lib/python3.8/site-packages/sklearn/linear_model/_coordinate_descent.py:529: ConvergenceWarning: Objective did not converge. You might want to increase the number of iterations. Duality gap: 24546762593945.23, tolerance: 9838516618.814056\n",
      "  model = cd_fast.enet_coordinate_descent(\n",
      "/Users/randallbloomquist/opt/anaconda3/lib/python3.8/site-packages/sklearn/linear_model/_coordinate_descent.py:529: ConvergenceWarning: Objective did not converge. You might want to increase the number of iterations. Duality gap: 26012120777625.938, tolerance: 10331751349.20982\n",
      "  model = cd_fast.enet_coordinate_descent(\n",
      "/Users/randallbloomquist/opt/anaconda3/lib/python3.8/site-packages/sklearn/linear_model/_coordinate_descent.py:529: ConvergenceWarning: Objective did not converge. You might want to increase the number of iterations. Duality gap: 26368928889557.92, tolerance: 10427704723.960468\n",
      "  model = cd_fast.enet_coordinate_descent(\n",
      "/Users/randallbloomquist/opt/anaconda3/lib/python3.8/site-packages/sklearn/linear_model/_coordinate_descent.py:529: ConvergenceWarning: Objective did not converge. You might want to increase the number of iterations. Duality gap: 26794307875116.3, tolerance: 10618392119.968765\n",
      "  model = cd_fast.enet_coordinate_descent(\n",
      "/Users/randallbloomquist/opt/anaconda3/lib/python3.8/site-packages/sklearn/linear_model/_coordinate_descent.py:529: ConvergenceWarning: Objective did not converge. You might want to increase the number of iterations. Duality gap: 44523638131805.984, tolerance: 10381918551.804132\n",
      "  model = cd_fast.enet_coordinate_descent(\n",
      "/Users/randallbloomquist/opt/anaconda3/lib/python3.8/site-packages/sklearn/linear_model/_coordinate_descent.py:529: ConvergenceWarning: Objective did not converge. You might want to increase the number of iterations. Duality gap: 43467741606273.99, tolerance: 10138232116.824657\n",
      "  model = cd_fast.enet_coordinate_descent(\n",
      "/Users/randallbloomquist/opt/anaconda3/lib/python3.8/site-packages/sklearn/linear_model/_coordinate_descent.py:529: ConvergenceWarning: Objective did not converge. You might want to increase the number of iterations. Duality gap: 41719771109950.53, tolerance: 10358434301.164389\n",
      "  model = cd_fast.enet_coordinate_descent(\n",
      "/Users/randallbloomquist/opt/anaconda3/lib/python3.8/site-packages/sklearn/linear_model/_coordinate_descent.py:529: ConvergenceWarning: Objective did not converge. You might want to increase the number of iterations. Duality gap: 43522886763904.79, tolerance: 10156172437.324589\n",
      "  model = cd_fast.enet_coordinate_descent(\n",
      "/Users/randallbloomquist/opt/anaconda3/lib/python3.8/site-packages/sklearn/linear_model/_coordinate_descent.py:529: ConvergenceWarning: Objective did not converge. You might want to increase the number of iterations. Duality gap: 44837566561697.305, tolerance: 10473698782.049208\n",
      "  model = cd_fast.enet_coordinate_descent(\n",
      "/Users/randallbloomquist/opt/anaconda3/lib/python3.8/site-packages/sklearn/linear_model/_coordinate_descent.py:529: ConvergenceWarning: Objective did not converge. You might want to increase the number of iterations. Duality gap: 42724431694394.71, tolerance: 9960581342.55149\n",
      "  model = cd_fast.enet_coordinate_descent(\n",
      "/Users/randallbloomquist/opt/anaconda3/lib/python3.8/site-packages/sklearn/linear_model/_coordinate_descent.py:529: ConvergenceWarning: Objective did not converge. You might want to increase the number of iterations. Duality gap: 42118687077412.766, tolerance: 9838516618.814056\n",
      "  model = cd_fast.enet_coordinate_descent(\n",
      "/Users/randallbloomquist/opt/anaconda3/lib/python3.8/site-packages/sklearn/linear_model/_coordinate_descent.py:529: ConvergenceWarning: Objective did not converge. You might want to increase the number of iterations. Duality gap: 44272760742817.22, tolerance: 10331751349.20982\n",
      "  model = cd_fast.enet_coordinate_descent(\n",
      "/Users/randallbloomquist/opt/anaconda3/lib/python3.8/site-packages/sklearn/linear_model/_coordinate_descent.py:529: ConvergenceWarning: Objective did not converge. You might want to increase the number of iterations. Duality gap: 44727475385374.66, tolerance: 10427704723.960468\n",
      "  model = cd_fast.enet_coordinate_descent(\n",
      "/Users/randallbloomquist/opt/anaconda3/lib/python3.8/site-packages/sklearn/linear_model/_coordinate_descent.py:529: ConvergenceWarning: Objective did not converge. You might want to increase the number of iterations. Duality gap: 45535336276293.12, tolerance: 10618392119.968765\n",
      "  model = cd_fast.enet_coordinate_descent(\n",
      "/Users/randallbloomquist/opt/anaconda3/lib/python3.8/site-packages/sklearn/linear_model/_coordinate_descent.py:529: ConvergenceWarning: Objective did not converge. You might want to increase the number of iterations. Duality gap: 51167886233316.59, tolerance: 10381918551.804132\n",
      "  model = cd_fast.enet_coordinate_descent(\n",
      "/Users/randallbloomquist/opt/anaconda3/lib/python3.8/site-packages/sklearn/linear_model/_coordinate_descent.py:529: ConvergenceWarning: Objective did not converge. You might want to increase the number of iterations. Duality gap: 49965543034736.86, tolerance: 10138232116.824657\n",
      "  model = cd_fast.enet_coordinate_descent(\n",
      "/Users/randallbloomquist/opt/anaconda3/lib/python3.8/site-packages/sklearn/linear_model/_coordinate_descent.py:529: ConvergenceWarning: Objective did not converge. You might want to increase the number of iterations. Duality gap: 50683023577773.23, tolerance: 10358434301.164389\n",
      "  model = cd_fast.enet_coordinate_descent(\n",
      "/Users/randallbloomquist/opt/anaconda3/lib/python3.8/site-packages/sklearn/linear_model/_coordinate_descent.py:529: ConvergenceWarning: Objective did not converge. You might want to increase the number of iterations. Duality gap: 50051062054359.266, tolerance: 10156172437.324589\n",
      "  model = cd_fast.enet_coordinate_descent(\n",
      "/Users/randallbloomquist/opt/anaconda3/lib/python3.8/site-packages/sklearn/linear_model/_coordinate_descent.py:529: ConvergenceWarning: Objective did not converge. You might want to increase the number of iterations. Duality gap: 51611292732356.125, tolerance: 10473698782.049208\n",
      "  model = cd_fast.enet_coordinate_descent(\n",
      "/Users/randallbloomquist/opt/anaconda3/lib/python3.8/site-packages/sklearn/linear_model/_coordinate_descent.py:529: ConvergenceWarning: Objective did not converge. You might want to increase the number of iterations. Duality gap: 49092503635205.086, tolerance: 9960581342.55149\n",
      "  model = cd_fast.enet_coordinate_descent(\n",
      "/Users/randallbloomquist/opt/anaconda3/lib/python3.8/site-packages/sklearn/linear_model/_coordinate_descent.py:529: ConvergenceWarning: Objective did not converge. You might want to increase the number of iterations. Duality gap: 48482251732106.04, tolerance: 9838516618.814056\n",
      "  model = cd_fast.enet_coordinate_descent(\n",
      "/Users/randallbloomquist/opt/anaconda3/lib/python3.8/site-packages/sklearn/linear_model/_coordinate_descent.py:529: ConvergenceWarning: Objective did not converge. You might want to increase the number of iterations. Duality gap: 50916800236383.4, tolerance: 10331751349.20982\n",
      "  model = cd_fast.enet_coordinate_descent(\n",
      "/Users/randallbloomquist/opt/anaconda3/lib/python3.8/site-packages/sklearn/linear_model/_coordinate_descent.py:529: ConvergenceWarning: Objective did not converge. You might want to increase the number of iterations. Duality gap: 51393815340413.98, tolerance: 10427704723.960468\n",
      "  model = cd_fast.enet_coordinate_descent(\n",
      "/Users/randallbloomquist/opt/anaconda3/lib/python3.8/site-packages/sklearn/linear_model/_coordinate_descent.py:529: ConvergenceWarning: Objective did not converge. You might want to increase the number of iterations. Duality gap: 52333057499388.87, tolerance: 10618392119.968765\n",
      "  model = cd_fast.enet_coordinate_descent(\n",
      "/Users/randallbloomquist/opt/anaconda3/lib/python3.8/site-packages/sklearn/linear_model/_coordinate_descent.py:529: ConvergenceWarning: Objective did not converge. You might want to increase the number of iterations. Duality gap: 51850775664125.15, tolerance: 10381918551.804132\n",
      "  model = cd_fast.enet_coordinate_descent(\n",
      "/Users/randallbloomquist/opt/anaconda3/lib/python3.8/site-packages/sklearn/linear_model/_coordinate_descent.py:529: ConvergenceWarning: Objective did not converge. You might want to increase the number of iterations. Duality gap: 50633616936970.945, tolerance: 10138232116.824657\n",
      "  model = cd_fast.enet_coordinate_descent(\n",
      "/Users/randallbloomquist/opt/anaconda3/lib/python3.8/site-packages/sklearn/linear_model/_coordinate_descent.py:529: ConvergenceWarning: Objective did not converge. You might want to increase the number of iterations. Duality gap: 51703327973171.15, tolerance: 10358434301.164389\n",
      "  model = cd_fast.enet_coordinate_descent(\n",
      "/Users/randallbloomquist/opt/anaconda3/lib/python3.8/site-packages/sklearn/linear_model/_coordinate_descent.py:529: ConvergenceWarning: Objective did not converge. You might want to increase the number of iterations. Duality gap: 50722981648153.336, tolerance: 10156172437.324589\n",
      "  model = cd_fast.enet_coordinate_descent(\n",
      "/Users/randallbloomquist/opt/anaconda3/lib/python3.8/site-packages/sklearn/linear_model/_coordinate_descent.py:529: ConvergenceWarning: Objective did not converge. You might want to increase the number of iterations. Duality gap: 52308439911119.32, tolerance: 10473698782.049208\n",
      "  model = cd_fast.enet_coordinate_descent(\n",
      "/Users/randallbloomquist/opt/anaconda3/lib/python3.8/site-packages/sklearn/linear_model/_coordinate_descent.py:529: ConvergenceWarning: Objective did not converge. You might want to increase the number of iterations. Duality gap: 49746575637218.25, tolerance: 9960581342.55149\n",
      "  model = cd_fast.enet_coordinate_descent(\n",
      "/Users/randallbloomquist/opt/anaconda3/lib/python3.8/site-packages/sklearn/linear_model/_coordinate_descent.py:529: ConvergenceWarning: Objective did not converge. You might want to increase the number of iterations. Duality gap: 49136253497225.32, tolerance: 9838516618.814056\n",
      "  model = cd_fast.enet_coordinate_descent(\n",
      "/Users/randallbloomquist/opt/anaconda3/lib/python3.8/site-packages/sklearn/linear_model/_coordinate_descent.py:529: ConvergenceWarning: Objective did not converge. You might want to increase the number of iterations. Duality gap: 51599918813154.92, tolerance: 10331751349.20982\n",
      "  model = cd_fast.enet_coordinate_descent(\n",
      "/Users/randallbloomquist/opt/anaconda3/lib/python3.8/site-packages/sklearn/linear_model/_coordinate_descent.py:529: ConvergenceWarning: Objective did not converge. You might want to increase the number of iterations. Duality gap: 52079463406725.32, tolerance: 10427704723.960468\n",
      "  model = cd_fast.enet_coordinate_descent(\n",
      "/Users/randallbloomquist/opt/anaconda3/lib/python3.8/site-packages/sklearn/linear_model/_coordinate_descent.py:529: ConvergenceWarning: Objective did not converge. You might want to increase the number of iterations. Duality gap: 53031779059663.98, tolerance: 10618392119.968765\n",
      "  model = cd_fast.enet_coordinate_descent(\n",
      "/Users/randallbloomquist/opt/anaconda3/lib/python3.8/site-packages/sklearn/linear_model/_coordinate_descent.py:529: ConvergenceWarning: Objective did not converge. You might want to increase the number of iterations. Duality gap: 51905030195225.14, tolerance: 10381918551.804132\n",
      "  model = cd_fast.enet_coordinate_descent(\n",
      "/Users/randallbloomquist/opt/anaconda3/lib/python3.8/site-packages/sklearn/linear_model/_coordinate_descent.py:529: ConvergenceWarning: Objective did not converge. You might want to increase the number of iterations. Duality gap: 50686696789125.234, tolerance: 10138232116.824657\n",
      "  model = cd_fast.enet_coordinate_descent(\n",
      "/Users/randallbloomquist/opt/anaconda3/lib/python3.8/site-packages/sklearn/linear_model/_coordinate_descent.py:529: ConvergenceWarning: Objective did not converge. You might want to increase the number of iterations. Duality gap: 51785274190776.516, tolerance: 10358434301.164389\n",
      "  model = cd_fast.enet_coordinate_descent(\n",
      "/Users/randallbloomquist/opt/anaconda3/lib/python3.8/site-packages/sklearn/linear_model/_coordinate_descent.py:529: ConvergenceWarning: Objective did not converge. You might want to increase the number of iterations. Duality gap: 50776372226522.16, tolerance: 10156172437.324589\n",
      "  model = cd_fast.enet_coordinate_descent(\n",
      "/Users/randallbloomquist/opt/anaconda3/lib/python3.8/site-packages/sklearn/linear_model/_coordinate_descent.py:529: ConvergenceWarning: Objective did not converge. You might want to increase the number of iterations. Duality gap: 52363835346401.61, tolerance: 10473698782.049208\n",
      "  model = cd_fast.enet_coordinate_descent(\n",
      "/Users/randallbloomquist/opt/anaconda3/lib/python3.8/site-packages/sklearn/linear_model/_coordinate_descent.py:529: ConvergenceWarning: Objective did not converge. You might want to increase the number of iterations. Duality gap: 49798537017302.914, tolerance: 9960581342.55149\n",
      "  model = cd_fast.enet_coordinate_descent(\n",
      "/Users/randallbloomquist/opt/anaconda3/lib/python3.8/site-packages/sklearn/linear_model/_coordinate_descent.py:529: ConvergenceWarning: Objective did not converge. You might want to increase the number of iterations. Duality gap: 49188213486743.29, tolerance: 9838516618.814056\n",
      "  model = cd_fast.enet_coordinate_descent(\n",
      "/Users/randallbloomquist/opt/anaconda3/lib/python3.8/site-packages/sklearn/linear_model/_coordinate_descent.py:529: ConvergenceWarning: Objective did not converge. You might want to increase the number of iterations. Duality gap: 51654192560179.82, tolerance: 10331751349.20982\n",
      "  model = cd_fast.enet_coordinate_descent(\n",
      "/Users/randallbloomquist/opt/anaconda3/lib/python3.8/site-packages/sklearn/linear_model/_coordinate_descent.py:529: ConvergenceWarning: Objective did not converge. You might want to increase the number of iterations. Duality gap: 52133942164703.91, tolerance: 10427704723.960468\n",
      "  model = cd_fast.enet_coordinate_descent(\n",
      "/Users/randallbloomquist/opt/anaconda3/lib/python3.8/site-packages/sklearn/linear_model/_coordinate_descent.py:529: ConvergenceWarning: Objective did not converge. You might want to increase the number of iterations. Duality gap: 53087292188290.95, tolerance: 10618392119.968765\n",
      "  model = cd_fast.enet_coordinate_descent(\n",
      "/Users/randallbloomquist/opt/anaconda3/lib/python3.8/site-packages/sklearn/linear_model/_coordinate_descent.py:529: ConvergenceWarning: Objective did not converge. You might want to increase the number of iterations. Duality gap: 51909239444786.76, tolerance: 10381918551.804132\n",
      "  model = cd_fast.enet_coordinate_descent(\n",
      "/Users/randallbloomquist/opt/anaconda3/lib/python3.8/site-packages/sklearn/linear_model/_coordinate_descent.py:529: ConvergenceWarning: Objective did not converge. You might want to increase the number of iterations. Duality gap: 50690814918221.87, tolerance: 10138232116.824657\n",
      "  model = cd_fast.enet_coordinate_descent(\n",
      "/Users/randallbloomquist/opt/anaconda3/lib/python3.8/site-packages/sklearn/linear_model/_coordinate_descent.py:529: ConvergenceWarning: Objective did not converge. You might want to increase the number of iterations. Duality gap: 51791637360626.19, tolerance: 10358434301.164389\n",
      "  model = cd_fast.enet_coordinate_descent(\n",
      "/Users/randallbloomquist/opt/anaconda3/lib/python3.8/site-packages/sklearn/linear_model/_coordinate_descent.py:529: ConvergenceWarning: Objective did not converge. You might want to increase the number of iterations. Duality gap: 50780514494366.875, tolerance: 10156172437.324589\n",
      "  model = cd_fast.enet_coordinate_descent(\n",
      "/Users/randallbloomquist/opt/anaconda3/lib/python3.8/site-packages/sklearn/linear_model/_coordinate_descent.py:529: ConvergenceWarning: Objective did not converge. You might want to increase the number of iterations. Duality gap: 52368133161688.1, tolerance: 10473698782.049208\n",
      "  model = cd_fast.enet_coordinate_descent(\n",
      "/Users/randallbloomquist/opt/anaconda3/lib/python3.8/site-packages/sklearn/linear_model/_coordinate_descent.py:529: ConvergenceWarning: Objective did not converge. You might want to increase the number of iterations. Duality gap: 49802568333931.586, tolerance: 9960581342.55149\n",
      "  model = cd_fast.enet_coordinate_descent(\n",
      "/Users/randallbloomquist/opt/anaconda3/lib/python3.8/site-packages/sklearn/linear_model/_coordinate_descent.py:529: ConvergenceWarning: Objective did not converge. You might want to increase the number of iterations. Duality gap: 49192244721908.805, tolerance: 9838516618.814056\n",
      "  model = cd_fast.enet_coordinate_descent(\n",
      "/Users/randallbloomquist/opt/anaconda3/lib/python3.8/site-packages/sklearn/linear_model/_coordinate_descent.py:529: ConvergenceWarning: Objective did not converge. You might want to increase the number of iterations. Duality gap: 51658403306172.1, tolerance: 10331751349.20982\n",
      "  model = cd_fast.enet_coordinate_descent(\n",
      "/Users/randallbloomquist/opt/anaconda3/lib/python3.8/site-packages/sklearn/linear_model/_coordinate_descent.py:529: ConvergenceWarning: Objective did not converge. You might want to increase the number of iterations. Duality gap: 52138168842476.91, tolerance: 10427704723.960468\n",
      "  model = cd_fast.enet_coordinate_descent(\n",
      "/Users/randallbloomquist/opt/anaconda3/lib/python3.8/site-packages/sklearn/linear_model/_coordinate_descent.py:529: ConvergenceWarning: Objective did not converge. You might want to increase the number of iterations. Duality gap: 53091599088978.36, tolerance: 10618392119.968765\n",
      "  model = cd_fast.enet_coordinate_descent(\n",
      "/Users/randallbloomquist/opt/anaconda3/lib/python3.8/site-packages/sklearn/linear_model/_coordinate_descent.py:529: ConvergenceWarning: Objective did not converge. You might want to increase the number of iterations. Duality gap: 57043029040921.414, tolerance: 11409613200.143204\n",
      "  model = cd_fast.enet_coordinate_descent(\n"
     ]
    },
    {
     "data": {
      "text/plain": [
       "{'regressor__alpha': 7742.636826811277, 'regressor__l1_ratio': 0.0}"
      ]
     },
     "execution_count": 95,
     "metadata": {},
     "output_type": "execute_result"
    }
   ],
   "source": [
    "enet_cv.fit(X_train,y_train)\n",
    "\n",
    "enet_cv.best_params_"
   ]
  },
  {
   "cell_type": "code",
   "execution_count": 96,
   "metadata": {},
   "outputs": [
    {
     "data": {
      "text/plain": [
       "10868114492.4807"
      ]
     },
     "execution_count": 96,
     "metadata": {},
     "output_type": "execute_result"
    }
   ],
   "source": [
    "y_predict = enet_cv.predict(X_test)\n",
    "mean_squared_error(y_test, y_predict)"
   ]
  },
  {
   "cell_type": "code",
   "execution_count": 100,
   "metadata": {},
   "outputs": [
    {
     "name": "stdout",
     "output_type": "stream",
     "text": [
      "score: 0.6343582433749522\n"
     ]
    },
    {
     "data": {
      "text/plain": [
       "3972217686.8652315"
      ]
     },
     "execution_count": 100,
     "metadata": {},
     "output_type": "execute_result"
    }
   ],
   "source": [
    "ridge = Ridge(alpha=1)\n",
    "ridge.fit(X_train,y_train)\n",
    "y_predict = ridge.predict(X_test)\n",
    "print(\"score:\", ridge.score(X_test, y_test))\n",
    "mean_squared_error(y_test, y_predict)"
   ]
  },
  {
   "cell_type": "code",
   "execution_count": 98,
   "metadata": {},
   "outputs": [
    {
     "data": {
      "text/plain": [
       "(8740, 10)"
      ]
     },
     "execution_count": 98,
     "metadata": {},
     "output_type": "execute_result"
    }
   ],
   "source": [
    "X_train.shape"
   ]
  },
  {
   "cell_type": "code",
   "execution_count": 63,
   "metadata": {},
   "outputs": [
    {
     "data": {
      "text/plain": [
       "(8740,)"
      ]
     },
     "execution_count": 63,
     "metadata": {},
     "output_type": "execute_result"
    }
   ],
   "source": [
    "y_train.shape"
   ]
  },
  {
   "cell_type": "code",
   "execution_count": 101,
   "metadata": {},
   "outputs": [
    {
     "name": "stdout",
     "output_type": "stream",
     "text": [
      "score: 0.6343369635677419\n"
     ]
    },
    {
     "data": {
      "text/plain": [
       "3972448864.03535"
      ]
     },
     "execution_count": 101,
     "metadata": {},
     "output_type": "execute_result"
    }
   ],
   "source": [
    "lr = LinearRegression()\n",
    "lr.fit(X_train,y_train)\n",
    "y_predict = lr.predict(X_test)\n",
    "print(\"score:\", lr.score(X_test, y_test))\n",
    "mean_squared_error(y_test, y_predict)"
   ]
  },
  {
   "cell_type": "code",
   "execution_count": 103,
   "metadata": {},
   "outputs": [
    {
     "data": {
      "text/plain": [
       "array([-5, -4, -3, -2, -1,  0,  1,  2,  3,  4])"
      ]
     },
     "execution_count": 103,
     "metadata": {},
     "output_type": "execute_result"
    }
   ],
   "source": [
    "np.arange(-5,5,1)"
   ]
  },
  {
   "cell_type": "code",
   "execution_count": 110,
   "metadata": {},
   "outputs": [
    {
     "data": {
      "text/plain": [
       "numpy.ndarray"
      ]
     },
     "execution_count": 110,
     "metadata": {},
     "output_type": "execute_result"
    }
   ],
   "source": [
    "type(y_train)"
   ]
  },
  {
   "cell_type": "code",
   "execution_count": 132,
   "metadata": {},
   "outputs": [
    {
     "name": "stdout",
     "output_type": "stream",
     "text": [
      "KNN Accuracy: -3.97e+09\n"
     ]
    }
   ],
   "source": [
    "kf = KFold()\n",
    "skf = StratifiedKFold()\n",
    "ridge_pipe = Pipeline([('scaler', StandardScaler()), ('regressor', Ridge())])\n",
    "ridge_grid_params = {'regressor__alpha': np.arange(0,50,1)}\n",
    "ridge_grid = GridSearchCV(ridge_pipe, ridge_grid_params, cv=kf, scoring = 'neg_mean_squared_error')\n",
    "ridge_grid.fit(X_train, y_train)\n",
    "print(\"Ridge Accuracy: {:.2e}\".format(ridge_grid.score(X_test, y_test)))"
   ]
  },
  {
   "cell_type": "code",
   "execution_count": 136,
   "metadata": {},
   "outputs": [
    {
     "name": "stdout",
     "output_type": "stream",
     "text": [
      "Lasso Accuracy: -3.97e+09\n"
     ]
    }
   ],
   "source": [
    "kf = KFold()\n",
    "skf = StratifiedKFold()\n",
    "lasso_pipe = Pipeline([('scaler', StandardScaler()), ('regressor', Lasso())])\n",
    "lasso_grid_params = {'regressor__alpha': np.arange(0.1,0.9,0.1)}\n",
    "lasso_grid = GridSearchCV(lasso_pipe, lasso_grid_params, cv=kf, scoring = 'neg_mean_squared_error')\n",
    "lasso_grid.fit(X_train, y_train)\n",
    "print(\"Lasso Accuracy: {:.2e}\".format(lasso_grid.score(X_test, y_test)))"
   ]
  },
  {
   "cell_type": "code",
   "execution_count": 139,
   "metadata": {},
   "outputs": [
    {
     "name": "stdout",
     "output_type": "stream",
     "text": [
      "gbr Accuracy: -1.03e+09\n"
     ]
    }
   ],
   "source": [
    "kf = KFold()\n",
    "skf = StratifiedKFold()\n",
    "gbr_pipe = Pipeline([('scaler', StandardScaler()), ('regressor', GradientBoostingRegressor(loss='huber'))])\n",
    "gbr_grid_params = {'regressor__alpha': np.arange(0.1,0.9,0.1),\n",
    "                  'regressor__max_depth': np.arange(1,9,2),\n",
    "                  'regressor__learning_rate': np.arange(0.01,0.2,0.05)}\n",
    "gbr_grid = GridSearchCV(gbr_pipe, gbr_grid_params, cv=kf, scoring = 'neg_mean_squared_error')\n",
    "gbr_grid.fit(X_train, y_train)\n",
    "print(\"gbr Accuracy: {:.2e}\".format(gbr_grid.score(X_test, y_test)))"
   ]
  },
  {
   "cell_type": "code",
   "execution_count": null,
   "metadata": {},
   "outputs": [],
   "source": []
  },
  {
   "cell_type": "code",
   "execution_count": 140,
   "metadata": {},
   "outputs": [
    {
     "name": "stdout",
     "output_type": "stream",
     "text": [
      "gbr Accuracy: -1.49e+09\n"
     ]
    }
   ],
   "source": [
    "kf = KFold()\n",
    "skf = StratifiedKFold()\n",
    "gbr_pipe2 = Pipeline([('scaler', StandardScaler()), ('regressor', GradientBoostingRegressor(loss='huber'))])\n",
    "gbr_grid_params2 = {'regressor__alpha': np.arange(0.1,0.9,0.3)}\n",
    "gbr_grid = GridSearchCV(gbr_pipe, gbr_grid_params, cv=kf, scoring = 'neg_mean_squared_error')\n",
    "gbr_grid.fit(X_train, y_train)\n",
    "print(\"gbr Accuracy: {:.2e}\".format(gbr_grid.score(X_test, y_test)))"
   ]
  },
  {
   "cell_type": "code",
   "execution_count": 118,
   "metadata": {},
   "outputs": [
    {
     "data": {
      "text/plain": [
       "dict_keys(['explained_variance', 'r2', 'max_error', 'neg_median_absolute_error', 'neg_mean_absolute_error', 'neg_mean_squared_error', 'neg_mean_squared_log_error', 'neg_root_mean_squared_error', 'neg_mean_poisson_deviance', 'neg_mean_gamma_deviance', 'accuracy', 'roc_auc', 'roc_auc_ovr', 'roc_auc_ovo', 'roc_auc_ovr_weighted', 'roc_auc_ovo_weighted', 'balanced_accuracy', 'average_precision', 'neg_log_loss', 'neg_brier_score', 'adjusted_rand_score', 'homogeneity_score', 'completeness_score', 'v_measure_score', 'mutual_info_score', 'adjusted_mutual_info_score', 'normalized_mutual_info_score', 'fowlkes_mallows_score', 'precision', 'precision_macro', 'precision_micro', 'precision_samples', 'precision_weighted', 'recall', 'recall_macro', 'recall_micro', 'recall_samples', 'recall_weighted', 'f1', 'f1_macro', 'f1_micro', 'f1_samples', 'f1_weighted', 'jaccard', 'jaccard_macro', 'jaccard_micro', 'jaccard_samples', 'jaccard_weighted'])"
      ]
     },
     "execution_count": 118,
     "metadata": {},
     "output_type": "execute_result"
    }
   ],
   "source": [
    "SCORERS.keys()"
   ]
  },
  {
   "cell_type": "code",
   "execution_count": null,
   "metadata": {},
   "outputs": [],
   "source": []
  }
 ],
 "metadata": {
  "kernelspec": {
   "display_name": "Python 3",
   "language": "python",
   "name": "python3"
  },
  "language_info": {
   "codemirror_mode": {
    "name": "ipython",
    "version": 3
   },
   "file_extension": ".py",
   "mimetype": "text/x-python",
   "name": "python",
   "nbconvert_exporter": "python",
   "pygments_lexer": "ipython3",
   "version": "3.8.5"
  }
 },
 "nbformat": 4,
 "nbformat_minor": 4
}
