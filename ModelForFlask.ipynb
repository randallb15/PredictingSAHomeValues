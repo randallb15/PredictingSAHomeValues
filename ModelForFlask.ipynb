{
 "cells": [
  {
   "cell_type": "markdown",
   "metadata": {},
   "source": [
    "# Model for Flask app\n",
    "\n",
    "This model with categorize:\n",
    "1. Zip Code\n",
    "2. Location\n",
    "3. Month\n",
    "4. Year\n",
    "\n",
    "Notes for Flask App:\n",
    "- Drop down for Zip Code and Neighborhood (Location)"
   ]
  },
  {
   "cell_type": "code",
   "execution_count": 1,
   "metadata": {},
   "outputs": [],
   "source": [
    "%run src/imports.py\n",
    "from src.helpers import calculate_five_percent, calculate_ten_percent, calculate_twenty_percent"
   ]
  },
  {
   "cell_type": "code",
   "execution_count": 2,
   "metadata": {},
   "outputs": [],
   "source": [
    "sns.set(rc={'figure.figsize':(16,4)})"
   ]
  },
  {
   "cell_type": "code",
   "execution_count": 3,
   "metadata": {},
   "outputs": [],
   "source": [
    "neighborhoods_cleaned = pd.read_pickle('data/neighborhoods_cleaned.pkl')\n",
    "neighborhoods_cleaned.reset_index(inplace=True)\n",
    "neighborhoods_cleaned.drop('index',axis=1,inplace=True)\n",
    "neighborhoods_cleaned['SOLD DATE'] = pd.to_datetime(neighborhoods_cleaned['SOLD DATE'])\n",
    "neighborhoods_cleaned['MONTH'] = pd.DatetimeIndex(neighborhoods_cleaned['SOLD DATE']).month\n",
    "neighborhoods_cleaned['YEAR'] = pd.DatetimeIndex(neighborhoods_cleaned['SOLD DATE']).year\n",
    "neighborhoods_cleaned.drop(['SOLD DATE'],axis=1,inplace=True)\n",
    "neighborhoods_cleaned['HOA/MONTH'].fillna(value=0,inplace=True)\n",
    "neighborhoods_cleaned.dropna(inplace=True)"
   ]
  },
  {
   "cell_type": "code",
   "execution_count": 5,
   "metadata": {},
   "outputs": [
    {
     "name": "stdout",
     "output_type": "stream",
     "text": [
      "<class 'pandas.core.frame.DataFrame'>\n",
      "Int64Index: 19812 entries, 0 to 20011\n",
      "Data columns (total 12 columns):\n",
      " #   Column              Non-Null Count  Dtype  \n",
      "---  ------              --------------  -----  \n",
      " 0   ZIP OR POSTAL CODE  19812 non-null  int64  \n",
      " 1   PRICE               19812 non-null  int64  \n",
      " 2   LOCATION            19812 non-null  object \n",
      " 3   SQUARE FEET         19812 non-null  float64\n",
      " 4   LOT SIZE            19812 non-null  float64\n",
      " 5   YEAR BUILT          19812 non-null  float64\n",
      " 6   HOA/MONTH           19812 non-null  float64\n",
      " 7   LATITUDE            19812 non-null  float64\n",
      " 8   LONGITUDE           19812 non-null  float64\n",
      " 9   ROOMS               19812 non-null  float64\n",
      " 10  MONTH               19812 non-null  int64  \n",
      " 11  YEAR                19812 non-null  int64  \n",
      "dtypes: float64(7), int64(4), object(1)\n",
      "memory usage: 2.0+ MB\n"
     ]
    }
   ],
   "source": [
    "neighborhoods_cleaned.info()"
   ]
  },
  {
   "cell_type": "code",
   "execution_count": null,
   "metadata": {},
   "outputs": [],
   "source": []
  }
 ],
 "metadata": {
  "kernelspec": {
   "display_name": "Python 3",
   "language": "python",
   "name": "python3"
  },
  "language_info": {
   "codemirror_mode": {
    "name": "ipython",
    "version": 3
   },
   "file_extension": ".py",
   "mimetype": "text/x-python",
   "name": "python",
   "nbconvert_exporter": "python",
   "pygments_lexer": "ipython3",
   "version": "3.8.5"
  }
 },
 "nbformat": 4,
 "nbformat_minor": 4
}
